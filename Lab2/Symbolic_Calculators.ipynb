{
 "cells": [
  {
   "cell_type": "markdown",
   "id": "3eca77a2",
   "metadata": {
    "editable": true,
    "slideshow": {
     "slide_type": "slide"
    }
   },
   "source": [
    "---\n",
    "title: Symbolic Calculators\n",
    "skip-execution: true\n",
    "---"
   ]
  },
  {
   "cell_type": "markdown",
   "id": "f1e8c584",
   "metadata": {},
   "source": [
    "::::{attention}\n",
    "\n",
    "This notebook is optional and NOT required for any course assessment activities. Lab tutor may go through them if time is available.\n",
    "\n",
    "::::"
   ]
  },
  {
   "cell_type": "code",
   "execution_count": null,
   "id": "b9dfd342",
   "metadata": {},
   "outputs": [],
   "source": [
    "if not input('Load JupyterAI? [Y/n]').lower()=='n':\n",
    "    %reload_ext jupyter_ai"
   ]
  },
  {
   "cell_type": "markdown",
   "id": "3888d3a8",
   "metadata": {},
   "source": [
    "Run the following to load the SymPy module for symbolic computations in Python."
   ]
  },
  {
   "cell_type": "code",
   "execution_count": null,
   "id": "ab2140ee",
   "metadata": {
    "hide_input": false,
    "init_cell": true,
    "slideshow": {
     "slide_type": "-"
    }
   },
   "outputs": [],
   "source": [
    "from sympy import *"
   ]
  },
  {
   "cell_type": "markdown",
   "id": "0a520d89",
   "metadata": {},
   "source": [
    "The following code is a Python one-liner that creates a symbolic calculator."
   ]
  },
  {
   "cell_type": "code",
   "execution_count": null,
   "id": "21792d07",
   "metadata": {
    "editable": true,
    "slideshow": {
     "slide_type": ""
    }
   },
   "outputs": [],
   "source": [
    "S(input())"
   ]
  },
  {
   "cell_type": "markdown",
   "id": "a893fe4b",
   "metadata": {},
   "source": [
    "Evaluate the cell repeatedly with `Ctrl+Enter` to try some calculations below using this calculator:\n",
    "\n",
    "1. $2^3$ by entering `2**3`;\n",
    "1. $\\frac23$ by entering `2/3`;\n",
    "1. $\\left\\lceil\\frac32\\right\\rceil$ by entering `3//2`;\n",
    "1. $3\\mod 2$ by entering `3%2`;\n",
    "1. $\\sqrt{2}$ by entering `2**(1/2)`; and\n",
    "1. $\\sin(\\pi/6)$ by entering `sin(pi/6)`;"
   ]
  },
  {
   "cell_type": "markdown",
   "id": "2f8c72bc",
   "metadata": {},
   "source": [
    "Unlike `eval(input())`, JupyterLab render the $\\LaTeX$[^latex] code of the expression using MathJax[^mathjax]. For instance, for the SymPy expression of $1/2$, the $\\LaTeX$ code and the rendering by Mathjax is as follows:\n",
    "\n",
    "[^latex]: [LaTeX](https://en.wikipedia.org/wiki/LaTeX) is a high-level typesetting system for creating structured documents with complex formatting for Mathematics as well. It is built on top of the [$\\TeX$](https://en.wikipedia.org/wiki/TeX) typesetting system originally developed by Donald Knuth, with LaTeX itself created by Leslie Lamport.\n",
    "[^mathjax]: [MathJax](https://en.wikipedia.org/wiki/MathJax) is a JavaScript library for displaying LaTeX, MathML, and AsciiMath notation in web browsers."
   ]
  },
  {
   "cell_type": "code",
   "execution_count": null,
   "id": "989fe0d7",
   "metadata": {},
   "outputs": [],
   "source": [
    "sympy_expr = S(\"1/2\")\n",
    "print(\"LaTeX code:\", sympy_expr._repr_latex_())\n",
    "S(\"1/2\")"
   ]
  },
  {
   "cell_type": "markdown",
   "id": "45a2f14b",
   "metadata": {
    "slideshow": {
     "slide_type": "fragment"
    }
   },
   "source": [
    "For this lab, you will see how arbitrary precision arithmetic can be carried out using symbols."
   ]
  },
  {
   "cell_type": "markdown",
   "id": "3e953052",
   "metadata": {
    "slideshow": {
     "slide_type": "slide"
    }
   },
   "source": [
    "## Symbolic Hypotenuse Calculator"
   ]
  },
  {
   "cell_type": "markdown",
   "id": "af0f9477",
   "metadata": {},
   "source": [
    "We can define the following function to calculate the length `c` of the hypotenuse when given the lengths `a` and `b` of the other sides: \n",
    "\n",
    ":::{code-block} python\n",
    ":name: code:symb:length_of_hypotenuse\n",
    ":caption: A function that computes the length of hypotenuse\n",
    ":linenos:\n",
    ":emphasize-lines: 2\n",
    "\n",
    "def length_of_hypotenuse(a, b):\n",
    "    c = (a**2 + b**2) ** S(\"1/2\")\n",
    "    return c\n",
    ":::"
   ]
  },
  {
   "cell_type": "markdown",
   "id": "76bb4370",
   "metadata": {},
   "source": [
    "::::{caution}\n",
    "\n",
    "`S(\"1/2\")` is used instead of `1/2` for exact compution because `1/2` is a floating point value that has finite precision. Alternatively, you may replace\n",
    "1. `S(\"1/2\")` by `S(1)/2`, or\n",
    "2. `( ... ) ** S(\"1/2\")` by `sqrt( ... )`,\n",
    "\n",
    "where `sqrt` is imported from the SymPy module.\n",
    "\n",
    "::::"
   ]
  },
  {
   "cell_type": "markdown",
   "id": "aa7c0563",
   "metadata": {
    "slideshow": {
     "slide_type": "fragment"
    }
   },
   "source": [
    "::::{exercise} length of hypotenuse\n",
    "\n",
    "Complete the function below to return the exact length `c` of the hypotenuse given the lengths `a` and `b`.\n",
    "\n",
    ":::{hint}\n",
    ":class: dropdown\n",
    "\n",
    "- See [](#code:symb:length_of_hypotenuse).\n",
    "\n",
    ":::\n",
    "\n",
    "::::"
   ]
  },
  {
   "cell_type": "code",
   "execution_count": null,
   "id": "b9130ccd",
   "metadata": {
    "deletable": false,
    "nbgrader": {
     "cell_type": "code",
     "checksum": "46b2d094096bd923396368c8041a614b",
     "grade": false,
     "grade_id": "length_of_hypotenus",
     "locked": false,
     "schema_version": 3,
     "solution": true,
     "task": false
    },
    "slideshow": {
     "slide_type": "-"
    }
   },
   "outputs": [],
   "source": [
    "def length_of_hypotenuse(a, b):\n",
    "    # YOUR CODE HERE\n",
    "    raise NotImplementedError\n",
    "    return c"
   ]
  },
  {
   "cell_type": "markdown",
   "id": "fbbe289d",
   "metadata": {
    "slideshow": {
     "slide_type": "subslide"
    }
   },
   "source": [
    "You can check your code against a few cases listed in the test cell below."
   ]
  },
  {
   "cell_type": "code",
   "execution_count": null,
   "id": "4d8ad4c5",
   "metadata": {
    "code_folding": [],
    "deletable": false,
    "editable": false,
    "nbgrader": {
     "cell_type": "code",
     "checksum": "4de2e09619f405842d3bd89e2cb32eb5",
     "grade": true,
     "grade_id": "test-length_of_hypotenus",
     "locked": true,
     "points": 0,
     "schema_version": 3,
     "solution": false,
     "task": false
    },
    "slideshow": {
     "slide_type": "-"
    }
   },
   "outputs": [],
   "source": [
    "# tests\n",
    "assert length_of_hypotenuse(0, 0) == 0\n",
    "assert length_of_hypotenuse(3, 4) == 5\n",
    "assert length_of_hypotenuse(4, 7) == sqrt(65)"
   ]
  },
  {
   "cell_type": "markdown",
   "id": "aaacc5f3",
   "metadata": {},
   "source": [
    "The tests use `==` instead of `isclose` because the compution should be exact. For instance, the hypotenuse of the last test case is:"
   ]
  },
  {
   "cell_type": "code",
   "execution_count": null,
   "id": "763f8a72",
   "metadata": {},
   "outputs": [],
   "source": [
    "length_of_hypotenuse(4, 7)"
   ]
  },
  {
   "cell_type": "code",
   "execution_count": null,
   "id": "7095f92a",
   "metadata": {
    "deletable": false,
    "editable": false,
    "nbgrader": {
     "cell_type": "code",
     "checksum": "1e0cd5b6b09242fc3c68096f99c3a6b0",
     "grade": true,
     "grade_id": "htest-length_of_hypotenus",
     "locked": true,
     "points": 0,
     "schema_version": 3,
     "solution": false,
     "task": false
    }
   },
   "outputs": [],
   "source": [
    "# hidden tests"
   ]
  },
  {
   "cell_type": "markdown",
   "id": "f7efdd9d",
   "metadata": {},
   "source": [
    "If you are curious about the hidden test, it is like this:\n",
    "\n",
    ":::{code-block} python\n",
    ":name: code:htest-length_of_hypotenuse\n",
    ":caption: Test of the exact formula of the length of hypotenuse\n",
    ":linenos:\n",
    ":emphasize-lines: 1\n",
    "\n",
    "a, b = symbols('a, b', nonnegative=True)\n",
    "assert length_of_hypotenuse(a, b) == sqrt(a**2 + b**2)\n",
    ":::"
   ]
  },
  {
   "cell_type": "markdown",
   "id": "ced6849a",
   "metadata": {},
   "source": [
    "The first line assign the variables `a` and `b` to the symbols `Symbol('a')` and `Symbol('b')` respectively, both of which are assumed to be nonnegative."
   ]
  },
  {
   "cell_type": "code",
   "execution_count": null,
   "id": "f0182f43",
   "metadata": {},
   "outputs": [],
   "source": [
    "a, b = symbols('a, b', nonnegative=True)\n",
    "a, a.is_nonnegative, 0<=a<oo, sqrt(a).is_real, a<0, a>0"
   ]
  },
  {
   "cell_type": "markdown",
   "id": "70fc798c",
   "metadata": {},
   "source": [
    "::::{note}\n",
    "\n",
    "The variable `a` is assigned a new symbol with name `a` representing a (finite) nonnegative number, i.e., i.e., \n",
    "\n",
    "- $0\\leq a<\\infty$ holds, or equivalently\n",
    "- $\\sqrt{a} \\in \\mathbb{R}$.\n",
    "\n",
    "Furthermore,\n",
    "- `a<0` simplifies to `False` obviously as a is non-negative, but\n",
    "- `a>0` does not simplify to `True` because `a` may or may not be `0`.\n",
    "\n",
    "::::"
   ]
  },
  {
   "cell_type": "markdown",
   "id": "93373108",
   "metadata": {},
   "source": [
    "Assumptions can affect the check for equality `==`:"
   ]
  },
  {
   "cell_type": "code",
   "execution_count": null,
   "id": "c69a366e",
   "metadata": {},
   "outputs": [],
   "source": [
    "a_ = Symbol('a')\n",
    "sqrt(abs(a_)**2) == a_, sqrt(abs(a) ** 2) == a"
   ]
  },
  {
   "cell_type": "markdown",
   "id": "a138d29c",
   "metadata": {},
   "source": [
    "In other words,\n",
    "\n",
    "- $\\sqrt{\\lvert a\\rvert^2} \\not\\equiv a$ in general, but\n",
    "- $\\sqrt{\\lvert a\\rvert^2} = a \\qquad \\forall a\\geq 0.$"
   ]
  },
  {
   "cell_type": "markdown",
   "id": "4b17db0f",
   "metadata": {},
   "source": [
    "But `==` does not check for mathematical equivalence:"
   ]
  },
  {
   "cell_type": "code",
   "execution_count": null,
   "id": "d9924e13",
   "metadata": {},
   "outputs": [],
   "source": [
    "(a+1)*(a-1) == a**2-1, expand((a+1)*(a-1))==a**2-1"
   ]
  },
  {
   "cell_type": "markdown",
   "id": "5639918f",
   "metadata": {},
   "source": [
    "There is a further subtlety that, in Mathematics, equality `Eq` is different from `==`:"
   ]
  },
  {
   "cell_type": "code",
   "execution_count": null,
   "id": "46cc0561",
   "metadata": {},
   "outputs": [],
   "source": [
    "Eq(sqrt(abs(a_)**2), a_), Eq(sqrt(abs(a) ** 2), a), Eq((a+1)*(a-1), a**2-1)"
   ]
  },
  {
   "cell_type": "markdown",
   "id": "b26546b0",
   "metadata": {},
   "source": [
    "Further simplification is sometimes needed:"
   ]
  },
  {
   "cell_type": "code",
   "execution_count": null,
   "id": "494ba671",
   "metadata": {},
   "outputs": [],
   "source": [
    "simplify(Eq(sqrt(abs(a_)**2), a_)), simplify(Eq((a+1)*(a-1), a**2-1))"
   ]
  },
  {
   "cell_type": "markdown",
   "id": "6e316ac7",
   "metadata": {},
   "source": [
    "In the first case, the equality $\\sqrt{\\lvert a \\rvert^2} = a$ \n",
    "- neither simplifies to `True`, as `a_` may be negative,\n",
    "- nor simplifies to `False`, as `a_` may be non-negative.\n",
    "\n",
    "In the second case, the equality holds `True` as `a` is non-negative."
   ]
  },
  {
   "cell_type": "markdown",
   "id": "401ee4c2",
   "metadata": {},
   "source": [
    "Similarly, symbols with the same name but different assumptions may be equal but are not equivalent:"
   ]
  },
  {
   "cell_type": "code",
   "execution_count": null,
   "id": "7b78b78f",
   "metadata": {},
   "outputs": [],
   "source": [
    "simplify(Eq(a, a_)), a == a_, a == Symbol('a', nonnegative=True)"
   ]
  },
  {
   "cell_type": "markdown",
   "id": "78e676f6",
   "metadata": {},
   "source": [
    "::::{seealso}\n",
    ":class: dropdown\n",
    "\n",
    "In SymPy, `==` and `Eq` are called the structural equality and symbolic equality respectively. For the implementation details, see the [SymPy documentation](https://docs.sympy.org/latest/explanation/glossary.html#term-Structural-Equality).\n",
    "\n",
    "::::"
   ]
  },
  {
   "cell_type": "markdown",
   "id": "cd533af4",
   "metadata": {},
   "source": [
    "## Calculus"
   ]
  },
  {
   "cell_type": "markdown",
   "id": "7ef8ada0",
   "metadata": {},
   "source": [
    "Can we do complicated arithmetics with Python. What about Calculus?"
   ]
  },
  {
   "cell_type": "markdown",
   "id": "2e8359c9",
   "metadata": {},
   "source": [
    "$$\n",
    "\\int \\tan(x)\\, dx = \\color{red}{?}\n",
    "$$"
   ]
  },
  {
   "cell_type": "markdown",
   "id": "04ea250f",
   "metadata": {},
   "source": [
    "Try [SymPy Beta](https://sympy-beta.vercel.app/input/integrate%28tan%28x%29%29):\n",
    "\n",
    "- Take a look at the different panels to learn about the solution: `Steps`, `Plot`, and `Derivative`.\n",
    "- Try different random examples."
   ]
  },
  {
   "cell_type": "markdown",
   "id": "71a6379c",
   "metadata": {},
   "source": [
    "::::{seealso} How does SymPy Beta work?\n",
    ":class: dropdown\n",
    "\n",
    "[SymPy Beta](https://github.com/eagleoflqj/sympy_beta) is a fork of [SymPy Gamma](https://github.com/sympy/sympy_gamma) that can run totally in the browser.\n",
    "\n",
    "::::"
   ]
  },
  {
   "cell_type": "markdown",
   "id": "87cb08b7",
   "metadata": {},
   "source": [
    "While web applications like SymPy Beta offer a user-friendly and convenient interface for performing symbolic computations quickly without needing to install anything, using SymPy within a Python program provides significantly greater flexibility and control."
   ]
  },
  {
   "cell_type": "markdown",
   "id": "f39dd304",
   "metadata": {},
   "source": [
    "To compute the integration in Python, we first define a symbolic variable `x`:"
   ]
  },
  {
   "cell_type": "code",
   "execution_count": null,
   "id": "63a38936",
   "metadata": {},
   "outputs": [],
   "source": [
    "x = Symbol(\"x\")"
   ]
  },
  {
   "cell_type": "markdown",
   "id": "ac1a1017",
   "metadata": {},
   "source": [
    "The SymPy expression for $\\tan(x)$ is:"
   ]
  },
  {
   "cell_type": "code",
   "execution_count": null,
   "id": "d9769625",
   "metadata": {},
   "outputs": [],
   "source": [
    "f = tan(x)\n",
    "f"
   ]
  },
  {
   "cell_type": "markdown",
   "id": "f9bc2232",
   "metadata": {},
   "source": [
    "To compute the integration:\n",
    "\n",
    "$$\n",
    "\\int f(x) dx\n",
    "$$"
   ]
  },
  {
   "cell_type": "code",
   "execution_count": null,
   "id": "88b40c10",
   "metadata": {},
   "outputs": [],
   "source": [
    "c = Symbol(\"c\")\n",
    "g = integrate(f) + c  # c is assumed to be constant with respect to x\n",
    "g"
   ]
  },
  {
   "cell_type": "markdown",
   "id": "0f3f8383",
   "metadata": {},
   "source": [
    "To compute the derivative:\n",
    "\n",
    "$$\n",
    "\\frac{d}{dx}g(x)\n",
    "$$"
   ]
  },
  {
   "cell_type": "code",
   "execution_count": null,
   "id": "47da8244",
   "metadata": {},
   "outputs": [],
   "source": [
    "diff_g = diff(g, x)\n",
    "diff_g"
   ]
  },
  {
   "cell_type": "markdown",
   "id": "36ee9509",
   "metadata": {},
   "source": [
    "The answer can be simplified as expected:"
   ]
  },
  {
   "cell_type": "code",
   "execution_count": null,
   "id": "b8a96ffe",
   "metadata": {},
   "outputs": [],
   "source": [
    "simplify(diff_g)"
   ]
  },
  {
   "cell_type": "code",
   "execution_count": null,
   "id": "e243a397",
   "metadata": {},
   "outputs": [],
   "source": [
    "g.subs(c, 0)"
   ]
  },
  {
   "cell_type": "markdown",
   "id": "a363148d",
   "metadata": {},
   "source": [
    "To plot the functions:"
   ]
  },
  {
   "cell_type": "code",
   "execution_count": null,
   "id": "bb13545b",
   "metadata": {},
   "outputs": [],
   "source": [
    "p = plot(f, g.subs(c, 0), (x, -2 * pi / 5, 2 * pi / 5), ylabel=\"y\", legend=True)"
   ]
  },
  {
   "cell_type": "markdown",
   "id": "1663b911",
   "metadata": {},
   "source": [
    "::::{exercise} sympy\n",
    ":label: ex:sympy\n",
    "\n",
    "Using SymPy expressions\n",
    "\n",
    "- assign to `x` a SymPy variable named `\"x\"`,\n",
    "- assign to `f` the expression $\\frac{1}{\\sqrt{1 - x^2}}$ in terms of `x`,\n",
    "- assign to `g` the result of $\\int \\frac{1}{\\sqrt{1 - x^2}} dx$, and\n",
    "- optionally, plot `f` and `g` for $x\\in \\left[-\\frac45, \\frac45\\right]$.\n",
    "\n",
    ":::{caution}\n",
    ":class: dropdown\n",
    "\n",
    "See [SymPy gotchas](https://docs.sympy.org/latest/gotchas.html).\n",
    ":::\n",
    "\n",
    "::::"
   ]
  },
  {
   "cell_type": "code",
   "execution_count": null,
   "id": "5091c79a",
   "metadata": {
    "deletable": false,
    "nbgrader": {
     "cell_type": "code",
     "checksum": "bf06c80ff52d3b79746616a01de8cc2a",
     "grade": false,
     "grade_id": "sympy",
     "locked": false,
     "schema_version": 3,
     "solution": true,
     "task": false
    }
   },
   "outputs": [],
   "source": [
    "# YOUR CODE HERE\n",
    "raise NotImplementedError"
   ]
  },
  {
   "cell_type": "markdown",
   "id": "e04e55f3",
   "metadata": {},
   "source": [
    "The following test should plot your expression `f` in SymPy."
   ]
  },
  {
   "cell_type": "code",
   "execution_count": null,
   "id": "1c7a7f08",
   "metadata": {
    "deletable": false,
    "editable": false,
    "nbgrader": {
     "cell_type": "code",
     "checksum": "30a3d4bd719085434d666c9881e94d72",
     "grade": true,
     "grade_id": "test-sympy",
     "locked": true,
     "points": 0,
     "schema_version": 3,
     "solution": false,
     "task": false
    }
   },
   "outputs": [],
   "source": [
    "# tests\n",
    "assert simplify(f.subs(x, 0) - 1) == 0\n",
    "assert simplify(f.subs(x, S(1)/2) - sqrt(3)*2/3) == 0"
   ]
  },
  {
   "cell_type": "code",
   "execution_count": null,
   "id": "d3093bf7",
   "metadata": {
    "deletable": false,
    "editable": false,
    "nbgrader": {
     "cell_type": "code",
     "checksum": "bb3734700ffe9cf989f3fac9021a5fbf",
     "grade": true,
     "grade_id": "htest-sympy",
     "locked": true,
     "points": 0,
     "schema_version": 3,
     "solution": false,
     "task": false
    },
    "slideshow": {
     "slide_type": ""
    }
   },
   "outputs": [],
   "source": [
    "# hidden tests"
   ]
  },
  {
   "cell_type": "markdown",
   "id": "03ad0d74",
   "metadata": {},
   "source": [
    "::::{seealso} How to program a symbolic calculator?\n",
    "\n",
    "There is an excellent video lecture by Prof. Gerald Jay Sussman on [Symbolic Differentiation](https://ocw.mit.edu/courses/6-001-structure-and-interpretation-of-computer-programs-spring-2005/resources/3b-symbolic-differentiation-quotation/). The symbolic calculator he built can even do [variational calculus](https://en.wikipedia.org/wiki/Calculus_of_variations) for the computational approach to [Classical Mechanics](https://groups.csail.mit.edu/mac/users/gjs/6946/index.html) course. The textbook is available online:\n",
    "\n",
    "> https://tgvaughan.github.io/sicm/\n",
    "\n",
    "You can also play with the symbolic calculator in JupyterHub.\n",
    "\n",
    "- Launch the Desktop app in JupyterHub: `File` → `New Launcher` → `Desktop`\n",
    "- Open a terminal in the Desktop app: `Applications` → `Terminal Emulator`\n",
    "- In the terminal, enter the following command, which will launch scheme along with the scmutils for symbolic computations:\n",
    "    ```bash\n",
    "    mechanics\n",
    "    ```\n",
    "- You can use an editor such as edwin/emacs to save your code to a file. Enter the following command into the scheme prompt to start Edwin:\n",
    "    ```\n",
    "    (edwin)\n",
    "    ```\n",
    "- Follow the [beginner's guide](https://groups.csail.mit.edu/mac/users/gjs/6.5160/beginner.pdf) or the [don't panic guide](https://groups.csail.mit.edu/mac/users/gjs/6946/dont-panic/#sec-6).\n",
    "\n",
    "\n",
    "\n",
    "::::"
   ]
  }
 ],
 "metadata": {
  "jupytext": {
   "default_lexer": "ipython3"
  },
  "kernelspec": {
   "display_name": "Python 3 (ipykernel)",
   "language": "python",
   "name": "python3"
  }
 },
 "nbformat": 4,
 "nbformat_minor": 5
}
