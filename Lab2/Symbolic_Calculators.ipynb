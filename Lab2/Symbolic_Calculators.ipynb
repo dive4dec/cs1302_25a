{
 "cells": [
  {
   "cell_type": "markdown",
   "id": "d73ecdcb",
   "metadata": {
    "editable": true,
    "slideshow": {
     "slide_type": "slide"
    }
   },
   "source": [
    "---\n",
    "title: Symbolic Calculators\n",
    "skip-execution: true\n",
    "---"
   ]
  },
  {
   "cell_type": "markdown",
   "id": "45b222c4",
   "metadata": {},
   "source": [
    "::::{attention}\n",
    "\n",
    "This notebook is optional and NOT required for any course assessment activities. Lab tutor may go through them if time is available.\n",
    "\n",
    "::::"
   ]
  },
  {
   "cell_type": "code",
   "execution_count": null,
   "id": "22dc3a51",
   "metadata": {},
   "outputs": [],
   "source": [
    "if not input('Load JupyterAI? [Y/n]').lower()=='n':\n",
    "    %reload_ext jupyter_ai"
   ]
  },
  {
   "cell_type": "markdown",
   "id": "60d7ce8f",
   "metadata": {},
   "source": [
    "Run the following to load the SymPy module for symbolic computations in Python."
   ]
  },
  {
   "cell_type": "code",
   "execution_count": null,
   "id": "0f732ff7",
   "metadata": {
    "hide_input": false,
    "init_cell": true,
    "slideshow": {
     "slide_type": "-"
    }
   },
   "outputs": [],
   "source": [
    "from sympy import *"
   ]
  },
  {
   "cell_type": "markdown",
   "id": "e95d3b10",
   "metadata": {},
   "source": [
    "The following code is a Python one-liner that creates a symbolic calculator."
   ]
  },
  {
   "cell_type": "code",
   "execution_count": null,
   "id": "0879d6da",
   "metadata": {
    "editable": true,
    "slideshow": {
     "slide_type": ""
    }
   },
   "outputs": [],
   "source": [
    "S(input())"
   ]
  },
  {
   "cell_type": "markdown",
   "id": "c69c2546",
   "metadata": {},
   "source": [
    "Evaluate the cell repeatedly with `Ctrl+Enter` to try some calculations below using this calculator:\n",
    "\n",
    "1. $2^3$ by entering `2**3`;\n",
    "1. $\\frac23$ by entering `2/3`;\n",
    "1. $\\left\\lceil\\frac32\\right\\rceil$ by entering `3//2`;\n",
    "1. $3\\mod 2$ by entering `3%2`;\n",
    "1. $\\sqrt{2}$ by entering `2**(1/2)`; and\n",
    "1. $\\sin(\\pi/6)$ by entering `sin(pi/6)`;"
   ]
  },
  {
   "cell_type": "markdown",
   "id": "3947e3f7",
   "metadata": {},
   "source": [
    "Unlike `eval(input())`, JupyterLab render the $\\LaTeX$[^latex] code of the expression using MathJax[^mathjax]. For instance, for the SymPy expression of $1/2$, the $\\LaTeX$ code and the rendering by Mathjax is as follows:\n",
    "\n",
    "[^latex]: [LaTeX](https://en.wikipedia.org/wiki/LaTeX) is a high-level typesetting system for creating structured documents with complex formatting for Mathematics as well. It is built on top of the [$\\TeX$](https://en.wikipedia.org/wiki/TeX) typesetting system originally developed by Donald Knuth, with LaTeX itself created by Leslie Lamport.\n",
    "[^mathjax]: [MathJax](https://en.wikipedia.org/wiki/MathJax) is a JavaScript library for displaying LaTeX, MathML, and AsciiMath notation in web browsers."
   ]
  },
  {
   "cell_type": "code",
   "execution_count": null,
   "id": "a43f9bd9",
   "metadata": {},
   "outputs": [],
   "source": [
    "sympy_expr = S(\"1/2\")\n",
    "print(\"LaTeX code:\", sympy_expr._repr_latex_())\n",
    "S(\"1/2\")"
   ]
  },
  {
   "cell_type": "markdown",
   "id": "69424e76",
   "metadata": {
    "slideshow": {
     "slide_type": "fragment"
    }
   },
   "source": [
    "For this lab, you will see how arbitrary precision arithmetic can be carried out using symbols."
   ]
  },
  {
   "cell_type": "markdown",
   "id": "02989e90",
   "metadata": {
    "slideshow": {
     "slide_type": "slide"
    }
   },
   "source": [
    "## Symbolic Hypotenuse Calculator"
   ]
  },
  {
   "cell_type": "markdown",
   "id": "c7187f2f",
   "metadata": {},
   "source": [
    "We can define the following function to calculate the length `c` of the hypotenuse when given the lengths `a` and `b` of the other sides: \n",
    "\n",
    ":::{code-block} python\n",
    ":name: code:symb:length_of_hypotenuse\n",
    ":caption: A function that computes the length of hypotenuse\n",
    ":linenos:\n",
    ":emphasize-lines: 2\n",
    "\n",
    "def length_of_hypotenuse(a, b):\n",
    "    c = (a**2 + b**2) ** S(\"1/2\")\n",
    "    return c\n",
    ":::"
   ]
  },
  {
   "cell_type": "markdown",
   "id": "4ed086d8",
   "metadata": {},
   "source": [
    "::::{caution}\n",
    "\n",
    "`S(\"1/2\")` is used instead of `1/2` for exact compution because `1/2` is a floating point value that has finite precision. Alternatively, you may replace\n",
    "1. `S(\"1/2\")` by `S(1)/2`, or\n",
    "2. `( ... ) ** S(\"1/2\")` by `sqrt( ... )`,\n",
    "\n",
    "where `sqrt` is imported from the SymPy module.\n",
    "\n",
    "::::"
   ]
  },
  {
   "cell_type": "markdown",
   "id": "07a26768",
   "metadata": {
    "slideshow": {
     "slide_type": "fragment"
    }
   },
   "source": [
    "::::{exercise} length of hypotenuse\n",
    "\n",
    "Complete the function below to return the exact length `c` of the hypotenuse given the lengths `a` and `b`.\n",
    "\n",
    ":::{hint}\n",
    ":class: dropdown\n",
    "\n",
    "- See [](#code:symb:length_of_hypotenuse).\n",
    "\n",
    ":::\n",
    "\n",
    "::::"
   ]
  },
  {
   "cell_type": "code",
   "execution_count": null,
   "id": "f8b13c42",
   "metadata": {
    "deletable": false,
    "nbgrader": {
     "cell_type": "code",
     "checksum": "46b2d094096bd923396368c8041a614b",
     "grade": false,
     "grade_id": "length_of_hypotenus",
     "locked": false,
     "schema_version": 3,
     "solution": true,
     "task": false
    },
    "slideshow": {
     "slide_type": "-"
    }
   },
   "outputs": [],
   "source": [
    "def length_of_hypotenuse(a, b):\n",
    "    # YOUR CODE HERE\n",
    "    raise NotImplementedError\n",
    "    return c"
   ]
  },
  {
   "cell_type": "markdown",
   "id": "e3133f75",
   "metadata": {
    "slideshow": {
     "slide_type": "subslide"
    }
   },
   "source": [
    "You can check your code against a few cases listed in the test cell below."
   ]
  },
  {
   "cell_type": "code",
   "execution_count": null,
   "id": "d1446332",
   "metadata": {
    "code_folding": [],
    "deletable": false,
    "editable": false,
    "nbgrader": {
     "cell_type": "code",
     "checksum": "4de2e09619f405842d3bd89e2cb32eb5",
     "grade": true,
     "grade_id": "test-length_of_hypotenus",
     "locked": true,
     "points": 0,
     "schema_version": 3,
     "solution": false,
     "task": false
    },
    "slideshow": {
     "slide_type": "-"
    }
   },
   "outputs": [],
   "source": [
    "# tests\n",
    "assert length_of_hypotenuse(0, 0) == 0\n",
    "assert length_of_hypotenuse(3, 4) == 5\n",
    "assert length_of_hypotenuse(4, 7) == sqrt(65)"
   ]
  },
  {
   "cell_type": "markdown",
   "id": "da8e6bd9",
   "metadata": {},
   "source": [
    "The tests use `==` instead of `isclose` because the compution should be exact. For instance, the hypotenuse of the last test case is:"
   ]
  },
  {
   "cell_type": "code",
   "execution_count": null,
   "id": "a101f3a8",
   "metadata": {},
   "outputs": [],
   "source": [
    "length_of_hypotenuse(4, 7)"
   ]
  },
  {
   "cell_type": "code",
   "execution_count": null,
   "id": "9d4810b4",
   "metadata": {
    "deletable": false,
    "editable": false,
    "nbgrader": {
     "cell_type": "code",
     "checksum": "1e0cd5b6b09242fc3c68096f99c3a6b0",
     "grade": true,
     "grade_id": "htest-length_of_hypotenus",
     "locked": true,
     "points": 0,
     "schema_version": 3,
     "solution": false,
     "task": false
    }
   },
   "outputs": [],
   "source": [
    "# hidden tests"
   ]
  },
  {
   "cell_type": "markdown",
   "id": "28d9e945",
   "metadata": {},
   "source": [
    "If you are curious about the hidden test, it is like this:\n",
    "\n",
    ":::{code-block} python\n",
    ":name: code:htest-length_of_hypotenuse\n",
    ":caption: Test of the exact formula of the length of hypotenuse\n",
    ":linenos:\n",
    ":emphasize-lines: 1\n",
    "\n",
    "a, b = symbols('a, b', nonnegative=True)\n",
    "assert length_of_hypotenuse(a, b) == sqrt(a**2 + b**2)\n",
    ":::"
   ]
  },
  {
   "cell_type": "markdown",
   "id": "0bc478b1",
   "metadata": {},
   "source": [
    "The first line assign the variables `a` and `b` to the symbols `Symbol('a')` and `Symbol('b')` respectively, both of which are assumed to be nonnegative."
   ]
  },
  {
   "cell_type": "code",
   "execution_count": null,
   "id": "1a0c49f0",
   "metadata": {},
   "outputs": [],
   "source": [
    "a, b = symbols('a, b', nonnegative=True)\n",
    "a, a.is_nonnegative, 0<=a<oo, sqrt(a).is_real, a<0, a>0"
   ]
  },
  {
   "cell_type": "markdown",
   "id": "90f517a7",
   "metadata": {},
   "source": [
    "::::{note}\n",
    "\n",
    "The variable `a` is assigned a new symbol with name `a` representing a (finite) nonnegative number, i.e., i.e., \n",
    "\n",
    "- $0\\leq a<\\infty$ holds, or equivalently\n",
    "- $\\sqrt{a} \\in \\mathbb{R}$.\n",
    "\n",
    "Furthermore,\n",
    "- `a<0` simplifies to `False` obviously as a is non-negative, but\n",
    "- `a>0` does not simplify to `True` because `a` may or may not be `0`.\n",
    "\n",
    "::::"
   ]
  },
  {
   "cell_type": "markdown",
   "id": "62617fbd",
   "metadata": {},
   "source": [
    "Assumptions can affect the check for equivalence `==`:"
   ]
  },
  {
   "cell_type": "code",
   "execution_count": null,
   "id": "9f471a5c",
   "metadata": {},
   "outputs": [],
   "source": [
    "a_ = Symbol('a')\n",
    "sqrt(abs(a_)**2) == a_, sqrt(abs(a) ** 2) == a"
   ]
  },
  {
   "cell_type": "markdown",
   "id": "90e21077",
   "metadata": {},
   "source": [
    "In other words,\n",
    "\n",
    "- $\\sqrt{\\lvert a\\rvert^2} \\not\\equiv a$ in general, but\n",
    "- $\\sqrt{\\lvert a\\rvert^2} = a \\qquad \\forall a\\geq 0.$"
   ]
  },
  {
   "cell_type": "markdown",
   "id": "2bc5964a",
   "metadata": {},
   "source": [
    "There is a further subtlety that, in Mathematics, equality `Eq` is different from equivalence `==`:"
   ]
  },
  {
   "cell_type": "code",
   "execution_count": null,
   "id": "96855410",
   "metadata": {},
   "outputs": [],
   "source": [
    "Eq(sqrt(abs(a_)**2), a_), Eq(sqrt(abs(a) ** 2), a)"
   ]
  },
  {
   "cell_type": "markdown",
   "id": "3b851b1f",
   "metadata": {},
   "source": [
    "In the first case, the equality $\\sqrt{\\lvert a \\rvert^2} = a$ \n",
    "- neither simplifies to `True`, as `a_` may be negative,\n",
    "- nor simplifies to `False`, as `a_` may be non-negative.\n",
    "\n",
    "In the second case, the equality holds `True` as `a` is non-negative."
   ]
  },
  {
   "cell_type": "markdown",
   "id": "83304781",
   "metadata": {},
   "source": [
    "Similarly, symbols with the same name but different assumptions may be equal but are not equivalent:"
   ]
  },
  {
   "cell_type": "code",
   "execution_count": null,
   "id": "9590d636",
   "metadata": {},
   "outputs": [],
   "source": [
    "Eq(a, a_), a == a_, a == Symbol('a', nonnegative=True)"
   ]
  },
  {
   "cell_type": "markdown",
   "id": "6e131c68",
   "metadata": {},
   "source": [
    "::::{seealso}\n",
    ":class: dropdown\n",
    "\n",
    "In SymPy, `==` and `Eq` are called the structural equality and symbolic equality respectively. For the implementation details, see the [SymPy documentation](https://docs.sympy.org/latest/explanation/glossary.html#term-Structural-Equality).\n",
    "\n",
    "::::"
   ]
  },
  {
   "cell_type": "markdown",
   "id": "b30dfc44",
   "metadata": {},
   "source": [
    "## Calculus"
   ]
  },
  {
   "cell_type": "markdown",
   "id": "807455f7",
   "metadata": {},
   "source": [
    "Can we do complicated arithmetics with Python. What about Calculus?"
   ]
  },
  {
   "cell_type": "markdown",
   "id": "5ec43800",
   "metadata": {},
   "source": [
    "$$\n",
    "\\int \\tan(x)\\, dx = \\color{red}{?}\n",
    "$$"
   ]
  },
  {
   "cell_type": "markdown",
   "id": "f03e011e",
   "metadata": {},
   "source": [
    "Try [SymPy Gamma](https://gamma.sympy.org/input/?i=integrate%28tan%28x%29%29) or [SymPy Beta](https://sympy-beta.vercel.app/input/integrate%28tan%28x%29%29):\n",
    "\n",
    "- Take a look at the different panels to learn about the solution: `Steps`, `Plot`, and `Derivative`.\n",
    "- Try different [random examples](https://gamma.sympy.org/)."
   ]
  },
  {
   "cell_type": "markdown",
   "id": "730c3b6b",
   "metadata": {},
   "source": [
    "::::{seealso} How does SymPy Gamma/Beta work?\n",
    ":class: dropdown\n",
    "\n",
    "- [SymPy Gamma](https://gamma.sympy.org/) is a web application running [SymPy](https://docs.sympy.org/latest/index.html), which is a Python library for symbolic computation.\n",
    "- [SymPy Beta](https://github.com/eagleoflqj/sympy_beta) is a fork of SymPy Gamma that can run totally in the browser.\n",
    "\n",
    "::::"
   ]
  },
  {
   "cell_type": "markdown",
   "id": "c94f952e",
   "metadata": {},
   "source": [
    "While web applications like SymPy Gamma or Beta offer a user-friendly and convenient interface for performing symbolic computations quickly without needing to install anything, using SymPy within a Python program provides significantly greater flexibility and control."
   ]
  },
  {
   "cell_type": "markdown",
   "id": "8ae0586e",
   "metadata": {},
   "source": [
    "To compute the integration in Python, we first define a symbolic variable `x`:"
   ]
  },
  {
   "cell_type": "code",
   "execution_count": null,
   "id": "164bf6eb",
   "metadata": {},
   "outputs": [],
   "source": [
    "x = Symbol(\"x\")"
   ]
  },
  {
   "cell_type": "markdown",
   "id": "e1e86fe6",
   "metadata": {},
   "source": [
    "The SymPy expression for $\\tan(x)$ is:"
   ]
  },
  {
   "cell_type": "code",
   "execution_count": null,
   "id": "57fb8980",
   "metadata": {},
   "outputs": [],
   "source": [
    "f = tan(x)\n",
    "f"
   ]
  },
  {
   "cell_type": "markdown",
   "id": "ce45913f",
   "metadata": {},
   "source": [
    "To compute the integration:\n",
    "\n",
    "$$\n",
    "\\int f(x) dx\n",
    "$$"
   ]
  },
  {
   "cell_type": "code",
   "execution_count": null,
   "id": "a72675e5",
   "metadata": {},
   "outputs": [],
   "source": [
    "c = Symbol(\"c\")\n",
    "g = integrate(f) + c  # c is assumed to be constant with respect to x\n",
    "g"
   ]
  },
  {
   "cell_type": "markdown",
   "id": "9f37996a",
   "metadata": {},
   "source": [
    "To compute the derivative:\n",
    "\n",
    "$$\n",
    "\\frac{d}{dx}g(x)\n",
    "$$"
   ]
  },
  {
   "cell_type": "code",
   "execution_count": null,
   "id": "dcc004cd",
   "metadata": {},
   "outputs": [],
   "source": [
    "diff_g = diff(g, x)\n",
    "diff_g"
   ]
  },
  {
   "cell_type": "markdown",
   "id": "7373e330",
   "metadata": {},
   "source": [
    "The answer can be simplified as expected:"
   ]
  },
  {
   "cell_type": "code",
   "execution_count": null,
   "id": "1c9def39",
   "metadata": {},
   "outputs": [],
   "source": [
    "simplify(diff_g)"
   ]
  },
  {
   "cell_type": "code",
   "execution_count": null,
   "id": "4d659e31",
   "metadata": {},
   "outputs": [],
   "source": [
    "g.subs(c, 0)"
   ]
  },
  {
   "cell_type": "markdown",
   "id": "cc8996f8",
   "metadata": {},
   "source": [
    "To plot the functions:"
   ]
  },
  {
   "cell_type": "code",
   "execution_count": null,
   "id": "1d8fc308",
   "metadata": {},
   "outputs": [],
   "source": [
    "p = plot(f, g.subs(c, 0), (x, -2 * pi / 5, 2 * pi / 5), ylabel=\"y\", legend=True)"
   ]
  },
  {
   "cell_type": "markdown",
   "id": "c94ead1a",
   "metadata": {},
   "source": [
    "::::{exercise} sympy\n",
    ":label: ex:sympy\n",
    "\n",
    "Using SymPy expressions\n",
    "\n",
    "- assign to `x` a SymPy variable named `\"x\"`,\n",
    "- assign to `f` the expression $\\frac{1}{\\sqrt{1 - x^2}}$ in terms of `x`,\n",
    "- assign to `g` the result of $\\int \\frac{1}{\\sqrt{1 - x^2}} dx$, and\n",
    "- optionally, plot `f` and `g` for $x\\in \\left[-\\frac45, \\frac45\\right]$.\n",
    "\n",
    ":::{caution}\n",
    ":class: dropdown\n",
    "\n",
    "See [SymPy gotchas](https://docs.sympy.org/latest/gotchas.html).\n",
    ":::\n",
    "\n",
    "::::"
   ]
  },
  {
   "cell_type": "code",
   "execution_count": null,
   "id": "313c4eb0",
   "metadata": {
    "deletable": false,
    "nbgrader": {
     "cell_type": "code",
     "checksum": "bf06c80ff52d3b79746616a01de8cc2a",
     "grade": false,
     "grade_id": "sympy",
     "locked": false,
     "schema_version": 3,
     "solution": true,
     "task": false
    }
   },
   "outputs": [],
   "source": [
    "# YOUR CODE HERE\n",
    "raise NotImplementedError"
   ]
  },
  {
   "cell_type": "markdown",
   "id": "f65903d0",
   "metadata": {},
   "source": [
    "The following test should plot your expression `f` in SymPy."
   ]
  },
  {
   "cell_type": "code",
   "execution_count": null,
   "id": "2a2e48ee",
   "metadata": {
    "deletable": false,
    "editable": false,
    "nbgrader": {
     "cell_type": "code",
     "checksum": "30a3d4bd719085434d666c9881e94d72",
     "grade": true,
     "grade_id": "test-sympy",
     "locked": true,
     "points": 0,
     "schema_version": 3,
     "solution": false,
     "task": false
    }
   },
   "outputs": [],
   "source": [
    "# tests\n",
    "assert simplify(f.subs(x, 0) - 1) == 0\n",
    "assert simplify(f.subs(x, S(1)/2) - sqrt(3)*2/3) == 0"
   ]
  },
  {
   "cell_type": "code",
   "execution_count": null,
   "id": "f6dc490c",
   "metadata": {
    "deletable": false,
    "editable": false,
    "nbgrader": {
     "cell_type": "code",
     "checksum": "bb3734700ffe9cf989f3fac9021a5fbf",
     "grade": true,
     "grade_id": "htest-sympy",
     "locked": true,
     "points": 0,
     "schema_version": 3,
     "solution": false,
     "task": false
    },
    "slideshow": {
     "slide_type": ""
    }
   },
   "outputs": [],
   "source": [
    "# hidden tests"
   ]
  }
 ],
 "metadata": {
  "jupytext": {
   "default_lexer": "ipython3"
  },
  "kernelspec": {
   "display_name": "Python 3 (ipykernel)",
   "language": "python",
   "name": "python3"
  }
 },
 "nbformat": 4,
 "nbformat_minor": 5
}
