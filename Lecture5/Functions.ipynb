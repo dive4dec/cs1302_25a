{
 "cells": [
  {
   "cell_type": "markdown",
   "id": "5a1f59d2",
   "metadata": {
    "editable": true,
    "slideshow": {
     "slide_type": "slide"
    }
   },
   "source": [
    "---\n",
    "title: Functions\n",
    "abstract: |\n",
    "    Functions allow programmers to reuse code that is efficiently implemented and well-tested. This notebook not only demonstrates the basic syntax for using and writing functions, but also uses concrete examples to illustrate the importance of code reuse. It highlights the flexibility of functions by showing how they can be applied with different arguments to solve similar problems and how they can be customized to suit specific applications.\n",
    "skip-execution: true\n",
    "---"
   ]
  },
  {
   "cell_type": "code",
   "execution_count": null,
   "id": "26e58369",
   "metadata": {
    "editable": true,
    "slideshow": {
     "slide_type": "slide"
    },
    "tags": [
     "skip-execution"
    ]
   },
   "outputs": [],
   "source": [
    "import math\n",
    "import ROOT\n",
    "\n",
    "%reload_ext divewidgets"
   ]
  },
  {
   "cell_type": "code",
   "execution_count": null,
   "id": "b72f9024",
   "metadata": {},
   "outputs": [],
   "source": [
    "if not input('Load JupyterAI? [Y/n]').lower()=='n':\n",
    "    %reload_ext jupyter_ai"
   ]
  },
  {
   "cell_type": "markdown",
   "id": "27e171d4",
   "metadata": {},
   "source": [
    "## What is a Function?"
   ]
  },
  {
   "cell_type": "markdown",
   "id": "cbe5376c",
   "metadata": {},
   "source": [
    "A function is a *callable* object, e.g.:"
   ]
  },
  {
   "cell_type": "code",
   "execution_count": null,
   "id": "65ead153",
   "metadata": {
    "slideshow": {
     "slide_type": "fragment"
    }
   },
   "outputs": [],
   "source": [
    "callable(callable), callable(1)"
   ]
  },
  {
   "cell_type": "markdown",
   "id": "d3b81bf7",
   "metadata": {},
   "source": [
    "The function `callable` is callable in the sense that\n",
    "- it can be *called/invoked* with some input *arguments/parameters* such as `1` enclosed by parentheses `()`, and then\n",
    "- *returns* some value computed from the input arguments, such as the boolean value `False` to indicate that the input argument `1` is not callable."
   ]
  },
  {
   "cell_type": "markdown",
   "id": "db187fa9",
   "metadata": {
    "slideshow": {
     "slide_type": "fragment"
    }
   },
   "source": [
    "A function can be defined using the [`def` keyword](https://docs.python.org/3/tutorial/controlflow.html#defining-functions)."
   ]
  },
  {
   "cell_type": "markdown",
   "id": "a3c6f95a",
   "metadata": {
    "slideshow": {
     "slide_type": "fragment"
    }
   },
   "source": [
    "E.g., a simple function that prints \"Hello, World!\" can be defined as follows:"
   ]
  },
  {
   "cell_type": "code",
   "execution_count": null,
   "id": "4afbeee5",
   "metadata": {
    "slideshow": {
     "slide_type": "fragment"
    }
   },
   "outputs": [],
   "source": [
    "# Function definition\n",
    "def say_hello():\n",
    "    print(\"Hello, World!\")"
   ]
  },
  {
   "cell_type": "code",
   "execution_count": null,
   "id": "ae7b813c",
   "metadata": {
    "slideshow": {
     "slide_type": "-"
    }
   },
   "outputs": [],
   "source": [
    "# Function invocation\n",
    "say_hello()"
   ]
  },
  {
   "cell_type": "markdown",
   "id": "0c839c8b",
   "metadata": {
    "slideshow": {
     "slide_type": "subslide"
    }
   },
   "source": [
    "To make a function more powerful and solve different problems,\n",
    "- use a [return statement](https://docs.python.org/3/reference/simple_stmts.html#the-return-statement) to return a value that\n",
    "- depends on some input arguments."
   ]
  },
  {
   "cell_type": "code",
   "execution_count": null,
   "id": "c04840ba",
   "metadata": {
    "slideshow": {
     "slide_type": "fragment"
    }
   },
   "outputs": [],
   "source": [
    "def increment(x):\n",
    "    return x + 1\n",
    "\n",
    "\n",
    "increment(3)"
   ]
  },
  {
   "cell_type": "markdown",
   "id": "88a10df7",
   "metadata": {},
   "source": [
    "A function must have a return value. By default `None` is returned."
   ]
  },
  {
   "cell_type": "code",
   "execution_count": null,
   "id": "fc4c06ed",
   "metadata": {},
   "outputs": [],
   "source": [
    "print(f\"The return value is {say_hello()}.\", )"
   ]
  },
  {
   "cell_type": "markdown",
   "id": "1d82f6c7",
   "metadata": {
    "slideshow": {
     "slide_type": "subslide"
    }
   },
   "source": [
    "We can also have multiple input arguments."
   ]
  },
  {
   "cell_type": "code",
   "execution_count": null,
   "id": "3f1503f5",
   "metadata": {
    "slideshow": {
     "slide_type": "fragment"
    }
   },
   "outputs": [],
   "source": [
    "def length_of_hypotenuse(a, b):\n",
    "    return (a ** 2 + b ** 2) ** 0.5\n",
    "\n",
    "length_of_hypotenuse(1, 2), length_of_hypotenuse(3, 4)"
   ]
  },
  {
   "cell_type": "markdown",
   "id": "904c959e",
   "metadata": {},
   "source": [
    "The arguments are evaluated from left to right:"
   ]
  },
  {
   "cell_type": "code",
   "execution_count": null,
   "id": "76857441",
   "metadata": {
    "slideshow": {
     "slide_type": "-"
    }
   },
   "outputs": [],
   "source": [
    "print(\"1st input:\", input(), \"\\n2nd input:\", input())"
   ]
  },
  {
   "cell_type": "markdown",
   "id": "ef219639",
   "metadata": {
    "slideshow": {
     "slide_type": "subslide"
    }
   },
   "source": [
    "::::{note}\n",
    "\n",
    "In summary, a function in Python\n",
    "- may have any number (even zero) of input arguments, evaluated from left to right,\n",
    "- may have *side effects* such as printing something to standard output, and\n",
    "- must have a return value, which can be `None`.\n",
    "\n",
    "::::"
   ]
  },
  {
   "cell_type": "markdown",
   "id": "84462b4a",
   "metadata": {},
   "source": [
    "Indeed, how arguments are passed into a function can be more complicated than you may think. To check if you have the correct understanding: \n",
    "\n",
    "::::{caution} Does the code below increment `x` and prints `4`?\n",
    ":class: dropdown\n",
    "\n",
    "- Step 3: The function `increment` is invoked with an argument `x`.\n",
    "- Step 3-4: A local frame is created for variables local to `increment` during its execution.    \n",
    "    - The *formal parameter* `x` in `def increment(x):` becomes a local variable and\n",
    "    - it is assigned the value `3` of the *actual parameter* given by the global variable `x`.\n",
    "- Step 5-6: The local (but not the global) variable `x` is incremented.\n",
    "- Step 6-7: The function call completes and the local frame is removed.\n",
    "\n",
    "::::"
   ]
  },
  {
   "cell_type": "code",
   "execution_count": null,
   "id": "bf8215a4",
   "metadata": {
    "slideshow": {
     "slide_type": "subslide"
    }
   },
   "outputs": [],
   "source": [
    "%%optlite -l -h 400\n",
    "def increment(x):\n",
    "    x += 1\n",
    "\n",
    "\n",
    "x = 3\n",
    "increment(x)\n",
    "print(x)  # 4?"
   ]
  },
  {
   "cell_type": "markdown",
   "id": "479abffc",
   "metadata": {
    "slideshow": {
     "slide_type": "fragment"
    }
   },
   "source": [
    "::::{seealso} Can we increment a variable instead of returning its increment?\n",
    ":class: dropdown\n",
    "\n",
    "In C++, it is possible to pass an argument by reference, allowing the local variable to point to the same memory location as the variable being passed in. Unlike Python, a variable in is C++ not merely a name; it is a named container whose size is determined by its type.\n",
    "\n",
    "::::"
   ]
  },
  {
   "cell_type": "code",
   "execution_count": null,
   "id": "84990c77",
   "metadata": {},
   "outputs": [],
   "source": [
    "%%cpp\n",
    "void increment(auto &x) {\n",
    "    x += 1;\n",
    "}\n",
    "\n",
    "auto x = 3;\n",
    "increment(x);\n",
    "x"
   ]
  },
  {
   "cell_type": "markdown",
   "id": "56500a60",
   "metadata": {},
   "source": [
    "::::{seealso}\n",
    "\n",
    "The above cell uses [`%%cpp` cell magic](https://github.com/root-project/root/blob/8aa112f13174ee8254092c52afb4653bd34e7eab/bindings/jupyroot/python/JupyROOT/kernel/magics/cppmagic.py) from [`ROOT` module](https://github.com/root-project/root) to run C++ code.\n",
    "\n",
    "::::"
   ]
  },
  {
   "cell_type": "code",
   "execution_count": null,
   "id": "deb9008d",
   "metadata": {
    "editable": true,
    "slideshow": {
     "slide_type": ""
    },
    "tags": [
     "skip-execution"
    ]
   },
   "outputs": [],
   "source": [
    "%%ai\n",
    "Explain briefly the differences in how Python, C, and Java pass arguments to \n",
    "functions. In particular, explain\n",
    "1. call by value,\n",
    "2. call by reference, and\n",
    "3. call by object reference."
   ]
  },
  {
   "cell_type": "markdown",
   "id": "a72e37c5",
   "metadata": {},
   "source": [
    "A fundamental property of functions in Python is that they are [*first-class citizens*](https://en.wikipedia.org/wiki/First-class_function), which means that a function can be\n",
    "1. assigned to a variable,\n",
    "2. passed as an input argument, and\n",
    "3. returned by a function."
   ]
  },
  {
   "cell_type": "code",
   "execution_count": null,
   "id": "72f1bd36",
   "metadata": {
    "editable": true,
    "slideshow": {
     "slide_type": ""
    },
    "tags": [
     "skip-execution"
    ]
   },
   "outputs": [],
   "source": [
    "%%ai\n",
    "Are there programming languages that do not treat functions as first-class citizens? Why?"
   ]
  },
  {
   "cell_type": "markdown",
   "id": "9192f927",
   "metadata": {},
   "source": [
    "The following is a simple illustration using the [`def` statement](https://docs.python.org/3/reference/compound_stmts.html#def) to define an `i`dentity function that uses the [`return` statement](https://docs.python.org/3/reference/simple_stmts.html#return) to return the input argument."
   ]
  },
  {
   "cell_type": "code",
   "execution_count": null,
   "id": "da7a1adb",
   "metadata": {},
   "outputs": [],
   "source": [
    "%%optlite -h 300\n",
    "def i(x):\n",
    "    return x\n",
    "assert i(i) == i and i.__name__ == 'i'"
   ]
  },
  {
   "cell_type": "markdown",
   "id": "795636fe",
   "metadata": {},
   "source": [
    "A function can also be defined using the [`lambda` expression](https://docs.python.org/3/reference/expressions.html#lambda), which creates an anonymous function:[^colon]\n",
    "\n",
    "[^colon]: Note that the colon in `lambda ...:` cannot be followed by line break because it expects an expression rather than a suite."
   ]
  },
  {
   "cell_type": "code",
   "execution_count": null,
   "id": "3b7b7992",
   "metadata": {},
   "outputs": [],
   "source": [
    "%%optlite -h 300\n",
    "assert (i := lambda x: x)(i) == i \\\n",
    "and i.__name__ == \"<lambda>\""
   ]
  },
  {
   "cell_type": "markdown",
   "id": "8e6e3c62",
   "metadata": {},
   "source": [
    "A non-trivial example is the following implementation of the boolean values as functions:"
   ]
  },
  {
   "cell_type": "code",
   "execution_count": null,
   "id": "9803068c",
   "metadata": {},
   "outputs": [],
   "source": [
    "%%optlite -h 450\n",
    "def true(x, y): return x\n",
    "def false(x, y): return y\n",
    "def ifthenelse(b, x, y): return b(x, y)\n",
    "assert ifthenelse(true, \"A\", \"B\") == \"A\"\n",
    "assert ifthenelse(false, \"A\", \"B\") == \"B\""
   ]
  },
  {
   "cell_type": "markdown",
   "id": "55a57391",
   "metadata": {},
   "source": [
    ":::::{seealso} Why the name `<lambda>` for anonymous function?\n",
    ":class: dropdown\n",
    "\n",
    "The expression $\\lambda x.M$, known as *function abstraction*, was defined by [Alonzo Church](https://en.wikipedia.org/wiki/Alonzo_Church), the Ph.D. supervisor of Alan Turing. This notation is used to define a function that can take (return) a string or another function passed in as $x$ (returned as $M$ but with $x$ substituted by the value of $x$). What is surprising is that a machine capable of taking and applying all such functions is [Turing complete](https://en.wikipedia.org/wiki/Turing_completeness). For more information, see the [$\\lambda$-calculus](https://en.wikipedia.org/wiki/Lambda_calculus) and watch the following video created with `manim` or another video [here](https://youtu.be/eis11j_iGMs?si=X29joUgynqV3AtAO).\n",
    "\n",
    "::::{card}\n",
    ":header: [Open in a new tab](https://www.youtube.com/embed/ViPNHMSUcog?si=RfgWdE2gjUJW_Wqc)\n",
    ":::{iframe} https://www.youtube.com/embed/ViPNHMSUcog?si=RfgWdE2gjUJW_Wqc\n",
    ":::\n",
    "::::\n",
    "\n",
    ":::::"
   ]
  },
  {
   "cell_type": "code",
   "execution_count": null,
   "id": "e98296f3",
   "metadata": {},
   "outputs": [],
   "source": [
    "%%ai\n",
    "How to create an infinite loop using only the lambda expression in Python?"
   ]
  },
  {
   "cell_type": "markdown",
   "id": "743e9ab0",
   "metadata": {},
   "source": [
    "Perhaps you may also be interested in the following:"
   ]
  },
  {
   "cell_type": "code",
   "execution_count": null,
   "id": "15bb34b3",
   "metadata": {
    "editable": true,
    "slideshow": {
     "slide_type": ""
    },
    "tags": [
     "skip-execution"
    ]
   },
   "outputs": [],
   "source": [
    "%%ai\n",
    "Why Alonzo Church used lambda for lambda calculus?"
   ]
  },
  {
   "cell_type": "markdown",
   "id": "5753794c",
   "metadata": {},
   "source": [
    "## Code Reuse"
   ]
  },
  {
   "cell_type": "markdown",
   "id": "b2e5d277",
   "metadata": {
    "slideshow": {
     "slide_type": "fragment"
    }
   },
   "source": [
    "Previously, we learned about iteration, where the same piece of code can run multiple times. Function abstraction take this even further: It allows the same piece of code to be executed with different parameters and at different locations. Code reuse is a good programming practice. If done properly, it makes the code readible and efficient.  We will explore these benefits using a concrete example below."
   ]
  },
  {
   "cell_type": "markdown",
   "id": "867ed604",
   "metadata": {},
   "source": [
    "### Perfect Square"
   ]
  },
  {
   "cell_type": "markdown",
   "id": "42a25f3e",
   "metadata": {},
   "source": [
    "::::{prf:definition} perfect square\n",
    ":label: def:perfect_square\n",
    "\n",
    "An integer $n$ is called a [perfect square](https://en.wikipedia.org/wiki/Square_number) if it is the square of an integer.\n",
    "\n",
    "::::"
   ]
  },
  {
   "cell_type": "markdown",
   "id": "49aeda82",
   "metadata": {},
   "source": [
    "For instance, the first 10 perfect squares are:"
   ]
  },
  {
   "cell_type": "code",
   "execution_count": null,
   "id": "b7b5886a",
   "metadata": {},
   "outputs": [],
   "source": [
    "for i in range(10):\n",
    "    print(i**2)"
   ]
  },
  {
   "cell_type": "markdown",
   "id": "e22a9ae8",
   "metadata": {},
   "source": [
    "Instead of generating perfect squares, how about writing a function that checks if a number is a perfect square?"
   ]
  },
  {
   "cell_type": "markdown",
   "id": "80379d0b",
   "metadata": {},
   "source": [
    "::::{exercise}\n",
    ":label: ex:perfect_square\n",
    "\n",
    "Complete the following function to check if an integer `n` is a perfect square ([](#def:perfect_square)).\n",
    "\n",
    "::::"
   ]
  },
  {
   "cell_type": "code",
   "execution_count": null,
   "id": "b46534cc",
   "metadata": {
    "deletable": false,
    "nbgrader": {
     "cell_type": "code",
     "checksum": "b67dfb3dc14b1a662777543af30223c0",
     "grade": false,
     "grade_id": "is_perfect_square",
     "locked": false,
     "schema_version": 3,
     "solution": true,
     "task": false
    }
   },
   "outputs": [],
   "source": [
    "def is_perfect_square(n):\n",
    "    # YOUR CODE HERE\n",
    "    raise NotImplementedError"
   ]
  },
  {
   "cell_type": "code",
   "execution_count": null,
   "id": "198cf61b",
   "metadata": {
    "deletable": false,
    "editable": false,
    "nbgrader": {
     "cell_type": "code",
     "checksum": "28ab597a892aa3bd0146e140d3ff05b3",
     "grade": true,
     "grade_id": "test-is_perfect_square",
     "locked": true,
     "points": 0,
     "schema_version": 3,
     "solution": false,
     "task": false
    }
   },
   "outputs": [],
   "source": [
    "# test cases\n",
    "assert is_perfect_square(10**2)\n",
    "assert not is_perfect_square(10**2 + 1)\n",
    "assert is_perfect_square(10**10)\n",
    "assert not is_perfect_square(10**10 + 1)\n",
    "assert is_perfect_square(10**100)\n",
    "assert not is_perfect_square(10**100 + 1)"
   ]
  },
  {
   "cell_type": "markdown",
   "id": "4f761e35",
   "metadata": {},
   "source": [
    "As another demonstration of code reuse, the following solution uses a for loop to implement [](#def:perfect_square) exactly."
   ]
  },
  {
   "cell_type": "code",
   "execution_count": null,
   "id": "6dd71807",
   "metadata": {},
   "outputs": [],
   "source": [
    "def is_perfect_square(n):\n",
    "    # checks if n is the square of i for i in the range up to n (exclusive). \n",
    "    for i in range(n):\n",
    "        if i**2 == n:\n",
    "            return True"
   ]
  },
  {
   "cell_type": "markdown",
   "id": "9eff39f4",
   "metadata": {},
   "source": [
    "If you try running the test on the above solution, it will take an unacceptably long time to run.[^interrupt] (Why?) \n",
    "\n",
    "[^interrupt]: Use the keyboard interrupt (&#9632;) to stop the execution."
   ]
  },
  {
   "cell_type": "markdown",
   "id": "0ffebba1",
   "metadata": {},
   "source": [
    "To properly test the function, we should modify it to fail if it takes too long to run. Implementing such a feature, called *timeout*, is difficult. Fortunately, we can reuse the code written by others. Run the following cell to\n",
    "\n",
    "1. install the package `wrapt_timeout_decorator` and\n",
    "2. import the function `timeout` from the module `wrapt_timeout_decorator`."
   ]
  },
  {
   "cell_type": "code",
   "execution_count": null,
   "id": "ade495a2",
   "metadata": {},
   "outputs": [],
   "source": [
    "%pip install wrapt_timeout_decorator >/dev/null 2>&1\n",
    "from wrapt_timeout_decorator import timeout"
   ]
  },
  {
   "cell_type": "markdown",
   "id": "40fb5356",
   "metadata": {},
   "source": [
    "You will learn how to import a function in a subsequent section ([](#importing-external-modules)). For now, let's see how to use the `timeout` function:"
   ]
  },
  {
   "cell_type": "code",
   "execution_count": null,
   "id": "fa1697de",
   "metadata": {},
   "outputs": [],
   "source": [
    "# enhanced test without timeout\n",
    "duration = 5\n",
    "\n",
    "\n",
    "@timeout(duration)  # raise error if the test does not complete in 5 seconds.\n",
    "def test():\n",
    "    if not input(f\"Run the test with a timeout of {duration}s? [Y/n]\").lower() == \"n\":\n",
    "        assert is_perfect_square(10**2)\n",
    "        assert not is_perfect_square(10**2 + 1)\n",
    "        assert is_perfect_square(10**10)\n",
    "        assert not is_perfect_square(10**10 + 1)\n",
    "        assert is_perfect_square(10**100)\n",
    "        assert not is_perfect_square(10**100 + 1)\n",
    "\n",
    "\n",
    "test()  # run the test"
   ]
  },
  {
   "cell_type": "markdown",
   "id": "f48969bf",
   "metadata": {},
   "source": [
    "::::{note} Does the for loop implementation pass all the test cases?\n",
    ":class: dropdown\n",
    "\n",
    "`assert is_perfect_square(10**10)` fails because Python is not fast enough to go through `10**10` numbers in `5` seconds.\n",
    "\n",
    "::::"
   ]
  },
  {
   "cell_type": "markdown",
   "id": "5bbf43a2",
   "metadata": {},
   "source": [
    "To add timeout to the test, we simply\n",
    "1. wrapped the test inside a function `test`, and\n",
    "2. decorated it with `@timeout(duration)`.\n",
    "\n",
    "The function `test` will then be capabable of raising a `TimeOutError` if it takes more than the specified time `duration` to run."
   ]
  },
  {
   "cell_type": "markdown",
   "id": "64d1a92b",
   "metadata": {},
   "source": [
    "You will learn how to write a [decorator](https://book.pythontips.com/en/latest/decorators.html#decorators) later. It is a powerful way to reuse functions and other objects with additional customizations."
   ]
  },
  {
   "cell_type": "markdown",
   "id": "9c6f0a18",
   "metadata": {},
   "source": [
    "### Integer Square Root"
   ]
  },
  {
   "cell_type": "markdown",
   "id": "34079b0b",
   "metadata": {},
   "source": [
    "To improve the efficiency, consider the following sufficient and necessary condition for perfect squares:\n",
    "\n",
    "::::{prf:proposition} integer square root\n",
    ":label: pro:integer-sqrt\n",
    "\n",
    "An integer $n$ is a perfect square iff\n",
    "\n",
    "$$\n",
    "n = (\\lfloor \\sqrt{n} \\rfloor)^2,\n",
    "$$ (eq:perfect_square)\n",
    "\n",
    "namely, that the number is the square of its integer square root.\n",
    "\n",
    "::::"
   ]
  },
  {
   "cell_type": "markdown",
   "id": "379f1a32",
   "metadata": {},
   "source": [
    "A simple implementation is as follows:"
   ]
  },
  {
   "cell_type": "code",
   "execution_count": null,
   "id": "cd0da004",
   "metadata": {},
   "outputs": [],
   "source": [
    "def is_perfect_square(n):\n",
    "    # check if n is the square of its integer square root\n",
    "    return n == int(n**0.5) ** 2\n",
    "\n",
    "assert is_perfect_square(10**10)"
   ]
  },
  {
   "cell_type": "markdown",
   "id": "96a0ca72",
   "metadata": {},
   "source": [
    "Note that it fixed the efficiency issue on the test case with `n` being `10**10`. Let's run all the test cases:"
   ]
  },
  {
   "cell_type": "code",
   "execution_count": null,
   "id": "1316d66e",
   "metadata": {},
   "outputs": [],
   "source": [
    "test()"
   ]
  },
  {
   "cell_type": "markdown",
   "id": "4be1c53a",
   "metadata": {},
   "source": [
    "::::{note} Does it pass all the test cases?\n",
    ":class: dropdown\n",
    "\n",
    "`assert is_perfect_square(10**100)` fails because of the finite precision of floating point numbers.\n",
    "\n",
    "::::"
   ]
  },
  {
   "cell_type": "markdown",
   "id": "6d969fa7",
   "metadata": {},
   "source": [
    "Perhaps we should use `math.isclose` instead of `==`, since `int(n**0.5) ** 2` is a `float`."
   ]
  },
  {
   "cell_type": "code",
   "execution_count": null,
   "id": "4b9046ec",
   "metadata": {},
   "outputs": [],
   "source": [
    "def is_perfect_square(n):\n",
    "    return math.isclose(n, int(n**0.5) ** 2)\n",
    "\n",
    "\n",
    "assert is_perfect_square(10**100)"
   ]
  },
  {
   "cell_type": "markdown",
   "id": "ba3d088b",
   "metadata": {},
   "source": [
    "Note that it can correctly say `10**100` is a perfect square. Let's run all the test cases:"
   ]
  },
  {
   "cell_type": "code",
   "execution_count": null,
   "id": "0f90cd36",
   "metadata": {},
   "outputs": [],
   "source": [
    "test()"
   ]
  },
  {
   "cell_type": "markdown",
   "id": "ee2cc34b",
   "metadata": {},
   "source": [
    "::::{note} Does it pass all the test cases?\n",
    ":class: dropdown\n",
    "\n",
    "`assert not is_perfect_square(10**10+1)` fails because of the tolerance is too high.\n",
    "\n",
    "::::"
   ]
  },
  {
   "cell_type": "markdown",
   "id": "1708a8be",
   "metadata": {},
   "source": [
    "How to fix the issue? The culprit is that the computation for integer square root is not exact:"
   ]
  },
  {
   "cell_type": "code",
   "execution_count": null,
   "id": "af139f70",
   "metadata": {},
   "outputs": [],
   "source": [
    "x = 10**100\n",
    "int((x) ** 0.5)"
   ]
  },
  {
   "cell_type": "markdown",
   "id": "3c22f32e",
   "metadata": {},
   "source": [
    "There are [better ways to compute integer square root](https://en.wikipedia.org/wiki/Integer_square_root). Binary search is a relatively easy one to try first, although it is not the best choice."
   ]
  },
  {
   "cell_type": "code",
   "execution_count": null,
   "id": "c5a64f0b",
   "metadata": {
    "editable": true,
    "slideshow": {
     "slide_type": ""
    },
    "tags": [
     "skip-execution"
    ]
   },
   "outputs": [],
   "source": [
    "%%ai\n",
    "Explain very briefly how integer square root can be implemented in Python using\n",
    "binary search."
   ]
  },
  {
   "cell_type": "markdown",
   "id": "49dc06ce",
   "metadata": {},
   "source": [
    "But there is a much easier way to have a better implementation: Code reuse! Try `math.isqrt` for [](#ex:perfect_square) and check that you can pass all the test cases instantly."
   ]
  },
  {
   "cell_type": "code",
   "execution_count": null,
   "id": "56ba72b2",
   "metadata": {},
   "outputs": [],
   "source": [
    "x = 10**100\n",
    "math.isqrt(x), int((x) ** 0.5)"
   ]
  },
  {
   "cell_type": "markdown",
   "id": "81f72d54",
   "metadata": {},
   "source": [
    "::::{seealso} How is `isqrt` implemented? \n",
    ":class: dropdown\n",
    "\n",
    "`math.isqrt` implements an [adaptive-precision pure-integer version of Newton's iteration](https://github.com/python/cpython/blob/e5ab0b6aa68009a3f50b141ec013dacee3676db9/Modules/mathmodule.c#L1599C11-L1599C72).\n",
    "The [source code](https://github.com/python/cpython/blob/e5ab0b6aa68009a3f50b141ec013dacee3676db9/Modules/mathmodule.c#L1791) is written in C, but there is a [Python implementation](https://github.com/python/cpython/blob/e5ab0b6aa68009a3f50b141ec013dacee3676db9/Modules/mathmodule.c#L1629) given in the source code, along with a [sketch of proof](https://github.com/python/cpython/blob/e5ab0b6aa68009a3f50b141ec013dacee3676db9/Modules/mathmodule.c#L1652).\n",
    "\n",
    "::::"
   ]
  },
  {
   "cell_type": "code",
   "execution_count": null,
   "id": "bd9fb0db",
   "metadata": {
    "editable": true,
    "slideshow": {
     "slide_type": ""
    },
    "tags": [
     "skip-execution"
    ]
   },
   "outputs": [],
   "source": [
    "%%ai\n",
    "Explain briefly in two paragraph how isqrt is implemented as an \n",
    "adaptive-precision pure-integer version of Newton's iteration."
   ]
  },
  {
   "cell_type": "markdown",
   "id": "ebaee800",
   "metadata": {
    "slideshow": {
     "slide_type": "fragment"
    }
   },
   "source": [
    "While you may want to write self-contained codes that do not rely on external libraries, code reuse advocates would recommend you to use standard libraries as much as possible. Why?"
   ]
  },
  {
   "cell_type": "markdown",
   "id": "88c56d0c",
   "metadata": {
    "slideshow": {
     "slide_type": "fragment"
    }
   },
   "source": [
    "Indeed, the `math` library provides functions that it does not implement:\n",
    "\n",
    "> **CPython implementation detail:** The `math` module consists mostly of thin *wrappers* around the platform C math library functions. - [pydoc last paragraph](https://docs.python.org/3/library/math.html)\n",
    "\n",
    "E.g., see the [source code wrapper for `log`](https://github.com/python/cpython/blob/e5ab0b6aa68009a3f50b141ec013dacee3676db9/Modules/mathmodule.c#L757).[^CORDIC]:\n",
    "\n",
    "[^CORDIC]: An efficient implementation often uses the [CORDIC algorithm](https://en.wikipedia.org/wiki/CORDIC)."
   ]
  },
  {
   "cell_type": "code",
   "execution_count": null,
   "id": "54002968",
   "metadata": {
    "editable": true,
    "slideshow": {
     "slide_type": ""
    },
    "tags": [
     "skip-execution"
    ]
   },
   "outputs": [],
   "source": [
    "%%ai\n",
    "When working on a programming assignment, should I write all the code myself,\n",
    "or is it acceptable to use standard libraries?"
   ]
  },
  {
   "cell_type": "markdown",
   "id": "86cf6174",
   "metadata": {
    "slideshow": {
     "slide_type": "slide"
    }
   },
   "source": [
    "## Modules"
   ]
  },
  {
   "cell_type": "markdown",
   "id": "39f4a6a8",
   "metadata": {},
   "source": [
    "To facilitate code reuse, all Python codes are organized into libraries called *modules*. E.g., you can list all available modules using `pip list`:"
   ]
  },
  {
   "cell_type": "code",
   "execution_count": null,
   "id": "f7a499f1",
   "metadata": {},
   "outputs": [],
   "source": [
    "%pip list"
   ]
  },
  {
   "cell_type": "markdown",
   "id": "4e696aa8",
   "metadata": {},
   "source": [
    "Python searches for packages using the search path:"
   ]
  },
  {
   "cell_type": "code",
   "execution_count": null,
   "id": "29fbd772",
   "metadata": {},
   "outputs": [],
   "source": [
    "import sys\n",
    "sys.path"
   ]
  },
  {
   "cell_type": "markdown",
   "id": "8b8458bc",
   "metadata": {},
   "source": [
    "For instance, to show the location of a package, say `divewidgets`, run:"
   ]
  },
  {
   "cell_type": "code",
   "execution_count": null,
   "id": "f4a5bec3",
   "metadata": {},
   "outputs": [],
   "source": [
    "%pip show divewidgets"
   ]
  },
  {
   "cell_type": "markdown",
   "id": "10467e89",
   "metadata": {},
   "source": [
    "::::{seealso}\n",
    ":class: dropdown\n",
    "\n",
    "See [](../Lab0/Setup.ipynb#Custom-Packages) for details of how to use `pip` and `conda` to install packages.\n",
    "::::"
   ]
  },
  {
   "cell_type": "markdown",
   "id": "fe770fbc",
   "metadata": {
    "slideshow": {
     "slide_type": "slide"
    }
   },
   "source": [
    "### Builtins Module"
   ]
  },
  {
   "cell_type": "markdown",
   "id": "e79d0462",
   "metadata": {
    "slideshow": {
     "slide_type": "fragment"
    }
   },
   "source": [
    "In Python, every function must come from a module, including the build-in functions:"
   ]
  },
  {
   "cell_type": "code",
   "execution_count": null,
   "id": "b6a8b0b0",
   "metadata": {
    "slideshow": {
     "slide_type": "-"
    }
   },
   "outputs": [],
   "source": [
    "__builtins__.print(f\"`{print.__name__}` is from the {print.__module__} module.\")"
   ]
  },
  {
   "cell_type": "markdown",
   "id": "60f6677e",
   "metadata": {
    "slideshow": {
     "slide_type": "fragment"
    }
   },
   "source": [
    "The `buildins` are automatically imported as `__builtins__` (and also `__builtin__`) along with all the functions and objects it provides because they are commonly use by programmers."
   ]
  },
  {
   "cell_type": "markdown",
   "id": "f316e6cd",
   "metadata": {
    "slideshow": {
     "slide_type": "fragment"
    }
   },
   "source": [
    "We can use the built-in function `dir` (*directory*) to list all built-in objects available."
   ]
  },
  {
   "cell_type": "code",
   "execution_count": null,
   "id": "7eff728f",
   "metadata": {
    "slideshow": {
     "slide_type": "-"
    },
    "tags": [
     "output_scroll",
     "remove-output"
    ]
   },
   "outputs": [],
   "source": [
    "dir(__builtins__)"
   ]
  },
  {
   "cell_type": "markdown",
   "id": "33a2e6b8",
   "metadata": {
    "slideshow": {
     "slide_type": "fragment"
    }
   },
   "source": [
    "For instance, there is a built-in function `help` for showing the *docstring* (documentation string) of functions or other objects."
   ]
  },
  {
   "cell_type": "code",
   "execution_count": null,
   "id": "b4a2b269",
   "metadata": {
    "tags": [
     "output_scroll",
     "remove-output"
    ]
   },
   "outputs": [],
   "source": [
    "help(help)  # can also show the docstring of help itself"
   ]
  },
  {
   "cell_type": "code",
   "execution_count": null,
   "id": "c27a0031",
   "metadata": {
    "slideshow": {
     "slide_type": "-"
    },
    "tags": [
     "output_scroll",
     "remove-output"
    ]
   },
   "outputs": [],
   "source": [
    "help(__builtins__)  # can also show the docstring of a module"
   ]
  },
  {
   "cell_type": "markdown",
   "id": "b9774e77",
   "metadata": {
    "slideshow": {
     "slide_type": "subslide"
    }
   },
   "source": [
    "::::{exercise}\n",
    ":label: ex:dir \n",
    "\n",
    "We can call `dir` without arguments. What does it print?\n",
    "\n",
    ":::{hint}\n",
    ":class: dropdown\n",
    "\n",
    "Try `help(dir)` or `dir?` in jupyter notebook.\n",
    ":::\n",
    "\n",
    "::::"
   ]
  },
  {
   "cell_type": "code",
   "execution_count": null,
   "id": "fff8ec00",
   "metadata": {
    "slideshow": {
     "slide_type": "-"
    },
    "tags": [
     "output_scroll",
     "remove-output"
    ]
   },
   "outputs": [],
   "source": [
    "print(dir())"
   ]
  },
  {
   "cell_type": "markdown",
   "id": "e22fab50",
   "metadata": {
    "deletable": false,
    "nbgrader": {
     "cell_type": "markdown",
     "checksum": "4d8dc105fcc4543e2dde58060672b84f",
     "grade": true,
     "grade_id": "dir",
     "locked": false,
     "points": 0,
     "schema_version": 3,
     "solution": true,
     "task": false
    },
    "slideshow": {
     "slide_type": "-"
    }
   },
   "source": [
    "YOUR ANSWER HERE"
   ]
  },
  {
   "cell_type": "markdown",
   "id": "a5ef953b",
   "metadata": {},
   "source": [
    "(importing-external-modules)=\n",
    "### Importing External Modules"
   ]
  },
  {
   "cell_type": "markdown",
   "id": "7604cdd9",
   "metadata": {
    "slideshow": {
     "slide_type": "fragment"
    }
   },
   "source": [
    "For other available modules, we can use the [`import` statement](https://docs.python.org/3/reference/simple_stmts.html#import) to import multiple functions or objects into the program *global frame*."
   ]
  },
  {
   "cell_type": "code",
   "execution_count": null,
   "id": "012070d5",
   "metadata": {
    "slideshow": {
     "slide_type": "-"
    }
   },
   "outputs": [],
   "source": [
    "%%optlite -h 300\n",
    "from math import ceil, log10\n",
    "\n",
    "x = 1234\n",
    "print(\"Number of digits of x:\", ceil(log10(x)))"
   ]
  },
  {
   "cell_type": "markdown",
   "id": "b15ade13",
   "metadata": {
    "slideshow": {
     "slide_type": "fragment"
    }
   },
   "source": [
    "The above imports both the functions `log10` and `ceil` from `math` to compute the number $\\lceil \\log_{10}(x)\\rceil$ of digits of a *strictly positive* integer $x$."
   ]
  },
  {
   "cell_type": "markdown",
   "id": "2fd8bdb3",
   "metadata": {
    "slideshow": {
     "slide_type": "subslide"
    }
   },
   "source": [
    "Once can also import all functions from a library:"
   ]
  },
  {
   "cell_type": "code",
   "execution_count": null,
   "id": "5e56aff4",
   "metadata": {
    "slideshow": {
     "slide_type": "fragment"
    }
   },
   "outputs": [],
   "source": [
    "%%optlite -h 300\n",
    "from math import *  # import all except names starting with an underscore\n",
    "\n",
    "print(\"{:.2f}, {:.2f}, {:.2f}\".format(sin(pi / 6), cos(pi / 3), tan(pi / 4)))"
   ]
  },
  {
   "cell_type": "markdown",
   "id": "5d4d22ca",
   "metadata": {
    "slideshow": {
     "slide_type": "fragment"
    }
   },
   "source": [
    "The above uses the wildcard `*` to import ([nearly](https://docs.python.org/3/tutorial/modules.html#more-on-modules)) all the functions/variables provided in `math`."
   ]
  },
  {
   "cell_type": "markdown",
   "id": "2e5fb20e",
   "metadata": {
    "slideshow": {
     "slide_type": "slide"
    }
   },
   "source": [
    "::::{caution} What if different packages define the same function?\n",
    ":class: dropdown\n",
    "\n",
    "In the following code:\n",
    "\n",
    "- The function `pow` imported from `math` overwrites the built-in function `pow`.  \n",
    "- Unlike the built-in function, `pow` from `math` returns only floats but not integers or complex numbers. \n",
    "- We say that the import statement *polluted the namespace of the global frame* and caused a *name collision*.\n",
    "\n",
    "::::"
   ]
  },
  {
   "cell_type": "code",
   "execution_count": null,
   "id": "00cb8715",
   "metadata": {
    "slideshow": {
     "slide_type": "fragment"
    }
   },
   "outputs": [],
   "source": [
    "%%optlite -h 500\n",
    "print(\"{}\".format(pow(-1, 2)))\n",
    "print(\"{:.2f}\".format(pow(-1, 1 / 2)))\n",
    "from math import *\n",
    "\n",
    "print(\"{}\".format(pow(-1, 2)))\n",
    "print(\"{:.2f}\".format(pow(-1, 1 / 2)))"
   ]
  },
  {
   "cell_type": "markdown",
   "id": "3ad52a67",
   "metadata": {
    "slideshow": {
     "slide_type": "subslide"
    }
   },
   "source": [
    "To avoid name collisions, it is a good practice to use the full name (*fully-qualified name*) such as `math.pow` prefixed with the module."
   ]
  },
  {
   "cell_type": "code",
   "execution_count": null,
   "id": "255c443b",
   "metadata": {
    "slideshow": {
     "slide_type": "-"
    }
   },
   "outputs": [],
   "source": [
    "%%optlite -h 350\n",
    "import math\n",
    "\n",
    "print(\"{:.2f}, {:.2f}\".format(math.pow(-1, 2), pow(-1, 1 / 2)))"
   ]
  },
  {
   "cell_type": "markdown",
   "id": "3a368906",
   "metadata": {
    "slideshow": {
     "slide_type": "fragment"
    }
   },
   "source": [
    "Using the full name can be problematic if the name of a module is very long. There can even be a hierarchical structure.\n",
    "E.g., to plot a sequence using `pyplot` module from `matplotlib` package:"
   ]
  },
  {
   "cell_type": "code",
   "execution_count": null,
   "id": "2fe0cbab",
   "metadata": {
    "slideshow": {
     "slide_type": "-"
    }
   },
   "outputs": [],
   "source": [
    "%matplotlib widget\n",
    "import matplotlib.pyplot\n",
    "\n",
    "matplotlib.pyplot.stem([4, 3, 2, 1])\n",
    "matplotlib.pyplot.ylabel(r\"$x_n$\")\n",
    "matplotlib.pyplot.xlabel(r\"$n$\")\n",
    "matplotlib.pyplot.title(\"A sequence of numbers\")\n",
    "matplotlib.pyplot.show()"
   ]
  },
  {
   "cell_type": "markdown",
   "id": "b94687b0",
   "metadata": {},
   "source": [
    "In Python, modules can be structured into [packages](https://docs.python.org/3/tutorial/modules.html#packages), which are themselves modules that can be imported. It is common to rename `matplotlib.pyplot` as `plt`:"
   ]
  },
  {
   "cell_type": "code",
   "execution_count": null,
   "id": "68fa10e5",
   "metadata": {
    "slideshow": {
     "slide_type": "-"
    }
   },
   "outputs": [],
   "source": [
    "import matplotlib.pyplot as plt\n",
    "\n",
    "plt.stem([4, 3, 2, 1])\n",
    "plt.ylabel(r\"$x_n$\")\n",
    "plt.xlabel(r\"$n$\")\n",
    "plt.title(\"A sequence of numbers\")\n",
    "plt.show()"
   ]
  },
  {
   "cell_type": "markdown",
   "id": "62da87a9",
   "metadata": {
    "slideshow": {
     "slide_type": "subslide"
    }
   },
   "source": [
    "We can also rename a function as we import it to avoid name collision:"
   ]
  },
  {
   "cell_type": "code",
   "execution_count": null,
   "id": "def8aea7",
   "metadata": {
    "slideshow": {
     "slide_type": "fragment"
    }
   },
   "outputs": [],
   "source": [
    "from math import pow as fpow\n",
    "\n",
    "fpow(2, 2), pow(2, 2)"
   ]
  },
  {
   "cell_type": "markdown",
   "id": "690f65cd",
   "metadata": {
    "slideshow": {
     "slide_type": "subslide"
    }
   },
   "source": [
    "::::{exercise}\n",
    ":label: ex:module_name \n",
    "\n",
    "What is wrong with the following code?\n",
    "\n",
    "::::"
   ]
  },
  {
   "cell_type": "code",
   "execution_count": null,
   "id": "e75589d7",
   "metadata": {
    "slideshow": {
     "slide_type": "fragment"
    }
   },
   "outputs": [],
   "source": [
    "%%optlite -h 500\n",
    "import math as m\n",
    "\n",
    "for m in range(5):\n",
    "    m.pow(m, 2)"
   ]
  },
  {
   "cell_type": "markdown",
   "id": "08567974",
   "metadata": {
    "deletable": false,
    "nbgrader": {
     "cell_type": "markdown",
     "checksum": "19569c7bfd49e9f4f471c78221131c1f",
     "grade": true,
     "grade_id": "name-conflict",
     "locked": false,
     "points": 0,
     "schema_version": 3,
     "solution": true,
     "task": false
    },
    "slideshow": {
     "slide_type": "-"
    }
   },
   "source": [
    "YOUR ANSWER HERE"
   ]
  },
  {
   "cell_type": "markdown",
   "id": "0c3f7049",
   "metadata": {
    "slideshow": {
     "slide_type": "slide"
    }
   },
   "source": [
    "## Documentation"
   ]
  },
  {
   "cell_type": "markdown",
   "id": "e122fcfb",
   "metadata": {
    "slideshow": {
     "slide_type": "subslide"
    }
   },
   "source": [
    "Understanding how to properly document a function is crucial for maintaining clear and efficient code. It also allow others to use the code properly to avoid bugs. How should one go about documenting a function effectively? As an example:"
   ]
  },
  {
   "cell_type": "code",
   "execution_count": null,
   "id": "55e0799c",
   "metadata": {
    "slideshow": {
     "slide_type": "fragment"
    }
   },
   "outputs": [],
   "source": [
    "# Author: John Doe\n",
    "# Last modified: 2020-09-14\n",
    "def increment(x):\n",
    "    \"\"\"Increment by 1.\n",
    "\n",
    "    A simple demo of\n",
    "    - parameter passing,\n",
    "    - return statement, and\n",
    "    - function documentation.\"\"\"\n",
    "    return x + 1  # + operation is used and may fail for 'str'"
   ]
  },
  {
   "cell_type": "markdown",
   "id": "6bdd4654",
   "metadata": {
    "slideshow": {
     "slide_type": "fragment"
    }
   },
   "source": [
    "The `help` command shows the docstring we write \n",
    "- at the beginning of the function body\n",
    "- delimited using triple single/double quotes."
   ]
  },
  {
   "cell_type": "code",
   "execution_count": null,
   "id": "f23fa5f7",
   "metadata": {
    "slideshow": {
     "slide_type": "-"
    }
   },
   "outputs": [],
   "source": [
    "help(increment)"
   ]
  },
  {
   "cell_type": "markdown",
   "id": "831c1d29",
   "metadata": {
    "slideshow": {
     "slide_type": "fragment"
    }
   },
   "source": [
    "The docstring should contain the *usage guide*, i.e., information for new users to call the function properly. See Python style guide (PEP 257) for\n",
    "- [one-line docstrings](https://www.python.org/dev/peps/pep-0257/#one-line-docstrings) and\n",
    "- [multi-line docstrings](https://www.python.org/dev/peps/pep-0257/#multi-line-docstrings)."
   ]
  },
  {
   "cell_type": "markdown",
   "id": "c41a2c8f",
   "metadata": {
    "slideshow": {
     "slide_type": "subslide"
    }
   },
   "source": [
    "::::{note} Why doesn't `help` show the comments that start with `#`?\n",
    ":class: dropdown\n",
    "\n",
    "```python\n",
    "# Author: John Doe\n",
    "# Last modified: 2020-09-14\n",
    "def increment(x):\n",
    "    ...\n",
    "    return x + 1  # + operation is used and may fail for 'str'\n",
    "```\n",
    "\n",
    "Those comments are not usage guide. They are intended for programmers who need to maintain/extend the function definition:\n",
    "\n",
    "- Information about the author and modification date facilitate communications among programmers.\n",
    "- Comments within the code help explain important and not-so-obvious implementation details.\n",
    "\n",
    "::::"
   ]
  },
  {
   "cell_type": "markdown",
   "id": "fe0e70ed",
   "metadata": {
    "slideshow": {
     "slide_type": "subslide"
    }
   },
   "source": [
    "We can also [annotate](https://docs.python.org/3/library/typing.html) the function with *type hints* to indicate the types of the arguments and return value."
   ]
  },
  {
   "cell_type": "code",
   "execution_count": null,
   "id": "ab5f5164",
   "metadata": {
    "slideshow": {
     "slide_type": "-"
    }
   },
   "outputs": [],
   "source": [
    "# Author: John Doe\n",
    "# Last modified: 2020-09-14\n",
    "def increment(x: float) -> float:\n",
    "    \"\"\"Increment by 1.\n",
    "\n",
    "    A simple demo of\n",
    "    - parameter passing,\n",
    "    - return statement, and\n",
    "    - function documentation.\"\"\"\n",
    "    return x + 1  # + operation is used and may fail for 'str'\n",
    "\n",
    "\n",
    "help(increment)"
   ]
  },
  {
   "cell_type": "markdown",
   "id": "5d7cd98f",
   "metadata": {
    "slideshow": {
     "slide_type": "fragment"
    }
   },
   "source": [
    "Annotations, if done right, can make the code easier to understand. However, annotations are not enforced by the Python interpreter.[^type-checking]\n",
    "\n",
    "[^type-checking]: Type checking may be enforced by a supporting editor or packages such as [`pydantic`](https://docs.pydantic.dev/latest/) and [`mypy`](https://mypy.readthedocs.io/en/stable/)."
   ]
  },
  {
   "cell_type": "code",
   "execution_count": null,
   "id": "98d05ff3",
   "metadata": {
    "slideshow": {
     "slide_type": "-"
    }
   },
   "outputs": [],
   "source": [
    "def increment_user_input():\n",
    "    return increment(input())  # does not raise error even though input returns str"
   ]
  },
  {
   "cell_type": "markdown",
   "id": "227e38da",
   "metadata": {},
   "source": [
    "Does calling the function lead to any error:\n",
    "\n",
    "```python\n",
    "increment_user_input()\n",
    "```"
   ]
  },
  {
   "cell_type": "markdown",
   "id": "ff446e71",
   "metadata": {
    "slideshow": {
     "slide_type": "subslide"
    }
   },
   "source": [
    "The types can also be described in the docstring following the [Numpy](https://numpydoc.readthedocs.io/en/latest/format.html#parameters) or [Google](https://google.github.io/styleguide/pyguide.html#383-functions-and-methods) style."
   ]
  },
  {
   "cell_type": "code",
   "execution_count": null,
   "id": "90a7cfb6",
   "metadata": {},
   "outputs": [],
   "source": [
    "# Author: John Doe\n",
    "# Last modified: 2020-09-14\n",
    "def increment(x: float) -> float:\n",
    "    \"\"\"Increment by 1.\n",
    "\n",
    "    A simple demo of\n",
    "    - parameter passing,\n",
    "    - return statement, and\n",
    "    - function documentation.\n",
    "\n",
    "    Parameters\n",
    "    ----------\n",
    "    x: float\n",
    "        Value to be incremented.\n",
    "\n",
    "    Returns\n",
    "    -------\n",
    "    float:\n",
    "        Value of x incremented by 1.\n",
    "    \"\"\"\n",
    "    return x + 1  # + operation is used and may fail for 'str'\n",
    "\n",
    "\n",
    "help(increment)"
   ]
  },
  {
   "cell_type": "markdown",
   "id": "9644d609",
   "metadata": {},
   "source": [
    "Can GenAI help us write documentations?"
   ]
  },
  {
   "cell_type": "code",
   "execution_count": null,
   "id": "1b5a8411",
   "metadata": {},
   "outputs": [],
   "source": [
    "%%ai\n",
    "Add the document string to the following function:\n",
    "--\n",
    "def increment(x: float) -> float:\n",
    "    return x + 1  # + operation is used and may fail for 'str'"
   ]
  },
  {
   "cell_type": "markdown",
   "id": "fe50e0ae",
   "metadata": {
    "slideshow": {
     "slide_type": "fragment"
    }
   },
   "source": [
    "::::{seealso} How to turn the docstrings into a user reference?\n",
    ":class: dropdown\n",
    "\n",
    "To faciliate the generation of documentation, there are tools such as:\n",
    "\n",
    "- [sphinx](https://www.sphinx-doc.org/) that can compile the [docstrings automatically into an API reference](https://www.sphinx-doc.org/en/master/usage/extensions/autodoc.html).\n",
    "- [`nbdev`](https://nbdev.fast.ai/) which releases a package and compiles the documentation from Jupyter notebooks, hence providing a literate programming experience.\n",
    "\n",
    "::::"
   ]
  }
 ],
 "metadata": {
  "jupytext": {
   "default_lexer": "ipython3"
  },
  "kernelspec": {
   "display_name": "Python 3 (ipykernel)",
   "language": "python",
   "name": "python3"
  }
 },
 "nbformat": 4,
 "nbformat_minor": 5
}
