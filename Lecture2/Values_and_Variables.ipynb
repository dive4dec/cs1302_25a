{
 "cells": [
  {
   "cell_type": "markdown",
   "id": "07dd605e",
   "metadata": {
    "editable": true,
    "slideshow": {
     "slide_type": "slide"
    }
   },
   "source": [
    "---\n",
    "title: Values and Variables\n",
    "abstract: |\n",
    "    In this notebook, readers will see how different expressions in a computer program get evaluated to different types of values. With variables, programmers can assign a meaningful name, known as an identifier, to a value of various types without having to worry about where it should be stored and transferred in the physical storage unit for computations. At this point, readers may regard identifiers simply as variables that can take different values, although this model will be refined later with the concepts of aliasing and mutations.\n",
    "skip_execution: true\n",
    "---"
   ]
  },
  {
   "cell_type": "code",
   "execution_count": null,
   "id": "0e4ea47d",
   "metadata": {
    "editable": true,
    "slideshow": {
     "slide_type": "slide"
    },
    "tags": [
     "skip-execution"
    ]
   },
   "outputs": [],
   "source": [
    "import sys  # to access system-specific parameters\n",
    "from dis import dis  # for disassembly of bytecode\n",
    "from ipywidgets import interact  # for interactive user interface controls\n",
    "\n",
    "# use OPTLite to visualize code execution\n",
    "%load_ext divewidgets"
   ]
  },
  {
   "cell_type": "code",
   "execution_count": null,
   "id": "a5607e07",
   "metadata": {
    "editable": true,
    "slideshow": {
     "slide_type": ""
    },
    "tags": [
     "skip-execution"
    ]
   },
   "outputs": [],
   "source": [
    "if not input('Load JupyterAI? [Y/n]').lower()=='n':\n",
    "    %reload_ext jupyter_ai"
   ]
  },
  {
   "cell_type": "markdown",
   "id": "84e8eb5f",
   "metadata": {
    "editable": true,
    "slideshow": {
     "slide_type": "slide"
    }
   },
   "source": [
    "## Values"
   ]
  },
  {
   "cell_type": "markdown",
   "id": "080465ab",
   "metadata": {
    "editable": true,
    "slideshow": {
     "slide_type": ""
    }
   },
   "source": [
    "Programming is the art of instructing a computer to perform tasks by manipulating data, which is represented as values. In mathematical terms, a computer (programming language) is essentially a set of rules for how values are stored and manipulated. In other words, values are the building blocks of computation, and they represent a specific piece of data that can be manipulated in various ways.\n",
    "\n",
    ":::::{important} Values in Turing Machine\n",
    ":class: dropdown\n",
    "\n",
    "For the [Turing Machine](https://en.wikipedia.org/wiki/Turing_machine), a program that specifies which values to compute is itself a value. The program and the data it manipulates are mingled together into a tape of binary sequence:\n",
    "\n",
    "::::{card}\n",
    ":header: How Turing Machines Works?\n",
    ":footer: [open in new tab](https://www.youtube.com/embed/-ZS_zFg4w5k?si=ni226Dui_ikRBoSy)\n",
    "\n",
    ":::{iframe} https://www.youtube.com/embed/-ZS_zFg4w5k?si=ni226Dui_ikRBoSy\n",
    ":width: 100%\n",
    ":::\n",
    "\n",
    "::::\n",
    "\n",
    ":::::"
   ]
  },
  {
   "cell_type": "markdown",
   "id": "2489506a",
   "metadata": {
    "editable": true,
    "slideshow": {
     "slide_type": "slide"
    }
   },
   "source": [
    "### Integers"
   ]
  },
  {
   "cell_type": "markdown",
   "id": "dbfd4028",
   "metadata": {
    "editable": true,
    "slideshow": {
     "slide_type": ""
    }
   },
   "source": [
    "While a machine language only uses binary numbers as values, a high-level programming language provides more flexible and expressive ways to represent and manipulate values."
   ]
  },
  {
   "cell_type": "markdown",
   "id": "c758a03d",
   "metadata": {
    "editable": true,
    "slideshow": {
     "slide_type": ""
    }
   },
   "source": [
    "In Python, for instance, we can enter an [integer](https://docs.python.org/3/reference/lexical_analysis.html#integer-literals) in different number systems as follows."
   ]
  },
  {
   "cell_type": "code",
   "execution_count": null,
   "id": "fe8a78ff",
   "metadata": {
    "editable": true,
    "slideshow": {
     "slide_type": "fragment"
    }
   },
   "outputs": [],
   "source": [
    "# in decimal (base 10)\n",
    "15"
   ]
  },
  {
   "cell_type": "code",
   "execution_count": null,
   "id": "2bbceb84",
   "metadata": {
    "editable": true,
    "slideshow": {
     "slide_type": "-"
    }
   },
   "outputs": [],
   "source": [
    "# in 'b'inary (base 2)\n",
    "0b1111"
   ]
  },
  {
   "cell_type": "code",
   "execution_count": null,
   "id": "b78f4495",
   "metadata": {
    "editable": true,
    "slideshow": {
     "slide_type": ""
    }
   },
   "outputs": [],
   "source": [
    "# in 'o'ctadecimal (base 8)\n",
    "0o17"
   ]
  },
  {
   "cell_type": "code",
   "execution_count": null,
   "id": "2c740120",
   "metadata": {
    "editable": true,
    "slideshow": {
     "slide_type": "-"
    }
   },
   "outputs": [],
   "source": [
    "# in he'x'adecimal (base 16)\n",
    "0xF"
   ]
  },
  {
   "cell_type": "markdown",
   "id": "748aa186",
   "metadata": {
    "editable": true,
    "slideshow": {
     "slide_type": "fragment"
    }
   },
   "source": [
    "All the above expressions are *integer literals*, namely, integers written out literally. They have the same numerical value, which gets printed in decimal by default."
   ]
  },
  {
   "cell_type": "markdown",
   "id": "ec63fc1b",
   "metadata": {
    "editable": true,
    "slideshow": {
     "slide_type": ""
    }
   },
   "source": [
    "::::{caution}\n",
    "\n",
    "Later in the course, you will learn that different objects in Python can share the same value. In fact, value equality is a comparison operation that can be defined by the programmer.\n",
    "\n",
    "::::"
   ]
  },
  {
   "cell_type": "code",
   "execution_count": null,
   "id": "fb3198aa",
   "metadata": {
    "editable": true,
    "slideshow": {
     "slide_type": ""
    },
    "tags": [
     "skip-execution"
    ]
   },
   "outputs": [],
   "source": [
    "%%ai\n",
    "Explain briefly how to redefine the equality operator in Python so that \n",
    "0 is equal to 1?"
   ]
  },
  {
   "cell_type": "markdown",
   "id": "08cd9257",
   "metadata": {
    "editable": true,
    "slideshow": {
     "slide_type": ""
    }
   },
   "source": [
    "There are also expressions with integer values but are not integer literals:"
   ]
  },
  {
   "cell_type": "code",
   "execution_count": null,
   "id": "0d404d48",
   "metadata": {
    "editable": true,
    "slideshow": {
     "slide_type": "fragment"
    }
   },
   "outputs": [],
   "source": [
    "4 + 5 + 6"
   ]
  },
  {
   "cell_type": "code",
   "execution_count": null,
   "id": "cbc09ac4",
   "metadata": {
    "editable": true,
    "slideshow": {
     "slide_type": ""
    }
   },
   "outputs": [],
   "source": [
    "pow(2, 4) - 1"
   ]
  },
  {
   "cell_type": "markdown",
   "id": "17cdeba2",
   "metadata": {
    "editable": true,
    "slideshow": {
     "slide_type": "subslide"
    }
   },
   "source": [
    "::::{exercise} bignum\n",
    ":label: ex:big-integer\n",
    "\n",
    "Enter an expression that evaluates to an integer value as big as possible.\n",
    "\n",
    ":::{hint}\n",
    ":class: dropdown\n",
    "\n",
    "Search the [pydoc (Python documentation)](https://docs.python.org/3.1/whatsnew/3.0.html#integers) for `sys.maxint`.\n",
    ":::\n",
    "\n",
    "::::"
   ]
  },
  {
   "cell_type": "code",
   "execution_count": null,
   "id": "e196b886",
   "metadata": {
    "deletable": false,
    "editable": true,
    "nbgrader": {
     "cell_type": "code",
     "checksum": "bc271d48e5ee90096845937919c19797",
     "grade": true,
     "grade_id": "big-int",
     "locked": false,
     "points": 0,
     "schema_version": 3,
     "solution": true,
     "task": false
    },
    "slideshow": {
     "slide_type": "-"
    },
    "tags": [
     "remove-output"
    ]
   },
   "outputs": [],
   "source": [
    "# YOUR CODE HERE\n",
    "raise NotImplementedError\n",
    "# SPOILER: Printing an integer actually involves converting it to a string!"
   ]
  },
  {
   "cell_type": "markdown",
   "id": "6fadff3c",
   "metadata": {
    "editable": true,
    "slideshow": {
     "slide_type": ""
    }
   },
   "source": [
    "::::{seealso} How to represent all integers?\n",
    ":class: dropdown\n",
    "\n",
    "Wouldn't it be nice if there is no limit on how many integers a computer can represent? Since $n$ bits can represent at most $2^n$ integers, do we need infinite bits to represent an unbounded number of integers? That would take forever to input an integer into the computer, let alone storing it in finite memory! How about using a variable-length code? See the [Kraft-McMillan inequality](https://en.wikipedia.org/wiki/Kraft%E2%80%93McMillan_inequality). An example of variable-length code is [UTF-8 encoding for Unicode](https://en.wikipedia.org/wiki/UTF-8#Description).\n",
    "\n",
    "::::"
   ]
  },
  {
   "cell_type": "code",
   "execution_count": null,
   "id": "89a41430",
   "metadata": {
    "editable": true,
    "slideshow": {
     "slide_type": ""
    },
    "tags": [
     "skip-execution"
    ]
   },
   "outputs": [],
   "source": [
    "%%ai\n",
    "Use a simple analogy to explain in a short paragraph how can a computer \n",
    "represent all integers using variable-length code?"
   ]
  },
  {
   "cell_type": "markdown",
   "id": "bcda9d24",
   "metadata": {
    "editable": true,
    "slideshow": {
     "slide_type": "slide"
    }
   },
   "source": [
    "### Strings"
   ]
  },
  {
   "cell_type": "markdown",
   "id": "395b7f41",
   "metadata": {
    "editable": true,
    "slideshow": {
     "slide_type": ""
    }
   },
   "source": [
    "A string value is a sequence of characters that can be written literally using quotes:"
   ]
  },
  {
   "cell_type": "code",
   "execution_count": null,
   "id": "675e1168",
   "metadata": {
    "editable": true,
    "slideshow": {
     "slide_type": "fragment"
    }
   },
   "outputs": [],
   "source": [
    "# single quote\n",
    "print(\"\\U0001f600:\\n\\tI'm a string.\")"
   ]
  },
  {
   "cell_type": "code",
   "execution_count": null,
   "id": "3637439f",
   "metadata": {
    "editable": true,
    "slideshow": {
     "slide_type": "fragment"
    }
   },
   "outputs": [],
   "source": [
    "# double quote\n",
    "print(\"\\N{grinning face}:\\n\\tI'm a string.\")"
   ]
  },
  {
   "cell_type": "code",
   "execution_count": null,
   "id": "42109ca3",
   "metadata": {
    "editable": true,
    "slideshow": {
     "slide_type": "fragment"
    }
   },
   "outputs": [],
   "source": [
    "# triple double quote\n",
    "print(\n",
    "    \"\"\"😀:\n",
    "\tI'm a string.\"\"\"\n",
    ")"
   ]
  },
  {
   "cell_type": "markdown",
   "id": "0d6c3d65",
   "metadata": {
    "editable": true,
    "slideshow": {
     "slide_type": ""
    }
   },
   "source": [
    "Note that all the literals represent the same value:\n",
    "\n",
    "::::{grid} 1 1 2 2\n",
    "\n",
    ":::{card}\n",
    ":header: Escape sequence\n",
    "\n",
    "`\\U0001f600` and `\\N{grinning face}` are *escape sequences* representing the same grinning face emoji 😀 where\n",
    "\n",
    "- `0001f600` is the unicode in hexadecimal,\n",
    "- `grinning face` is the [name][CLDR], and\n",
    "- `\\` is called the *escape symbol*.\n",
    "\n",
    "[CLDR]: https://unicode.org/emoji/charts/full-emoji-list.html\n",
    "\n",
    ":::\n",
    "\n",
    ":::{card}\n",
    ":header: Control code\n",
    "\n",
    "`\\n` and `\\t` are *control code* that does not represent any symbol.\n",
    "- `\\n` creates a new line when printing the string.  \n",
    "- `\\t` creates a tab to indent the line.\n",
    "\n",
    ":::\n",
    "\n",
    "::::"
   ]
  },
  {
   "cell_type": "markdown",
   "id": "d4ffe866",
   "metadata": {
    "editable": true,
    "slideshow": {
     "slide_type": ""
    }
   },
   "source": [
    "::::{note} Benefits of allowing single, double, and triple quotes for string literals\n",
    ":class: dropdown\n",
    "\n",
    "- By using double quotes, we don't need to escape the single quote in strings such as \"I'm\".\n",
    "- Triple quotes enable a multi-line string literal to include the newline character directly, resulting in a more readable representation of the literal.\n",
    "\n",
    "::::"
   ]
  },
  {
   "cell_type": "markdown",
   "id": "9570cb67",
   "metadata": {
    "editable": true,
    "slideshow": {
     "slide_type": ""
    }
   },
   "source": [
    "Why a string value is often quoted in a computer program? Let's ask AI:"
   ]
  },
  {
   "cell_type": "code",
   "execution_count": null,
   "id": "96e01233",
   "metadata": {
    "editable": true,
    "slideshow": {
     "slide_type": ""
    }
   },
   "outputs": [],
   "source": [
    "%%ai\n",
    "Say your name."
   ]
  },
  {
   "cell_type": "code",
   "execution_count": null,
   "id": "321fc233",
   "metadata": {
    "editable": true,
    "slideshow": {
     "slide_type": ""
    }
   },
   "outputs": [],
   "source": [
    "%%ai\n",
    "Say \"your name\"."
   ]
  },
  {
   "cell_type": "markdown",
   "id": "e78f7a2d",
   "metadata": {
    "editable": true,
    "slideshow": {
     "slide_type": ""
    }
   },
   "source": [
    "An example is worth a thousand words, but exceptions often exist:"
   ]
  },
  {
   "cell_type": "code",
   "execution_count": null,
   "id": "d22deedf",
   "metadata": {
    "editable": true,
    "slideshow": {
     "slide_type": ""
    },
    "tags": [
     "skip-execution"
    ]
   },
   "outputs": [],
   "source": [
    "%%ai\n",
    "Are there programming languages that do not quote its string? Why?"
   ]
  },
  {
   "cell_type": "markdown",
   "id": "fbdce0fa",
   "metadata": {
    "editable": true,
    "slideshow": {
     "slide_type": ""
    }
   },
   "source": [
    "The following is yet another way to print the same string:"
   ]
  },
  {
   "cell_type": "code",
   "execution_count": null,
   "id": "3f36240c",
   "metadata": {
    "editable": true,
    "slideshow": {
     "slide_type": ""
    }
   },
   "outputs": [],
   "source": [
    "print(\"\\N{grinning face}:\", \"\\tI'm a string.\", sep=\"\\n\")"
   ]
  },
  {
   "cell_type": "markdown",
   "id": "6fdc98b3",
   "metadata": {
    "editable": true,
    "slideshow": {
     "slide_type": "subslide"
    }
   },
   "source": [
    "It is an elegant [one-liner](https://en.wikipedia.org/wiki/One-liner_program) where\n",
    "\n",
    "- `sep=\"\\n\"` is a *keyword argument* that specifies the separator of the list of strings.\n",
    "- The default separator is a single space character, i.e., `sep=\" \"`."
   ]
  },
  {
   "cell_type": "markdown",
   "id": "b8d50894",
   "metadata": {
    "editable": true,
    "slideshow": {
     "slide_type": ""
    }
   },
   "source": [
    "In a notebook, we can get the *docstring* (document string) of a function conveniently using the symbol `?` such as `?print` or"
   ]
  },
  {
   "cell_type": "code",
   "execution_count": null,
   "id": "023d1141",
   "metadata": {
    "editable": true,
    "slideshow": {
     "slide_type": ""
    }
   },
   "outputs": [],
   "source": [
    "print?"
   ]
  },
  {
   "cell_type": "markdown",
   "id": "f71cc68d",
   "metadata": {
    "editable": true,
    "slideshow": {
     "slide_type": ""
    }
   },
   "source": [
    "We can also use the contextual help by placing the cursor over a function name and \n",
    "- click the menu item `Help`$\\to$`Show Contextual Help` or\n",
    "- press the short-cut key <kbd>Shift + Tab</kbd>."
   ]
  },
  {
   "cell_type": "markdown",
   "id": "8bb6c2b3",
   "metadata": {
    "editable": true,
    "slideshow": {
     "slide_type": "subslide"
    }
   },
   "source": [
    "::::{exercise} multi-line string\n",
    ":label: multi-line\n",
    "\n",
    "Print an intriguing multi-line string below. Ensure that your string is complex enough to confound a machine, yet comprehensible to a human.\n",
    "\n",
    ":::{seealso}\n",
    ":class: dropdown\n",
    "\n",
    "- `art`: <https://www.ascii-art.site>\n",
    "- `bashplotlib`: <https://github.com/glamp/bashplotlib/blob/master/README.md>\n",
    "- Star Wars via Telnet: <http://asciimation.co.nz/>\n",
    "  You can also try running `ssh starwarstel.net` in a terminal.\n",
    "\n",
    ":::\n",
    "\n",
    "::::"
   ]
  },
  {
   "cell_type": "code",
   "execution_count": null,
   "id": "8457c329",
   "metadata": {
    "deletable": false,
    "editable": true,
    "nbgrader": {
     "cell_type": "code",
     "checksum": "a899defd4e4b9521fcc850d7d7dd4ba6",
     "grade": true,
     "grade_id": "multi-line",
     "locked": false,
     "points": 0,
     "schema_version": 3,
     "solution": true,
     "task": false
    },
    "slideshow": {
     "slide_type": "-"
    }
   },
   "outputs": [],
   "source": [
    "# YOUR CODE HERE\n",
    "raise NotImplementedError"
   ]
  },
  {
   "cell_type": "markdown",
   "id": "86145b10",
   "metadata": {
    "editable": true,
    "slideshow": {
     "slide_type": ""
    }
   },
   "source": [
    "Check if AI can understand your message, such as the ones below:"
   ]
  },
  {
   "cell_type": "code",
   "execution_count": null,
   "id": "3ed0e580",
   "metadata": {
    "editable": true,
    "slideshow": {
     "slide_type": ""
    },
    "tags": [
     "skip-execution"
    ]
   },
   "outputs": [],
   "source": [
    "%%ai\n",
    "Explain what you see in the following:\n",
    " (ง •̀_•́)ง \n",
    " ╰(●’◡’●)╮ \n",
    " (..•˘_˘•..)\n",
    " (づ￣ 3￣)づ"
   ]
  },
  {
   "cell_type": "markdown",
   "id": "c4ff7f8f",
   "metadata": {
    "editable": true,
    "slideshow": {
     "slide_type": "subslide"
    }
   },
   "source": [
    "### User Input"
   ]
  },
  {
   "cell_type": "markdown",
   "id": "5a800271",
   "metadata": {
    "editable": true,
    "slideshow": {
     "slide_type": ""
    }
   },
   "source": [
    "Instead of entering a value in a program, a programmer can get user input values at *runtime*, i.e., when a program executes:"
   ]
  },
  {
   "cell_type": "code",
   "execution_count": null,
   "id": "0a75fbb3",
   "metadata": {
    "editable": true,
    "slideshow": {
     "slide_type": "-"
    },
    "tags": [
     "remove-output"
    ]
   },
   "outputs": [],
   "source": [
    "print(\"Your name is\", input(\"Please input your name: \") + \".\")"
   ]
  },
  {
   "cell_type": "markdown",
   "id": "27656cc3",
   "metadata": {
    "editable": true,
    "slideshow": {
     "slide_type": "fragment"
    }
   },
   "source": [
    "- The `input` method prints its argument, if any, as a [prompt](https://en.wikipedia.org/wiki/Command-line_interface#Command_prompt).  \n",
    "- The method takes user's input and *returns it as a string*.\n",
    "- There is no need to delimit the input string by quotation marks. Simply press `enter` after typing a string."
   ]
  },
  {
   "cell_type": "markdown",
   "id": "22f5ebc5",
   "metadata": {
    "editable": true,
    "slideshow": {
     "slide_type": "subslide"
    }
   },
   "source": [
    "::::{exercise}\n",
    ":label: ex:print-returns-none\n",
    "\n",
    "Explain whether the following code prints `'My name is Python'`. \n",
    "\n",
    ":::{hint}\n",
    ":class: dropdown\n",
    "\n",
    "Does `print` return a value? \n",
    ":::\n",
    "::::"
   ]
  },
  {
   "cell_type": "code",
   "execution_count": null,
   "id": "ac4b0b6f",
   "metadata": {
    "editable": true,
    "slideshow": {
     "slide_type": "-"
    }
   },
   "outputs": [],
   "source": [
    "print(\"My name is\", print(\"Python\"))"
   ]
  },
  {
   "cell_type": "markdown",
   "id": "67fb9449",
   "metadata": {
    "deletable": false,
    "editable": true,
    "nbgrader": {
     "cell_type": "markdown",
     "checksum": "b46e46183a992620cdad06cf2e6ac08d",
     "grade": true,
     "grade_id": "print-returns-none",
     "locked": false,
     "points": 0,
     "schema_version": 3,
     "solution": true,
     "task": false
    },
    "slideshow": {
     "slide_type": "-"
    }
   },
   "source": [
    "YOUR ANSWER HERE"
   ]
  },
  {
   "cell_type": "code",
   "execution_count": null,
   "id": "365740b5",
   "metadata": {
    "editable": true,
    "slideshow": {
     "slide_type": ""
    },
    "tags": [
     "skip-execution"
    ]
   },
   "outputs": [],
   "source": [
    "%%ai\n",
    "Explain in one-line whether the Python print function return the value it prints?"
   ]
  },
  {
   "cell_type": "markdown",
   "id": "ae10a1b8",
   "metadata": {
    "editable": true,
    "slideshow": {
     "slide_type": ""
    }
   },
   "source": [
    "## Variables"
   ]
  },
  {
   "cell_type": "markdown",
   "id": "a1aa5122",
   "metadata": {
    "editable": true,
    "slideshow": {
     "slide_type": ""
    }
   },
   "source": [
    "A complicated computation often needs to be broken down into many basic computations, with intermediate values stored and transferred to different memory locations. Keeping track of where a value is written, and allocating free memory locations to write to, are not only burdensome but also error-prone."
   ]
  },
  {
   "cell_type": "markdown",
   "id": "f07f1306",
   "metadata": {
    "editable": true,
    "slideshow": {
     "slide_type": ""
    }
   },
   "source": [
    "This is where the concept of variables comes in—they serve as a logical (as opposed to physical) unit of storage that abstracts away the complexities of memory management."
   ]
  },
  {
   "cell_type": "markdown",
   "id": "3ad55756",
   "metadata": {
    "editable": true,
    "slideshow": {
     "slide_type": "slide"
    }
   },
   "source": [
    "### Assignment"
   ]
  },
  {
   "cell_type": "markdown",
   "id": "3266989a",
   "metadata": {
    "editable": true,
    "slideshow": {
     "slide_type": "subslide"
    }
   },
   "source": [
    "To define a variable, we can use the assignment operator `=` as follows:"
   ]
  },
  {
   "cell_type": "code",
   "execution_count": null,
   "id": "609082a2",
   "metadata": {
    "editable": true,
    "slideshow": {
     "slide_type": "fragment"
    }
   },
   "outputs": [],
   "source": [
    "x = 15"
   ]
  },
  {
   "cell_type": "markdown",
   "id": "7721ab39",
   "metadata": {
    "editable": true,
    "slideshow": {
     "slide_type": "subslide"
    }
   },
   "source": [
    "What does the above code mean?\n",
    "\n",
    "1. $x$ is equal to $15$?\n",
    "2. $x$ is defined to be $15$?"
   ]
  },
  {
   "cell_type": "markdown",
   "id": "1b88d0e6",
   "metadata": {
    "editable": true,
    "slideshow": {
     "slide_type": "subslide"
    }
   },
   "source": [
    "Let's discover the truth by executing the following assignments step-by-step using OPTLite:"
   ]
  },
  {
   "cell_type": "code",
   "execution_count": null,
   "id": "49bf7648",
   "metadata": {
    "editable": true,
    "slideshow": {
     "slide_type": "-"
    }
   },
   "outputs": [],
   "source": [
    "%%optlite -h 300\n",
    "x = 15\n",
    "x = x + 1"
   ]
  },
  {
   "cell_type": "markdown",
   "id": "b1cf29fe",
   "metadata": {
    "editable": true,
    "slideshow": {
     "slide_type": ""
    }
   },
   "source": [
    "In the second assignment, does it mean:\n",
    "\n",
    "1. $x$ is equal to $x$+1?\n",
    "2. $x$ is defined to be $x$+1?\n",
    "\n",
    "If we say yes to the above questions, the value of $x$ should be $\\pm\\infty$. (Why?)"
   ]
  },
  {
   "cell_type": "code",
   "execution_count": null,
   "id": "3bee4a34",
   "metadata": {
    "editable": true,
    "slideshow": {
     "slide_type": ""
    },
    "tags": [
     "skip-execution"
    ]
   },
   "outputs": [],
   "source": [
    "%%ai -f math\n",
    "What is the solution to $x+1=x$ for $x$ in the extended real line?"
   ]
  },
  {
   "cell_type": "markdown",
   "id": "6bd4c86a",
   "metadata": {
    "editable": true,
    "slideshow": {
     "slide_type": ""
    }
   },
   "source": [
    "To see how the Python interpreter carries out the assignment operation, the following code compiles the Python code to bytecode (similar to machine code) and displays it in assembly language.[^dis]\n",
    "\n",
    "[^dis]: The conversion from machine code to assembly code is called disassembly, hence the name [`dis`](https://docs.python.org/3/library/dis.html). BTW, why an interpreted language like Python has a compiler? The interpreter actually compiles the source code to a more compact form called the bytecode that allows the interpreter to run it faster. Indeed, even though Python was originally intended to be an interpreted language, Python 3.13 supports [JIT compilation](https://peps.python.org/pep-0744/) that will compile source code **J**ust **I**n **T**ime to machine code for the first run... Why? See [this post](https://tonybaloney.github.io/posts/python-gets-a-jit.html)."
   ]
  },
  {
   "cell_type": "code",
   "execution_count": null,
   "id": "38069602",
   "metadata": {
    "editable": true,
    "slideshow": {
     "slide_type": ""
    }
   },
   "outputs": [],
   "source": [
    "dis(compile('x = x + 1', '_', 'exec'))"
   ]
  },
  {
   "cell_type": "markdown",
   "id": "675dbbb9",
   "metadata": {
    "editable": true,
    "slideshow": {
     "slide_type": "subslide"
    }
   },
   "source": [
    "It is possible to assign different values to multiple variables in one line using the so-called *tuple assignment* syntax:"
   ]
  },
  {
   "cell_type": "code",
   "execution_count": null,
   "id": "81c6c264",
   "metadata": {
    "editable": true,
    "slideshow": {
     "slide_type": "-"
    }
   },
   "outputs": [],
   "source": [
    "%%optlite -l -h 400\n",
    "x, y, z = \"15\", \"30\", 15"
   ]
  },
  {
   "cell_type": "markdown",
   "id": "8adb9603",
   "metadata": {
    "editable": true,
    "slideshow": {
     "slide_type": "fragment"
    }
   },
   "source": [
    "One can also assign the same value to different variables in one line using a *chained assignment*:"
   ]
  },
  {
   "cell_type": "code",
   "execution_count": null,
   "id": "54c4bf72",
   "metadata": {
    "editable": true,
    "slideshow": {
     "slide_type": "-"
    }
   },
   "outputs": [],
   "source": [
    "%%optlite -l -h 400\n",
    "x = y = z = 0"
   ]
  },
  {
   "cell_type": "markdown",
   "id": "c8c80463",
   "metadata": {
    "editable": true,
    "slideshow": {
     "slide_type": "subslide"
    }
   },
   "source": [
    "Once defined, a variable can be deleted using the `del` keyword. Accessing a variable that has not been assigned any value raises an error."
   ]
  },
  {
   "cell_type": "code",
   "execution_count": null,
   "id": "238608b8",
   "metadata": {
    "editable": true,
    "slideshow": {
     "slide_type": ""
    }
   },
   "outputs": [],
   "source": [
    "%%optlite -h 350\n",
    "x = y = 1+1j\n",
    "del x\n",
    "x"
   ]
  },
  {
   "cell_type": "markdown",
   "id": "bd58af40",
   "metadata": {
    "editable": true,
    "slideshow": {
     "slide_type": ""
    }
   },
   "source": [
    "::::{caution}\n",
    ":class: dropdown\n",
    "\n",
    "You will learn later in the course that deleting a variable does not necessarily delete its value. In the above example, the value `1+1j` continues to exist after `x` is deleted.\n",
    "\n",
    "::::"
   ]
  },
  {
   "cell_type": "markdown",
   "id": "23ec0e2d",
   "metadata": {
    "editable": true,
    "slideshow": {
     "slide_type": ""
    }
   },
   "source": [
    "::::{seealso} Are there constants in Python?\n",
    ":class: dropdown\n",
    "\n",
    "As the concepts of variables and values in programming are analogous to those in mathematics. Is there a programming counterpart for mathematical constants such as $\\pi$? In Python:\n",
    "\n",
    "- There is a list of [constants](https://docs.python.org/3/library/constants.html).\n",
    "- There are [immutable objects](https://docs.python.org/3/glossary.html#term-immutable).\n",
    "- There is a [math module defining mathematical constants like `pi`](https://docs.python.org/3/library/math.html#math.pi).\n",
    "\n",
    "::::"
   ]
  },
  {
   "cell_type": "code",
   "execution_count": null,
   "id": "ea1e6cef",
   "metadata": {
    "editable": true,
    "slideshow": {
     "slide_type": ""
    },
    "tags": [
     "skip-execution"
    ]
   },
   "outputs": [],
   "source": [
    "%%ai\n",
    "How would you define constants in Python? Are literals also constants?"
   ]
  },
  {
   "cell_type": "markdown",
   "id": "803fcbaf",
   "metadata": {
    "editable": true,
    "slideshow": {
     "slide_type": "slide"
    }
   },
   "source": [
    "### Identifiers"
   ]
  },
  {
   "cell_type": "markdown",
   "id": "ed1ffc71",
   "metadata": {},
   "source": [
    "One reason why Python is expressive is that it affords programmers a significant amount of flexibility when it comes to choosing variable names. For instance, *identifiers*, such as variable names, are case-sensitive and of unlimited length, unlike older languages such as Pascal and Fortran. This flexibility also makes the program more readable. For instance, consider the following program:"
   ]
  },
  {
   "cell_type": "code",
   "execution_count": null,
   "id": "445cb956",
   "metadata": {
    "editable": true,
    "slideshow": {
     "slide_type": ""
    }
   },
   "outputs": [],
   "source": [
    "%%optlite -h 400\n",
    "def name():\n",
    "    return first.name + last.name\n",
    "\n",
    "first.name = \"John\"\n",
    "last.name = \"Smith\"\n",
    "print(name())"
   ]
  },
  {
   "cell_type": "markdown",
   "id": "b0d29bef",
   "metadata": {
    "editable": true,
    "slideshow": {
     "slide_type": ""
    }
   },
   "source": [
    "Unfortunately, the program fails in the middle, why? Let's take a closer look at the operations involved:"
   ]
  },
  {
   "cell_type": "code",
   "execution_count": null,
   "id": "cb3e8033",
   "metadata": {
    "editable": true,
    "slideshow": {
     "slide_type": ""
    }
   },
   "outputs": [],
   "source": [
    "dis(compile(\"first.name + last.name\", \"_\", \"eval\"))"
   ]
  },
  {
   "cell_type": "markdown",
   "id": "67d12e4d",
   "metadata": {
    "editable": true,
    "slideshow": {
     "slide_type": ""
    }
   },
   "source": [
    "How about the following fix?"
   ]
  },
  {
   "cell_type": "code",
   "execution_count": null,
   "id": "99db60af",
   "metadata": {
    "editable": true,
    "slideshow": {
     "slide_type": ""
    }
   },
   "outputs": [],
   "source": [
    "dis(compile(\"first-name + last-name\", \"_\", \"eval\"))"
   ]
  },
  {
   "cell_type": "markdown",
   "id": "ba42e49d",
   "metadata": {
    "editable": true,
    "slideshow": {
     "slide_type": ""
    }
   },
   "source": [
    "Obviously, not all names are valid identifiers as some names may be misinterpreted by the Python interpreter. Instead of fixing the names by trial-and-error, let's try to learn the exact [syntax for identifiers](https://docs.python.org/3/reference/lexical_analysis.html#identifiers)\n",
    "\n",
    "```ebnf\n",
    "identifier   ::=  xid_start xid_continue*\n",
    "...\n",
    "```\n",
    "\n",
    "which is specified in a notation called the [Extended Backus-Naur Form (EBNF)](https://en.wikipedia.org/wiki/Extended_Backus%E2%80%93Naur_form). Some identifiers called [*keywords*](https://docs.python.org/3/reference/lexical_analysis.html#keywords) are reserved and therefore not available for programmers to use as variable names. There are also [*soft keywords*](https://docs.python.org/3/reference/lexical_analysis.html#soft-keywords) that are reserved under specific contexts."
   ]
  },
  {
   "cell_type": "code",
   "execution_count": null,
   "id": "c3e5bc2f",
   "metadata": {
    "editable": true,
    "slideshow": {
     "slide_type": ""
    },
    "tags": [
     "skip-execution"
    ]
   },
   "outputs": [],
   "source": [
    "%%ai\n",
    "Explain in one paragraph the notation of the following in pydoc:\n",
    "identifier ::= xid_start xid_continue*"
   ]
  },
  {
   "cell_type": "markdown",
   "id": "d58b4d55",
   "metadata": {
    "editable": true,
    "slideshow": {
     "slide_type": ""
    }
   },
   "source": [
    "::::{tip}\n",
    "\n",
    "If you find EBNF too difficult to understand now, consider the following rules of thumb:\n",
    "\n",
    "1. Start a variable name with a letter or `_` (an underscore) followed by letters, digits, or `_`, but\n",
    "2. do not use any of the following reserved words:\n",
    "\n",
    "    ```python\n",
    "    False      await      else       import     pass\n",
    "    None       break      except     in         raise\n",
    "    True       class      finally    is         return\n",
    "    and        continue   for        lambda     try\n",
    "    as         def        from       nonlocal   while\n",
    "    assert     del        global     not        with\n",
    "    async      elif       if         or         yield\n",
    "    ```\n",
    "\n",
    "That should work most of the time except for a few specific cases.[^soft-keywords]\n",
    "\n",
    "::::\n",
    "\n",
    "[^soft-keywords]: `match` and `case` are recognized as keywords in the context of a [`match` statement](https://docs.python.org/3/tutorial/controlflow.html#tut-match), where `_` is treated as a wildcard. This is regardless of whether `match`, `case`, or `_` are used as variables outside this context."
   ]
  },
  {
   "cell_type": "code",
   "execution_count": null,
   "id": "702593b9",
   "metadata": {
    "editable": true,
    "slideshow": {
     "slide_type": ""
    }
   },
   "outputs": [],
   "source": [
    "%%ai\n",
    "What is the motivation for soft keywords in Python? Why not make them hard?"
   ]
  },
  {
   "cell_type": "markdown",
   "id": "b3c4eb48",
   "metadata": {
    "editable": true,
    "slideshow": {
     "slide_type": "fragment"
    }
   },
   "source": [
    "::::{exercise}\n",
    ":label: ex:identifiers-syntax\n",
    "\n",
    "Evaluate the following cell and check if any of the rules above is violated.\n",
    "\n",
    ":::{hint}\n",
    ":class: dropdown\n",
    "\n",
    "- `del` is a keyword and `Del` is not because identifiers are case sensitive.\n",
    "- Function names such as `print`, `input`, `type`, etc., are not keywords and can be reassigned.  \n",
    "  This can be useful if you want to modify the default implementations without changing their source code.\n",
    ":::\n",
    "\n",
    "::::"
   ]
  },
  {
   "cell_type": "code",
   "execution_count": null,
   "id": "07f230a2",
   "metadata": {
    "code_folding": [],
    "editable": true,
    "slideshow": {
     "slide_type": "-"
    }
   },
   "outputs": [],
   "source": [
    "@interact\n",
    "def identifier_syntax(\n",
    "    assignment=[\n",
    "        \"a-number = 15\",\n",
    "        \"a_number = 15\",\n",
    "        \"15 = 15\",\n",
    "        \"_15 = 15\",\n",
    "        \"del = 15\",\n",
    "        \"Del = 15\",\n",
    "        \"type = print\",\n",
    "        \"print = type\",\n",
    "        \"input = print\",\n",
    "    ]\n",
    "):\n",
    "    exec(assignment)\n",
    "    print(\"Ok.\")"
   ]
  },
  {
   "cell_type": "markdown",
   "id": "419da3c6",
   "metadata": {
    "deletable": false,
    "nbgrader": {
     "cell_type": "markdown",
     "checksum": "5ecc235f0ae5be5c77beeed2f6b6dd2e",
     "grade": true,
     "grade_id": "invalid-identifiers",
     "locked": false,
     "points": 0,
     "schema_version": 3,
     "solution": true,
     "task": false
    },
    "slideshow": {
     "slide_type": "-"
    }
   },
   "source": [
    "YOUR ANSWER HERE"
   ]
  },
  {
   "cell_type": "markdown",
   "id": "ac360981",
   "metadata": {
    "editable": true,
    "slideshow": {
     "slide_type": "-"
    }
   },
   "source": [
    "::::{seealso} Python Enhancement Proposals\n",
    ":class: dropdown\n",
    "\n",
    "To help make the code more readable, programmers follow additional style guides such as [Python Enhancement Proposals (PEP) 8](https://www.python.org/dev/peps/pep-0008/#function-and-variable-names):\n",
    "- Function names should be lowercase, with words separated by underscores as necessary to improve readability.  \n",
    "- Variable names follow the same convention as function names.\n",
    "\n",
    "::::"
   ]
  },
  {
   "cell_type": "markdown",
   "id": "3750353b",
   "metadata": {
    "slideshow": {
     "slide_type": "slide"
    }
   },
   "source": [
    "### Type Conversion"
   ]
  },
  {
   "cell_type": "markdown",
   "id": "ad6f02b2",
   "metadata": {
    "editable": true,
    "slideshow": {
     "slide_type": "subslide"
    }
   },
   "source": [
    "The following program tries to compute the sum of two numbers from user inputs:"
   ]
  },
  {
   "cell_type": "code",
   "execution_count": null,
   "id": "a17c0238",
   "metadata": {
    "slideshow": {
     "slide_type": "-"
    },
    "tags": [
     "remove-output"
    ]
   },
   "outputs": [],
   "source": [
    "num1 = input(\"Please input an integer: \")\n",
    "num2 = input(\"Please input another integer: \")\n",
    "print(num1, \"+\", num2, \"is equal to\", num1 + num2)"
   ]
  },
  {
   "cell_type": "markdown",
   "id": "4e0bc274",
   "metadata": {
    "editable": true,
    "slideshow": {
     "slide_type": "fragment"
    }
   },
   "source": [
    "::::{exercise}\n",
    ":label: ex:bug\n",
    "\n",
    "Unfortunately, there is a [bug](https://en.wikipedia.org/wiki/Software_bug) in the above code. Can you locate the error?\n",
    "\n",
    "::::"
   ]
  },
  {
   "cell_type": "markdown",
   "id": "79acec1f",
   "metadata": {
    "deletable": false,
    "editable": true,
    "nbgrader": {
     "cell_type": "markdown",
     "checksum": "5242ad43e12cfbc589a2f021142b56f4",
     "grade": true,
     "grade_id": "cell-d1d22bc89eb9f7b6",
     "locked": false,
     "points": 0,
     "schema_version": 3,
     "solution": true,
     "task": false
    },
    "slideshow": {
     "slide_type": "-"
    }
   },
   "source": [
    "YOUR ANSWER HERE"
   ]
  },
  {
   "cell_type": "markdown",
   "id": "b7289547",
   "metadata": {
    "slideshow": {
     "slide_type": "subslide"
    }
   },
   "source": [
    "`input` *returns* user input as a string.  E.g., if the user enters `12`, the input is\n",
    "- not treated as the integer twelve, but rather\n",
    "- treated as a string containing two characters, one followed by two."
   ]
  },
  {
   "cell_type": "markdown",
   "id": "7b944f2b",
   "metadata": {
    "slideshow": {
     "slide_type": "fragment"
    }
   },
   "source": [
    "To confirm this, we can use `type` to return the data type of an expression."
   ]
  },
  {
   "cell_type": "code",
   "execution_count": null,
   "id": "1dc9e2cb",
   "metadata": {
    "editable": true,
    "slideshow": {
     "slide_type": "-"
    },
    "tags": [
     "remove-output"
    ]
   },
   "outputs": [],
   "source": [
    "num1 = input(\"Please input an integer: \")\n",
    "print(\"Your input is\", num1, \"with type\", type(num1))"
   ]
  },
  {
   "cell_type": "markdown",
   "id": "3f6a6057",
   "metadata": {
    "editable": true,
    "slideshow": {
     "slide_type": "subslide"
    }
   },
   "source": [
    "::::{exercise}\n",
    "\n",
    "`type` can apply to any expressions. Try it out below.\n",
    "\n",
    "::::"
   ]
  },
  {
   "cell_type": "code",
   "execution_count": null,
   "id": "4040dc4f",
   "metadata": {
    "deletable": false,
    "editable": true,
    "nbgrader": {
     "cell_type": "code",
     "checksum": "c4d575efe22042b05879ed179d3941df",
     "grade": true,
     "grade_id": "type",
     "locked": false,
     "points": 0,
     "schema_version": 3,
     "solution": true,
     "task": false
    },
    "slideshow": {
     "slide_type": "-"
    }
   },
   "outputs": [],
   "source": [
    "# YOUR CODE HERE\n",
    "raise NotImplementedError"
   ]
  },
  {
   "cell_type": "markdown",
   "id": "8bfd0cec",
   "metadata": {
    "editable": true,
    "slideshow": {
     "slide_type": "subslide"
    }
   },
   "source": [
    "What happens when we add strings together?"
   ]
  },
  {
   "cell_type": "code",
   "execution_count": null,
   "id": "7998186f",
   "metadata": {
    "editable": true,
    "slideshow": {
     "slide_type": "-"
    }
   },
   "outputs": [],
   "source": [
    "\"4\" + \"5\" + \"6\""
   ]
  },
  {
   "cell_type": "markdown",
   "id": "d16221aa",
   "metadata": {
    "editable": true,
    "slideshow": {
     "slide_type": "fragment"
    }
   },
   "source": [
    "How to fix the bug then?"
   ]
  },
  {
   "cell_type": "markdown",
   "id": "ad6b1ac5",
   "metadata": {
    "slideshow": {
     "slide_type": "fragment"
    }
   },
   "source": [
    "We can convert a string to an integer using `int`."
   ]
  },
  {
   "cell_type": "code",
   "execution_count": null,
   "id": "e13d3317",
   "metadata": {
    "editable": true,
    "slideshow": {
     "slide_type": "-"
    }
   },
   "outputs": [],
   "source": [
    "int(\"4\") + int(\"5\") + int(\"6\")"
   ]
  },
  {
   "cell_type": "markdown",
   "id": "edfe7acb",
   "metadata": {
    "slideshow": {
     "slide_type": "fragment"
    }
   },
   "source": [
    "We can also convert an integer to a string using `str`."
   ]
  },
  {
   "cell_type": "code",
   "execution_count": null,
   "id": "efd4136c",
   "metadata": {
    "slideshow": {
     "slide_type": "-"
    }
   },
   "outputs": [],
   "source": [
    "str(4) + str(5) + str(6)"
   ]
  },
  {
   "cell_type": "markdown",
   "id": "e2c2d626",
   "metadata": {
    "slideshow": {
     "slide_type": "subslide"
    }
   },
   "source": [
    "::::{exercise}\n",
    ":label: ex:fix\n",
    "\n",
    "Fix the bug in the following cell.\n",
    "::::"
   ]
  },
  {
   "cell_type": "code",
   "execution_count": null,
   "id": "56de0283",
   "metadata": {
    "deletable": false,
    "editable": true,
    "nbgrader": {
     "cell_type": "code",
     "checksum": "1aebd14ff4c562d70dbc7d7274834855",
     "grade": false,
     "grade_id": "string-concat-bug",
     "locked": false,
     "schema_version": 3,
     "solution": true,
     "task": false
    },
    "slideshow": {
     "slide_type": "-"
    },
    "tags": [
     "remove-output"
    ]
   },
   "outputs": [],
   "source": [
    "num1 = input(\"Please input an integer: \")\n",
    "num2 = input(\"Please input another integer: \")\n",
    "# print(num1, '+', num2, 'is equal to', num1 + num2)  # fix this line below\n",
    "# YOUR CODE HERE\n",
    "raise NotImplementedError"
   ]
  },
  {
   "cell_type": "markdown",
   "id": "671d6b10",
   "metadata": {
    "slideshow": {
     "slide_type": "slide"
    }
   },
   "source": [
    "### Error Types"
   ]
  },
  {
   "cell_type": "markdown",
   "id": "c36e196a",
   "metadata": {
    "slideshow": {
     "slide_type": "fragment"
    }
   },
   "source": [
    "In addition to writing code, a programmer spends significant time in *debugging* code that contains errors. A natural question is:"
   ]
  },
  {
   "cell_type": "markdown",
   "id": "55659c0b",
   "metadata": {
    "slideshow": {
     "slide_type": "fragment"
    }
   },
   "source": [
    "**Can an error be automatically detected by the computer?**"
   ]
  },
  {
   "cell_type": "markdown",
   "id": "1ca9d7c8",
   "metadata": {
    "slideshow": {
     "slide_type": "fragment"
    }
   },
   "source": [
    "You have just seen an example of a *logical error*, which is due to an error in the logic. The ability to debug or even detect such an error is, unfortunately, beyond Python interpreter's intelligence."
   ]
  },
  {
   "cell_type": "markdown",
   "id": "d6998aa3",
   "metadata": {},
   "source": [
    "Let's see if LLM can debug logical error:"
   ]
  },
  {
   "cell_type": "code",
   "execution_count": null,
   "id": "d7d45472",
   "metadata": {
    "editable": true,
    "slideshow": {
     "slide_type": ""
    },
    "tags": [
     "skip-execution"
    ]
   },
   "outputs": [],
   "source": [
    "%%ai\n",
    "What is wrong with the following code?\n",
    "--\n",
    "num1 = input(\"Please input a number: \")\n",
    "num2 = input(\"Please input another number: \")\n",
    "print(num1, \"+\", num2, \"is equal to\", num1 + num2)"
   ]
  },
  {
   "cell_type": "markdown",
   "id": "2dcdd149",
   "metadata": {
    "editable": true,
    "slideshow": {
     "slide_type": ""
    }
   },
   "source": [
    "::::{tip} Can LLM detects logical error?\n",
    ":class: dropdown\n",
    "\n",
    "The response depends heavily on the provided information. For example, suppose the above program intended to:\n",
    "\n",
    "- Add two *complex* numbers from user input.\n",
    "\n",
    "Typically, numbers refer to real numbers. Therefore, specifying the requirement to handle complex numbers is crucial. \n",
    "\n",
    "::::"
   ]
  },
  {
   "cell_type": "markdown",
   "id": "05da0d99",
   "metadata": {},
   "source": [
    "Refining questions based on the LLM’s responses can yield more meaningful answers. Essentially, we should [learn to ask questions to gain knowledge](https://translate.google.com/?hl=en&sl=auto&tl=en&text=%22%E5%AD%B8%E5%95%8F%22%20%3D%3D%20%22%E5%AD%B8%22%20%2B%20%22%E5%95%8F%22%0A%0A&op=translate):"
   ]
  },
  {
   "cell_type": "code",
   "execution_count": null,
   "id": "ba28945b",
   "metadata": {
    "editable": true,
    "slideshow": {
     "slide_type": ""
    }
   },
   "outputs": [],
   "source": [
    "\"學問\" == \"學\" \"問\""
   ]
  },
  {
   "cell_type": "markdown",
   "id": "e5edf29c",
   "metadata": {
    "editable": true,
    "slideshow": {
     "slide_type": ""
    }
   },
   "source": [
    "Other kinds of error may be detected automatically by Python. As an example, note that equality `==` is not equal to assignment `=`:"
   ]
  },
  {
   "cell_type": "code",
   "execution_count": null,
   "id": "20fd393b",
   "metadata": {
    "editable": true,
    "slideshow": {
     "slide_type": ""
    }
   },
   "outputs": [],
   "source": [
    "%%optlite -l -h 400\n",
    "print(\"Assignment:\")\n",
    "\"學問\" = \"學\" \"問\""
   ]
  },
  {
   "cell_type": "markdown",
   "id": "1eaf89ef",
   "metadata": {
    "editable": true,
    "slideshow": {
     "slide_type": ""
    }
   },
   "source": [
    "As another example, juxtaposition is not the same as addition `+`:"
   ]
  },
  {
   "cell_type": "code",
   "execution_count": null,
   "id": "a1c65cfa",
   "metadata": {
    "editable": true,
    "slideshow": {
     "slide_type": ""
    }
   },
   "outputs": [],
   "source": [
    "%%optlite -l -h 400\n",
    "print(\"Juxtaposition:\")\n",
    "3 == 2 1"
   ]
  },
  {
   "cell_type": "markdown",
   "id": "ebb99887",
   "metadata": {
    "editable": true,
    "slideshow": {
     "slide_type": "fragment"
    }
   },
   "source": [
    "Python interpreter detects the bug and raises a *syntax* error."
   ]
  },
  {
   "cell_type": "markdown",
   "id": "033257b9",
   "metadata": {
    "editable": true,
    "slideshow": {
     "slide_type": "fragment"
    }
   },
   "source": [
    "::::{note} Why Syntax error can be detected automatically?\n",
    ":class: dropdown\n",
    "\n",
    "Note that the print statement is not executed. Why?\n",
    "\n",
    "The Python interpreter can detect syntax error even before executing the code because the interpreter simply fails to translate the code to lower-level executable code. \n",
    "\n",
    "::::"
   ]
  },
  {
   "cell_type": "markdown",
   "id": "c9ba47d8",
   "metadata": {
    "slideshow": {
     "slide_type": "subslide"
    }
   },
   "source": [
    "The following code raises a different kind of error."
   ]
  },
  {
   "cell_type": "code",
   "execution_count": null,
   "id": "1b9c8b39",
   "metadata": {
    "editable": true,
    "slideshow": {
     "slide_type": "-"
    }
   },
   "outputs": [],
   "source": [
    "%%optlite -l -h 500\n",
    "print(\"Add integer to string:\")\n",
    "\"4\" + \"5\" + 6  # adding string to integer"
   ]
  },
  {
   "cell_type": "markdown",
   "id": "54cbcade",
   "metadata": {
    "editable": true,
    "slideshow": {
     "slide_type": "fragment"
    }
   },
   "source": [
    "::::{note} Why Python throws a TypeError when evaluating `'4' + '5' + 6`?\n",
    ":class: dropdown\n",
    "\n",
    "There is no implementation of `+` operation on a value of type `str` and a value of type `int`. \n",
    "- Unlike the syntax error, the Python interpreter can only detect a type error at runtime (when executing the code.) \n",
    "- Hence, such an error is called a *runtime error*.\n",
    "\n",
    "::::"
   ]
  },
  {
   "cell_type": "markdown",
   "id": "0fd112c7",
   "metadata": {
    "slideshow": {
     "slide_type": "fragment"
    }
   },
   "source": [
    "Python is a [*strongly-and-dynamically-typed*](https://en.wikipedia.org/wiki/Strong_and_weak_typing) language:\n",
    "\n",
    "- *Dynamically-typed* languages check data type only at runtime after translating the code to machine code.\n",
    "- *Strongly-typed*: languages do not force a type conversion to avoid a type error."
   ]
  },
  {
   "cell_type": "markdown",
   "id": "2cfd924f",
   "metadata": {
    "slideshow": {
     "slide_type": "subslide"
    }
   },
   "source": [
    "To understand what the above actually means, let's consider how other languages work differently."
   ]
  },
  {
   "cell_type": "markdown",
   "id": "87777783",
   "metadata": {
    "slideshow": {
     "slide_type": "subslide"
    }
   },
   "source": [
    "C/C++ and Java are *statically-typed* languages that checks data type during compilation, so the type error above becomes a compile-time error instead of a runtime error."
   ]
  },
  {
   "cell_type": "code",
   "execution_count": null,
   "id": "bd7aad93",
   "metadata": {
    "editable": true,
    "slideshow": {
     "slide_type": ""
    }
   },
   "outputs": [],
   "source": [
    "try:\n",
    "    !g++ 456.cpp\n",
    "except Error:\n",
    "    print('Cannot run shell command.')"
   ]
  },
  {
   "cell_type": "code",
   "execution_count": null,
   "id": "d71c34e6",
   "metadata": {
    "editable": true,
    "slideshow": {
     "slide_type": ""
    }
   },
   "outputs": [],
   "source": [
    "try:\n",
    "    !javac 456.java\n",
    "except Error:\n",
    "    print('Cannot run shell command.')"
   ]
  },
  {
   "cell_type": "markdown",
   "id": "a66c6833",
   "metadata": {
    "editable": true,
    "slideshow": {
     "slide_type": ""
    }
   },
   "source": [
    "On the opposite extreme, the web programming language Javascript does not raise an error at all:"
   ]
  },
  {
   "cell_type": "code",
   "execution_count": null,
   "id": "0f70eb01",
   "metadata": {
    "editable": true,
    "slideshow": {
     "slide_type": "-"
    }
   },
   "outputs": [],
   "source": [
    "%%javascript\n",
    "let x = '4' + '5' + 6;\n",
    "element.append(x + ' ' + typeof(x));\n",
    "// no error because 6 is converted to a str implicitly"
   ]
  },
  {
   "cell_type": "code",
   "execution_count": null,
   "id": "e84d7fce",
   "metadata": {
    "editable": true,
    "slideshow": {
     "slide_type": ""
    }
   },
   "outputs": [],
   "source": [
    "%%javascript\n",
    "let x = '4' * '5' * 6;\n",
    "element.append(x + ' ' + typeof(x));\n",
    "// no error because 4 and 5 are converted to numbers implicitly"
   ]
  },
  {
   "cell_type": "markdown",
   "id": "64c39cc7",
   "metadata": {
    "editable": true,
    "slideshow": {
     "slide_type": ""
    }
   },
   "source": [
    "Javascript forces a type conversion to make the code run. It is called a *weakly-typed* language because of this flexibility."
   ]
  },
  {
   "cell_type": "markdown",
   "id": "557ca55e",
   "metadata": {
    "editable": true,
    "slideshow": {
     "slide_type": "fragment"
    }
   },
   "source": [
    "(wtfjs)=\n",
    "::::{seealso} Why not make Python a more flexible weakly-typed language by automatic type conversion?\n",
    ":class: dropdown\n",
    "\n",
    "While weakly-typed languages may seem more robust, they can potentially lead to more logical errors. JavaScript, despite its popularity, is known for its tricky behavior, as demonstrated in [wtfjs](https://github.com/denysdovhan/wtfjs). To improve readability and avoid logical errors, it is recommended to use the strongly-typed language TypeScript.[^typescript]\n",
    "\n",
    "::::\n",
    "\n",
    "[^typescript]: TypeScript is a superset of JavaScript that adds optional static typing and other features to the language. By enforcing stronger typing, TypeScript can detect potential errors at compile-time and improve the overall reliability of your code. Learn more about TypeScript at [typescriptlang.org](https://www.typescriptlang.org/)."
   ]
  },
  {
   "cell_type": "markdown",
   "id": "2654d9aa",
   "metadata": {
    "slideshow": {
     "slide_type": "subslide"
    }
   },
   "source": [
    "::::{exercise} BANANA program\n",
    ":label: ex:weakly-typed\n",
    "\n",
    "Explain why the following JavaScript prints `BANANA`, even though the code is missing the string literal `\"N\"` or `\"n\"`.\n",
    "\n",
    "::::"
   ]
  },
  {
   "cell_type": "code",
   "execution_count": null,
   "id": "f03666fe",
   "metadata": {
    "editable": true,
    "slideshow": {
     "slide_type": ""
    }
   },
   "outputs": [],
   "source": [
    "%%javascript\n",
    "element.append(\n",
    "    (\"b\" + \"a\" +\n",
    "     + \"a\" + \"a\").toUpperCase()\n",
    ");"
   ]
  },
  {
   "cell_type": "markdown",
   "id": "f6025425",
   "metadata": {
    "deletable": false,
    "editable": true,
    "nbgrader": {
     "cell_type": "markdown",
     "checksum": "397bf914b96707ad1a38ff53085f1c22",
     "grade": true,
     "grade_id": "invalid-input",
     "locked": false,
     "points": 0,
     "schema_version": 3,
     "solution": true,
     "task": false
    },
    "slideshow": {
     "slide_type": "-"
    }
   },
   "source": [
    "YOUR ANSWER HERE"
   ]
  },
  {
   "cell_type": "markdown",
   "id": "2ab189c1",
   "metadata": {
    "editable": true,
    "slideshow": {
     "slide_type": ""
    }
   },
   "source": [
    "May be LLM knows why?"
   ]
  },
  {
   "cell_type": "code",
   "execution_count": null,
   "id": "93a50733",
   "metadata": {
    "editable": true,
    "slideshow": {
     "slide_type": ""
    },
    "tags": [
     "skip-execution"
    ]
   },
   "outputs": [],
   "source": [
    "%%ai\n",
    "Why does the following javascript return BANANA?\n",
    "element.append(\n",
    "    (\"b\" + \"a\" +\n",
    "     + \"a\" + \"a\").toUpperCase()\n",
    ");"
   ]
  }
 ],
 "metadata": {
  "jupytext": {
   "default_lexer": "ipython3"
  },
  "kernelspec": {
   "display_name": "Python 3 (ipykernel)",
   "language": "python",
   "name": "python3"
  }
 },
 "nbformat": 4,
 "nbformat_minor": 5
}
