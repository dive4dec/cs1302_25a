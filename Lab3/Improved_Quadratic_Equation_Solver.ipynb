{
 "cells": [
  {
   "cell_type": "markdown",
   "id": "db942b8f",
   "metadata": {
    "editable": true,
    "slideshow": {
     "slide_type": "slide"
    }
   },
   "source": [
    "---\n",
    "title: Improved Quadratic Equation Solver\n",
    "skip-execution: true\n",
    "---"
   ]
  },
  {
   "cell_type": "code",
   "execution_count": null,
   "id": "7db4b31b",
   "metadata": {},
   "outputs": [],
   "source": [
    "import math\n",
    "import numpy as np\n",
    "from ipywidgets import interact"
   ]
  },
  {
   "cell_type": "code",
   "execution_count": null,
   "id": "b71bb38d",
   "metadata": {},
   "outputs": [],
   "source": [
    "if not input('Load JupyterAI? [Y/n]').lower()=='n':\n",
    "    %reload_ext jupyter_ai"
   ]
  },
  {
   "cell_type": "markdown",
   "id": "0de23267",
   "metadata": {
    "slideshow": {
     "slide_type": "subslide"
    }
   },
   "source": [
    "In this notebook, we will improve the quadratic equation solver in the previous lab using conditional executions."
   ]
  },
  {
   "cell_type": "markdown",
   "id": "4b75df74",
   "metadata": {
    "slideshow": {
     "slide_type": "subslide"
    }
   },
   "source": [
    "## Discriminant"
   ]
  },
  {
   "cell_type": "markdown",
   "id": "323d0201",
   "metadata": {
    "slideshow": {
     "slide_type": "fragment"
    }
   },
   "source": [
    "Recall that a quadratic equation is\n",
    "\n",
    "$$\n",
    "ax^2+bx+c=0\n",
    "$$ (eq:imp:quadratic)\n",
    "\n",
    "where $a$, $b$, and $c$ are real-valued coefficients, and $x$ is the unknown variable."
   ]
  },
  {
   "cell_type": "markdown",
   "id": "6a0ee1cc",
   "metadata": {},
   "source": [
    "::::{prf:definition} Discriminant\n",
    "\n",
    "\n",
    "The disciminant of a quadratic equation is defined as\n",
    "\n",
    "$$\n",
    "\\Delta := b^2 - 4ac.\n",
    "$$ (eq:discriminant)\n",
    "\n",
    "::::"
   ]
  },
  {
   "cell_type": "markdown",
   "id": "b0925dd6",
   "metadata": {},
   "source": [
    "The discriminant $\\Delta$ discriminates the roots \n",
    "\n",
    "$$\\frac{-b\\pm \\sqrt{\\Delta}}{2a}$$ (roots)\n",
    "\n",
    "of a quadratic equation:"
   ]
  },
  {
   "cell_type": "markdown",
   "id": "7a02f4c7",
   "metadata": {
    "slideshow": {
     "slide_type": "fragment"
    }
   },
   "source": [
    "::::{prf:proposition}\n",
    "\n",
    "The roots of a quadratic equation [](#eq:imp:quadratic) are both equal to \n",
    "\n",
    "$$-\\frac{b}{2a}$$ (eq:repeated_root)\n",
    "\n",
    "if and only if the discriminant is zero, i.e., $\\Delta=0$.\n",
    "\n",
    "::::"
   ]
  },
  {
   "cell_type": "markdown",
   "id": "f236ce10",
   "metadata": {},
   "source": [
    "For example, if $(a,b,c)=(1,-2,1)$, then \n",
    "\n",
    "$$\\Delta = (-2)^2 - 4(1\\cdot 1) = 0$$\n",
    "\n",
    "and so the repeated root is\n",
    "\n",
    "$$\n",
    "- \\frac{b}{2a} = \\frac{2}2 = 1.\n",
    "$$\n",
    "\n",
    "$(x-1)^2 = x^2 - 2x + 1$ as expected."
   ]
  },
  {
   "cell_type": "markdown",
   "id": "b65a835d",
   "metadata": {},
   "source": [
    "We will improve the quadratic solver to return only one root when the discriminant is close enough to $0$."
   ]
  },
  {
   "cell_type": "markdown",
   "id": "7bc15fc9",
   "metadata": {},
   "source": [
    "::::{exercise}\n",
    ":label: ex:rel_tol\n",
    "\n",
    "To determine whether a floating point number $x$ is close to $0$, the implementation `math.isclose` is insufficient:\n",
    "\n",
    "- The test `math.isclose(x, 0, rel_tol=rel_tol)` is ineffective as explained in the lecture as it boils down to `x==0` or `rel_tol>=1`.\n",
    "- The test `math.isclose(x, 0, abs_tol=1e-9)` may not work as expected since `x` (and therefore its precision error) floats at different scale according to its exponent.\n",
    "\n",
    "Complete the following function to implement an alternative test of how close $x$ is to `0` relative to $y$ and $z$ with a relative tolerance of $\\delta_{\\text{rel}}$:\n",
    "\n",
    "$$\n",
    "\\lvert x\\rvert\\leq  \\max\\Set{\\lvert y\\rvert, \\lvert z\\rvert} \\delta_{\\text{rel}}\n",
    "$$ (eq:quad:rel_tol)\n",
    "\n",
    "This test is similar to `math.isclose`, where $\\delta_{\\text{rel}}\\geq 0$ is the relative tolerance specified by the [keyword-only argument](https://peps.python.org/pep-3102/) `rel_tol`, which has a default value of `1e-9`.\n",
    "\n",
    "::::"
   ]
  },
  {
   "cell_type": "code",
   "execution_count": null,
   "id": "dd6dca9a",
   "metadata": {
    "deletable": false,
    "nbgrader": {
     "cell_type": "code",
     "checksum": "ac0ac989345b27044a6e6a5ceeca2eaa",
     "grade": false,
     "grade_id": "iszero",
     "locked": false,
     "schema_version": 3,
     "solution": true,
     "task": false
    }
   },
   "outputs": [],
   "source": [
    "def iszero(x, y, z, *, rel_tol=1e-9):\n",
    "    # YOUR CODE HERE\n",
    "    raise NotImplementedError"
   ]
  },
  {
   "cell_type": "code",
   "execution_count": null,
   "id": "abe1b2ca",
   "metadata": {
    "deletable": false,
    "editable": false,
    "nbgrader": {
     "cell_type": "code",
     "checksum": "371f467e9aa381e1cac5c17f6ca732b6",
     "grade": true,
     "grade_id": "test_iszero",
     "locked": true,
     "points": 1,
     "schema_version": 3,
     "solution": false,
     "task": false
    }
   },
   "outputs": [],
   "source": [
    "# tests\n",
    "assert not iszero(1e-8, 0, 1)\n",
    "assert iszero(1e-8, 1, 0, rel_tol=1e-7)\n",
    "assert iszero(1e-8, 1, 10)"
   ]
  },
  {
   "cell_type": "code",
   "execution_count": null,
   "id": "a84bb27c",
   "metadata": {
    "deletable": false,
    "editable": false,
    "nbgrader": {
     "cell_type": "code",
     "checksum": "bff1fba6fc469a371cfb063e4045cb58",
     "grade": true,
     "grade_id": "htest_iszero",
     "locked": true,
     "points": 1,
     "schema_version": 3,
     "solution": false,
     "task": false
    }
   },
   "outputs": [],
   "source": [
    "# hidden tests"
   ]
  },
  {
   "cell_type": "markdown",
   "id": "d71c0f91",
   "metadata": {
    "slideshow": {
     "slide_type": "subslide"
    }
   },
   "source": [
    "::::{exercise}  \n",
    ":label: zero-determinant\n",
    "\n",
    "Complete the following function by assigning to the variable`roots` a single root when the discriminant is close to zero relative to `b**2` and `4ac`, using the relative tolerence `rel_tol` that defaults to `1e-9`. For example, if `(a, b, c) == (1, -2, 1)`, then `roots` should be assigned the value `1.0` instead of `1.0, 1.0`.\n",
    "\n",
    "::::"
   ]
  },
  {
   "cell_type": "code",
   "execution_count": null,
   "id": "2632b820",
   "metadata": {
    "deletable": false,
    "nbgrader": {
     "cell_type": "code",
     "checksum": "9403eae6cb8a33f9531b80ce711ddcb2",
     "grade": false,
     "grade_id": "zero_determininant",
     "locked": false,
     "schema_version": 3,
     "solution": true,
     "task": false
    },
    "slideshow": {
     "slide_type": "fragment"
    },
    "tags": [
     "remove-output"
    ]
   },
   "outputs": [],
   "source": [
    "def get_roots(a, b, c, *, rel_tol=1e-9):\n",
    "    if iszero(d:=((y:=b**2)-(z:=4*a*c)), y, z, rel_tol=rel_tol):\n",
    "    # YOUR CODE HERE\n",
    "    raise NotImplementedError\n",
    "    return roots"
   ]
  },
  {
   "cell_type": "code",
   "execution_count": null,
   "id": "77a006b4",
   "metadata": {
    "code_folding": [
     0
    ],
    "deletable": false,
    "editable": false,
    "nbgrader": {
     "cell_type": "code",
     "checksum": "368be76fa0f6717b7788571d55574d00",
     "grade": true,
     "grade_id": "test-zero_determinant",
     "locked": true,
     "points": 1,
     "schema_version": 3,
     "solution": false,
     "task": false
    },
    "tags": [
     "hide-input",
     "remove-output"
    ]
   },
   "outputs": [],
   "source": [
    "# tests\n",
    "assert np.isclose(get_roots(1, 1, 0), (-1.0, 0.0)).all()\n",
    "assert np.isclose(get_roots(1, 0, 0), 0.0).all()\n",
    "assert np.isclose(get_roots(1, 1e-9, 0), 0.0).all()\n",
    "assert np.isclose(get_roots(1, 1e-6, 0), (-1e-06, 0.0)).all()"
   ]
  },
  {
   "cell_type": "code",
   "execution_count": null,
   "id": "540cabdc",
   "metadata": {
    "code_folding": [
     0
    ],
    "deletable": false,
    "editable": false,
    "nbgrader": {
     "cell_type": "code",
     "checksum": "ea74289e50129048beb923088ce499c8",
     "grade": true,
     "grade_id": "hidden_test-zero_determinant",
     "locked": true,
     "points": 1,
     "schema_version": 3,
     "solution": false,
     "task": false
    },
    "tags": [
     "remove-cell"
    ]
   },
   "outputs": [],
   "source": [
    "# hidden tests"
   ]
  },
  {
   "cell_type": "markdown",
   "id": "59da0162",
   "metadata": {
    "slideshow": {
     "slide_type": "fragment"
    }
   },
   "source": [
    "::::{exercise}\n",
    ":label: ex:isclose\n",
    "\n",
    "To check whether the root is repeated, why is it better to use `iszero(d:=((y:=b**2)-(z:=4*a*c)), y, z, rel_tol=rel_tol)` instead of `d:=((y:=b**2)-(z:=4*a*c) == 0`?\n",
    "\n",
    "::::"
   ]
  },
  {
   "cell_type": "markdown",
   "id": "d734d8e6",
   "metadata": {
    "deletable": false,
    "nbgrader": {
     "cell_type": "markdown",
     "checksum": "12889805830e3af64988ae0de141f1b7",
     "grade": true,
     "grade_id": "isclose",
     "locked": false,
     "points": 1,
     "schema_version": 3,
     "solution": true,
     "task": false
    },
    "slideshow": {
     "slide_type": "fragment"
    }
   },
   "source": [
    "YOUR ANSWER HERE"
   ]
  },
  {
   "cell_type": "markdown",
   "id": "009d1fa8",
   "metadata": {
    "slideshow": {
     "slide_type": "slide"
    }
   },
   "source": [
    "## Linear equation"
   ]
  },
  {
   "cell_type": "markdown",
   "id": "05be7f8e",
   "metadata": {
    "slideshow": {
     "slide_type": "fragment"
    }
   },
   "source": [
    "::::{exercise}\n",
    ":label: ex:zero-a\n",
    "\n",
    "Give the name of the error that the formula {eq}`roots` implemented in Python will raise when $a=0$. Explain whether it is a runtime error or not.\n",
    "\n",
    "::::"
   ]
  },
  {
   "cell_type": "markdown",
   "id": "79cc9ec5",
   "metadata": {
    "deletable": false,
    "nbgrader": {
     "cell_type": "markdown",
     "checksum": "2834199d60471cb799ae58c813746d4a",
     "grade": true,
     "grade_id": "zero-a",
     "locked": false,
     "points": 1,
     "schema_version": 3,
     "solution": true,
     "task": false
    },
    "slideshow": {
     "slide_type": "fragment"
    }
   },
   "source": [
    "YOUR ANSWER HERE"
   ]
  },
  {
   "cell_type": "markdown",
   "id": "e42a44b0",
   "metadata": {},
   "source": [
    "Nevertheless, the quadratic equation remains valid:\n",
    "\n",
    "$$\n",
    "bx + c=0,\n",
    "$$\n",
    "\n",
    "the root of which is $x = -\\frac{c}b$."
   ]
  },
  {
   "cell_type": "markdown",
   "id": "efd9797a",
   "metadata": {},
   "source": [
    "::::{exercise}\n",
    ":label: linear\n",
    "\n",
    "Improve the function `get_roots` to return the root $-\\frac{c}{b}$ when $a$ is close to zero relative to the other coefficients using the relative tolerance `rel_tol`.\n",
    "\n",
    "::::"
   ]
  },
  {
   "cell_type": "code",
   "execution_count": null,
   "id": "c7cc14c6",
   "metadata": {
    "deletable": false,
    "nbgrader": {
     "cell_type": "code",
     "checksum": "bdc2b08d18dec1173e665ce6b522313a",
     "grade": false,
     "grade_id": "linear",
     "locked": false,
     "schema_version": 3,
     "solution": true,
     "task": false
    },
    "tags": [
     "remove-output"
    ]
   },
   "outputs": [],
   "source": [
    "def get_roots(a, b, c, *, rel_tol=1e-9):\n",
    "    # YOUR CODE HERE\n",
    "    raise NotImplementedError\n",
    "    return roots"
   ]
  },
  {
   "cell_type": "code",
   "execution_count": null,
   "id": "389b999f",
   "metadata": {
    "code_folding": [],
    "deletable": false,
    "editable": false,
    "nbgrader": {
     "cell_type": "code",
     "checksum": "cc2f2a8fdbfa61094c61c5e02a4b1551",
     "grade": true,
     "grade_id": "test-linear",
     "locked": true,
     "points": 1,
     "schema_version": 3,
     "solution": false,
     "task": false
    },
    "tags": [
     "remove-output",
     "hide-input"
    ]
   },
   "outputs": [],
   "source": [
    "# tests\n",
    "assert np.isclose(get_roots(1, 1, 0), (-1.0, 0.0)).all()\n",
    "assert np.isclose(get_roots(1, 0, 0), 0.0).all()\n",
    "assert np.isclose(get_roots(1, -2, 1), 1.0).all()\n",
    "assert np.isclose(get_roots(0, -2, 1), 0.5).all()"
   ]
  },
  {
   "cell_type": "code",
   "execution_count": null,
   "id": "1152d3ae",
   "metadata": {
    "code_folding": [
     0
    ],
    "deletable": false,
    "editable": false,
    "nbgrader": {
     "cell_type": "code",
     "checksum": "0b77d8b49baaccd677119a45a0a2a230",
     "grade": true,
     "grade_id": "hidden_test-linear",
     "locked": true,
     "points": 1,
     "schema_version": 3,
     "solution": false,
     "task": false
    },
    "tags": [
     "remove-cell"
    ]
   },
   "outputs": [],
   "source": [
    "# hidden tests"
   ]
  },
  {
   "cell_type": "markdown",
   "id": "0d508cad",
   "metadata": {},
   "source": [
    "## Degenerate cases"
   ]
  },
  {
   "cell_type": "markdown",
   "id": "fe21856b",
   "metadata": {},
   "source": [
    "What if $a=b=0$? In this case, the equation becomes\n",
    "\n",
    "$$\n",
    "c = 0\n",
    "$$\n",
    "which is always satisfied if $c=0$ but never satisfied if $c\\neq 0$."
   ]
  },
  {
   "cell_type": "markdown",
   "id": "abb580a3",
   "metadata": {
    "slideshow": {
     "slide_type": "fragment"
    }
   },
   "source": [
    "::::{exercise}\n",
    ":label: degenerate\n",
    "\n",
    "Improve the function `get_roots` to return root(s) under all the following cases:\n",
    "- If $a=0$ and $b\\neq 0$, assign `roots` to the single root $-\\frac{c}{b}$. \n",
    "- If $a=b=0$ and $c\\neq 0$, assign `roots` to `None`.\n",
    "- If $a=b=c=0$, there are infinitely many roots. Assign to `roots` the tuple `-float('inf'), float('inf')`.  \n",
    "    Note that `float('inf')` converts the string `'inf'` to a floating point value that represents $\\infty$.\n",
    "\n",
    "The above checks of whether a coefficient is `0` should be relative to other coefficients with a relative tolerance of `rel_tol`.\n",
    "\n",
    ":::{caution}\n",
    "- `None` is a *Python keyword* that refers to a special object. You should *NOT* regard it as a string or quote it like `\"None\"`.\n",
    "- `float('inf')` converts the string `'inf'` to a floating point number no smaller than any other floating point numbers. You should *NOT* write `inf`, which needs not refer to `float('inf')`.\n",
    ":::\n",
    "\n",
    "::::"
   ]
  },
  {
   "cell_type": "code",
   "execution_count": null,
   "id": "9dd30049",
   "metadata": {
    "deletable": false,
    "nbgrader": {
     "cell_type": "code",
     "checksum": "737a101b18ab831da206166821db1fe8",
     "grade": false,
     "grade_id": "degenerate",
     "locked": false,
     "schema_version": 3,
     "solution": true,
     "task": false
    },
    "slideshow": {
     "slide_type": "skip"
    },
    "tags": [
     "remove-output"
    ]
   },
   "outputs": [],
   "source": [
    "def get_roots(a, b, c, *, rel_tol=1e-9):\n",
    "    # YOUR CODE HERE\n",
    "    raise NotImplementedError\n",
    "    return roots"
   ]
  },
  {
   "cell_type": "code",
   "execution_count": null,
   "id": "0b41a6f2",
   "metadata": {
    "code_folding": [
     0
    ],
    "deletable": false,
    "editable": false,
    "nbgrader": {
     "cell_type": "code",
     "checksum": "d9a28fdc2a389dd0c7c64957c4c97828",
     "grade": true,
     "grade_id": "test-degenerate",
     "locked": true,
     "points": 1,
     "schema_version": 3,
     "solution": false,
     "task": false
    },
    "slideshow": {
     "slide_type": "skip"
    },
    "tags": [
     "hide-input",
     "remove-output"
    ]
   },
   "outputs": [],
   "source": [
    "# tests\n",
    "assert np.isclose(get_roots(1, 1, 0), (-1.0, 0.0)).all()\n",
    "assert np.isclose(get_roots(1, 0, 0), 0.0).all()\n",
    "assert np.isclose(get_roots(1, -2, 1), 1.0).all()\n",
    "assert np.isclose(get_roots(0, -2, 1), 0.5).all()\n",
    "assert np.isclose(get_roots(0, 0, 0), (-float('inf'), float('inf'))).all()\n",
    "assert get_roots(0, 0, 1) is None"
   ]
  },
  {
   "cell_type": "code",
   "execution_count": null,
   "id": "7515874b",
   "metadata": {
    "code_folding": [
     0
    ],
    "deletable": false,
    "editable": false,
    "nbgrader": {
     "cell_type": "code",
     "checksum": "8ee8bbfeb16c1bf80e555537f093154d",
     "grade": true,
     "grade_id": "test_test-degenerate",
     "locked": true,
     "points": 1,
     "schema_version": 3,
     "solution": false,
     "task": false
    },
    "tags": [
     "remove-cell"
    ]
   },
   "outputs": [],
   "source": [
    "# hidden tests"
   ]
  },
  {
   "cell_type": "markdown",
   "id": "e3a4d49b",
   "metadata": {},
   "source": [
    "After you have complete the exercises, you can run your robust solver below:"
   ]
  },
  {
   "cell_type": "code",
   "execution_count": null,
   "id": "a711bcaf",
   "metadata": {
    "code_folding": [
     0
    ],
    "editable": true,
    "slideshow": {
     "slide_type": "-"
    },
    "tags": [
     "remove-output"
    ]
   },
   "outputs": [],
   "source": [
    "# quadratic equations solver\n",
    "@interact(a=(-10, 10, 1), b=(-10, 10, 1), c=(-10, 10, 1))\n",
    "def quadratic_equation_solver(a=1, b=2, c=1):\n",
    "    print(\"Root(s):\", get_roots(a, b, c))"
   ]
  }
 ],
 "metadata": {
  "jupytext": {
   "default_lexer": "ipython3"
  },
  "kernelspec": {
   "display_name": "Python 3 (ipykernel)",
   "language": "python",
   "name": "python3"
  }
 },
 "nbformat": 4,
 "nbformat_minor": 5
}
