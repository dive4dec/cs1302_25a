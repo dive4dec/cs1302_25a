{
 "cells": [
  {
   "cell_type": "markdown",
   "id": "822b37af",
   "metadata": {
    "slideshow": {
     "slide_type": "slide"
    }
   },
   "source": [
    "---\n",
    "title: Parsing and Validation\n",
    "skip-execution: true\n",
    "---"
   ]
  },
  {
   "cell_type": "markdown",
   "id": "baa9c3c0",
   "metadata": {},
   "source": [
    "::::{attention}\n",
    "\n",
    "This notebook is optional and NOT required for any course assessment activities. Lab tutor may go through them if time is available.\n",
    "\n",
    "::::"
   ]
  },
  {
   "cell_type": "code",
   "execution_count": null,
   "id": "1577bd07",
   "metadata": {},
   "outputs": [],
   "source": [
    "import ast\n",
    "from typing import Annotated\n",
    "from ipywidgets import Text, interact\n",
    "from pydantic import Field, ValidationError, validate_call\n",
    "\n",
    "%load_ext divewidgets"
   ]
  },
  {
   "cell_type": "code",
   "execution_count": null,
   "id": "70a057ea",
   "metadata": {},
   "outputs": [],
   "source": [
    "if not input('Load JupyterAI? [Y/n]').lower()=='n':\n",
    "    %reload_ext jupyter_ai"
   ]
  },
  {
   "cell_type": "markdown",
   "id": "dc31cba4",
   "metadata": {},
   "source": [
    "## Parsing User Input"
   ]
  },
  {
   "cell_type": "markdown",
   "id": "50988e9f",
   "metadata": {},
   "source": [
    "A parser is a crucial component that analyzes the structure of data, often in the form of text, and converts it into a more meaningful format. For instance, when executing a Python program, the Python interpreter first parses the program's source code into an Abstract Syntax Tree (AST)."
   ]
  },
  {
   "cell_type": "code",
   "execution_count": null,
   "id": "d7beaf36",
   "metadata": {},
   "outputs": [],
   "source": [
    "print(ast.dump(ast.parse('q = a/b if b else \"undefined\"', \"_\", \"exec\"), indent=4))"
   ]
  },
  {
   "cell_type": "markdown",
   "id": "ffd185ef",
   "metadata": {},
   "source": [
    "This involves breaking down the source code into individual components and interpreting their roles. E.g.,\n",
    "\n",
    "- `q` is understood as a [variable name][name] for storing a value, while `a` and `b` are also variable names but for loading values; and\n",
    "- `\"undefined\"` is regarded as a [contant string literal][string]."
   ]
  },
  {
   "cell_type": "markdown",
   "id": "56472e4e",
   "metadata": {},
   "source": [
    "The processs is called tokenization, which is performed by the so-called lexer. The parser composes a hierarchical structure that accurately represents the operations and their execution flow. E.g., the Python code\n",
    "\n",
    "```python\n",
    "... = .../... if ... else ...\n",
    "```\n",
    "is translated to the tree structure:\n",
    "\n",
    "```\n",
    "...\n",
    "        Assign(\n",
    "            targets=...\n",
    "            value=IfExp(\n",
    "                test=...\n",
    "                body=BinOp(\n",
    "                    left=...\n",
    "                    op=Div(),\n",
    "                    right=...\n",
    "                orelse=...\n",
    "...\n",
    "```\n",
    "\n",
    "In other words, the division operation `Div` needs to be completed first so that the conditional expression `IfExp` can be completed, which then allows the assignment operation `Assign` to complete. As the language grows, the logic involved in parsing the program becomes more sophisticated. For more details, see the [ANTLR video](https://www.youtube.com/watch?v=OAoA3E-cyug).\n",
    "\n",
    "[name]: https://docs.python.org/3/library/ast.html#variables\n",
    "[string]: https://docs.python.org/3/library/ast.html#literals"
   ]
  },
  {
   "cell_type": "markdown",
   "id": "7efae399",
   "metadata": {},
   "source": [
    "### Parsing Boolean Values"
   ]
  },
  {
   "cell_type": "markdown",
   "id": "10cb31c3",
   "metadata": {},
   "source": [
    "The following is a very simple parser that can understand yes/no strings in user input and convert them to their corresponding boolean values."
   ]
  },
  {
   "cell_type": "code",
   "execution_count": null,
   "id": "baf0c4d0",
   "metadata": {},
   "outputs": [],
   "source": [
    "@interact(x=Text('yes'))\n",
    "def parse(x):\n",
    "    s = x.lower()\n",
    "    match s:\n",
    "        case \"yes\" | \"y\":\n",
    "            return True\n",
    "        case \"no\" | \"n\":\n",
    "            return False\n",
    "        case _:\n",
    "            return string"
   ]
  },
  {
   "cell_type": "markdown",
   "id": "1b6ce660",
   "metadata": {},
   "source": [
    "The matching is case in-sensitive:"
   ]
  },
  {
   "cell_type": "code",
   "execution_count": null,
   "id": "3fd8ded5",
   "metadata": {},
   "outputs": [],
   "source": [
    "parse(\"yes\"), parse(\"n\"), parse(\"Y\"), parse(\"No\")"
   ]
  },
  {
   "cell_type": "markdown",
   "id": "d5fc9e7f",
   "metadata": {},
   "source": [
    "Instead of using the `if` statement, the program uses the [`match` statement](https://docs.python.org/3/whatsnew/3.10.html#pep-634-structural-pattern-matching) introduced in Python 3.10. The following flowchart shows roughly how the statement is executed:"
   ]
  },
  {
   "cell_type": "code",
   "execution_count": null,
   "id": "94b5e416",
   "metadata": {},
   "outputs": [],
   "source": [
    "%%flowchart\n",
    "st=>start: Start\n",
    "suite0=>operation: s = x.lower()\n",
    "cond1=>condition: s == \"yes\" or s == \"y\"\n",
    "cond2=>condition: s == \"no\" or s == \"n\"\n",
    "suite1=>inputoutput: return True\n",
    "suite2=>inputoutput: return False\n",
    "suite3=>inputoutput: return x\n",
    "e=>end\n",
    "\n",
    "st(right)->suite0(right)->cond1\n",
    "cond1(yes)->suite1->e\n",
    "cond1(no)->cond2\n",
    "cond2(yes)->suite2->e\n",
    "cond2(no)->suite3->e"
   ]
  },
  {
   "cell_type": "markdown",
   "id": "419fa942",
   "metadata": {},
   "source": [
    "- Initially, `s = string.lower()` obtains the string in lowercase.\n",
    "- In the first case of the match statement, `\"yes\"` or `\"y\"` is converted to the boolean value `True`.\n",
    "- In the second case of the match statement, `\"no\"` or `\"n\"` is converted to the boolean value `False`."
   ]
  },
  {
   "cell_type": "markdown",
   "id": "604d089f",
   "metadata": {},
   "source": [
    "::::{exercise}\n",
    ":label: ex:parse-boolean\n",
    "\n",
    "Modify the program so that, additionally,\n",
    "\n",
    "- `\"true\"` or `\"t\"` is parsed as `True`, and\n",
    "- `\"false\"` or `\"f\"` is parse as `False`.\n",
    "\n",
    "The comparison should be case insensitive.\n",
    "\n",
    "::::"
   ]
  },
  {
   "cell_type": "code",
   "execution_count": null,
   "id": "12eb9891",
   "metadata": {
    "deletable": false,
    "nbgrader": {
     "cell_type": "code",
     "checksum": "8fc496cf3830db7391420bf88fa874c8",
     "grade": false,
     "grade_id": "parse-boolean",
     "locked": false,
     "schema_version": 3,
     "solution": true,
     "task": false
    }
   },
   "outputs": [],
   "source": [
    "@interact(x=Text('T'))\n",
    "def parse(x):\n",
    "    # YOUR CODE HERE\n",
    "    raise NotImplementedError"
   ]
  },
  {
   "cell_type": "code",
   "execution_count": null,
   "id": "de01e749",
   "metadata": {
    "deletable": false,
    "editable": false,
    "nbgrader": {
     "cell_type": "code",
     "checksum": "231cc12735dd236fa83d0f5555322396",
     "grade": true,
     "grade_id": "test_parse-boolean",
     "locked": true,
     "points": 0,
     "schema_version": 3,
     "solution": false,
     "task": false
    }
   },
   "outputs": [],
   "source": [
    "# tests\n",
    "assert parse(\"TRUE\") is True\n",
    "assert parse(\"Y\") is True\n",
    "assert parse(\"t\") is True\n",
    "assert parse(\"False\") is False\n",
    "assert parse(\"F\") is False\n",
    "assert parse(\"n\") is False\n",
    "assert parse(\"TrUE\") is True\n",
    "assert parse(\"No\") is False"
   ]
  },
  {
   "cell_type": "markdown",
   "id": "d7b63fe4",
   "metadata": {},
   "source": [
    "### Parsing Numbers"
   ]
  },
  {
   "cell_type": "markdown",
   "id": "3c475ff0",
   "metadata": {},
   "source": [
    "It is desirable to parse numbers as well. There is indeed a way to check whether a string consists only of digits:"
   ]
  },
  {
   "cell_type": "code",
   "execution_count": null,
   "id": "d436173f",
   "metadata": {},
   "outputs": [],
   "source": [
    "str.isdigit(\"1302\"), \"CS1302\".isdigit()"
   ]
  },
  {
   "cell_type": "markdown",
   "id": "1351f68f",
   "metadata": {},
   "source": [
    "Unfortunately, the function failed to detect negative integers:"
   ]
  },
  {
   "cell_type": "code",
   "execution_count": null,
   "id": "cba94205",
   "metadata": {},
   "outputs": [],
   "source": [
    "\"-12\".isdigit()"
   ]
  },
  {
   "cell_type": "markdown",
   "id": "71790040",
   "metadata": {},
   "source": [
    "The following function resolves the issue using the [`try` statement](https://docs.python.org/3/reference/compound_stmts.html#try). It even works when `x` is of type `int`."
   ]
  },
  {
   "cell_type": "code",
   "execution_count": null,
   "id": "f3771d17",
   "metadata": {},
   "outputs": [],
   "source": [
    "def isint(x):\n",
    "    \"\"\"\n",
    "    Returns True if x can be converted to an integer, and False otherwise.\n",
    "    \"\"\"\n",
    "    try:\n",
    "        int(x)\n",
    "    except ValueError:\n",
    "        return False\n",
    "    return True\n",
    "\n",
    "\n",
    "isint(\"CS1302\"), isint(\"1302\"), isint(\"-1302\"), isint(-1302)"
   ]
  },
  {
   "cell_type": "markdown",
   "id": "e4b2fd4b",
   "metadata": {},
   "source": [
    "How does it work? `isint(x)` would describe its implementation as follows:\n",
    "> I `try` to convert `x` to `int` and `return True` `except` when `ValueError` is raised, in which case I `return False`[^gramar]\n",
    "\n",
    "This is illustrated by the following flowchart.\n",
    "\n",
    "[^gramar]: Why use first person narration? Just to avoid error like `tries` (a syntax error in Python), or `try`s (a gramatical mistake)."
   ]
  },
  {
   "cell_type": "code",
   "execution_count": null,
   "id": "0e97d2ad",
   "metadata": {},
   "outputs": [],
   "source": [
    "%%flowchart\n",
    "st=>start: Start\n",
    "cond1=>condition: ValueError\n",
    "suite1=>operation: int(x)\n",
    "suite2=>inputoutput: return True\n",
    "suite3=>inputoutput: return False\n",
    "e=>end\n",
    "\n",
    "st(right)->suite1(right)->cond1\n",
    "cond1(yes)->suite3->e\n",
    "cond1(no)->suite2->e"
   ]
  },
  {
   "cell_type": "markdown",
   "id": "738604f9",
   "metadata": {},
   "source": [
    "::::{exercise}\n",
    ":label: ex:parse\n",
    "\n",
    "Improve the `parse` function so that it parses the input argument `x` by `try`ing to convert the `x` as follows in order:\n",
    "- `int(x)`\n",
    "- `float(x)`\n",
    "- `complex(x)`\n",
    "\n",
    "It should return the value of the first possible conversion without `ValueError`. If all of the conversions fail, the parser should behave in the same way as the one implemented in [](#ex:parse-boolean).\n",
    "\n",
    "\n",
    "::::"
   ]
  },
  {
   "cell_type": "code",
   "execution_count": null,
   "id": "eff3891c",
   "metadata": {
    "deletable": false,
    "nbgrader": {
     "cell_type": "code",
     "checksum": "a043ba2e4bbe5c0578aabbae6b0f1728",
     "grade": false,
     "grade_id": "parse",
     "locked": false,
     "schema_version": 3,
     "solution": true,
     "task": false
    }
   },
   "outputs": [],
   "source": [
    "@interact(x=Text(\"-13+0.2j\"))\n",
    "def parse(x):\n",
    "    # YOUR CODE HERE\n",
    "    raise NotImplementedError"
   ]
  },
  {
   "cell_type": "code",
   "execution_count": null,
   "id": "80704a94",
   "metadata": {
    "deletable": false,
    "editable": false,
    "nbgrader": {
     "cell_type": "code",
     "checksum": "f62b3ba8a2ed0d29f16993a42535e887",
     "grade": true,
     "grade_id": "test_parse",
     "locked": true,
     "points": 0,
     "schema_version": 3,
     "solution": false,
     "task": false
    }
   },
   "outputs": [],
   "source": [
    "# tests\n",
    "assert (_:=parse(\"1302\")) == 1302 and isinstance(_, int)\n",
    "assert (_:=parse(\"-13.02\")) == -13.02 and isinstance(_, float)\n",
    "assert (_:=parse(\"-13+0.2j\")) == -13+0.2j and isinstance(_, complex)\n",
    "assert parse(\"yes\") is True\n",
    "assert parse(\"N\") is False\n",
    "assert (_:=parse(\"-1302\")) == -1302 and isinstance(_, int)\n",
    "assert (_:=parse(\"inf\")) == float(\"inf\") and isinstance(_, float)"
   ]
  },
  {
   "cell_type": "markdown",
   "id": "2981dddc",
   "metadata": {},
   "source": [
    "## Data Validation"
   ]
  },
  {
   "cell_type": "markdown",
   "id": "d427e19a",
   "metadata": {},
   "source": [
    "If you have implemented your parser correctly in the last section, the [`interact` function of `ipywidgets`](https://ipywidgets.readthedocs.io/en/latest/examples/Using%20Interact.html#using-interact) allows you to play with the function interactively:"
   ]
  },
  {
   "cell_type": "code",
   "execution_count": null,
   "id": "71c7c563",
   "metadata": {},
   "outputs": [],
   "source": [
    "@interact(a=Text(\"3\"), b=Text(\"4\"))\n",
    "def length_of_hypotenuse(a, b):\n",
    "    a, b = parse(a), parse(b)\n",
    "    c = (a**2 + b**2) ** (0.5)\n",
    "    return c"
   ]
  },
  {
   "cell_type": "markdown",
   "id": "5a1b6d3c",
   "metadata": {},
   "source": [
    "Without the parser, i.e., with the line `a, b = parse(a), parse(b)` removed, the above code will fail because `a` and `b` are passed to `length_of_hypotenuse` as string values, not numbers, and exponentiation such as `a ** 2` is not implemented for string value by default. With the parser, however, you can even call the function with integer arguments:"
   ]
  },
  {
   "cell_type": "code",
   "execution_count": null,
   "id": "020febec",
   "metadata": {},
   "outputs": [],
   "source": [
    "length_of_hypotenuse(3, 4)"
   ]
  },
  {
   "cell_type": "markdown",
   "id": "9d02399c",
   "metadata": {},
   "source": [
    "::::{seealso} How does `interact` work?\n",
    ":class: dropdown\n",
    "\n",
    "The `@interact` line is a decorator you will learn later in the course. It automatically create a user interface with two text input `a` and `b`, and continuously pass their updated values as arguments to `length_of_hypotenuse`.\n",
    "\n",
    "::::"
   ]
  },
  {
   "cell_type": "markdown",
   "id": "011e9a63",
   "metadata": {},
   "source": [
    "### Assertion"
   ]
  },
  {
   "cell_type": "markdown",
   "id": "2cef6402",
   "metadata": {},
   "source": [
    "Interestingly, the function does not fail even if the input arguments are negative numbers."
   ]
  },
  {
   "cell_type": "code",
   "execution_count": null,
   "id": "caad7dcc",
   "metadata": {},
   "outputs": [],
   "source": [
    "a, b = -3, 4\n",
    "length_of_hypotenuse(a, b)"
   ]
  },
  {
   "cell_type": "markdown",
   "id": "79f8f9bc",
   "metadata": {},
   "source": [
    "::::{note} Is it a good idea to be able to handle negative edge length?\n",
    ":class: dropdown\n",
    "\n",
    "Imagine  that the length `a` was computed incorrectly to a negative value, but the error goes undetected as `length_of_hypotenuse` does not raise any error. This could lead to a more serious issues if some critical applications depend on the calculation.\n",
    "\n",
    "::::"
   ]
  },
  {
   "cell_type": "markdown",
   "id": "73da6059",
   "metadata": {},
   "source": [
    "Instead of allowing the input arguments to be any values of any type, it is often better to validate the arguments and raise an error if the values or types are unexpected. We can achieve this using the [`assert` statement](https://docs.python.org/3/reference/simple_stmts.html#the-assert-statement):"
   ]
  },
  {
   "cell_type": "code",
   "execution_count": null,
   "id": "1c2ba11f",
   "metadata": {},
   "outputs": [],
   "source": [
    "%%optlite -h 400\n",
    "def length_of_hypotenuse(a, b):\n",
    "    assert a >= 0 and b >= 0\n",
    "    c = (a**2 + b**2) ** (0.5)\n",
    "    return c\n",
    "\n",
    "\n",
    "length_of_hypotenuse(-3, 4)"
   ]
  },
  {
   "cell_type": "markdown",
   "id": "69e5e897",
   "metadata": {},
   "source": [
    "Validation is the process of checking whether a desired condition holds before further processing to avoid costly mistakes. We have been using the `assert` statements for validation. For instance, you may validate the notebook before submission to lower the chance of careless mistakes. After the submission, there are also hidden tests to validate whether the submitted programs are engineered to work only on the visible test cases."
   ]
  },
  {
   "cell_type": "markdown",
   "id": "a33ae13d",
   "metadata": {},
   "source": [
    "Our function is still imperfect. For instance, it allows edge length to be infinite:"
   ]
  },
  {
   "cell_type": "markdown",
   "id": "8598f4e5",
   "metadata": {},
   "source": [
    "Note that if the input argument is too large, the exponentiation function will raise an `OverflowError`:"
   ]
  },
  {
   "cell_type": "code",
   "execution_count": null,
   "id": "43f2334c",
   "metadata": {},
   "outputs": [],
   "source": [
    "%%optlite -h 500\n",
    "def length_of_hypotenuse(a, b):\n",
    "    assert a >= 0 and b >= 0\n",
    "    c = (a**2 + b**2) ** (0.5)\n",
    "    return c\n",
    "\n",
    "\n",
    "c = length_of_hypotenuse(3e300, 4)"
   ]
  },
  {
   "cell_type": "markdown",
   "id": "92dc35f1",
   "metadata": {},
   "source": [
    "However, sometimes, no error is raised even if the input is too large:"
   ]
  },
  {
   "cell_type": "code",
   "execution_count": null,
   "id": "da8182ad",
   "metadata": {},
   "outputs": [],
   "source": [
    "def length_of_hypotenuse(a, b):\n",
    "    assert a >= 0 and b >= 0\n",
    "    c = (a**2 + b**2) ** (0.5)\n",
    "    return c\n",
    "\n",
    "\n",
    "length_of_hypotenuse(3e400, 4), length_of_hypotenuse(3, 4e400), length_of_hypotenuse(3e400, 4e400)"
   ]
  },
  {
   "cell_type": "markdown",
   "id": "23568dd5",
   "metadata": {},
   "source": [
    "::::{exercise}\n",
    ":label: ex:assert\n",
    "\n",
    "Improve the function to raise an `AssertionError` (not `OverflowError`) if the input `a` or `b`, or the output length of the hypotenuse overflows to infinite `float('inf')`.\n",
    "\n",
    ":::{hint}\n",
    ":class: dropdown\n",
    "\n",
    "Use `a * a` instead of `a ** 2` to avoid `OverflowError`.\n",
    "\n",
    ":::\n",
    "\n",
    "::::"
   ]
  },
  {
   "cell_type": "code",
   "execution_count": null,
   "id": "8c9227fa",
   "metadata": {
    "deletable": false,
    "nbgrader": {
     "cell_type": "code",
     "checksum": "da6fe1e994cbee6bbe41930e427aa519",
     "grade": false,
     "grade_id": "assert",
     "locked": false,
     "schema_version": 3,
     "solution": true,
     "task": false
    }
   },
   "outputs": [],
   "source": [
    "def length_of_hypotenuse(a, b):\n",
    "    # YOUR CODE HERE\n",
    "    raise NotImplementedError\n",
    "    return c"
   ]
  },
  {
   "cell_type": "code",
   "execution_count": null,
   "id": "b0ebce97",
   "metadata": {
    "deletable": false,
    "editable": false,
    "nbgrader": {
     "cell_type": "code",
     "checksum": "00649ce93304892360fb8993df53da14",
     "grade": true,
     "grade_id": "test_assert",
     "locked": true,
     "points": 0,
     "schema_version": 3,
     "solution": false,
     "task": false
    }
   },
   "outputs": [],
   "source": [
    "# tests\n",
    "def test_AE(a, b):\n",
    "    try:\n",
    "        c = length_of_hypotenuse(a, b)\n",
    "        return max(a, b, c) < float(\"inf\")\n",
    "    except AssertionError:\n",
    "        return True\n",
    "\n",
    "\n",
    "assert length_of_hypotenuse(3, 4) == 5\n",
    "assert test_AE(3, 4)\n",
    "assert test_AE(3e300, 4)\n",
    "assert test_AE(3e400, 4)\n",
    "assert test_AE(3, 4e400)\n",
    "assert test_AE(3e400, 4e400)"
   ]
  },
  {
   "cell_type": "markdown",
   "id": "8b52c664",
   "metadata": {},
   "source": [
    "### Type Hinting and Validation"
   ]
  },
  {
   "cell_type": "markdown",
   "id": "5b8d62a6",
   "metadata": {},
   "source": [
    "Instead of manually checking input arguments, you can use the packages [Pydantic](https://docs.pydantic.dev/latest/concepts/types/#custom-types) and [Typing](https://docs.python.org/3/library/typing.html#typing.Annotated):"
   ]
  },
  {
   "cell_type": "code",
   "execution_count": null,
   "id": "8ac6653a",
   "metadata": {},
   "outputs": [],
   "source": [
    "NonNegative = Annotated[float, Field(ge=0)]\n",
    "\n",
    "\n",
    "@interact(a=Text(\"3\"), b=Text(\"4\"))\n",
    "@validate_call(validate_return=True)\n",
    "def length_of_hypotenuse(a: NonNegative, b: NonNegative) -> NonNegative:\n",
    "    \"\"\"\n",
    "    Return the length of hypotenuse.\n",
    "    \"\"\"\n",
    "    c = (a * a + b * b) ** (0.5)\n",
    "    return c"
   ]
  },
  {
   "cell_type": "markdown",
   "id": "82e6c3d2",
   "metadata": {},
   "source": [
    "Notice that the string inputs `a` and `b` are automatically converted to `float`."
   ]
  },
  {
   "cell_type": "code",
   "execution_count": null,
   "id": "dc57adaa",
   "metadata": {},
   "outputs": [],
   "source": [
    "length_of_hypotenuse(\"3\", 4)"
   ]
  },
  {
   "cell_type": "markdown",
   "id": "c3cb9b0b",
   "metadata": {},
   "source": [
    "::::{note} How does the code work?\n",
    "\n",
    "To understand the code, note that:\n",
    "\n",
    "- The following line defines a custom type `NonNegative` for non-negative numbers using `Annotated` from `typing` and `Field` from `pydantic`:\n",
    "  ```python\n",
    "  NonNegative = Annotated[float, Field(ge=0)]\n",
    "  ```\n",
    "- The following line uses type hints to specify the expected types for the function’s input arguments and return value:\n",
    "  ```python\n",
    "  def length_of_hypotenuse(a: NonNegative, b: NonNegative) -> NonNegative\n",
    "  ```\n",
    "- The following line uses the decorator `validate_call` to ensure that the function raises a validation error if the input arguments or return value are invalid:\n",
    "  ```python\n",
    "  @validate_call(validate_return=True)\n",
    "  ```\n",
    "\n",
    "::::"
   ]
  },
  {
   "cell_type": "markdown",
   "id": "bb71db5c",
   "metadata": {},
   "source": [
    "However, the above code does not raise any `ValidationError` if the input `a` or `b`, or the output length of the hypotenuse overflows to `float(\"inf\")`:"
   ]
  },
  {
   "cell_type": "code",
   "execution_count": null,
   "id": "5fcc74d6",
   "metadata": {},
   "outputs": [],
   "source": [
    "length_of_hypotenuse(3e400, 4)"
   ]
  },
  {
   "cell_type": "markdown",
   "id": "0600552a",
   "metadata": {},
   "source": [
    "::::{exercise}\n",
    ":label: ex:validation\n",
    "\n",
    "To fix the above issue, define a custom type called `NonNegativeFinite` for non-negative finite numbers using `Annotated` from `typing` and `Field` from `pydantic`.\n",
    "\n",
    "::::"
   ]
  },
  {
   "cell_type": "code",
   "execution_count": null,
   "id": "c1068c22",
   "metadata": {
    "deletable": false,
    "nbgrader": {
     "cell_type": "code",
     "checksum": "af385badc51566e682cafb54f26b7428",
     "grade": false,
     "grade_id": "finite",
     "locked": false,
     "schema_version": 3,
     "solution": true,
     "task": false
    }
   },
   "outputs": [],
   "source": [
    "# YOUR CODE HERE\n",
    "raise NotImplementedError\n",
    "\n",
    "\n",
    "@interact(a=Text(\"3\"), b=Text(\"4\"))\n",
    "@validate_call(validate_return=True)\n",
    "def length_of_hypotenuse(\n",
    "    a: NonNegativeFinite, b: NonNegativeFinite\n",
    ") -> NonNegativeFinite:\n",
    "    \"\"\"\n",
    "    Return the length of hypotenuse.\n",
    "    \"\"\"\n",
    "    c = (a * a + b * b) ** (0.5)\n",
    "    return c"
   ]
  },
  {
   "cell_type": "code",
   "execution_count": null,
   "id": "8b6eac3e",
   "metadata": {
    "deletable": false,
    "editable": false,
    "nbgrader": {
     "cell_type": "code",
     "checksum": "17b02d1bccbcdf7db1eb083fba5b342a",
     "grade": true,
     "grade_id": "test_finite",
     "locked": true,
     "points": 0,
     "schema_version": 3,
     "solution": false,
     "task": false
    }
   },
   "outputs": [],
   "source": [
    "# test\n",
    "def test_VE(a, b):\n",
    "    try:\n",
    "        c = length_of_hypotenuse(a, b)\n",
    "        return max(a, b, c) < float(\"inf\")\n",
    "    except ValidationError:\n",
    "        return True\n",
    "\n",
    "assert test_AE(3, 4)\n",
    "assert test_VE(3e300, 4)\n",
    "assert test_VE(3e400, 4)\n",
    "assert test_VE(3, 4e400)\n",
    "assert test_VE(3e400, 4e400)"
   ]
  }
 ],
 "metadata": {
  "jupytext": {
   "default_lexer": "ipython3"
  },
  "kernelspec": {
   "display_name": "Python 3 (ipykernel)",
   "language": "python",
   "name": "python3"
  }
 },
 "nbformat": 4,
 "nbformat_minor": 5
}
