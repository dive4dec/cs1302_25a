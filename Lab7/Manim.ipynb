{
 "cells": [
  {
   "cell_type": "markdown",
   "id": "3f4030a9",
   "metadata": {
    "jp-MarkdownHeadingCollapsed": true
   },
   "source": [
    "---\n",
    "title: Manim\n",
    "---"
   ]
  },
  {
   "cell_type": "code",
   "execution_count": null,
   "id": "b8d09b05",
   "metadata": {},
   "outputs": [],
   "source": [
    "import math\n",
    "\n",
    "from manim import *\n",
    "\n",
    "%reload_ext divewidgets"
   ]
  },
  {
   "cell_type": "code",
   "execution_count": null,
   "id": "f159b17b",
   "metadata": {},
   "outputs": [],
   "source": [
    "if not input('Load JupyterAI? [Y/n]').lower()=='n':\n",
    "    %reload_ext jupyter_ai"
   ]
  },
  {
   "cell_type": "markdown",
   "id": "798635fe",
   "metadata": {},
   "source": [
    "::::{attention}\n",
    "This notebook is optional and NOT required for any course assessment activities. Lab tutor may go through them if time is available.\n",
    "::::"
   ]
  },
  {
   "cell_type": "markdown",
   "id": "963c78f3",
   "metadata": {},
   "source": [
    "[Manim](https://github.com/3b1b/manim) is a powerful **anim**ation engine for **ma**themetics developed by [3Blue1Brown](https://www.youtube.com/channel/UCYO_jab_esuFRV4b17AJtAw). We will use manim to domenstrate how object-oriented programming uses classes and objects to create complex animation."
   ]
  },
  {
   "cell_type": "markdown",
   "id": "d735e0fe",
   "metadata": {},
   "source": [
    "## Creating a scene"
   ]
  },
  {
   "cell_type": "markdown",
   "id": "8559575c",
   "metadata": {},
   "source": [
    "**How to create an animation with `manim`?**"
   ]
  },
  {
   "cell_type": "markdown",
   "id": "5b0ad312",
   "metadata": {},
   "source": [
    "In Jupyter notebook, we can use `%%manim` cell magic:"
   ]
  },
  {
   "cell_type": "code",
   "execution_count": null,
   "id": "8a0f37d9",
   "metadata": {},
   "outputs": [],
   "source": [
    "%%manim -qm --progress_bar=none --disable_caching --flush_cache -v ERROR HelloWorld\n",
    "class HelloWorld(Scene):\n",
    "    def construct(self):\n",
    "        self.play(Write(Text(\"Hello, World!\")))"
   ]
  },
  {
   "cell_type": "markdown",
   "id": "0e90e0ba",
   "metadata": {},
   "source": [
    "In the line starting with `%%`:\n",
    "- `-qm` is the alias for `--quality=m`, which means the video is rendered in medium quality. Change it to `-ql` (`-qh`) for low (high) quality.\n",
    "- `--progress_bar=none --disable_caching --flush_cache -v ERROR` are [additional configurations](https://docs.manim.community/en/stable/tutorials/configuration.html) to turn off some features. \n",
    "- `HelloWorld` is the class to render, which is defined in the body:\n",
    "    ```Python \n",
    "    class HelloWorld(Scene):\n",
    "        def construct(self):\n",
    "            ...\n",
    "    ```"
   ]
  },
  {
   "cell_type": "markdown",
   "id": "5dea8338",
   "metadata": {},
   "source": [
    "**How to define a class?**"
   ]
  },
  {
   "cell_type": "markdown",
   "id": "5b3ba02b",
   "metadata": {},
   "source": [
    "As a toy example, the following [defines a class](https://docs.python.org/3/tutorial/classes.html?highlight=inheritance#class-definition-syntax) `Pet` and its [subclasses](https://docs.python.org/3/tutorial/classes.html?highlight=inheritance#inheritance) `Cat` and `Dog`:"
   ]
  },
  {
   "cell_type": "code",
   "execution_count": null,
   "id": "451453d1",
   "metadata": {},
   "outputs": [],
   "source": [
    "%%optlite -l -h 900\n",
    "class Pet:\n",
    "    kind = \"Pet\"\n",
    "\n",
    "    def __init__(self, name):\n",
    "        self.name = name\n",
    "\n",
    "    def make_sound(self):\n",
    "        pass\n",
    "        \n",
    "    def __str__(self):\n",
    "        return f\"{self.kind} {self.name}\"\n",
    "\n",
    "\n",
    "class Cat(Pet):\n",
    "    kind = \"Cat\"\n",
    "\n",
    "    def make_sound(self):\n",
    "        print(\"Meow\")\n",
    "\n",
    "\n",
    "class Dog(Pet):\n",
    "    kind = \"Dog\"\n",
    "\n",
    "    def make_sound(self):\n",
    "        print(\"Woof\")\n",
    "\n",
    "\n",
    "p1 = Pet(\"Alfie\")\n",
    "p2 = Dog(\"Bobbie\")\n",
    "p3, p4 = Cat(\"Bella\"), Cat(\"Kelly\")\n",
    "print(p1, p2, p3, p4, sep=\", \")\n",
    "p1.make_sound()\n",
    "p2.make_sound()\n",
    "p3.make_sound()"
   ]
  },
  {
   "cell_type": "markdown",
   "id": "39158c25",
   "metadata": {},
   "source": [
    "- Each pet has its own `name` but they share `kind` from their class without duplicating it.\n",
    "- Subclasses can reuse (inherit) code from their superclass but produce different results:\n",
    "    - Line 28-30 calls `Pet.__init__` implicitly to create pets with different `name`s.\n",
    "    - Line 31 calls `Pet.__str__` implicitly to return a string containing pets' specific `kind` in addition to its `name`."
   ]
  },
  {
   "cell_type": "markdown",
   "id": "3df6e2eb",
   "metadata": {},
   "source": [
    "To properly encapsulate the attributes to allow more controlled access, some built-in decorators are commonly used:"
   ]
  },
  {
   "cell_type": "code",
   "execution_count": null,
   "id": "cb161bbe",
   "metadata": {},
   "outputs": [],
   "source": [
    "from abc import ABC, abstractmethod\n",
    "\n",
    "class Pet(ABC):\n",
    "    _kind = \"Pet\"\n",
    "\n",
    "    def __init__(self, name):\n",
    "        self._name = name\n",
    "\n",
    "    @property\n",
    "    def name(self):\n",
    "        return self._name\n",
    "\n",
    "    @name.setter\n",
    "    def name(self, new_name):\n",
    "        self._name = new_name\n",
    "\n",
    "    @property\n",
    "    def kind(self):\n",
    "        return self._kind\n",
    "\n",
    "    @abstractmethod\n",
    "    def make_sound(self):\n",
    "        pass\n",
    "\n",
    "    def __str__(self):\n",
    "        return f\"{self.kind} {self.name}\"\n",
    "\n",
    "\n",
    "class Cat(Pet):\n",
    "    _kind = \"Cat\"\n",
    "\n",
    "    def make_sound(self):\n",
    "        print(\"Meow\")\n",
    "\n",
    "\n",
    "class Dog(Pet):\n",
    "    _kind = \"Dog\"\n",
    "\n",
    "    def make_sound(self):\n",
    "        print(\"Woof\")"
   ]
  },
  {
   "cell_type": "markdown",
   "id": "d9f6477e",
   "metadata": {},
   "source": [
    "By making Pet inherit from ABC (Abstract Base Class) and defining at least one abstract method, we ensure that Pet cannot be instantiated directly:"
   ]
  },
  {
   "cell_type": "code",
   "execution_count": null,
   "id": "56434caa",
   "metadata": {},
   "outputs": [],
   "source": [
    "try:\n",
    "    p1 = Pet(\"Alfie\")  # This will raise an error because Pet is now abstract\n",
    "except TypeError as e:\n",
    "    print(f\"TypeError: {e}\")"
   ]
  },
  {
   "cell_type": "markdown",
   "id": "93619ff7",
   "metadata": {},
   "source": [
    "`@abstractmethod` is used to declare methods in a class that must be implemented by any subclass that inherits from it. This defines a common interface for the subclasses, ensuring that they all provide specific implementations of certain methods."
   ]
  },
  {
   "cell_type": "code",
   "execution_count": null,
   "id": "1c36a464",
   "metadata": {},
   "outputs": [],
   "source": [
    "class Fish(Pet):\n",
    "    _kind = \"Fish\"\n",
    "\n",
    "\n",
    "try:\n",
    "    Fish(\"goldie\")\n",
    "except TypeError as e:\n",
    "    print(f\"TypeError: {e}\")"
   ]
  },
  {
   "cell_type": "markdown",
   "id": "2a38ac26",
   "metadata": {},
   "source": [
    "The `name` attribute is equipped with both a getter (`@property`) and a setter (`@name.setter`), which allows for safe renaming of the pet’s name by implementing the function `name(self, new_new)`."
   ]
  },
  {
   "cell_type": "code",
   "execution_count": null,
   "id": "15a05966",
   "metadata": {},
   "outputs": [],
   "source": [
    "# Create pets\n",
    "p2 = Dog(\"Bobbie\")\n",
    "p3, p4 = Cat(\"Bella\"), Cat(\"Kelly\")\n",
    "print(p2, p3, p4, sep=\", \")\n",
    "\n",
    "# Rename some pets\n",
    "p2.name = \"Max\"\n",
    "p3.name = \"Rex\"\n",
    "print(p2, p3, p4, sep=\", \")"
   ]
  },
  {
   "cell_type": "markdown",
   "id": "7afc2c50",
   "metadata": {},
   "source": [
    "On the other hand, the kind attribute is made read-only by providing only a getter method and omitting the setter. This design choice enforces the immutability of the kind attribute, ensuring that once a Pet instance (or its subclasses) is created, its type cannot be altered. This is crucial for maintaining the integrity of the object’s identity."
   ]
  },
  {
   "cell_type": "code",
   "execution_count": null,
   "id": "2666fddd",
   "metadata": {},
   "outputs": [],
   "source": [
    "try:\n",
    "    p2.kind = \"Cat\"\n",
    "except AttributeError as e:\n",
    "    print(f\"TypeError: {e}\")"
   ]
  },
  {
   "cell_type": "markdown",
   "id": "5923cf14",
   "metadata": {},
   "source": [
    "## Animating an Object"
   ]
  },
  {
   "cell_type": "markdown",
   "id": "6429988e",
   "metadata": {},
   "source": [
    "**How to add objects to a `Scene`?**"
   ]
  },
  {
   "cell_type": "markdown",
   "id": "37d9f815",
   "metadata": {},
   "source": [
    "We can create a square and add it to the scene as follows:"
   ]
  },
  {
   "cell_type": "code",
   "execution_count": null,
   "id": "98af516f",
   "metadata": {},
   "outputs": [],
   "source": [
    "%%manim -qm --progress_bar=none --disable_caching --flush_cache -v ERROR BlueSquare1\n",
    "class BlueSquare1(Scene):\n",
    "    def construct(self):\n",
    "        s = Square(fill_color=BLUE, color=WHITE)\n",
    "        self.add(s)"
   ]
  },
  {
   "cell_type": "markdown",
   "id": "d7e6eceb",
   "metadata": {},
   "source": [
    "- The square object is create using `Square`, `BLUE` and `WHITE` imported from `manim`.\n",
    "- It is then placed to to the scene using `self.add` inherited from `Scene`."
   ]
  },
  {
   "cell_type": "markdown",
   "id": "c1877f02",
   "metadata": {},
   "source": [
    "**How to animate an object?**"
   ]
  },
  {
   "cell_type": "markdown",
   "id": "d8104851",
   "metadata": {},
   "source": [
    "The following shows the creation of a square:"
   ]
  },
  {
   "cell_type": "code",
   "execution_count": null,
   "id": "0911fdc6",
   "metadata": {},
   "outputs": [],
   "source": [
    "%%manim -qm --progress_bar=none --disable_caching --flush_cache -v ERROR BlueSquare2\n",
    "class BlueSquare2(Scene):\n",
    "    def construct(self):\n",
    "        s = Square(color=WHITE, fill_color=BLUE, fill_opacity=0.8)\n",
    "        self.play(Create(s))\n",
    "        self.wait()"
   ]
  },
  {
   "cell_type": "markdown",
   "id": "8ce4db9f",
   "metadata": {},
   "source": [
    "- `self.play` plays the animation `Create(s)`.\n",
    "- `self.wait()` creates a pause \"animation\"."
   ]
  },
  {
   "cell_type": "markdown",
   "id": "a37a3388",
   "metadata": {},
   "source": [
    "**How to transform an object?**"
   ]
  },
  {
   "cell_type": "markdown",
   "id": "4e2f077b",
   "metadata": {},
   "source": [
    "To scale, move, or rotate the shape:"
   ]
  },
  {
   "cell_type": "code",
   "execution_count": null,
   "id": "6dbaa17f",
   "metadata": {},
   "outputs": [],
   "source": [
    "%%manim -qm --progress_bar=none --disable_caching --flush_cache -v ERROR BlueSquare3\n",
    "class BlueSquare3(Scene):\n",
    "    def construct(self):\n",
    "        s = Square(color=WHITE, fill_color=BLUE, fill_opacity=0.8)\n",
    "        self.play(Create(s))\n",
    "        self.play(s.animate.scale(1.5).rotate(PI / 4))\n",
    "        self.play(s.animate.move_to([-3, 0, 0]))\n",
    "        self.play(s.animate.move_to([3, 0, 0]))\n",
    "        self.play(s.animate.scale(0.5).move_to(ORIGIN).rotate(-PI / 4))\n",
    "        self.wait()"
   ]
  },
  {
   "cell_type": "markdown",
   "id": "968f5a0b",
   "metadata": {},
   "source": [
    "::::{exercise}\n",
    ":label: ex:manim1\n",
    " \n",
    "The attribute `s.animate` is an object that provides the methods `scale`, `move_to`, and `rotate`. Note that the methods can be called successively as in `s.animate.scale(0.5).move_to(ORIGIN).rotate(-PI/4)`. Why?\n",
    "\n",
    "::::"
   ]
  },
  {
   "cell_type": "markdown",
   "id": "f7e4c52c",
   "metadata": {},
   "source": [
    "## Animating multiple objects"
   ]
  },
  {
   "cell_type": "markdown",
   "id": "f34c4ca9",
   "metadata": {},
   "source": [
    "**Tessellation with regular polygons**"
   ]
  },
  {
   "cell_type": "markdown",
   "id": "4cfcbcda",
   "metadata": {},
   "source": [
    "Consider tiling a 12-by-6 plane using squares:"
   ]
  },
  {
   "cell_type": "code",
   "execution_count": null,
   "id": "a1e817e9",
   "metadata": {},
   "outputs": [],
   "source": [
    "%%manim -qm --progress_bar=none --disable_caching --flush_cache -v ERROR SquareTiling1\n",
    "class SquareTiling1(Scene):\n",
    "    WIDTH = 12\n",
    "    HEIGHT = 6\n",
    "    EDGE = 1\n",
    "\n",
    "    def construct(self):\n",
    "        plane = Rectangle(width=self.WIDTH, height=self.HEIGHT)\n",
    "        unit = Square(color=WHITE, fill_color=BLUE, fill_opacity=0.8).scale(\n",
    "            self.EDGE / 2\n",
    "        )\n",
    "        self.add(plane, unit)"
   ]
  },
  {
   "cell_type": "markdown",
   "id": "79903bc3",
   "metadata": {},
   "source": [
    "The first line of squares can be animated as follows:"
   ]
  },
  {
   "cell_type": "code",
   "execution_count": null,
   "id": "d7229b01",
   "metadata": {},
   "outputs": [],
   "source": [
    "%%manim -qm --progress_bar=none --disable_caching --flush_cache -v ERROR SquareTiling2\n",
    "class SquareTiling2(Scene):\n",
    "    WIDTH = 12\n",
    "    HEIGHT = 6\n",
    "    EDGE = 1\n",
    "\n",
    "    def construct(self):\n",
    "\n",
    "        plane = Rectangle(width=self.WIDTH, height=self.HEIGHT)\n",
    "        self.add(plane)\n",
    "\n",
    "        unit = Square(color=WHITE, fill_color=BLUE, fill_opacity=0.8).scale(\n",
    "            self.EDGE / 2\n",
    "        )\n",
    "        self.play(Create(unit))\n",
    "        self.play(\n",
    "            unit.animate.move_to(\n",
    "                [-self.WIDTH / 2 + self.EDGE / 2, self.HEIGHT / 2 - self.EDGE / 2, 0]\n",
    "            )\n",
    "        )\n",
    "\n",
    "        for i in range(1, self.WIDTH // self.EDGE):\n",
    "            self.play(unit.copy().animate.shift([i, 0, 0]), run_time=1 / i)\n",
    "        self.wait()"
   ]
  },
  {
   "cell_type": "markdown",
   "id": "57bfde21",
   "metadata": {},
   "source": [
    "We can use `VGroup` method to create a group of shapes."
   ]
  },
  {
   "cell_type": "code",
   "execution_count": null,
   "id": "d30eeaf5",
   "metadata": {},
   "outputs": [],
   "source": [
    "%%manim -qm --progress_bar=none --disable_caching --flush_cache -v ERROR SquareTiling3\n",
    "class SquareTiling3(Scene):\n",
    "    WIDTH = 12\n",
    "    HEIGHT = 6\n",
    "    EDGE = 1\n",
    "\n",
    "    def construct(self):\n",
    "\n",
    "        plane = Rectangle(width=self.WIDTH, height=self.HEIGHT)\n",
    "        self.add(plane)\n",
    "\n",
    "        unit = Square(color=WHITE, fill_color=BLUE, fill_opacity=0.8).scale(\n",
    "            self.EDGE / 2\n",
    "        )\n",
    "        self.play(Create(unit))\n",
    "        self.play(\n",
    "            unit.animate.move_to(\n",
    "                [-self.WIDTH / 2 + self.EDGE / 2, self.HEIGHT / 2 - self.EDGE / 2, 0]\n",
    "            )\n",
    "        )\n",
    "\n",
    "        for i in range(1, math.floor(self.WIDTH / self.EDGE)):\n",
    "            self.play(unit.copy().animate.shift([i * self.EDGE, 0, 0]), run_time=1 / i)\n",
    "\n",
    "        line = VGroup(\n",
    "            *[\n",
    "                unit.copy().shift([i * self.EDGE, 0, 0])\n",
    "                for i in range(math.floor(self.WIDTH / self.EDGE))\n",
    "            ]\n",
    "        )\n",
    "        for i in range(1, math.floor(self.HEIGHT / self.EDGE)):\n",
    "            self.play(line.copy().animate.shift([0, -i * self.EDGE, 0]), run_time=1 / i)\n",
    "\n",
    "        self.wait()"
   ]
  },
  {
   "cell_type": "markdown",
   "id": "17eb92f0",
   "metadata": {},
   "source": [
    "::::{exercise}\n",
    ":label: ex:manim2\n",
    " \n",
    "Use manim to show the other two ways of tiling with regular polygons (triangle and hexagon). (see [tiling with regular polygons](https://en.wikipedia.org/wiki/Euclidean_tilings_by_convex_regular_polygons))\n",
    "\n",
    "::::"
   ]
  }
 ],
 "metadata": {
  "jupytext": {
   "default_lexer": "ipython3"
  },
  "kernelspec": {
   "display_name": "Python 3 (ipykernel)",
   "language": "python",
   "name": "python3"
  }
 },
 "nbformat": 4,
 "nbformat_minor": 5
}
