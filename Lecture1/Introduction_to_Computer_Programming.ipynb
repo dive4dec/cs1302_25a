{
 "cells": [
  {
   "cell_type": "markdown",
   "id": "7f4308ae",
   "metadata": {
    "editable": true,
    "slideshow": {
     "slide_type": ""
    },
    "tags": [
     "remove-cell"
    ]
   },
   "source": [
    "---\n",
    "title: Introduction to Computer Programming\n",
    "abstract: |\n",
    "   By the end of this material, readers will understand the intimate relationship between computers and programming, and appreciate the evolutions and motivations of programming languages. They will learn about basic computer architecture, binary data representation, and the structure of a Python program.\n",
    "skip_execution: false\n",
    "---"
   ]
  },
  {
   "cell_type": "code",
   "execution_count": null,
   "id": "6923535e",
   "metadata": {
    "editable": true,
    "slideshow": {
     "slide_type": ""
    },
    "tags": [
     "skip-execution"
    ]
   },
   "outputs": [],
   "source": [
    "if not input('Load JupyterAI? [Y/n]').lower()=='n':\n",
    "    %reload_ext jupyter_ai"
   ]
  },
  {
   "cell_type": "markdown",
   "id": "1883db2a",
   "metadata": {
    "editable": true,
    "slideshow": {
     "slide_type": "slide"
    }
   },
   "source": [
    "## Computer"
   ]
  },
  {
   "cell_type": "markdown",
   "id": "50fd55da",
   "metadata": {
    "slideshow": {
     "slide_type": "subslide"
    }
   },
   "source": [
    "### What is a computer?"
   ]
  },
  {
   "cell_type": "markdown",
   "id": "6b4a6520",
   "metadata": {
    "slideshow": {
     "slide_type": "subslide"
    }
   },
   "source": [
    "A calculator that is bigger and more advanced?"
   ]
  },
  {
   "cell_type": "markdown",
   "id": "3d85c963",
   "metadata": {
    "slideshow": {
     "slide_type": "-"
    }
   },
   "source": [
    ":::{figure} https://upload.wikimedia.org/wikipedia/commons/thumb/4/48/Calculator_app.png/512px-Calculator_app.png\n",
    ":name: fig:calculator-app\n",
    ":alt: Calculator app\n",
    ":align: left\n",
    "\n",
    "A calculator on a computer.\n",
    ":::"
   ]
  },
  {
   "cell_type": "markdown",
   "id": "da9acc22",
   "metadata": {
    "editable": true,
    "slideshow": {
     "slide_type": "subslide"
    }
   },
   "source": [
    "If so, is [abacus](https://en.wikipedia.org/wiki/Abacus) the first computer ever invented?"
   ]
  },
  {
   "cell_type": "markdown",
   "id": "2bcbd38e",
   "metadata": {
    "editable": true,
    "slideshow": {
     "slide_type": "-"
    }
   },
   "source": [
    "::::{figure} https://upload.wikimedia.org/wikipedia/commons/a/af/Abacus_6.png\n",
    ":name: fig:abacus\n",
    ":alt: Abacus\n",
    ":align: left\n",
    "\n",
    "Abacus - an ancient mechanical computing device.\n",
    "::::"
   ]
  },
  {
   "cell_type": "markdown",
   "id": "06573137",
   "metadata": {
    "slideshow": {
     "slide_type": "fragment"
    }
   },
   "source": [
    "Is your [smartphone](https://en.wikipedia.org/wiki/Samsung_DeX) a computer?"
   ]
  },
  {
   "cell_type": "markdown",
   "id": "c17b9277",
   "metadata": {
    "editable": true,
    "slideshow": {
     "slide_type": "fragment"
    }
   },
   "source": [
    ":::::{important} What defines a computer?[^click]\n",
    ":class: dropdown\n",
    "\n",
    "In addition to performing arithmetic calculations,\n",
    "- a computer can be *programmed*\n",
    "- to perform different tasks.\n",
    "\n",
    "::::{card}\n",
    ":header: Who invented the first computer?\n",
    ":footer: [open in new tab](https://www.youtube.com/embed/d1pvc9Zh7Tg?si=99SDuN_zydUl_x4p)\n",
    "\n",
    ":::{iframe} https://www.youtube.com/embed/d1pvc9Zh7Tg?si=99SDuN_zydUl_x4p\n",
    ":width: 100%\n",
    ":::\n",
    "\n",
    "::::\n",
    "\n",
    ":::::\n",
    "\n",
    "[^click]: Click me to see an answer."
   ]
  },
  {
   "cell_type": "markdown",
   "id": "597a1bd4",
   "metadata": {
    "editable": true,
    "slideshow": {
     "slide_type": ""
    }
   },
   "source": [
    "Run the following cell to ask AI how to defines a computer:[^run]\n",
    "[^run]: You can run a cell by selecting the cell and press <kbd>Shift + Enter</kbd>."
   ]
  },
  {
   "cell_type": "code",
   "execution_count": null,
   "id": "cb2de0ea",
   "metadata": {
    "editable": true,
    "slideshow": {
     "slide_type": ""
    }
   },
   "outputs": [],
   "source": [
    "%%ai\n",
    "What defines a computer? Explain in one line."
   ]
  },
  {
   "cell_type": "markdown",
   "id": "54c4e8b8",
   "metadata": {
    "editable": true,
    "slideshow": {
     "slide_type": "slide"
    }
   },
   "source": [
    "### What is the architecture of a computer?"
   ]
  },
  {
   "cell_type": "markdown",
   "id": "43f1bac4",
   "metadata": {
    "editable": true,
    "slideshow": {
     "slide_type": "fragment"
    }
   },
   "source": [
    "A computer contains three main hardware components:\n",
    "\n",
    "- Input device\n",
    "- Processing unit\n",
    "- Output device"
   ]
  },
  {
   "cell_type": "markdown",
   "id": "8d7187e0",
   "metadata": {
    "slideshow": {
     "slide_type": "subslide"
    }
   },
   "source": [
    "#### Peripherals"
   ]
  },
  {
   "cell_type": "markdown",
   "id": "d15d54a0",
   "metadata": {
    "editable": true,
    "slideshow": {
     "slide_type": "-"
    }
   },
   "source": [
    "::::{figure} https://images.unsplash.com/flagged/photo-1551954810-43cd6aef5b1f?ixlib=rb-1.2.1&ixid=eyJhcHBfaWQiOjEyMDd9&auto=format&fit=crop&w=3580&q=80\n",
    ":name: fig:peripherals\n",
    ":alt: Peripherals\n",
    ":align: left\n",
    "\n",
    "Computer peripherals.\n",
    "::::"
   ]
  },
  {
   "cell_type": "markdown",
   "id": "c3de3d58",
   "metadata": {
    "editable": true,
    "slideshow": {
     "slide_type": "fragment"
    }
   },
   "source": [
    "Input and output devices connected to a computer are called *peripherals*.  \n",
    "They allow users to interact with the computer in different ways."
   ]
  },
  {
   "cell_type": "markdown",
   "id": "c80ccf9d",
   "metadata": {
    "slideshow": {
     "slide_type": "subslide"
    }
   },
   "source": [
    "::::{exercise}\n",
    ":label: ex:output-device\n",
    "\n",
    "Some examples of output devices are:\n",
    "- Monitor\n",
    "- Speaker\n",
    "\n",
    "Can you give an awesome example in the following solution cell?[^edit]\n",
    "::::\n",
    "\n",
    "[^edit]: To edit a markdown cell, double click the cell until you see a cursor. Run the cell to render the markdown code."
   ]
  },
  {
   "cell_type": "markdown",
   "id": "458d7e41",
   "metadata": {
    "deletable": false,
    "editable": true,
    "nbgrader": {
     "cell_type": "markdown",
     "checksum": "305952cab25662510a47aa8613f60f13",
     "grade": true,
     "grade_id": "cell-3ea9d712eccdf31c",
     "locked": false,
     "points": 0,
     "schema_version": 3,
     "solution": true,
     "task": false
    },
    "slideshow": {
     "slide_type": "-"
    }
   },
   "source": [
    "YOUR ANSWER HERE"
   ]
  },
  {
   "cell_type": "code",
   "execution_count": null,
   "id": "209bc36a",
   "metadata": {
    "editable": true,
    "slideshow": {
     "slide_type": ""
    }
   },
   "outputs": [],
   "source": [
    "%%ai\n",
    "Summarize what an output device of a computer is and explain briefly why \n",
    "a monitor and a speaker are examples?"
   ]
  },
  {
   "cell_type": "markdown",
   "id": "f0d020df",
   "metadata": {
    "slideshow": {
     "slide_type": "subslide"
    }
   },
   "source": [
    "::::{exercise}\n",
    ":label: ex:input-device\n",
    "\n",
    "Some examples of input devices are:\n",
    "- Keyboard\n",
    "- Mouse\n",
    "\n",
    "Can you give an awesome example?\n",
    "::::"
   ]
  },
  {
   "cell_type": "markdown",
   "id": "c71838bc",
   "metadata": {
    "deletable": false,
    "nbgrader": {
     "cell_type": "markdown",
     "checksum": "c93b64250646392b2bb1b4e253e42602",
     "grade": true,
     "grade_id": "cell-1c411172f0ed411b",
     "locked": false,
     "points": 0,
     "schema_version": 3,
     "solution": true,
     "task": false
    },
    "slideshow": {
     "slide_type": "-"
    }
   },
   "source": [
    "YOUR ANSWER HERE"
   ]
  },
  {
   "cell_type": "code",
   "execution_count": null,
   "id": "35b435d7",
   "metadata": {
    "editable": true,
    "slideshow": {
     "slide_type": ""
    }
   },
   "outputs": [],
   "source": [
    "%%ai\n",
    "Summarize what an input device of a computer is and explain briefly why \n",
    "a keyboard and a mouse are examples?"
   ]
  },
  {
   "cell_type": "markdown",
   "id": "f38b3caf",
   "metadata": {
    "slideshow": {
     "slide_type": "subslide"
    }
   },
   "source": [
    "::::{exercise} \n",
    ":label: ex:input-output\n",
    "\n",
    "Many devices are both input and output device. Can you give at least 3 examples?\n",
    "::::"
   ]
  },
  {
   "cell_type": "markdown",
   "id": "83cf2338",
   "metadata": {
    "deletable": false,
    "nbgrader": {
     "cell_type": "markdown",
     "checksum": "4618d2caaff4f4676c8e0fb31bd852fb",
     "grade": true,
     "grade_id": "cell-e1982fbce01506b3",
     "locked": false,
     "points": 0,
     "schema_version": 3,
     "solution": true,
     "task": false
    },
    "slideshow": {
     "slide_type": "-"
    }
   },
   "source": [
    "YOUR ANSWER HERE"
   ]
  },
  {
   "cell_type": "code",
   "execution_count": null,
   "id": "230f7f63",
   "metadata": {
    "editable": true,
    "slideshow": {
     "slide_type": ""
    }
   },
   "outputs": [],
   "source": [
    "%%ai\n",
    "Explain in one line why a headset is both an input device and an output device \n",
    "at the same time."
   ]
  },
  {
   "cell_type": "markdown",
   "id": "dacba095",
   "metadata": {
    "slideshow": {
     "slide_type": "slide"
    }
   },
   "source": [
    "#### Central Processing Unit"
   ]
  },
  {
   "cell_type": "markdown",
   "id": "0e743a19",
   "metadata": {
    "slideshow": {
     "slide_type": "-"
    }
   },
   "source": [
    "::::{figure}\n",
    ":name: fig:cpu\n",
    ":alt: CPU\n",
    ":align: left\n",
    "\n",
    "![An Intel CPU](https://images.unsplash.com/photo-1555617981-dac3880eac6e?ixlib=rb-1.2.1&ixid=eyJhcHBfaWQiOjEyMDd9&auto=format&fit=crop&w=1950&q=80)\n",
    "\n",
    "![An AMD CPU](https://images.unsplash.com/photo-1591799265444-d66432b91588?q=80&w=1760&auto=format&fit=crop&ixlib=rb-4.0.3&ixid=M3wxMjA3fDB8MHxwaG90by1wYWdlfHx8fGVufDB8fHx8fA%3D%3D)\n",
    "\n",
    "Central processing units (CPUs) on motherboards.\n",
    "::::"
   ]
  },
  {
   "cell_type": "markdown",
   "id": "c9418427",
   "metadata": {
    "slideshow": {
     "slide_type": "fragment"
    }
   },
   "source": [
    "The brain of a computer is its processor or the [**C**entral **P**rocesisng **U**nit (CPU)](https://en.wikipedia.org/wiki/Central_processing_unit). As shown in [](#fig:cpu), it is located on the [*motherboard*](https://en.wikipedia.org/wiki/Motherboard) and connected to different peripherals using different [*connectors*](https://en.wikipedia.org/wiki/Category:Computer_connectors)."
   ]
  },
  {
   "cell_type": "markdown",
   "id": "dfaccbf6",
   "metadata": {},
   "source": [
    "For instance, you can check the CPU of your Jupyter Server by running the following command:"
   ]
  },
  {
   "cell_type": "code",
   "execution_count": null,
   "id": "2bda76fb",
   "metadata": {},
   "outputs": [],
   "source": [
    "!lscpu"
   ]
  },
  {
   "cell_type": "markdown",
   "id": "5034b3fa",
   "metadata": {
    "slideshow": {
     "slide_type": "fragment"
    }
   },
   "source": [
    "Two important components in the CPU are:\n",
    "-  **A**rithmetic and **L**ogic **U**nit (**ALU**): Performs arithmetics like a calculator (but for binary numbers)\n",
    "-  **C**ontrol **U**nit (**CU**): Directs the operations of the processor in executing a program."
   ]
  },
  {
   "cell_type": "markdown",
   "id": "d309a122",
   "metadata": {
    "slideshow": {
     "slide_type": "subslide"
    }
   },
   "source": [
    "To visualize how CPU works, run the [CPU Simulator below](https://github.com/pddring/cpu-simulator).\n",
    "- Note that all values are zeros in the RAM (**R**andom **A**cess **M**emory) initially.\n",
    "- Under Settings, click `Examples`$\\to $`Add two numbers`. Observe that the values in the RAM have changed.\n",
    "- Click `Run` at the bottom right-hand corner."
   ]
  },
  {
   "cell_type": "markdown",
   "id": "7e54fe32",
   "metadata": {},
   "source": [
    ":::::{card}\n",
    ":footer: [Open in new tab](https://tools.withcode.uk/cpu)\n",
    "\n",
    "::::{iframe} https://tools.withcode.uk/cpu\n",
    ":width: 100%\n",
    "::::\n",
    "\n",
    ":::::"
   ]
  },
  {
   "cell_type": "markdown",
   "id": "56023b0d",
   "metadata": {},
   "source": [
    "::::{seealso} Is there a rigorous definition of a computer?\n",
    ":class: dropdown\n",
    "\n",
    "Computer architecture may evolve over time, with new technologies and innovations emerging. However, modern computers follow the same mathematical principles of the [universal machine](https://doi.org/10.1112/plms/s2-42.1.230) defined by [Alan Turing, Father of Modern Computing](https://en.wikipedia.org/wiki/Alan_Turing). The definition is made to address the problem of computing, i.e., what numbers are computable by programming a machine. Do you have an easy way to understand [Turing's proof](https://en.wikipedia.org/wiki/Turing%27s_proof)?\n",
    "\n",
    "::::"
   ]
  },
  {
   "cell_type": "markdown",
   "id": "4ecfcc96",
   "metadata": {
    "slideshow": {
     "slide_type": "slide"
    }
   },
   "source": [
    "## Programming"
   ]
  },
  {
   "cell_type": "markdown",
   "id": "cd286bc2",
   "metadata": {
    "slideshow": {
     "slide_type": "subslide"
    }
   },
   "source": [
    "### What is programming?"
   ]
  },
  {
   "cell_type": "markdown",
   "id": "a31d9ecd",
   "metadata": {
    "slideshow": {
     "slide_type": "fragment"
    }
   },
   "source": [
    "::::{important} What defines programming?\n",
    ":class: dropdown\n",
    "\n",
    "*Programming*, also called *software development*, is the process of writing programs for the computer to execute different tasks. But what is a program?\n",
    "::::"
   ]
  },
  {
   "cell_type": "markdown",
   "id": "91ab4a97",
   "metadata": {
    "deletable": false,
    "editable": false,
    "nbgrader": {
     "cell_type": "markdown",
     "checksum": "8573cc82ef9e7e2ff6e2b44b4a3fe75f",
     "grade": false,
     "grade_id": "cell-7675978e85548d96",
     "locked": true,
     "schema_version": 3,
     "solution": false,
     "task": false
    },
    "slideshow": {
     "slide_type": "fragment"
    }
   },
   "source": [
    "::::{exercise} \n",
    ":label: ex:machine-language\n",
    "\n",
    "You have just seen a program written in [machine language](https://en.wikipedia.org/wiki/Machine_code). Where?\n",
    "\n",
    ":::{hint}\n",
    ":class: dropdown\n",
    "\n",
    "It is stored somewhere in RAM (**R**andom **A**cess **M**emory), which is used to store data and programs.[^architecture]\n",
    "\n",
    ":::\n",
    "\n",
    "::::\n",
    "\n",
    "[^architecture]: The CPU simulator follows the [von Neumann architecture](https://doi.org/10.1109/85.238389), which realizes Turing's conception of the [*stored-program computer*](https://en.wikipedia.org/wiki/Stored-program_computer), where program and data are stored in the same memory. This is in contrast to the Harvard architecture, which uses separate memories for program and data."
   ]
  },
  {
   "cell_type": "markdown",
   "id": "8ecc2ae9",
   "metadata": {
    "deletable": false,
    "nbgrader": {
     "cell_type": "markdown",
     "checksum": "ce150ac6fc49d5a9d34887bef80dfc87",
     "grade": true,
     "grade_id": "cell-08298600f10cfc25",
     "locked": false,
     "points": 0,
     "schema_version": 3,
     "solution": true,
     "task": false
    },
    "slideshow": {
     "slide_type": "-"
    }
   },
   "source": [
    "YOUR ANSWER HERE"
   ]
  },
  {
   "cell_type": "code",
   "execution_count": null,
   "id": "ec9e2e40",
   "metadata": {
    "editable": true,
    "slideshow": {
     "slide_type": ""
    },
    "tags": [
     "skip-execution"
    ]
   },
   "outputs": [],
   "source": [
    "%%ai\n",
    "Summarize what a machine language is and give an example of a program in \n",
    "machine language."
   ]
  },
  {
   "cell_type": "markdown",
   "id": "031ce73b",
   "metadata": {
    "slideshow": {
     "slide_type": "fragment"
    }
   },
   "source": [
    "The CPU is capable of carrying out \n",
    "- a set of instructions such as `Add`, `Subtract`, `Store`, etc.,\n",
    "- for some numbers stored in the RAM."
   ]
  },
  {
   "cell_type": "markdown",
   "id": "763b5fc7",
   "metadata": {},
   "source": [
    "Both the instructions and the numbers are represented as binary sequences."
   ]
  },
  {
   "cell_type": "markdown",
   "id": "c6a0189c",
   "metadata": {
    "slideshow": {
     "slide_type": "subslide"
    }
   },
   "source": [
    "### Why computer uses binary representation?"
   ]
  },
  {
   "cell_type": "markdown",
   "id": "640ec5fb",
   "metadata": {},
   "source": [
    ":::{figure} https://upload.wikimedia.org/wikipedia/commons/8/8c/Two_women_operating_ENIAC_%28full_resolution%29.jpg\n",
    ":name: fig:ENIAC\n",
    ":alt: Two programmers operating ENIAC.\n",
    ":align: left\n",
    "\n",
    "Programmers controlling the switches of ENIAC.\n",
    ":::"
   ]
  },
  {
   "cell_type": "markdown",
   "id": "64075341",
   "metadata": {
    "slideshow": {
     "slide_type": "fragment"
    }
   },
   "source": [
    "::::::{exercise}\n",
    ":label: ex:ENIAC\n",
    "\n",
    "[](#fig:ENIAC) is a photograph of the first electronic computer, called [Electronic Numerical Integrator and Computer (ENIAC)](https://en.wikipedia.org/wiki/ENIAC). It was programmed using binary circuitries, namely *switches* that can be either `On` or `Off`. However, it did not represent numbers efficiently in binary. 10 switches (bits) were used to represent a digit: Each switch indicates a possible value from 0 to 9. Indeed, how many decimal number can be represented by 10 bits?\n",
    "\n",
    ":::::{hint}\n",
    ":class: dropdown\n",
    "\n",
    "::::{card}\n",
    ":header: Binary representation\n",
    ":footer: [open in new tab](https://youtu.be/Xpk67YzOn5w)\n",
    "\n",
    ":::{iframe} https://www.youtube.com/embed/Xpk67YzOn5w\n",
    ":width: 100%\n",
    ":::\n",
    "\n",
    "::::\n",
    ":::::\n",
    "\n",
    "::::::"
   ]
  },
  {
   "cell_type": "code",
   "execution_count": null,
   "id": "b9175a53",
   "metadata": {
    "deletable": false,
    "nbgrader": {
     "cell_type": "code",
     "checksum": "dafb234aff942821f6d9bd5d797b0d0a",
     "grade": true,
     "grade_id": "cell-1023083cd0aca779",
     "locked": false,
     "points": 0,
     "schema_version": 3,
     "solution": true,
     "task": false
    },
    "slideshow": {
     "slide_type": "-"
    },
    "tags": [
     "hide-cell"
    ]
   },
   "outputs": [],
   "source": [
    "# YOUR CODE HERE\n",
    "raise NotImplementedError"
   ]
  },
  {
   "cell_type": "code",
   "execution_count": null,
   "id": "ec376fde",
   "metadata": {
    "editable": true,
    "slideshow": {
     "slide_type": ""
    },
    "tags": [
     "skip-execution"
    ]
   },
   "outputs": [],
   "source": [
    "%%ai\n",
    "Explain the multiplication rule in combinatorics."
   ]
  },
  {
   "cell_type": "markdown",
   "id": "39701327",
   "metadata": {},
   "source": [
    "::::{seealso} Why use binary numbers?\n",
    ":class: dropdown\n",
    "\n",
    "Unlike ENIAC, the subsequent design of the Electronic Discrete Variable Computer (EDVAC) utilized the binary number system. The decision was explained in Section 5.1 of the [design report](https://doi.org/10.1109/85.238389) authored by [John von Neumann](https://en.wikipedia.org/wiki/John_von_Neumann) in 1945. While humans are accustomed to using the decimal number system, von Neumann justified the use of binary by noting that human neurons operate in a binary manner: \n",
    "\n",
    "> The analogs of human neurons ... are equally all-or-none elements. It will appear that they are quite useful for all preliminary, orienting, considerations of vacuum tube systems ... It is therefore satisfactory that here too the natural arithmetical system to handle is the binary one.  \n",
    "> — John von Neumann\n",
    "\n",
    "::::"
   ]
  },
  {
   "cell_type": "markdown",
   "id": "393dc46e",
   "metadata": {
    "slideshow": {
     "slide_type": "fragment"
    }
   },
   "source": [
    "There are *International Standards* for representing characters:\n",
    "- [ASCII](https://en.wikipedia.org/wiki/ASCII) (**A**merican **S**tandard **C**ode for **I**nformation **I**nterchange) maps English letters and some other symbols to 8-bits (8 binary digits, also called a byte). E.g., `A` maps to `01000001`.\n",
    "- [Unicode](https://en.wikipedia.org/wiki/Unicode) can also represent characters in different languages such as Chinese, Japanese...etc."
   ]
  },
  {
   "cell_type": "markdown",
   "id": "299dd844",
   "metadata": {
    "slideshow": {
     "slide_type": "fragment"
    }
   },
   "source": [
    "There are also additional standards to represent numbers other than non-negative integers:\n",
    "- [2's complement format](https://en.wikipedia.org/wiki/Two%27s_complement) for negative integers (e.g. -123)\n",
    "- [IEEE floating point format](https://en.wikipedia.org/wiki/IEEE_754) for floating point numbers such as $1.23 \\times 10^{-4}$."
   ]
  },
  {
   "cell_type": "code",
   "execution_count": null,
   "id": "8659f903",
   "metadata": {
    "editable": true,
    "slideshow": {
     "slide_type": ""
    },
    "tags": [
     "skip-execution"
    ]
   },
   "outputs": [],
   "source": [
    "%%ai\n",
    "Why define standards such as ASCII and Unicode?"
   ]
  },
  {
   "cell_type": "markdown",
   "id": "ae1a7b07",
   "metadata": {
    "slideshow": {
     "slide_type": "fragment"
    }
   },
   "source": [
    "::::{important} Why define different standards?\n",
    ":class: dropdown\n",
    "\n",
    "Different standards have different benefits. \n",
    "- ASCII requires less storage for a character, but it represents less characters.\n",
    "- Although digits are also represented in ASCII, the 2's complement format is designed for more efficient arithmetic operations.\n",
    "\n",
    "::::"
   ]
  },
  {
   "cell_type": "markdown",
   "id": "a6e32b0c",
   "metadata": {
    "slideshow": {
     "slide_type": "slide"
    }
   },
   "source": [
    "## Generations of programming languages"
   ]
  },
  {
   "cell_type": "markdown",
   "id": "021b7881",
   "metadata": {
    "slideshow": {
     "slide_type": "fragment"
    }
   },
   "source": [
    "::::{important}\n",
    "\n",
    "A *machine language* written in *binary sequences* is known as a *1st Generation Programming Language*.\n",
    "::::"
   ]
  },
  {
   "cell_type": "markdown",
   "id": "634dd39b",
   "metadata": {
    "slideshow": {
     "slide_type": "fragment"
    }
   },
   "source": [
    "**Are we going to start with machine language?**\n",
    "Start with learning 2's complement and the binary codes for different instructions?"
   ]
  },
  {
   "cell_type": "markdown",
   "id": "f2b2cba2",
   "metadata": {
    "slideshow": {
     "slide_type": "fragment"
    }
   },
   "source": [
    "No. Programmers do not write machine codes directly because it is too hard to think in binary representations."
   ]
  },
  {
   "cell_type": "markdown",
   "id": "dd918c7b",
   "metadata": {
    "slideshow": {
     "slide_type": "fragment"
    }
   },
   "source": [
    "Instead, programmers write human-readable **mnemonics** such as `ADD`, `SUB`, ...  \n",
    "This is called the *assembly language*. An example is shown in [](#fig:assembly-language)."
   ]
  },
  {
   "cell_type": "markdown",
   "id": "f5415ef8",
   "metadata": {
    "slideshow": {
     "slide_type": "fragment"
    }
   },
   "source": [
    "::::{figure} https://upload.wikimedia.org/wikipedia/commons/f/f3/Motorola_6800_Assembly_Language.png\n",
    ":name: fig:assembly-language\n",
    ":alt: Assembly language\n",
    ":align: left\n",
    "\n",
    "A Code written in an assembly language.\n",
    "::::"
   ]
  },
  {
   "cell_type": "markdown",
   "id": "7cff7bdf",
   "metadata": {},
   "source": [
    "::::{important}\n",
    "\n",
    "An *assembly language* written in *mnemonics* is the *2nd Generation Programming Language*.\n",
    "::::"
   ]
  },
  {
   "cell_type": "code",
   "execution_count": null,
   "id": "724ad7a4",
   "metadata": {
    "editable": true,
    "slideshow": {
     "slide_type": ""
    },
    "tags": [
     "skip-execution"
    ]
   },
   "outputs": [],
   "source": [
    "%%ai\n",
    "What is the assembly language most commonly used by programmers and what is its\n",
    "main application?"
   ]
  },
  {
   "cell_type": "markdown",
   "id": "8548a704",
   "metadata": {
    "slideshow": {
     "slide_type": "subslide"
    }
   },
   "source": [
    "**Are you going to learn an assembly language?**"
   ]
  },
  {
   "cell_type": "markdown",
   "id": "9b8770dd",
   "metadata": {
    "slideshow": {
     "slide_type": "fragment"
    }
   },
   "source": [
    "Both machine language and assembly language are low-level languages which are\n",
    "- difficult to write for complicated tasks (requiring many lines of code), and\n",
    "- platform-specific, i.e.,\n",
    "    - the sets of instructions and their binary codes can be different for different [types of CPUs](https://en.wikipedia.org/wiki/Comparison_of_CPU_microarchitectures), and\n",
    "    - different operating systems use [different assembly languages/styles](https://en.wikipedia.org/wiki/X86_assembly_language)."
   ]
  },
  {
   "cell_type": "markdown",
   "id": "224d30d7",
   "metadata": {
    "slideshow": {
     "slide_type": "fragment"
    }
   },
   "source": [
    "::::{note} Should we learn assembly languages?\n",
    ":class: dropdown\n",
    "\n",
    "Probably for programmers who need to write fast or energy-efficient code such as\n",
    "- a driver that controls a 3D graphics card, or\n",
    "- a program that control a microprocessor with limited power supply.\n",
    "\n",
    "But even in the above cases, there are often better alternatives. Play with the following microprocessor simulator:\n",
    "\n",
    "- Open <https://micropython.org/unicorn/> in a browser.\n",
    "- Click `CHOOSE A DEMO`$\\to $`LED`.\n",
    "- Click `RUN SCRIPT` and observes the LED of the board.\n",
    "- Run the demos `ASSEMBLY` and `MATH` respectively and compare their capabilities.\n",
    "\n",
    "::::"
   ]
  },
  {
   "cell_type": "markdown",
   "id": "af28a802",
   "metadata": {
    "slideshow": {
     "slide_type": "slide"
    }
   },
   "source": [
    "## High-level Language"
   ]
  },
  {
   "cell_type": "markdown",
   "id": "78341b8c",
   "metadata": {
    "slideshow": {
     "slide_type": "slide"
    }
   },
   "source": [
    "**What is a high-level language?**"
   ]
  },
  {
   "cell_type": "markdown",
   "id": "bfc44ef4",
   "metadata": {
    "slideshow": {
     "slide_type": "fragment"
    }
   },
   "source": [
    ":::::{card}\n",
    ":header: The art of programming\n",
    ":footer: [open in new tab](https://youtu.be/QdVFvsCWXrA)\n",
    "\n",
    "::::{iframe} https://www.youtube.com/embed/QdVFvsCWXrA\n",
    ":width: 100%\n",
    "::::\n",
    "\n",
    ":::::"
   ]
  },
  {
   "cell_type": "markdown",
   "id": "d865dd12",
   "metadata": {
    "slideshow": {
     "slide_type": "subslide"
    }
   },
   "source": [
    "Programmer nowadays write in human-readable languages such as \n",
    "\n",
    "- Python\n",
    "- Rust\n",
    "- C/C++\n",
    "- Java\n",
    "- JavaScript\n",
    "- Typescript\n",
    "- Pascal\n",
    "- Basic \n",
    "- HTML\n",
    "- PHP\n",
    "- ...\n",
    "\n",
    "called *high-level languages*."
   ]
  },
  {
   "cell_type": "markdown",
   "id": "97c8b4ab",
   "metadata": {},
   "source": [
    "::::{important}\n",
    "\n",
    "A *high-level language* intended to be *human understandable* is a *3rd Generation Programming Language*.\n",
    "\n",
    "::::"
   ]
  },
  {
   "cell_type": "markdown",
   "id": "b4f93704",
   "metadata": {
    "slideshow": {
     "slide_type": "fragment"
    }
   },
   "source": [
    "- A program written in a high-level language gets converted automatically to a low-level machine code for the desired platform. \n",
    "- This *abstracts* away low-level details that can be handled by the computer automatically."
   ]
  },
  {
   "cell_type": "markdown",
   "id": "34811976",
   "metadata": {
    "slideshow": {
     "slide_type": "fragment"
    }
   },
   "source": [
    "For instance, a programmer needs not care about where a value should be physically stored if the computer can find a free location automatically to store the value."
   ]
  },
  {
   "cell_type": "markdown",
   "id": "8684bfa4",
   "metadata": {
    "slideshow": {
     "slide_type": "fragment"
    }
   },
   "source": [
    "Different high-level languages can have different implementations of the conversion processes:\n",
    "- **Compilation** means converting a program well before executing the program.  \n",
    "  E.g., C++ and Java programs are compiled.\n",
    "- **Interpretation** means converting a program on-the-fly during the execution of a program.  \n",
    "  E.g., JavaScript and Python programs are often interpreted."
   ]
  },
  {
   "cell_type": "markdown",
   "id": "08dbe23f",
   "metadata": {},
   "source": [
    "::::{seealso} Compiled vs interpreted languages\n",
    ":class: dropdown\n",
    "\n",
    "Roughly speaking, compiled programs run faster but interpreted programs are more flexible and can be modified at run time. The [truth](https://finematics.com/compiled-vs-interpreted-programming-languages/) is indeed more complicated. Python also has a compiler, and recently, a [JIT compiler](https://github.com/python/cpython/pull/113465). Is Python really an interpreted language?\n",
    "\n",
    "::::"
   ]
  },
  {
   "cell_type": "code",
   "execution_count": null,
   "id": "67230de7",
   "metadata": {
    "editable": true,
    "slideshow": {
     "slide_type": ""
    },
    "tags": [
     "skip-execution"
    ]
   },
   "outputs": [],
   "source": [
    "%%ai\n",
    "Explain in one or two paragraphs whether Python is really an interpreted\n",
    "language, given that it also has a compiler and, recently, a JIT compiler, and\n",
    "it can be run as a script like a scripting language."
   ]
  },
  {
   "cell_type": "markdown",
   "id": "669a3260",
   "metadata": {
    "slideshow": {
     "slide_type": "slide"
    }
   },
   "source": [
    "**What programming language will you learn?**"
   ]
  },
  {
   "cell_type": "markdown",
   "id": "524863ec",
   "metadata": {
    "slideshow": {
     "slide_type": "fragment"
    }
   },
   "source": [
    "You will learn to program in [*Python*](https://youtu.be/J0Aq44Pze-w?si=NLwclo8jaqUla1bx), which is currently the most popular language according to the [*TIOBE (The Importance of Being Efficient) Programming Community Index*](https://www.tiobe.com/tiobe-index/).\n",
    "\n",
    "We will cover\n",
    "-  basic topics including *values*, *variables*, *conditional*, *iterations*, *functions*, *composite data types*,\n",
    "-  advanced topics that touch on functional and object-oriented programming, and\n",
    "-  engineering topics such as *numerical methods*, *optimizations*, and *machine learning*."
   ]
  },
  {
   "cell_type": "markdown",
   "id": "03db98a9",
   "metadata": {
    "slideshow": {
     "slide_type": "fragment"
    }
   },
   "source": [
    ":::::{note} Why Python?\n",
    ":class: dropdown\n",
    "\n",
    "Python is:\n",
    "- *expressive* and can get things done with fewer lines of code as compared to other languages.\n",
    "- *popular*. It has an extensive set of libraries for Mathematics, graphics, AI, Machine Learning, etc.\n",
    "- *free and open-source*, so you get to see everything and use it without restrictions.\n",
    "- *portable*, i.e., the same code runs in different platforms without modifications.\n",
    "\n",
    "::::{card}\n",
    ":footer: [open in new tab](https://youtu.be/Y8Tko2YC5hA)\n",
    "\n",
    ":::{iframe} https://www.youtube.com/embed/Y8Tko2YC5hA?end=200\n",
    ":width: 100%\n",
    ":::\n",
    "\n",
    "::::\n",
    "\n",
    ":::::"
   ]
  },
  {
   "cell_type": "markdown",
   "id": "ffe1c653",
   "metadata": {
    "slideshow": {
     "slide_type": "subslide"
    }
   },
   "source": [
    "**How does a Python program look like?**"
   ]
  },
  {
   "cell_type": "code",
   "execution_count": null,
   "id": "ca6eb3ea",
   "metadata": {
    "editable": true,
    "slideshow": {
     "slide_type": "-"
    },
    "tags": [
     "skip-execution"
    ]
   },
   "outputs": [],
   "source": [
    "import datetime  # library to obtain current year\n",
    "\n",
    "cohort = input(\"In which year did you join CityU? [e.g., 2020]\")\n",
    "year = datetime.datetime.now().year - int(cohort) + 1\n",
    "print(\"So you are a year\", year, \"student.\")"
   ]
  },
  {
   "cell_type": "markdown",
   "id": "c39bb2c5",
   "metadata": {
    "slideshow": {
     "slide_type": "fragment"
    }
   },
   "source": [
    "A Python program contains *statements* just like sentences in natural languages. E.g.,\n",
    "```python\n",
    "cohort = input(\"In which year did you join CityU? \")\n",
    "```\n",
    "which obtains some information from user input."
   ]
  },
  {
   "cell_type": "markdown",
   "id": "2ec61778",
   "metadata": {
    "slideshow": {
     "slide_type": "fragment"
    }
   },
   "source": [
    "For the purpose of computations, a statement often contains *expressions* that evaluate to certain values.  E.g.,\n",
    "```python\n",
    "input(\"In which year did you join CityU? \")\n",
    "``` \n",
    "is an expression with the value equal to what you input to the prompt.  \n",
    "That value is then given the name `cohort`."
   ]
  },
  {
   "cell_type": "markdown",
   "id": "af455fe4",
   "metadata": {
    "slideshow": {
     "slide_type": "fragment"
    }
   },
   "source": [
    "Expressions can be composed of the following objects:\n",
    "- *Functions* such as `input`, `now`, and `int`, etc., which are like math functions the return some values based on its arguments, if any.\n",
    "- *Literals* such as the string `\"In which year did you join CityU? \"` and the integer `1`. They are values you type out literally.\n",
    "- *Variables* such as `cohort` and `year`, which are meaningful names to values."
   ]
  },
  {
   "cell_type": "markdown",
   "id": "a63a9c34",
   "metadata": {
    "slideshow": {
     "slide_type": "fragment"
    }
   },
   "source": [
    "To help others understand the code, there are also *comments* that start with `#`.  \n",
    "These are meant to explain the code to human but not to be executed by the computer."
   ]
  },
  {
   "cell_type": "markdown",
   "id": "7b2e22b8",
   "metadata": {
    "deletable": false,
    "editable": false,
    "nbgrader": {
     "cell_type": "markdown",
     "checksum": "7ad5c53b52e684739141cf1eb6295fff",
     "grade": false,
     "grade_id": "cell-6c906df220a97280",
     "locked": true,
     "schema_version": 3,
     "solution": false,
     "task": false
    },
    "slideshow": {
     "slide_type": "subslide"
    }
   },
   "source": [
    "::::{exercise}\n",
    ":label: ex:future-programming\n",
    "\n",
    "What do you think the next generation programming should be?\n",
    "::::"
   ]
  },
  {
   "cell_type": "markdown",
   "id": "f20729b4",
   "metadata": {
    "deletable": false,
    "nbgrader": {
     "cell_type": "markdown",
     "checksum": "e681f16f8b34d0f98c637a98f67b5273",
     "grade": true,
     "grade_id": "cell-205d445ede20461d",
     "locked": false,
     "points": 0,
     "schema_version": 3,
     "solution": true,
     "task": false
    },
    "slideshow": {
     "slide_type": "fragment"
    }
   },
   "source": [
    "YOUR ANSWER HERE"
   ]
  },
  {
   "cell_type": "code",
   "execution_count": null,
   "id": "daca767b",
   "metadata": {
    "editable": true,
    "slideshow": {
     "slide_type": ""
    }
   },
   "outputs": [],
   "source": [
    "%%ai\n",
    "What do you think the next generation programming should be?"
   ]
  }
 ],
 "metadata": {
  "jupytext": {
   "default_lexer": "ipython3"
  },
  "kernelspec": {
   "display_name": "Python 3 (ipykernel)",
   "language": "python",
   "name": "python3"
  }
 },
 "nbformat": 4,
 "nbformat_minor": 5
}
