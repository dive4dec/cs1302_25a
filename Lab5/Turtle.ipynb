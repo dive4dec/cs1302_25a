{
 "cells": [
  {
   "cell_type": "markdown",
   "id": "6a982928",
   "metadata": {},
   "source": [
    "---\n",
    "title: Turtle Graphics\n",
    "skip-execution: true\n",
    "---"
   ]
  },
  {
   "cell_type": "markdown",
   "id": "f10e483c",
   "metadata": {},
   "source": [
    "::::{attention}\n",
    "This notebook is optional and NOT required for any course assessment activities. Lab tutor may go through them if time is available.\n",
    "::::"
   ]
  },
  {
   "cell_type": "code",
   "execution_count": null,
   "id": "e7ebe876",
   "metadata": {},
   "outputs": [],
   "source": [
    "if not input('Load JupyterAI? [Y/n]').lower()=='n':\n",
    "    %reload_ext jupyter_ai"
   ]
  },
  {
   "cell_type": "markdown",
   "id": "dcbcebdb",
   "metadata": {},
   "source": [
    "In this notebok, we will demonstrate the benefit of code reuse with [`turtle`](https://docs.python.org/3/library/p.t.html), which is a module for drawing graphics."
   ]
  },
  {
   "cell_type": "markdown",
   "id": "3929ad5a",
   "metadata": {},
   "source": [
    "## Start to move the turtle"
   ]
  },
  {
   "cell_type": "markdown",
   "id": "2c5cd894",
   "metadata": {},
   "source": [
    "Because Jupyter notebook does not fully support `turtle` (the [`Tkinter` GUI toolkit](https://docs.python.org/3/library/tkinter.html)), we will use `Thonny` under the Linux `Desktop` instead."
   ]
  },
  {
   "cell_type": "markdown",
   "id": "918d9d78",
   "metadata": {},
   "source": [
    "**How to start a Python script in `Thonny`?**"
   ]
  },
  {
   "cell_type": "markdown",
   "id": "3e07bee3",
   "metadata": {},
   "source": [
    "- Open a `Desktop` from the Launcher.\n",
    "- Open `Thonny` via `Application->Development->Thonny` from the menu at the top left corner.\n",
    "- Create a new Python script via `File->New`.\n",
    "- Save the file using `File->Save as...` to `myscript.py` under the Lab4 directory."
   ]
  },
  {
   "cell_type": "markdown",
   "id": "b3737ed7",
   "metadata": {},
   "source": [
    "::::{note}\n",
    "\n",
    "- You may also use Xpra on Windows/Mac/Linux, in which case you can run Thonny from the terminal with the command `thonny`. For mobile devices or devices with limited memory, `Desktop` is recommended.\n",
    "- A Python script ends with the extension `.py`.\n",
    "- `myscript.py` should be placed in the same folder as your Lab3b for the later code to work.\n",
    "\n",
    "::::"
   ]
  },
  {
   "cell_type": "markdown",
   "id": "9248da03",
   "metadata": {},
   "source": [
    "**How to move the turtle?**"
   ]
  },
  {
   "cell_type": "markdown",
   "id": "83ae2060",
   "metadata": {},
   "source": [
    "Type the following in your Python script to import a turle and instruct it to move forward `100` steps:\n",
    "\n",
    "```python\n",
    "import turtle as t\n",
    "\n",
    "t.forward(100)\n",
    "t.exitonclick()\n",
    "```"
   ]
  },
  {
   "cell_type": "markdown",
   "id": "3fde8b63",
   "metadata": {},
   "source": [
    "To get the turtle moving, press `F5` or click the green play button in the toolbar:\n",
    "\n",
    "![Forward](images/forward.dio.svg)"
   ]
  },
  {
   "cell_type": "markdown",
   "id": "f0b0ec64",
   "metadata": {},
   "source": [
    "To exit, simply click on the display window."
   ]
  },
  {
   "cell_type": "markdown",
   "id": "57174741",
   "metadata": {},
   "source": [
    "## Draw polygons"
   ]
  },
  {
   "cell_type": "markdown",
   "id": "139c9a87",
   "metadata": {},
   "source": [
    "**How to have the turtle draw a triangle?**"
   ]
  },
  {
   "cell_type": "markdown",
   "id": "7623fcf0",
   "metadata": {},
   "source": [
    "The following code draws a red equilateral triangle:"
   ]
  },
  {
   "cell_type": "markdown",
   "id": "56fb7e58",
   "metadata": {},
   "source": [
    "```python\n",
    "t.fillcolor('red')\n",
    "t.begin_fill()\n",
    "                 \n",
    "t.forward(100)\n",
    "t.left(120)\n",
    "t.forward(100)\n",
    "t.left(120)\n",
    "t.forward(100)\n",
    "t.left(120)\n",
    "                 \n",
    "t.end_fill()\n",
    "t.exitonclick()\n",
    "```"
   ]
  },
  {
   "cell_type": "markdown",
   "id": "42c09918",
   "metadata": {},
   "source": [
    "`t.left(120)` rotates the turtle to the left by `120` degrees."
   ]
  },
  {
   "cell_type": "markdown",
   "id": "c72c9c31",
   "metadata": {},
   "source": [
    "::::{exercise}\n",
    ":label: ex:loop\n",
    "\n",
    "The code above is quite *repetitive*. Shorten the code using a for loop and run it using your Python script.\n",
    "\n",
    "::::"
   ]
  },
  {
   "cell_type": "markdown",
   "id": "710415ba",
   "metadata": {},
   "source": [
    "**How to draw a square, a regular pentagon, or even any regular polygon?**"
   ]
  },
  {
   "cell_type": "markdown",
   "id": "4946af52",
   "metadata": {},
   "source": [
    "Instead of writing a new script for each polygon, we can write a function:\n",
    "\n",
    "```python\n",
    "def polygon(n, edge, color):\n",
    "    \"\"\"Draw a colored polygon.\n",
    "\n",
    "    A function using turtle to draw a polygon \n",
    "    with arbitrary color and number of edges.\n",
    "\n",
    "    Parameters\n",
    "    ----------\n",
    "    n: int\n",
    "        number of edges.\n",
    "    edge: int\n",
    "        length of each edge.\n",
    "    color: string\n",
    "        color of the polygon\n",
    "    \"\"\"\n",
    "    ...\n",
    "```"
   ]
  },
  {
   "cell_type": "markdown",
   "id": "429f2aa2",
   "metadata": {},
   "source": [
    "::::{exercise}\n",
    ":label: ex:polygon\n",
    "\n",
    "Complete the function `polygon` and call it to draw a `'blue'` pentagon with length `50`.\n",
    "\n",
    ":::{hint}\n",
    ":class: dropdown\n",
    "\n",
    "For a $n$-sided polygon, the turtle should turn by an angle of $\\frac{360}{n}$ at each corner of the polygon. E.g., for the equilateral triangle with `n=3`, the turning angle should be $\\frac{360}3=120$.\n",
    "\n",
    ":::\n",
    "\n",
    "::::"
   ]
  },
  {
   "cell_type": "markdown",
   "id": "f313edac",
   "metadata": {},
   "source": [
    "## Tesselation"
   ]
  },
  {
   "cell_type": "markdown",
   "id": "1270e8c4",
   "metadata": {},
   "source": [
    "**Tessellation problem**"
   ]
  },
  {
   "cell_type": "markdown",
   "id": "078f5577",
   "metadata": {},
   "source": [
    "[Tessellation](https://en.wikipedia.org/wiki/Tessellation) refers to the problem of using geometric shapes to tile a flat plane. E.g., [rhombitrihexagonal tiling](https://en.wikipedia.org/wiki/Rhombitrihexagonal_tiling) is a beautiful tessellation often used by temples and museums. Each hexagon is surrounded by 6 triangles and 6 squares."
   ]
  },
  {
   "cell_type": "markdown",
   "id": "209e3f18",
   "metadata": {},
   "source": [
    "::::{figure}  https://upload.wikimedia.org/wikipedia/commons/a/a0/Tiling_small_rhombi_3-6_simple.svg\n",
    ":name: fig:rhombitrihexagonal-tiling\n",
    ":align: center\n",
    ":width: 100%\n",
    "\n",
    "Rhombitrihexagonal tiling\n",
    "\n",
    "::::"
   ]
  },
  {
   "cell_type": "markdown",
   "id": "4f22b5da",
   "metadata": {},
   "source": [
    "The following code draws:\n",
    "\n",
    "![Rhombitrihexagon](images/rhombitrihexagon.dio.svg)\n",
    "\n",
    "```python\n",
    "from polygons import *\n",
    "\n",
    "t.speed('fast')\n",
    "edge = 50\n",
    "\n",
    "t.left(180)\n",
    "hexagon(edge, 'red')\n",
    "t.right(180)\n",
    "\n",
    "for _ in range(6):\n",
    "    t.left(30)\n",
    "    triangle(edge, 'yellow')\n",
    "    t.right(90)\n",
    "    square(edge, 'purple')\n",
    "    t.forward(edge)\n",
    "    \n",
    "t.hideturtle()\n",
    "t.exitonclick()\n",
    "```"
   ]
  },
  {
   "cell_type": "markdown",
   "id": "1bf3e289",
   "metadata": {},
   "source": [
    "::::{tip}\n",
    "\n",
    "- The module `polygons` implements the functions `triangle`, `square`, `hexagon`, as well as the more general function `polygon`.\n",
    "- `t.speed('fast')` speeds up the turle. You can also use `'fastest'`.\n",
    "- `t.hideturtle()` hides the turtle.\n",
    "\n",
    "::::"
   ]
  },
  {
   "cell_type": "markdown",
   "id": "5630a3e5",
   "metadata": {},
   "source": [
    "::::{exercise}\n",
    ":label: ex:draw\n",
    "Modify the above code to draw the following pattern:\n",
    "\n",
    "![Rhombitrihexagons](images/rhombitrihexagons.dio.svg)\n",
    "\n",
    "Challenge yourself making the code as efficient as possible, e.g., by avoiding double drawing.\n",
    "\n",
    "::::"
   ]
  }
 ],
 "metadata": {
  "jupytext": {
   "default_lexer": "ipython3"
  },
  "kernelspec": {
   "display_name": "Python 3 (ipykernel)",
   "language": "python",
   "name": "python3"
  }
 },
 "nbformat": 4,
 "nbformat_minor": 5
}
