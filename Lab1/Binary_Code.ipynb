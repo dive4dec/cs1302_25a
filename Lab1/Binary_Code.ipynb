{
 "cells": [
  {
   "cell_type": "markdown",
   "id": "5907e75c",
   "metadata": {
    "editable": true,
    "slideshow": {
     "slide_type": "slide"
    }
   },
   "source": [
    "---\n",
    "title: Binary Code\n",
    "skip_execution: true\n",
    "---"
   ]
  },
  {
   "cell_type": "code",
   "execution_count": null,
   "id": "17be7519",
   "metadata": {},
   "outputs": [],
   "source": [
    "if not input('Load JupyterAI? [Y/n]').lower()=='n':\n",
    "    %reload_ext jupyter_ai"
   ]
  },
  {
   "cell_type": "markdown",
   "id": "f5bc4be1",
   "metadata": {},
   "source": [
    "Welcome to this lab where you will explore how computers represent numbers using a fun card-guessing game! Through this lab, you will gain an understanding of how binary numbers are used to represent decimal numbers in computers."
   ]
  },
  {
   "cell_type": "markdown",
   "id": "572dfd4f",
   "metadata": {},
   "source": [
    "## Card Guessing Game"
   ]
  },
  {
   "cell_type": "markdown",
   "id": "a18b980e",
   "metadata": {
    "editable": true,
    "slideshow": {
     "slide_type": "subslide"
    }
   },
   "source": [
    "### Rules"
   ]
  },
  {
   "cell_type": "markdown",
   "id": "6876ac71",
   "metadata": {
    "editable": true,
    "slideshow": {
     "slide_type": "fragment"
    }
   },
   "source": [
    "::::{table} Deck of cards\n",
    ":name: tab:deck\n",
    "\n",
    "<table style=\"width:100%\">\n",
    "  <tr>\n",
    "    <th></th>\n",
    "    <th>1</th>\n",
    "    <th>2</th>\n",
    "    <th>3</th>\n",
    "    <th>4</th>\n",
    "    <th>5</th>\n",
    "    <th>6</th>\n",
    "    <th>7</th>\n",
    "    <th>8</th>\n",
    "    <th>9</th>\n",
    "    <th>10</th>\n",
    "    <th>J</th>\n",
    "    <th>Q</th>\n",
    "    <th>K</th>\n",
    "  </tr>\n",
    "  <tr>\n",
    "    <td>Diamond</td>\n",
    "    <td><img src=\"https://upload.wikimedia.org/wikipedia/commons/e/e9/Cards-A-Diamond.svg\" alt=\"A-Diamond\"></td>\n",
    "    <td><img src=\"https://upload.wikimedia.org/wikipedia/commons/9/99/Cards-2-Diamond.svg\" alt=\"2-Diamond\"></td>\n",
    "    <td><img src=\"https://upload.wikimedia.org/wikipedia/commons/4/44/Cards-3-Diamond.svg\" alt=\"3-Diamond\"></td>\n",
    "    <td><img src=\"https://upload.wikimedia.org/wikipedia/commons/a/af/Cards-4-Diamond.svg\" alt=\"4-Diamond\"></td>\n",
    "    <td><img src=\"https://upload.wikimedia.org/wikipedia/commons/d/dd/Cards-5-Diamond.svg\" alt=\"5-Diamond\"></td>\n",
    "    <td><img src=\"https://upload.wikimedia.org/wikipedia/commons/4/44/Cards-6-Diamond.svg\" alt=\"6-Diamond\"></td>\n",
    "    <td><img src=\"https://upload.wikimedia.org/wikipedia/commons/2/2b/Cards-7-Diamond.svg\" alt=\"7-Diamond\"></td>\n",
    "    <td><img src=\"https://upload.wikimedia.org/wikipedia/commons/9/90/Cards-8-Diamond.svg\" alt=\"8-Diamond\"></td>\n",
    "    <td><img src=\"https://upload.wikimedia.org/wikipedia/commons/2/25/Cards-9-Diamond.svg\" alt=\"9-Diamond\"></td>\n",
    "    <td><img src=\"https://upload.wikimedia.org/wikipedia/commons/c/c2/Cards-10-Diamond.svg\" alt=\"10-Diamond\"></td>\n",
    "    <td><img src=\"https://upload.wikimedia.org/wikipedia/commons/7/78/Cards-J-Diamond.svg\" alt=\"J-Diamond\"></td>\n",
    "    <td><img src=\"https://upload.wikimedia.org/wikipedia/commons/c/c3/Cards-Q-Diamond.svg\" alt=\"Q-Diamond\"></td>\n",
    "    <td><img src=\"https://upload.wikimedia.org/wikipedia/commons/5/55/Cards-K-Diamond.svg\" alt=\"K-Diamond\"></td>\n",
    "  </tr>\n",
    "  <tr>\n",
    "    <td>Club</td>\n",
    "    <td><img src=\"https://upload.wikimedia.org/wikipedia/commons/c/c4/Cards-A-Club.svg\" alt=\"A-Club\"></td>\n",
    "    <td><img src=\"https://upload.wikimedia.org/wikipedia/commons/b/b0/Cards-2-Club.svg\" alt=\"2-Club\"></td>\n",
    "    <td><img src=\"https://upload.wikimedia.org/wikipedia/commons/e/e0/Cards-3-Club.svg\" alt=\"3-Club\"></td>\n",
    "    <td><img src=\"https://upload.wikimedia.org/wikipedia/commons/6/69/Cards-4-Club.svg\" alt=\"4-Club\"></td>\n",
    "    <td><img src=\"https://upload.wikimedia.org/wikipedia/commons/7/7e/Cards-5-Club.svg\" alt=\"5-Club\"></td>\n",
    "    <td><img src=\"https://upload.wikimedia.org/wikipedia/commons/a/af/Cards-6-Club.svg\" alt=\"6-Club\"></td>\n",
    "    <td><img src=\"https://upload.wikimedia.org/wikipedia/commons/8/8e/Cards-7-Club.svg\" alt=\"7-Club\"></td>\n",
    "    <td><img src=\"https://upload.wikimedia.org/wikipedia/commons/f/fd/Cards-8-Club.svg\" alt=\"8-Club\"></td>\n",
    "    <td><img src=\"https://upload.wikimedia.org/wikipedia/commons/a/ac/Cards-9-Club.svg\" alt=\"9-Club\"></td>\n",
    "    <td><img src=\"https://upload.wikimedia.org/wikipedia/commons/2/25/Cards-10-Club.svg\" alt=\"10-Club\"></td>\n",
    "    <td><img src=\"https://upload.wikimedia.org/wikipedia/commons/c/c7/Cards-J-Club.svg\" alt=\"J-Club\"></td>\n",
    "    <td><img src=\"https://upload.wikimedia.org/wikipedia/commons/3/37/Cards-Q-Club.svg\" alt=\"Q-Club\"></td>\n",
    "    <td><img src=\"https://upload.wikimedia.org/wikipedia/commons/9/9e/Cards-K-Club.svg\" alt=\"K-Club\"></td>\n",
    "  </tr>\n",
    "  <tr>\n",
    "    <td>Heart</td>\n",
    "    <td><img src=\"https://upload.wikimedia.org/wikipedia/commons/6/60/Cards-A-Heart.svg\" alt=\"A-Heart\"></td>\n",
    "    <td><img src=\"https://upload.wikimedia.org/wikipedia/commons/6/6e/Cards-2-Heart.svg\" alt=\"2-Heart\"></td>\n",
    "    <td><img src=\"https://upload.wikimedia.org/wikipedia/commons/5/57/Cards-3-Heart.svg\" alt=\"3-Heart\"></td>\n",
    "    <td><img src=\"https://upload.wikimedia.org/wikipedia/commons/3/39/Cards-4-Heart.svg\" alt=\"4-Heart\"></td>\n",
    "    <td><img src=\"https://upload.wikimedia.org/wikipedia/commons/9/91/Cards-5-Heart.svg\" alt=\"5-Heart\"></td>\n",
    "    <td><img src=\"https://upload.wikimedia.org/wikipedia/commons/5/55/Cards-6-Heart.svg\" alt=\"6-Heart\"></td>\n",
    "    <td><img src=\"https://upload.wikimedia.org/wikipedia/commons/d/d4/Cards-7-Heart.svg\" alt=\"7-Heart\"></td>\n",
    "    <td><img src=\"https://upload.wikimedia.org/wikipedia/commons/5/55/Cards-8-Heart.svg\" alt=\"8-Heart\"></td>\n",
    "    <td><img src=\"https://upload.wikimedia.org/wikipedia/commons/d/d2/Cards-9-Heart.svg\" alt=\"9-Heart\"></td>\n",
    "    <td><img src=\"https://upload.wikimedia.org/wikipedia/commons/7/76/Cards-10-Heart.svg\" alt=\"10-Heart\"></td>\n",
    "    <td><img src=\"https://upload.wikimedia.org/wikipedia/commons/e/e7/Cards-J-Heart.svg\" alt=\"J-Heart\"></td>\n",
    "    <td><img src=\"https://upload.wikimedia.org/wikipedia/commons/2/28/Cards-Q-Heart.svg\" alt=\"Q-Heart\"></td>\n",
    "    <td><img src=\"https://upload.wikimedia.org/wikipedia/commons/b/bf/Cards-K-Heart.svg\" alt=\"K-Heart\"></td>\n",
    "  </tr>\n",
    "  <tr>\n",
    "    <td>Spade</td>\n",
    "    <td><img src=\"https://upload.wikimedia.org/wikipedia/commons/9/9d/Cards-A-Spade.svg\" alt=\"A-Spade\"></td>\n",
    "    <td><img src=\"https://upload.wikimedia.org/wikipedia/commons/e/e7/Cards-2-Spade.svg\" alt=\"2-Spade\"></td>\n",
    "    <td><img src=\"https://upload.wikimedia.org/wikipedia/commons/d/d0/Cards-3-Spade.svg\" alt=\"3-Spade\"></td>\n",
    "    <td><img src=\"https://upload.wikimedia.org/wikipedia/commons/4/4e/Cards-4-Spade.svg\" alt=\"4-Spade\"></td>\n",
    "    <td><img src=\"https://upload.wikimedia.org/wikipedia/commons/b/b1/Cards-5-Spade.svg\" alt=\"5-Spade\"></td>\n",
    "    <td><img src=\"https://upload.wikimedia.org/wikipedia/commons/6/68/Cards-6-Spade.svg\" alt=\"6-Spade\"></td>\n",
    "    <td><img src=\"https://upload.wikimedia.org/wikipedia/commons/c/c6/Cards-7-Spade.svg\" alt=\"7-Spade\"></td>\n",
    "    <td><img src=\"https://upload.wikimedia.org/wikipedia/commons/7/7e/Cards-8-Spade.svg\" alt=\"8-Spade\"></td>\n",
    "    <td><img src=\"https://upload.wikimedia.org/wikipedia/commons/0/0a/Cards-9-Spade.svg\" alt=\"9-Spade\"></td>\n",
    "    <td><img src=\"https://upload.wikimedia.org/wikipedia/commons/6/67/Cards-10-Spade.svg\" alt=\"10-Spade\"></td>\n",
    "    <td><img src=\"https://upload.wikimedia.org/wikipedia/commons/e/ea/Cards-J-Spade.svg\" alt=\"J-Spade\"></td>\n",
    "    <td><img src=\"https://upload.wikimedia.org/wikipedia/commons/e/ef/Cards-Q-Spade.svg\" alt=\"Q-Spade\"></td>\n",
    "    <td><img src=\"https://upload.wikimedia.org/wikipedia/commons/1/18/Cards-K-Spade.svg\" alt=\"K-Spade\"></td>\n",
    "  </tr>\n",
    "</table>\n",
    "\n",
    "::::"
   ]
  },
  {
   "cell_type": "markdown",
   "id": "0e788f47",
   "metadata": {
    "editable": true,
    "slideshow": {
     "slide_type": "fragment"
    }
   },
   "source": [
    "[](#tab:deck) shows a deck of 52 cards:\n",
    "-   Each card is in one of the four suits: *Diamond* &#9830;, *Club* &#9827;, *Heart* &#9829;, and *Spade* &#9824;.\n",
    "-   Each card has a value ranging from 1 to 13. For simplicity, the original card values A, J, Q, and K are converted to the numerical values 1, 11, 12, and 13 respectively."
   ]
  },
  {
   "cell_type": "markdown",
   "id": "d6392438",
   "metadata": {},
   "source": [
    ":::{figure} images/card_game.dio.svg\n",
    ":name: fig:card-guessing\n",
    ":alt: A player guesses a card drawn by a dealer.\n",
    ":align: left\n",
    "\n",
    "Card guessing game\n",
    ":::"
   ]
  },
  {
   "cell_type": "markdown",
   "id": "2f6da2e8",
   "metadata": {
    "editable": true,
    "slideshow": {
     "slide_type": ""
    }
   },
   "source": [
    "::::{card}\n",
    ":header: Rules\n",
    "\n",
    "As depicted in [](#fig:card-guessing), the card-guessing game involves the following steps:\n",
    "\n",
    "- The dealer selects a card without revealing it to the player.\n",
    "- The player's goal is to correctly guess the chosen card.\n",
    "- To make an informed guess, the player can ask up to six yes/no questions.\n",
    "- The dealer must answer each question truthfully and immediately.\n",
    "\n",
    ":::{prf:example} Valid questions\n",
    ":class: dropdown\n",
    ":label: eg:valid-questions\n",
    "\n",
    "For instance, the player may ask:\n",
    "- Is the suit club?\n",
    "- Is the card diamond 1?\n",
    "- Is the value at least 10?\n",
    "\n",
    ":::\n",
    "\n",
    ":::{prf:example} Invalid questions\n",
    ":class: dropdown\n",
    ":label: eg:invalid-questions\n",
    "\n",
    "However, the player cannot ask:  \n",
    "- What is the value?\n",
    "- What is the suit?\n",
    "\n",
    "because the answers are not **yes/no**.\n",
    "\n",
    ":::\n",
    "\n",
    "::::"
   ]
  },
  {
   "cell_type": "markdown",
   "id": "653e3899",
   "metadata": {},
   "source": [
    "One strategy is to ask whether the randomly drawn card is a specific card, e.g.,\n",
    "\n",
    ":::{card}\n",
    "\n",
    "Is it the Diamond 1?\n",
    "\n",
    ":::\n",
    "\n",
    "If the answer is yes, the player can confidently guess that the card is Diamond 1 and wins the game. However, if the answer is no, the player can continue to check another card, e.g.,\n",
    "\n",
    ":::{card}\n",
    "\n",
    "Is it the Diamond 2?\n",
    "\n",
    ":::\n",
    "\n",
    "and so on..."
   ]
  },
  {
   "cell_type": "markdown",
   "id": "116087fc",
   "metadata": {},
   "source": [
    "A {term}`pseudocode` that summarizes the above strategy (or {term}`algorithm`) is shown below."
   ]
  },
  {
   "cell_type": "markdown",
   "id": "905ca6a2",
   "metadata": {},
   "source": [
    "::::{prf:algorithm} Checking one card at a time \n",
    ":label: code:1-by-1\n",
    "\n",
    "```{code} python\n",
    ":linenos:\n",
    ":emphasize-lines: 3,4\n",
    "\n",
    "while the number of questions asked < 6 and \\\n",
    "      the correct card has not been guessed yet:\n",
    "    randomly pick a new card not chosen before\n",
    "    ask the dealer whether the drawn card is the chosen one\n",
    "    if the answer is yes:\n",
    "        guess the card and break out of the loop\n",
    "    else:\n",
    "        increment the number of questions asked\n",
    "```\n",
    "\n",
    "::::"
   ]
  },
  {
   "cell_type": "markdown",
   "id": "9904a8d1",
   "metadata": {
    "editable": true,
    "slideshow": {
     "slide_type": ""
    }
   },
   "source": [
    "::::{exercise} chance\n",
    ":label: ex:chance\n",
    "\n",
    "What is the chance of winning using the strategy in [](#code:1-by-1)? \n",
    "\n",
    ":::{attention}\n",
    "Provide your answer in the following code cell by assigning a fraction to the variable `chance` such as\n",
    "\n",
    "```python\n",
    "chance = 0.5\n",
    "```\n",
    "\n",
    "where the value 0.5 means 50% chance. This is just a demo, i.e., 50% is *not* necessarily the correct answer. Give your answer as accurate as possible.\n",
    "\n",
    ":::\n",
    "\n",
    "::::"
   ]
  },
  {
   "cell_type": "code",
   "execution_count": null,
   "id": "9bcc8a27",
   "metadata": {
    "deletable": false,
    "nbgrader": {
     "cell_type": "code",
     "checksum": "a897b9d3697bb3e5aa85893fe5b73157",
     "grade": false,
     "grade_id": "chance",
     "locked": false,
     "schema_version": 3,
     "solution": true,
     "task": false
    }
   },
   "outputs": [],
   "source": [
    "# YOUR CODE HERE\n",
    "raise NotImplementedError"
   ]
  },
  {
   "cell_type": "markdown",
   "id": "56e7958a",
   "metadata": {
    "slideshow": {
     "slide_type": "fragment"
    }
   },
   "source": [
    "::::{tip}\n",
    "\n",
    "Run the following visible tests to check whether the `chance` variable meets the following criteria:\n",
    "\n",
    "- It is greater than or equal to 0.\n",
    "- It is less than or equal to 1.\n",
    "\n",
    "::::"
   ]
  },
  {
   "cell_type": "code",
   "execution_count": null,
   "id": "3ff7f59c",
   "metadata": {
    "deletable": false,
    "editable": false,
    "nbgrader": {
     "cell_type": "code",
     "checksum": "18833ca8b32ec87f1070f52783b0563b",
     "grade": true,
     "grade_id": "test-chance",
     "locked": true,
     "points": 1,
     "schema_version": 3,
     "solution": false,
     "task": false
    },
    "slideshow": {
     "slide_type": ""
    }
   },
   "outputs": [],
   "source": [
    "# tests\n",
    "assert chance >= 0\n",
    "assert chance <= 1"
   ]
  },
  {
   "cell_type": "markdown",
   "id": "9cc47e9a",
   "metadata": {},
   "source": [
    "::::{caution}\n",
    "\n",
    "Passing the visible tests does not guarantee that the answer is correct. The actual correctness will be evaluated using a hidden test to be injected into the following cell.\n",
    "\n",
    "::::"
   ]
  },
  {
   "cell_type": "code",
   "execution_count": null,
   "id": "3cee5e14",
   "metadata": {
    "deletable": false,
    "editable": false,
    "nbgrader": {
     "cell_type": "code",
     "checksum": "7fb5b29aece1c133906b690128e5f9f2",
     "grade": true,
     "grade_id": "htest-chance",
     "locked": true,
     "points": 1,
     "schema_version": 3,
     "solution": false,
     "task": false
    },
    "slideshow": {
     "slide_type": ""
    }
   },
   "outputs": [],
   "source": [
    "# hidden tests"
   ]
  },
  {
   "cell_type": "markdown",
   "id": "c987a4ee",
   "metadata": {},
   "source": [
    "You can ask GenAI for help as follows. Observe the difference in response.\n",
    "Why is there a difference, and which is better?"
   ]
  },
  {
   "cell_type": "code",
   "execution_count": null,
   "id": "e930122d",
   "metadata": {},
   "outputs": [],
   "source": [
    "%%ai\n",
    "What is the general approach in calculating the chance that that one specific \n",
    "object is among k uniformly randomly drawn objects from a set of n distinct \n",
    "objects, without replacement?"
   ]
  },
  {
   "cell_type": "code",
   "execution_count": null,
   "id": "f87e7c1f",
   "metadata": {},
   "outputs": [],
   "source": [
    "%%ai\n",
    "What is the general approach in calculating the chance that a uniformly random\n",
    "draw from a set of n distinct objects is one of the subset of k objects?"
   ]
  },
  {
   "cell_type": "markdown",
   "id": "b41544db",
   "metadata": {},
   "source": [
    "### Virtual Cards"
   ]
  },
  {
   "cell_type": "markdown",
   "id": "cda44a0a",
   "metadata": {},
   "source": [
    "Instead of drawing a physical card, the dealer can use programming to generate a virtual deck and draw a *random*[^pseudorandom] virtual card from it. Run the code below to get the required tools.\n",
    "\n",
    "[^pseudorandom]: The truth is, the random generation process will look random but is not truly random. You will learn about this pseudorandomness later in the course."
   ]
  },
  {
   "cell_type": "code",
   "execution_count": null,
   "id": "02fa3f10",
   "metadata": {},
   "outputs": [],
   "source": [
    "from collections import namedtuple  # for naming the cards\n",
    "from random import choice  # for randomly drawing cards"
   ]
  },
  {
   "cell_type": "markdown",
   "id": "8184db16",
   "metadata": {
    "editable": true,
    "slideshow": {
     "slide_type": "subslide"
    }
   },
   "source": [
    "You'll learn the syntax in a future lecture, but even now, it is clear that the code imports {term}`libraries <library>` for creating named tuples and making random choices, thanks to the design of Python being a high-level programming language."
   ]
  },
  {
   "cell_type": "markdown",
   "id": "36313eac",
   "metadata": {},
   "source": [
    "To create a `deck` of cards, run the following cell."
   ]
  },
  {
   "cell_type": "code",
   "execution_count": null,
   "id": "c50d3396",
   "metadata": {
    "editable": true,
    "slideshow": {
     "slide_type": "-"
    },
    "tags": [
     "output-scroll"
    ]
   },
   "outputs": [],
   "source": [
    "suits = (\"Diamond\", \"Club\", \"Heart\", \"Spade\")\n",
    "values = range(1, 14)\n",
    "Card = namedtuple(\"Card\", [\"value\", \"suit\"])\n",
    "deck = [Card(value, suit) for value in values for suit in suits]\n",
    "deck"
   ]
  },
  {
   "cell_type": "markdown",
   "id": "f8366e92",
   "metadata": {
    "slideshow": {
     "slide_type": "fragment"
    }
   },
   "source": [
    "The code above uses {term}`composite data types <composite data type>` like tuples and lists, which will be formally introduced later in the course. They are handy for storing and manipulating collections of values."
   ]
  },
  {
   "cell_type": "markdown",
   "id": "7ea6129d",
   "metadata": {},
   "source": [
    "Now, you can use the following program to play the game with your friends:"
   ]
  },
  {
   "cell_type": "code",
   "execution_count": null,
   "id": "702e2775",
   "metadata": {
    "editable": true,
    "slideshow": {
     "slide_type": "-"
    }
   },
   "outputs": [],
   "source": [
    "choice(deck)"
   ]
  },
  {
   "cell_type": "markdown",
   "id": "cb911907",
   "metadata": {},
   "source": [
    "::::{tip}\n",
    "\n",
    "To draw cards repeatedly, use <kbd>Ctrl-Enter</kbd> instead of <kbd>Shift-Enter</kbd> to run the code, so the same code cell stay selected after the execution. Note that function `choice` is called an [impure function](https://en.wikipedia.org/wiki/Pure_function) as it can return different values for repeated runs with the same input argument, namely `deck`.\n",
    "\n",
    "::::"
   ]
  },
  {
   "cell_type": "markdown",
   "id": "be4cd53b",
   "metadata": {},
   "source": [
    "::::{exercise} Draw multiple cards\n",
    ":label: ex:multiple-draw\n",
    "\n",
    "Can you fix the code below so that it can return 5 cards randomly drawn with replacement from the deck of cards?\n",
    "\n",
    "```{code} python\n",
    ":linenos:\n",
    ":emphasize-lines: 2\n",
    "\n",
    "def draw_five_cards_randomly():\n",
    "    card1 = card2 = card3 = card4 = card5 = choice(deck)\n",
    "    return  card1, card2, card3, card4, card5\n",
    "```\n",
    "\n",
    ":::{hint}\n",
    ":class: dropdown\n",
    "See the [documentation on assignment statement](https://docs.python.org/3/reference/simple_stmts.html#assignment-statements).\n",
    ":::\n",
    "\n",
    "::::"
   ]
  },
  {
   "cell_type": "code",
   "execution_count": null,
   "id": "2cd33b18",
   "metadata": {
    "deletable": false,
    "nbgrader": {
     "cell_type": "code",
     "checksum": "e88ddbfe661156ff81c8803fed46bfc0",
     "grade": false,
     "grade_id": "multiple_draw",
     "locked": false,
     "schema_version": 3,
     "solution": true,
     "task": false
    }
   },
   "outputs": [],
   "source": [
    "def draw_five_cards_randomly():\n",
    "    # YOUR CODE HERE\n",
    "    raise NotImplementedError\n",
    "    return  card1, card2, card3, card4, card5"
   ]
  },
  {
   "cell_type": "code",
   "execution_count": null,
   "id": "8d8b555f",
   "metadata": {
    "deletable": false,
    "editable": false,
    "nbgrader": {
     "cell_type": "code",
     "checksum": "e57f46422c4a4e16969f2e2dbc29d932",
     "grade": true,
     "grade_id": "test-multiple_draw",
     "locked": true,
     "points": 1,
     "schema_version": 3,
     "solution": false,
     "task": false
    }
   },
   "outputs": [],
   "source": [
    "# tests\n",
    "import random\n",
    "\n",
    "random.seed(1302)  # to make pseudo-random sequences reproducible\n",
    "assert (lambda cards: any(cards[i] != cards[4] for i in range(4)))(\n",
    "    draw_five_cards_randomly()\n",
    ")\n",
    "test_draw_five_cards_randomly = '\\n'.join(In[-1].split()[:-1])"
   ]
  },
  {
   "cell_type": "code",
   "execution_count": null,
   "id": "db0c6fd2",
   "metadata": {},
   "outputs": [],
   "source": [
    "%%ai\n",
    "Explain very briefly what the following test does:\n",
    "---\n",
    "{test_draw_five_cards_randomly}"
   ]
  },
  {
   "cell_type": "code",
   "execution_count": null,
   "id": "eb1efd74",
   "metadata": {
    "deletable": false,
    "editable": false,
    "nbgrader": {
     "cell_type": "code",
     "checksum": "6f62cf6c25def4aae8250d94d05f2c52",
     "grade": true,
     "grade_id": "htest-multiple_draw",
     "locked": true,
     "points": 1,
     "schema_version": 3,
     "solution": false,
     "task": false
    }
   },
   "outputs": [],
   "source": [
    "# hidden tests"
   ]
  },
  {
   "cell_type": "markdown",
   "id": "c058b9ba",
   "metadata": {},
   "source": [
    "::::{caution}\n",
    ":class: dropdown\n",
    "\n",
    "While one may pass the visible test with an answer like\n",
    "\n",
    "```\n",
    "def draw_five_cards_randomly():\n",
    "    card1 = card2 = card3 = card4 = card5 = choice(deck)\n",
    "    card1 = 0\n",
    "    return  card1, card2, card3, card4, card5\n",
    "```\n",
    "\n",
    "Who knows whether the hidden test would catch that `card1` is not even a card in the `deck`? The hidden test can also be modified since it is not hard coded in the notebook.\n",
    "\n",
    "::::"
   ]
  },
  {
   "cell_type": "markdown",
   "id": "04fab81e",
   "metadata": {},
   "source": [
    "Can AI randomly choose 5 cards? Run the following cell a couple of times to\n",
    "see for yourselves."
   ]
  },
  {
   "cell_type": "code",
   "execution_count": null,
   "id": "78aa5a68",
   "metadata": {},
   "outputs": [],
   "source": [
    "%%ai\n",
    "Please draw 5 cards randomly, and explain briefly how you did it."
   ]
  },
  {
   "cell_type": "markdown",
   "id": "fabfe492",
   "metadata": {
    "editable": true,
    "slideshow": {
     "slide_type": ""
    }
   },
   "source": [
    "### Virtual Player"
   ]
  },
  {
   "cell_type": "markdown",
   "id": "f54980ab",
   "metadata": {
    "slideshow": {
     "slide_type": "fragment"
    }
   },
   "source": [
    "Given you have randomly drawn a card,\n",
    "\n",
    "1. run the following code cell, and\n",
    "2. answer the 6 questions raised by the player honestly by entering  \n",
    "    - `1` for yes and\n",
    "    - `0` for no."
   ]
  },
  {
   "cell_type": "code",
   "execution_count": null,
   "id": "2daab42c",
   "metadata": {
    "editable": true,
    "slideshow": {
     "slide_type": "-"
    },
    "tags": [
     "remove-output"
    ]
   },
   "outputs": [],
   "source": [
    "def is_yes(question):\n",
    "    \"\"\"Get an answer to a yes/no question.\"\"\"\n",
    "    return \"1\" == input(question + \" 1:yes [0:no] \")\n",
    "\n",
    "\n",
    "suit_idx = number = 0\n",
    "if is_yes(\"Is the suite either heart or spade?\"):\n",
    "    suit_idx += 2\n",
    "if is_yes(\"Is the suite either club or spade?\"):\n",
    "    suit_idx += 1\n",
    "for i in range(3, -1, -1):\n",
    "    number += 2**i * is_yes(f\"Is the number {number+2**i} or above?\")\n",
    "print(f\"The card is {suits[suit_idx]} {number}\")"
   ]
  },
  {
   "cell_type": "markdown",
   "id": "c60f7362",
   "metadata": {
    "slideshow": {
     "slide_type": "fragment"
    }
   },
   "source": [
    "The code above provides an overview of various programming syntaxes to be covered in great details later in the course:\n",
    "\n",
    "- The program first defines a function called `is_yes` that checks whether the answer to a given question is yes. \n",
    "- To compute the guess, the program modifies the values of the variables `suit_idx` and `number` using\n",
    "  - {term}`conditional` `if` statements and\n",
    "  - a `for` {term}`loop <iteration>`, along with\n",
    "  - different operations such as\n",
    "    - chained assignment `=`,\n",
    "    - augmented assignment `+=`,\n",
    "    - equality comparison `==`, and\n",
    "    - exponentiation `**`."
   ]
  },
  {
   "cell_type": "markdown",
   "id": "d0e853de",
   "metadata": {},
   "source": [
    "::::{exercise} Resolution of uncertainty\n",
    ":label: ex:resolution-capacity\n",
    "\n",
    "Hopefully, you're now convinced that the virtual player has a winning strategy. The answers to six questions not only resolve the uncertainty of a random draw from a deck of six cards, but can also resolve a draw from a deck of 52 cards. Fix the following function `number_of_cards` so that it returns the maximum number of cards from which a random draw can be resolved by the answers to a number of questions specified by an integer assigned to the variable `number_of_questions`.\n",
    "\n",
    "```{code} python\n",
    ":linenos:\n",
    ":emphasize-lines: 2\n",
    "\n",
    "def number_of_cards(number_of_questions):\n",
    "    ans = number_of_questions\n",
    "    return ans\n",
    "```\n",
    "\n",
    "You may assume one can add new values/suits so that a deck may have an arbitrarily number of distinct cards.\n",
    "\n",
    "::::"
   ]
  },
  {
   "cell_type": "code",
   "execution_count": null,
   "id": "efc2c08c",
   "metadata": {
    "deletable": false,
    "nbgrader": {
     "cell_type": "code",
     "checksum": "d43acb83c79cb8d388895f01cff95181",
     "grade": false,
     "grade_id": "resolution_capacity",
     "locked": false,
     "schema_version": 3,
     "solution": true,
     "task": false
    }
   },
   "outputs": [],
   "source": [
    "def number_of_cards(number_of_questions):\n",
    "    # YOUR CODE HERE\n",
    "    raise NotImplementedError\n",
    "    return ans"
   ]
  },
  {
   "cell_type": "code",
   "execution_count": null,
   "id": "4ccb1499",
   "metadata": {
    "deletable": false,
    "editable": false,
    "nbgrader": {
     "cell_type": "code",
     "checksum": "72dee2c86ec91b145b7b0f19efc1442f",
     "grade": true,
     "grade_id": "test-resolution_capacity",
     "locked": true,
     "points": 1,
     "schema_version": 3,
     "solution": false,
     "task": false
    }
   },
   "outputs": [],
   "source": [
    "# tests\n",
    "assert number_of_cards(number_of_questions=6) > len(deck) "
   ]
  },
  {
   "cell_type": "code",
   "execution_count": null,
   "id": "302e20fb",
   "metadata": {
    "deletable": false,
    "editable": false,
    "nbgrader": {
     "cell_type": "code",
     "checksum": "6c956b4ffb271f2127d922a07c49ee3e",
     "grade": true,
     "grade_id": "htest-resolution_capacity",
     "locked": true,
     "points": 1,
     "schema_version": 3,
     "solution": false,
     "task": false
    }
   },
   "outputs": [],
   "source": [
    "# hidden tests"
   ]
  },
  {
   "cell_type": "markdown",
   "id": "10113b17",
   "metadata": {},
   "source": [
    "::::{caution}\n",
    "\n",
    "The value of `number_of_questions` can be very large in the hidden test.\n",
    "\n",
    "::::"
   ]
  },
  {
   "cell_type": "markdown",
   "id": "f40dd636",
   "metadata": {},
   "source": [
    "## Binary Number System"
   ]
  },
  {
   "cell_type": "markdown",
   "id": "e9376e28",
   "metadata": {
    "slideshow": {
     "slide_type": "slide"
    }
   },
   "source": [
    "### Representing non-negative integers"
   ]
  },
  {
   "cell_type": "markdown",
   "id": "d2598e36",
   "metadata": {
    "slideshow": {
     "slide_type": "fragment"
    }
   },
   "source": [
    "The following table gives the binary representions of unsigned decimal integers from 0 to 7."
   ]
  },
  {
   "cell_type": "markdown",
   "id": "630dc295",
   "metadata": {},
   "source": [
    "::::{list-table} Encoding positive integers\n",
    ":name: tab:pos-int\n",
    ":header-rows: 1\n",
    "\n",
    "*\n",
    "    - Binary\n",
    "    - Decimal\n",
    "*\n",
    "    - 000\n",
    "    - 0\n",
    "*\n",
    "    - 001\n",
    "    - 1\n",
    "*\n",
    "    - 010\n",
    "    - 2\n",
    "*\n",
    "    - 011\n",
    "    - 3\n",
    "*\n",
    "    - **1**00\n",
    "    - **4**\n",
    "*\n",
    "    - **1**01\n",
    "    - **5**\n",
    "*\n",
    "    - **1**10\n",
    "    - **6**\n",
    "*\n",
    "    - **1**11\n",
    "    - **7**\n",
    "\n",
    "::::"
   ]
  },
  {
   "cell_type": "markdown",
   "id": "91eca6b7",
   "metadata": {
    "slideshow": {
     "slide_type": "fragment"
    }
   },
   "source": [
    "Observe that the binary representations of 4, 5, 6, and 7 all have **1** in the leftmost (most significant) bit. Consider that bit as the answer to the following **yes/no** question when converting an integer `n` to binary:\n",
    "\n",
    "> Is the integer 4 or above, i.e., $n\\geq 4$?"
   ]
  },
  {
   "cell_type": "markdown",
   "id": "11a93533",
   "metadata": {
    "slideshow": {
     "slide_type": "fragment"
    }
   },
   "source": [
    "Now, to convert the entire binary sequence to decimal, we can think of the conversion as a guessing game where\n",
    "- the binary sequence is a sequence of **yes (1)** or **no (0)** answers to certain **yes/no** questions, and\n",
    "- the informed guess is the integer represented by the binary sequence.\n",
    "\n",
    "![Decoding tree](images/dt.dio.svg)"
   ]
  },
  {
   "cell_type": "markdown",
   "id": "5b5722ad",
   "metadata": {},
   "source": [
    "The following code attempts to convert integers between 0 and 7 to their binary strings."
   ]
  },
  {
   "cell_type": "code",
   "execution_count": null,
   "id": "aaa3b03b",
   "metadata": {
    "deletable": false,
    "editable": false,
    "nbgrader": {
     "cell_type": "code",
     "checksum": "f76fffe16c1f5f528defd216750e4d4f",
     "grade": false,
     "grade_id": "d2b_demo",
     "locked": true,
     "schema_version": 3,
     "solution": false,
     "task": false
    }
   },
   "outputs": [],
   "source": [
    "# Do NOT edit this cell or the autograding may fail\n",
    "def decimal_to_binary(n):\n",
    "    def get_bit(cond):\n",
    "        return \"1\" if cond else \"0\"\n",
    "    return get_bit(eval(Q1)) + get_bit(eval(Q2)) + get_bit(eval(Q3))\n",
    "\n",
    "# Define the questions\n",
    "Q1, Q2, Q3 = \"n >= 4\", \"n >= 2\", \"n >= 1\"\n",
    "\n",
    "# Print the conversions decimal (binary)\n",
    "print(*[f\"{i} ({decimal_to_binary(i)})\" for i in range(8)], sep=\"\\n\")"
   ]
  },
  {
   "cell_type": "markdown",
   "id": "0ea1c145",
   "metadata": {},
   "source": [
    ":::::{exercise} binary code\n",
    ":label: ex:d2b\n",
    "\n",
    "Although the conversions for 0, 1, 3, and 7 are correct, the conversions for 2, 4, 5, and 6 are incorrect. Fix the issue by assigning the correct strings to Q2 and Q3. Similar to Q1, each of the strings should represent a valid Python expression consisting of characters from the list\n",
    "\n",
    "> `n`, `%`, `>`, `=`, `<`, ` `, `0`, `1`, `2`, `3`, `4`, `5`, `6`, `7`, `8`, `9`\n",
    "\n",
    "where `n` should be the only variable used in the expression, denoting the integer to be convert to a binary string. \n",
    "\n",
    "::::{hint}\n",
    ":class: dropdown\n",
    "\n",
    "- [Binary Number System](https://www.mathsisfun.com/binary-number-system.html) and\n",
    "- [Binary Number Conversions](https://www.purplemath.com/modules/numbbase.htm).\n",
    "\n",
    "::::\n",
    "\n",
    "\n",
    ":::::"
   ]
  },
  {
   "cell_type": "code",
   "execution_count": null,
   "id": "b88a360d",
   "metadata": {
    "deletable": false,
    "nbgrader": {
     "cell_type": "code",
     "checksum": "a08ff85222d04b5d50e31a57e47a78be",
     "grade": false,
     "grade_id": "d2b",
     "locked": false,
     "schema_version": 3,
     "solution": true,
     "task": false
    }
   },
   "outputs": [],
   "source": [
    "# Assign strings to Q2 and Q3\n",
    "# YOUR CODE HERE\n",
    "raise NotImplementedError\n",
    "Q2, Q3"
   ]
  },
  {
   "cell_type": "code",
   "execution_count": null,
   "id": "4b3e4577",
   "metadata": {
    "deletable": false,
    "editable": false,
    "nbgrader": {
     "cell_type": "code",
     "checksum": "44d2fe7997ee7bab03e0a2484d230e9f",
     "grade": true,
     "grade_id": "test-d2b",
     "locked": true,
     "points": 1,
     "schema_version": 3,
     "solution": false,
     "task": false
    }
   },
   "outputs": [],
   "source": [
    "# test\n",
    "def check_expr(Q):\n",
    "    eval(Q, {\"__builtins__\": None}, dict(n=0)) # expression with variable n but\n",
    "    return set(Q) <= set(\"n%>=< 0123456789\")  # with no forbidden characters\n",
    "\n",
    "assert all(check_expr(Q) for Q in (Q1, Q2, Q3))\n",
    "assert decimal_to_binary(2) == '010'\n",
    "assert decimal_to_binary(4) == '100'\n",
    "assert decimal_to_binary(5) == '101'\n",
    "assert decimal_to_binary(6) == '110' "
   ]
  },
  {
   "cell_type": "code",
   "execution_count": null,
   "id": "dda39396",
   "metadata": {
    "deletable": false,
    "editable": false,
    "nbgrader": {
     "cell_type": "code",
     "checksum": "d0981384ae49e04fbcb715287361f6c5",
     "grade": true,
     "grade_id": "htest-d2b",
     "locked": true,
     "points": 1,
     "schema_version": 3,
     "solution": false,
     "task": false
    }
   },
   "outputs": [],
   "source": [
    "# hidden tests"
   ]
  },
  {
   "cell_type": "markdown",
   "id": "45ae13b3",
   "metadata": {
    "slideshow": {
     "slide_type": "slide"
    }
   },
   "source": [
    "### Representing negative numbers"
   ]
  },
  {
   "cell_type": "markdown",
   "id": "f0035675",
   "metadata": {
    "slideshow": {
     "slide_type": "fragment"
    }
   },
   "source": [
    "The following also uses 3 bits to represent 8 integers but half of them are negative."
   ]
  },
  {
   "cell_type": "markdown",
   "id": "614ed837",
   "metadata": {
    "slideshow": {
     "slide_type": "-"
    }
   },
   "source": [
    "::::{list-table} Encoding positive integers\n",
    ":name: tab:neg-int\n",
    ":header-rows: 1\n",
    "\n",
    "*\n",
    "    - Binary\n",
    "    - Decimal\n",
    "*\n",
    "    - 000\n",
    "    - 0\n",
    "*\n",
    "    - 001\n",
    "    - 1\n",
    "*\n",
    "    - 010\n",
    "    - 2\n",
    "*\n",
    "    - 011\n",
    "    - 3\n",
    "*\n",
    "    - **1**00\n",
    "    - **-4**\n",
    "*\n",
    "    - **1**01\n",
    "    - **-3**\n",
    "*\n",
    "    - **1**10\n",
    "    - **-2**\n",
    "*\n",
    "    - **1**11\n",
    "    - **-1**\n",
    "\n",
    "::::"
   ]
  },
  {
   "cell_type": "markdown",
   "id": "68591477",
   "metadata": {
    "slideshow": {
     "slide_type": "fragment"
    }
   },
   "source": [
    "::::{note}\n",
    "\n",
    "- The numbers 0, 1, 2, and 3 have the same binary representations as before, but\n",
    "- the binary representations for 4, 5, 6, and 7 are now used for -4, -3, -2, and -1. \n",
    "\n",
    "::::"
   ]
  },
  {
   "cell_type": "markdown",
   "id": "6bc43924",
   "metadata": {
    "slideshow": {
     "slide_type": "subslide"
    }
   },
   "source": [
    "**What is the benefit of the above representation?**"
   ]
  },
  {
   "cell_type": "markdown",
   "id": "c90647c6",
   "metadata": {
    "slideshow": {
     "slide_type": "fragment"
    }
   },
   "source": [
    "To subtract a positive binary number $x$ from another positive binary number $y$, i.e.,\n",
    "\n",
    "$$x - y,$$\n",
    "\n",
    "it seems we can instead perform the binary addition\n",
    "\n",
    "$$x + (-y)$$\n",
    "\n",
    "of a positive binary number $x$ and a negative binary number $-y$."
   ]
  },
  {
   "cell_type": "markdown",
   "id": "1543ab72",
   "metadata": {
    "slideshow": {
     "slide_type": "subslide"
    }
   },
   "source": [
    "For example,\n",
    "\n",
    "$$\n",
    "\\overbrace{011_2}^{3} + \\overbrace{100_2}^{-4} = \\underbrace{111_2}_{-1}\n",
    "$$"
   ]
  },
  {
   "cell_type": "markdown",
   "id": "2ecea95b",
   "metadata": {
    "slideshow": {
     "slide_type": "subslide"
    }
   },
   "source": [
    "It seem to work as well if there are bits carried forward, e.g., $1 + (- 3)$ in binary is\n",
    "\n",
    "$$\n",
    "\\begin{array}{rrrr}\n",
    " & 0 & \\overset{\\color{blue} 1}0 & 1 \\\\\n",
    "+ & 1 & 0 & 1 \\\\\\hline\n",
    "& 1 & 1 &  0 \n",
    "\\end{array}\n",
    "$$\n",
    "\n",
    "which translate to $-2$ in decimal as desired."
   ]
  },
  {
   "cell_type": "markdown",
   "id": "b194efe9",
   "metadata": {
    "slideshow": {
     "slide_type": "subslide"
    }
   },
   "source": [
    "::::{exercise} overflow\n",
    ":label: ex:overflow\n",
    "\n",
    "There is a subtlety when computing $3 - 2$ using binary addition because \n",
    "\n",
    "$$ \\overbrace{011_2}^3 + \\overbrace{110_2}^{-2} = 1001_2$$\n",
    "\n",
    "which overflows to $4$ bits, a seemingly invalid binary representation. Fortunately, there is a simple fix so binary addition can still apply to the above case. Come up with such a fix that also works for other cases such as $3-3$, $2-1$, $-2-1$, etc. \n",
    "\n",
    "$$ \\overbrace{101_2}^3 + \\overbrace{110_2}^{-2} = 1011_2$$\n",
    "\n",
    "\n",
    ":::{hint}\n",
    ":class: dropdown\n",
    "\n",
    "See [two's complement represenation](https://en.wikipedia.org/wiki/Two%27s_complement).\n",
    "Note that some overflow is invalid such as $-3-2$ and $2+2$. Why? As an *optional* challenge, can you suggest how a computer implementing the two's complement representation can detect invalid overflow so that the user is warned when such overflow occur?\n",
    "\n",
    "\n",
    ":::\n",
    "\n",
    "::::"
   ]
  },
  {
   "cell_type": "markdown",
   "id": "ee4c1dfe",
   "metadata": {
    "deletable": false,
    "nbgrader": {
     "cell_type": "markdown",
     "checksum": "ebfc611b93ad1ee08e4b194755df8279",
     "grade": true,
     "grade_id": "fix-overflow",
     "locked": false,
     "points": 1,
     "schema_version": 3,
     "solution": true,
     "task": false
    },
    "slideshow": {
     "slide_type": "-"
    }
   },
   "source": [
    "YOUR ANSWER HERE"
   ]
  },
  {
   "cell_type": "markdown",
   "id": "4a2f32a5",
   "metadata": {
    "slideshow": {
     "slide_type": "slide"
    }
   },
   "source": [
    "## Logic Gates"
   ]
  },
  {
   "cell_type": "markdown",
   "id": "983044be",
   "metadata": {
    "editable": true,
    "slideshow": {
     "slide_type": "subslide"
    }
   },
   "source": [
    "A computer is built from transistors that operates on binary states *on/off*, \n",
    "which is also represented as bits *1/0*, or the [*boolean*](https://en.wikipedia.org/wiki/Boolean_data_type#:~:text=In%20computer%20science%2C%20the%20Boolean,of%20logic%20and%20Boolean%20algebra.) value *true/false*. Play with the following simulator to see some examples."
   ]
  },
  {
   "cell_type": "markdown",
   "id": "3bd45b67",
   "metadata": {
    "editable": true,
    "slideshow": {
     "slide_type": ""
    }
   },
   "source": [
    "::::{card}\n",
    ":header: [Logic simulator](https://logic.ly/demo/)\n",
    "\n",
    "1. Click the logic simulator header above.\n",
    "2. Select *1-Bit Full Adder*.\n",
    "3. Change the input and observe the output."
   ]
  },
  {
   "cell_type": "markdown",
   "id": "9bbbc9c6",
   "metadata": {
    "editable": true,
    "slideshow": {
     "slide_type": "subslide"
    }
   },
   "source": [
    "[](#tab:adder) gives the input and output relationship of a simpler adder, called the half adder, which computes the addition of two input bits $A$ and $B$ as\n",
    "\n",
    "$$\n",
    "A + B = C\\circ S\n",
    "$$\n",
    "\n",
    "where $C$ and $S$ are the output bits, and $C\\circ S$ is the concatenation of two bits $C$ and $S$."
   ]
  },
  {
   "cell_type": "markdown",
   "id": "bff3e422",
   "metadata": {
    "editable": true,
    "slideshow": {
     "slide_type": ""
    }
   },
   "source": [
    "::::{list-table} Adder.\n",
    ":name: tab:adder\n",
    ":header-rows: 1\n",
    "\n",
    "*\n",
    "    - A\n",
    "    - B\n",
    "    - C$\\circ$S\n",
    "*\n",
    "    - 0\n",
    "    - 0\n",
    "    - 00\n",
    "*\n",
    "    - 0\n",
    "    - 1\n",
    "    - 01\n",
    "*\n",
    "    - 1\n",
    "    - 0\n",
    "    - 01\n",
    "*\n",
    "    - 1\n",
    "    - 1\n",
    "    - 10\n",
    "\n",
    "::::"
   ]
  },
  {
   "cell_type": "markdown",
   "id": "958118a7",
   "metadata": {
    "editable": true,
    "slideshow": {
     "slide_type": "fragment"
    }
   },
   "source": [
    "The operation can be built using transistors, called [*logic gates*](https://en.wikipedia.org/wiki/Logic_gate), that can carry out basic logic operations such as\n",
    "\n",
    "- $A \\operatorname{AND} B$: which returns $1$ if and only if both $A$ and $B$ are $1$, and $0$ otherwise.\n",
    "- $A \\operatorname{XOR} B$: which returns $1$ if and only if either $A$ and $B$ are $1$ but not both.\n",
    "\n",
    "The input and output relationships are computed below:"
   ]
  },
  {
   "cell_type": "code",
   "execution_count": null,
   "id": "53ef287a",
   "metadata": {
    "editable": true,
    "slideshow": {
     "slide_type": ""
    }
   },
   "outputs": [],
   "source": [
    "from pandas import DataFrame\n",
    "\n",
    "DataFrame(\n",
    "    [[A, B, A & B, A ^ B] for A in (0, 1) for B in (0, 1)],\n",
    "    columns=[\"A\", \"B\", \"A AND B\", \"A XOR B\"],\n",
    ")"
   ]
  },
  {
   "cell_type": "markdown",
   "id": "ca1e5102",
   "metadata": {
    "editable": true,
    "slideshow": {
     "slide_type": "fragment"
    }
   },
   "source": [
    "::::{note}\n",
    "\n",
    "The logical functions are computed using {term}`bitwise operators <bitwise operator>` `&` and `^`, and the result is stored as a [`DataFrame` object from the `pandas` module](https://pandas.pydata.org/docs/reference/api/pandas.DataFrame.html), which is a useful tool for data analysis to be explained later in the course.\n",
    "\n",
    "::::"
   ]
  },
  {
   "cell_type": "markdown",
   "id": "0737c943",
   "metadata": {
    "editable": true,
    "slideshow": {
     "slide_type": "subslide"
    }
   },
   "source": [
    "::::{exercise} adder\n",
    ":label: ex:adder\n",
    "\n",
    "What is the logic in computing $C$ and $S$ from $A$ and $B$? Use the bitwise operators `&` and `^` to implement the adder below. You solution should be like:\n",
    "\n",
    "```python\n",
    "def adder(A, B):\n",
    "    C = ...\n",
    "    S = ...\n",
    "    return C, S\n",
    "```\n",
    "\n",
    "with `...` replaced by the appropriate bitwise operations on the variables `A` and `B`. \n",
    "\n",
    "::::"
   ]
  },
  {
   "cell_type": "code",
   "execution_count": null,
   "id": "baaacbe4",
   "metadata": {
    "deletable": false,
    "nbgrader": {
     "cell_type": "code",
     "checksum": "eb5252326f1d7690a72aa85cd2a95c58",
     "grade": false,
     "grade_id": "adder",
     "locked": false,
     "schema_version": 3,
     "solution": true,
     "task": false
    }
   },
   "outputs": [],
   "source": [
    "# YOUR CODE HERE\n",
    "raise NotImplementedError"
   ]
  },
  {
   "cell_type": "code",
   "execution_count": null,
   "id": "6958004e",
   "metadata": {
    "deletable": false,
    "editable": false,
    "nbgrader": {
     "cell_type": "code",
     "checksum": "9ecad726a86d59a3d7ab8f325ae918a5",
     "grade": true,
     "grade_id": "test_adder",
     "locked": true,
     "points": 1,
     "schema_version": 3,
     "solution": false,
     "task": false
    }
   },
   "outputs": [],
   "source": [
    "# tests\n",
    "assert adder(0, 0) == (0, 0)\n",
    "assert adder(0, 1) == (0, 1)\n",
    "assert adder(1, 0) == (0, 1)\n",
    "assert adder(1, 1) == (1, 0)"
   ]
  },
  {
   "cell_type": "markdown",
   "id": "b5ba341a",
   "metadata": {
    "editable": true,
    "slideshow": {
     "slide_type": "subslide"
    }
   },
   "source": [
    "::::::{seealso}\n",
    "If you play minecraft, you can build the following devices based on how computers are built from logic gates:\n",
    "\n",
    ":::::{grid} 1 1 2 2\n",
    "\n",
    "::::{card} \n",
    ":header: An adder for binary addition\n",
    ":footer: [open in new tab](https://youtu.be/vtpTri-PZXY)\n",
    "\n",
    ":::{iframe} https://www.youtube.com/embed/vtpTri-PZXY\n",
    ":width: 100%\n",
    "\n",
    ":::\n",
    "\n",
    "::::\n",
    "\n",
    "::::{card} \n",
    ":header: A calculator for calculus\n",
    ":footer: [open in new tab](https://youtu.be/5NzIt9sns6o)\n",
    "\n",
    ":::{iframe} https://www.youtube.com/embed/5NzIt9sns6o\n",
    ":width: 100%\n",
    "\n",
    ":::\n",
    "\n",
    "::::\n",
    "\n",
    ":::::\n",
    "::::::"
   ]
  },
  {
   "cell_type": "code",
   "execution_count": null,
   "id": "8e6e95f3",
   "metadata": {},
   "outputs": [],
   "source": [
    "%%ai\n",
    "Compare and explain briefly how an AND gate is built in a transistor vs in minecraft?"
   ]
  },
  {
   "cell_type": "markdown",
   "id": "bac22723",
   "metadata": {
    "editable": true,
    "slideshow": {
     "slide_type": ""
    }
   },
   "source": [
    "## Glossary"
   ]
  },
  {
   "cell_type": "markdown",
   "id": "6ebc823d",
   "metadata": {
    "editable": true,
    "slideshow": {
     "slide_type": ""
    }
   },
   "source": [
    ":::{glossary}\n",
    "\n",
    "algorithm\n",
    ": An algorithm is a set of instructions that a computer program follows to solve a problem or complete a task. It is a step-by-step approach designed to be efficient and accurate.\n",
    "\n",
    "bitwise operator\n",
    ": [Bitwise operators](https://wiki.python.org/moin/BitwiseOperators) are used to manipulate individual bits of binary numbers. They allow for the manipulation of data at a low level, such as setting or clearing specific bits, shifting bits left or right, or performing logical operations on bits.\n",
    "\n",
    "composite data type\n",
    ": A composite data type groups related data into a single unit so that they can be easily stored and manipulated together.\n",
    "\n",
    "conditional\n",
    ": A conditional statement is used to perform different actions based on different conditions. It allows the program to make decisions and execute specific code blocks based on the evaluation of a given condition.\n",
    "\n",
    "iteration\n",
    ": An iteration is a repeated execution until a condition is met. It allows for the efficient repetition of tasks without the need for writing the same code multiple times. \n",
    "\n",
    "library\n",
    ": A library is a collection of pre-written code that developers can use to perform common tasks. It contains functions, classes, and other reusable code that can be integrated into a larger software application, saving time and effort.\n",
    "\n",
    "pseudocode\n",
    ": Pseudocode is a high-level description of a program or algorithm, using natural language and code-like syntax to express logic without being bound to a specific programming language. It is used during planning and design phases of software development.\n",
    "\n",
    ":::"
   ]
  }
 ],
 "metadata": {
  "jupytext": {
   "default_lexer": "ipython3"
  },
  "kernelspec": {
   "display_name": "Python 3 (ipykernel)",
   "language": "python",
   "name": "python3"
  }
 },
 "nbformat": 4,
 "nbformat_minor": 5
}
