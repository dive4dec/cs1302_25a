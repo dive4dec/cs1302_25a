{
 "cells": [
  {
   "cell_type": "markdown",
   "id": "0af2eedb",
   "metadata": {
    "editable": true,
    "slideshow": {
     "slide_type": "slide"
    }
   },
   "source": [
    "---\n",
    "title: Debugger\n",
    "skip_execution: true\n",
    "---"
   ]
  },
  {
   "cell_type": "markdown",
   "id": "52364fd0",
   "metadata": {},
   "source": [
    "::::{attention}\n",
    "\n",
    "This notebook is optional and NOT required for any course assessment activities. Lab tutor may go through them if time is available.\n",
    "\n",
    "::::"
   ]
  },
  {
   "cell_type": "code",
   "execution_count": null,
   "id": "0e0eba99",
   "metadata": {},
   "outputs": [],
   "source": [
    "if not input('Load JupyterAI? [Y/n]').lower()=='n':\n",
    "    %reload_ext jupyter_ai"
   ]
  },
  {
   "cell_type": "markdown",
   "id": "f55c74ff",
   "metadata": {
    "slideshow": {
     "slide_type": "slide"
    }
   },
   "source": [
    "## Motivation"
   ]
  },
  {
   "cell_type": "markdown",
   "id": "30a4a4e0",
   "metadata": {
    "slideshow": {
     "slide_type": "fragment"
    }
   },
   "source": [
    "Computer programs can sometimes behave in an unexpected way due to errors or {term}`bug`s. Finding the errors might be easy for simple programs. However, for programs consisting of many lines of code, finding errors can be very hard."
   ]
  },
  {
   "cell_type": "markdown",
   "id": "7e0dfeae",
   "metadata": {
    "slideshow": {
     "slide_type": "fragment"
    }
   },
   "source": [
    "A {term}`debugger` allows us to pause the execution of a program at a line of code set as a {term}`breakpoint`. This allows us to find errors more easily. In this lab, we will learn to use the [visual debugger](https://jupyterlab.readthedocs.io/en/stable/user/debugger.html) in JupyterLab."
   ]
  },
  {
   "cell_type": "markdown",
   "id": "4c5e2409",
   "metadata": {
    "slideshow": {
     "slide_type": "slide"
    }
   },
   "source": [
    "## Debugging in JupyterLab"
   ]
  },
  {
   "cell_type": "markdown",
   "id": "380d1238",
   "metadata": {
    "editable": true,
    "slideshow": {
     "slide_type": "subslide"
    }
   },
   "source": [
    "To enter the debug mode, click on the debugger icon 🕷️ in the toolbar. The debugging sidebar should slide open. You can also open/close the sidebar by clicking the debugger icon on the right side bar."
   ]
  },
  {
   "cell_type": "markdown",
   "id": "5cd15bdf",
   "metadata": {
    "slideshow": {
     "slide_type": "subslide"
    }
   },
   "source": [
    "We will use the following code as an example to set a breakpoint. First, execute the code to see the effect."
   ]
  },
  {
   "cell_type": "code",
   "execution_count": null,
   "id": "c0bfa591",
   "metadata": {},
   "outputs": [],
   "source": [
    "msg = \"Hello, World!\"\n",
    "print(msg)"
   ]
  },
  {
   "cell_type": "markdown",
   "id": "fa20e1ca",
   "metadata": {
    "slideshow": {
     "slide_type": "subslide"
    }
   },
   "source": [
    "Code cells look different in debug mode: Each line of the code cell has a line number on the left margin. To set a breakpoint:\n",
    "(set-breakpoint)=\n",
    "1. Press the dot that appears as you hover to the left of line number 2.\n",
    "2. Run the cell and observe that only line 1 is executed but not line 2."
   ]
  },
  {
   "cell_type": "markdown",
   "id": "fa14c2aa",
   "metadata": {
    "editable": true,
    "slideshow": {
     "slide_type": ""
    }
   },
   "source": [
    ":::::{seealso} Visual Debugger in JupyterLab\n",
    "\n",
    "The debugger provides additional information organized into different panels as shown in [](#fig:debugger-panels):\n",
    "\n",
    "::::{grid} 1 1 2 2\n",
    "\n",
    "- **Variables panel** shows the current values of different variables. E.g., check the value of `msg` in the panel, and also other special/function variables.\n",
    "- **Callstack panel** provides a detailed context of where the execution is paused. It also provides the flow control buttons to resume/stop the execution. E.g., the above cell is actually run as a `.py` script.\n",
    "- **Breakpoints panel** shows all the breakpoints of the current debug session. E.g., the breakpoint is current at line 2 of the `.py` script.\n",
    "- **Source panel** shows the code being debugged. `/tmp/ipykernel_*/*.py`[^case] is a temporary file that stores the code of the cell being executed. E.g., you can list the file in a terminal with the command:\n",
    "  ```bash\n",
    "  ls /tmp/ipykernel_*/*.py\n",
    "  ```\n",
    "- **Kernel sources** list the code that runs the kernel, which in turn runs the code cell being debugged. E.g., `IPython` runs the Python 3 (ipykernel).\n",
    "\n",
    ":::{figure} images/debugger-panels.svg\n",
    ":name: fig:debugger-panels\n",
    ":align: left\n",
    "\n",
    "Debugger panels\n",
    ":::\n",
    "\n",
    "::::\n",
    "\n",
    ":::::\n",
    "\n",
    "[^case]: The path should be in lower case even though the debugger shows it in upper case."
   ]
  },
  {
   "cell_type": "markdown",
   "id": "ccdc515f",
   "metadata": {
    "slideshow": {
     "slide_type": "-"
    }
   },
   "source": [
    "Sometimes, it is helpful to run temporary code that shares the same context as the notebook, but without modifying the notebook. Normally, this can be done using a {term}`console`:"
   ]
  },
  {
   "cell_type": "markdown",
   "id": "daf2b459",
   "metadata": {},
   "source": [
    "- Right click anywhere on a notebook and choose `New Console for Notebook`:\n",
    "- Type some code such as `msg` into the console input and run it with `Shift-Enter`:"
   ]
  },
  {
   "cell_type": "markdown",
   "id": "47997332",
   "metadata": {
    "slideshow": {
     "slide_type": "subslide"
    }
   },
   "source": [
    "However, if you need to run temporary code while debugging a code cell, the console above won't work because a breakpoint also pauses the execution of the console. We need a special console called the debug console:"
   ]
  },
  {
   "cell_type": "markdown",
   "id": "d9e2388e",
   "metadata": {},
   "source": [
    "Set a breakpoint at Line 2 of the above code and run it in debug mode.\n",
    "\n",
    "1. Click the ![](images/evaluate-code.svg) icon in the callstack panel to open a debug console. Enter the code `print(msg)` and click `Evaluate`. Explain what gets printed to the cell output.\n",
    "2. Repeat the last step but evaluate the code `msg=\"Message modified!\"` in the debug console instead. Observe the value of `msg` from the Variables panel."
   ]
  },
  {
   "cell_type": "markdown",
   "id": "616071d8",
   "metadata": {},
   "source": [
    "Finally, to resume/terminate the execution, use the following {term}`flow control` buttons at the top of the callstack panel:\n",
    "\n",
    "- **Next/Step-over** button continues the execution of program to the next line of code to be executed.\n",
    "- **Continue** button continues the execution and pause again if it hits a breakpoint.\n",
    "- **Terminate** button stops the execution."
   ]
  },
  {
   "cell_type": "markdown",
   "id": "879f0534",
   "metadata": {},
   "source": [
    "Let try debugging the following program, which attempts to implements the [Knuth's up arrow](https://mathworld.wolfram.com/PowerTower.html) \n",
    "\n",
    "$$\n",
    "a\\uparrow\\uparrow k  = \\underbrace{a^{a^{\\cdot^{\\cdot^{\\cdot^{a}}}}}}_{k}\n",
    "$$\n",
    "\n",
    "for $n>0$."
   ]
  },
  {
   "cell_type": "code",
   "execution_count": null,
   "id": "27255653",
   "metadata": {},
   "outputs": [],
   "source": [
    "def kua(a, k):\n",
    "    if k > 1:\n",
    "        return kua(a, k-1) ** a\n",
    "    return a"
   ]
  },
  {
   "cell_type": "markdown",
   "id": "ec91d986",
   "metadata": {},
   "source": [
    "::::{exercise}\n",
    "\n",
    "Provide the correct definition of `kua` below. Do it use `for` or `while` loops, if you already know about them.\n",
    "\n",
    ":::{hint}\n",
    "\n",
    "Use the visual debugger to set a breakpoint at the failed test case. Step into the function call to verify whether the intermediate values computed are expected.\n",
    "\n",
    ":::\n",
    "\n",
    "::::"
   ]
  },
  {
   "cell_type": "code",
   "execution_count": null,
   "id": "32754477",
   "metadata": {
    "deletable": false,
    "nbgrader": {
     "cell_type": "code",
     "checksum": "db9f42c5b5a6dc681459e5b27a462200",
     "grade": false,
     "grade_id": "kua",
     "locked": false,
     "schema_version": 3,
     "solution": true,
     "task": false
    }
   },
   "outputs": [],
   "source": [
    "def kua(a, k):\n",
    "    # YOUR CODE HERE\n",
    "    raise NotImplementedError"
   ]
  },
  {
   "cell_type": "code",
   "execution_count": null,
   "id": "5e8abd83",
   "metadata": {
    "deletable": false,
    "editable": false,
    "nbgrader": {
     "cell_type": "code",
     "checksum": "b829b711fc895406f4418987e0f98e6a",
     "grade": true,
     "grade_id": "test-kua",
     "locked": true,
     "points": 0,
     "schema_version": 3,
     "solution": false,
     "task": false
    }
   },
   "outputs": [],
   "source": [
    "# tests\n",
    "assert kua(2, 0) == 1\n",
    "assert kua(2, 1) == 2\n",
    "assert kua(2, 2) == 2**2\n",
    "assert kua(2, 3) == 2**2**2\n",
    "assert kua(2, 4) == 2**2**2**2\n",
    "assert kua(3, 0) == 1\n",
    "assert kua(3, 1) == 3\n",
    "assert kua(3, 2) == 3**3\n",
    "assert kua(3, 3) == 3**3**3"
   ]
  },
  {
   "cell_type": "markdown",
   "id": "e53a74be",
   "metadata": {
    "slideshow": {
     "slide_type": "slide"
    }
   },
   "source": [
    "## Other Debuggers"
   ]
  },
  {
   "cell_type": "markdown",
   "id": "36196900",
   "metadata": {
    "slideshow": {
     "slide_type": "fragment"
    }
   },
   "source": [
    "Seeing is believing. You can also debug your code by visualizing the code execution."
   ]
  },
  {
   "cell_type": "markdown",
   "id": "18080309",
   "metadata": {
    "slideshow": {
     "slide_type": "slide"
    }
   },
   "source": [
    "First, load the `divewidgets` using a line magic:"
   ]
  },
  {
   "cell_type": "code",
   "execution_count": null,
   "id": "59fe099d",
   "metadata": {},
   "outputs": [],
   "source": [
    "%reload_ext divewidgets"
   ]
  },
  {
   "cell_type": "markdown",
   "id": "ad1a26d6",
   "metadata": {
    "slideshow": {
     "slide_type": "fragment"
    }
   },
   "source": [
    "Then, create a cell magic with the Python code you want to visualize:"
   ]
  },
  {
   "cell_type": "code",
   "execution_count": null,
   "id": "f7f02c7a",
   "metadata": {},
   "outputs": [],
   "source": [
    "%%optlite --height 500\n",
    "def kua(a, k):\n",
    "    if k > 1:\n",
    "        return kua(a, k-1) ** a\n",
    "    return a\n",
    "\n",
    "assert kua(2, 4) == 2**2**2**2"
   ]
  },
  {
   "cell_type": "markdown",
   "id": "fb81a3e0",
   "metadata": {
    "slideshow": {
     "slide_type": "subslide"
    }
   },
   "source": [
    "Try the following:\n",
    "- Drag the slider to time-travel the code execution.\n",
    "- Click any lines with code to toggle breakpoints, and click `Next >` (`< Prev`) to go the the next (previous) breakpoint.\n",
    "- Click the `Edit the code` link to edit the code.\n",
    "- Click the `Permalink` button to generate a url of the code, and copy and paste the url to a new browser window to run the visualization there.\n",
    "- Click the `Live Edit` button to live edit the code in a new browser window, where your changes to the code are immediately visualized. You can also time-travel and generate a permalink there."
   ]
  },
  {
   "cell_type": "markdown",
   "id": "210e69fd",
   "metadata": {
    "slideshow": {
     "slide_type": "subslide"
    }
   },
   "source": [
    "Run the following cell to see additional options available to the cell magic."
   ]
  },
  {
   "cell_type": "code",
   "execution_count": null,
   "id": "cc578c59",
   "metadata": {},
   "outputs": [],
   "source": [
    "%%optlite?"
   ]
  },
  {
   "cell_type": "markdown",
   "id": "b7fef244",
   "metadata": {
    "slideshow": {
     "slide_type": "subslide"
    }
   },
   "source": [
    "If you're struggling to understand or debug a piece of code, you can use OPTLite to share a link of the code with others. You can create a permalink like this:\n",
    "\n",
    "> https://dive4dec.github.io/optlite/#code=def%20kua%28a,%20k%29%3A%0A%20%20%20%20if%20k%20%3E%201%3A%0A%20%20%20%20%20%20%20%20return%20kua%28a,%20k-1%29%20**%20a%0A%20%20%20%20return%20a%0A%0Aassert%20kua%282,%204%29%20%3D%3D%202%20**%202%20**%202%20**%202&mode=edit&origin=opt-frontend.js&rawInputLstJSON=%5B%5D\n",
    "\n",
    "If you change `mode=edit` in the query string to `mode=display`, the visualization will start automatically:\n",
    "\n",
    "> https://dive4dec.github.io/optlite/#code=def%20kua%28a,%20k%29%3A%0A%20%20%20%20if%20k%20%3E%201%3A%0A%20%20%20%20%20%20%20%20return%20kua%28a,%20k-1%29%20**%20a%0A%20%20%20%20return%20a%0A%0Aassert%20kua%282,%204%29%20%3D%3D%202%20**%202%20**%202%20**%202&mode=display&origin=opt-frontend.js&rawInputLstJSON=%5B%5D\n",
    "\n",
    "To automatically enter live editing mode, specify `live.html` in the path:\n",
    "\n",
    "> https://dive4dec.github.io/optlite/live.html#code=def%20kua%28a,%20k%29%3A%0A%20%20%20%20if%20k%20%3E%201%3A%0A%20%20%20%20%20%20%20%20return%20kua%28a,%20k-1%29%20**%20a%0A%20%20%20%20return%20a%0A%0Aassert%20kua%282,%204%29%20%3D%3D%202%20**%202%20**%202%20**%202&mode=edit&origin=opt-frontend.js&rawInputLstJSON=%5B%5D"
   ]
  },
  {
   "cell_type": "markdown",
   "id": "7fe1fb19",
   "metadata": {},
   "source": [
    "::::{note}\n",
    "\n",
    "OPTLite is a serverless setup that allows you to run the popular learning tool, [Online Python Tutor](https://pythontutor.com/), locally on your browser without any advertisements or restrictions on your code. We developed [OPTLite](https://github.com/dive4dec/optlite) to enable offline use once the page is loaded. \n",
    "\n",
    "::::"
   ]
  },
  {
   "cell_type": "markdown",
   "id": "a821a412",
   "metadata": {},
   "source": [
    "VSCode offers a more powerful debugging that allows programmers to debug both jupyter notebooks or python scripts with conditional breakpoints:\n",
    "\n",
    "- [Debug Jupyter notebook](https://code.visualstudio.com/docs/datascience/jupyter-notebooks#_debug-a-jupyter-notebook)\n",
    "- [Debug Python scripts](https://code.visualstudio.com/docs/python/debugging)"
   ]
  },
  {
   "cell_type": "markdown",
   "id": "a15c114a",
   "metadata": {},
   "source": [
    "::::{exercise}\n",
    ":label: ex:debug_is_perfect_square\n",
    "\n",
    "To practice debugging with VSCode, try to understand why the function `is_perfect_square` from [`untils.py`](./utils.py) fails on the obvious perfect square $(10^{23})^2$. If you are not afraid of challenges, try to fix the code with as few modifications as possible.\n",
    "\n",
    "::::"
   ]
  },
  {
   "cell_type": "code",
   "execution_count": null,
   "id": "6c639193",
   "metadata": {
    "deletable": false,
    "editable": false,
    "nbgrader": {
     "cell_type": "code",
     "checksum": "3333cc81cdad203e91f4515f29a84586",
     "grade": true,
     "grade_id": "test_is_perfect_square",
     "locked": true,
     "points": 0,
     "schema_version": 3,
     "solution": false,
     "task": false
    }
   },
   "outputs": [],
   "source": [
    "from importlib import reload\n",
    "import utils\n",
    "\n",
    "reload(utils)  # to reload updates to utils.py without restarting kernel\n",
    "utils.is_perfect_square((10**23) ** 2)"
   ]
  },
  {
   "cell_type": "markdown",
   "id": "742f66d5",
   "metadata": {},
   "source": [
    "## Glossary"
   ]
  },
  {
   "cell_type": "markdown",
   "id": "2b0b2250",
   "metadata": {
    "editable": true,
    "slideshow": {
     "slide_type": ""
    }
   },
   "source": [
    "::::{glossary}\n",
    "breakpoint\n",
    ": A designated point in a program's code where execution will pause, allowing the programmer to examine the program's state and behavior at that point. Breakpoints are often used in conjunction with a debugger to help identify and resolve errors or bugs in a program.\n",
    "\n",
    "bug\n",
    ": An error or defect in a software program that causes it to behave unexpectedly or not according to its intended purpose. Bugs can range from minor issues to major problems that can cause crashes or data loss.\n",
    "\n",
    "callstack\n",
    ": A data structure that keeps track of the functions or procedures that have been called in a program, along with their parameters and return values. The callstack is used by the program to keep track of where it is in the execution process and to manage memory usage.\n",
    "\n",
    "console\n",
    ": A command-line interface or text-based window used for interacting with a program or operating system. The console allows users to enter commands and view output from the system or program.\n",
    "\n",
    "debugger\n",
    ": A tool or program used to identify and resolve errors or bugs in software code. Debuggers can be used to step through code, examine variables and data structures, and identify the source of errors in a program.\n",
    "\n",
    "flow control\n",
    ": The process of controlling the order in which a program executes its instructions. Flow control can be achieved through conditional statements, loops, and other control structures that allow the program to make decisions and repeat actions based on certain conditions.\n",
    "::::"
   ]
  }
 ],
 "metadata": {
  "jupytext": {
   "default_lexer": "ipython3"
  },
  "kernelspec": {
   "display_name": "Python 3 (ipykernel)",
   "language": "python",
   "name": "python3"
  }
 },
 "nbformat": 4,
 "nbformat_minor": 5
}
