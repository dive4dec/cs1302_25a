{
 "cells": [
  {
   "cell_type": "markdown",
   "id": "ce2b453c",
   "metadata": {
    "slideshow": {
     "slide_type": "slide"
    }
   },
   "source": [
    "---\n",
    "title: Combinatorics\n",
    "---"
   ]
  },
  {
   "cell_type": "code",
   "execution_count": null,
   "id": "d5c0ea7d",
   "metadata": {},
   "outputs": [],
   "source": [
    "%reload_ext divewidgets"
   ]
  },
  {
   "cell_type": "code",
   "execution_count": null,
   "id": "102933f1",
   "metadata": {},
   "outputs": [],
   "source": [
    "if not input('Load JupyterAI? [Y/n]').lower()=='n':\n",
    "    %reload_ext jupyter_ai"
   ]
  },
  {
   "cell_type": "markdown",
   "id": "8dd2d75b",
   "metadata": {
    "slideshow": {
     "slide_type": "slide"
    }
   },
   "source": [
    "## Permutation using recursion"
   ]
  },
  {
   "cell_type": "markdown",
   "id": "f37edf6b",
   "metadata": {
    "slideshow": {
     "slide_type": "subslide"
    }
   },
   "source": [
    "::::{prf:definition}\n",
    "\n",
    "Given a collection of $n\\geq 0$ items $a_0,\\dots,a_{n-1}$ and an integer $k$, a [$k$-permutation of the $n$](https://en.wikipedia.org/wiki/Permutation#k-permutations_of_n) items is an ordered tuple \n",
    "\n",
    "$$\n",
    "(a_{i_0},\\dots,a_{i_{k-1}})\n",
    "$$ \n",
    "of $k$ out of the $n$ objects for some choice of distinct indices $0\\leq i_0,\\dots,i_{k-1}<n$. An $n$-permutation of $n$ objects is called a permutation of $n$ objects.\n",
    "\n",
    "::::"
   ]
  },
  {
   "cell_type": "markdown",
   "id": "019e5056",
   "metadata": {
    "slideshow": {
     "slide_type": "fragment"
    }
   },
   "source": [
    "For examples:\n",
    "- The list of ($3$-)permutations of `1,2,3` is:"
   ]
  },
  {
   "cell_type": "code",
   "execution_count": null,
   "id": "75f51327",
   "metadata": {
    "slideshow": {
     "slide_type": "-"
    }
   },
   "outputs": [],
   "source": [
    "[(1, 2, 3), (1, 3, 2), (2, 1, 3), (2, 3, 1), (3, 1, 2), (3, 2, 1)]"
   ]
  },
  {
   "cell_type": "markdown",
   "id": "510fcfc4",
   "metadata": {
    "slideshow": {
     "slide_type": "fragment"
    }
   },
   "source": [
    "- The list of $2$-permutations of `1,2,3` is:"
   ]
  },
  {
   "cell_type": "code",
   "execution_count": null,
   "id": "d0372bb4",
   "metadata": {
    "slideshow": {
     "slide_type": "-"
    }
   },
   "outputs": [],
   "source": [
    "[(1, 2), (1, 3), (2, 1), (2, 3), (3, 1), (3, 2)]"
   ]
  },
  {
   "cell_type": "markdown",
   "id": "0c8c6e3e",
   "metadata": {},
   "source": [
    "- The list of $4$-permutation of 1,2,3 is:"
   ]
  },
  {
   "cell_type": "code",
   "execution_count": null,
   "id": "a7d01f27",
   "metadata": {},
   "outputs": [],
   "source": [
    "[]"
   ]
  },
  {
   "cell_type": "markdown",
   "id": "c179b306",
   "metadata": {
    "slideshow": {
     "slide_type": "fragment"
    }
   },
   "source": [
    "In the above, we used\n",
    "- a `tuple` delimited by `()` such as `(1,2,3)` to store items of a permutation, and \n",
    "- a `list` delimited by `[]` such as `[(1, 2, 3), (1, 3, 2), (2, 1, 3), (2, 3, 1), (3, 1, 2), (3, 2, 1)]` to store all the permutations."
   ]
  },
  {
   "cell_type": "markdown",
   "id": "fe6ad0f5",
   "metadata": {
    "slideshow": {
     "slide_type": "subslide"
    }
   },
   "source": [
    "Generating permutations is a fundamental problem in computing and combinatorics. A simple way to generate permutations is by the following recurrence relation."
   ]
  },
  {
   "cell_type": "markdown",
   "id": "eb3d7cf6",
   "metadata": {
    "slideshow": {
     "slide_type": "fragment"
    }
   },
   "source": [
    "::::{prf:proposition}\n",
    "\n",
    "A $k$-permutation of $n$ satisfies the recurrence relation for $1\\leq k \\leq n$:  \n",
    "- Removing the first element of a $k$-permutation of $n$ objects gives a different $(k-1)$-permutation of the remaining $n-1$ objects.\n",
    "\n",
    "$$ (a_{i_0}, \\underbrace{a_{i_1},\\dots,a_{i_{k-1}}}_{\\text{\\scriptsize $(k-1)$-permutation of $a_{i_1},\\dots,a_{i_{k-1}}$.}\\kern-5em} ) $$\n",
    "\n",
    "- Reversing the above removal process gives a way of constructing a $k$-permutation from a $(k-1)$-permutation.  \n",
    "  E.g., the permutations of $1,2,3$ can be constructed as follows:\n",
    "\n",
    "$$[\\overbrace{({\\color{red} 1}, {\\color{blue}{2, 3}}), ({\\color{red} 1}, {\\color{blue}{3, 2}})}^{\\text{\\scriptsize prepend 1 to permutations of $2,3$.} }, \\overbrace{({\\color{red} 2}, {\\color{blue}{1, 3}}), ({\\color{red} 2}, {\\color{blue}{3, 1}})}^{\\text{\\scriptsize prepend 2 to permutations of $1,3$.} }, \\overbrace{({\\color{red} 3}, {\\color{blue}{1, 2}}), ({\\color{red} 3}, {\\color{blue}{2, 1}})}^{\\text{\\scriptsize prepend 3 to permutations of $1,2$.} }]$$\n",
    "\n",
    "::::"
   ]
  },
  {
   "cell_type": "markdown",
   "id": "96bdf71b",
   "metadata": {
    "slideshow": {
     "slide_type": "fragment"
    }
   },
   "source": [
    "The following implements the recurrence equation as a recursion:"
   ]
  },
  {
   "cell_type": "code",
   "execution_count": null,
   "id": "35ee70b5",
   "metadata": {
    "slideshow": {
     "slide_type": "-"
    }
   },
   "outputs": [],
   "source": [
    "def permutation(*a, k=None):\n",
    "    \"\"\"Construct all (k-)permutations of the position arguments.\n",
    "\n",
    "    Parameters\n",
    "    ----------\n",
    "    *a: object, object, ...\n",
    "        n items specified as positional arguments\n",
    "    k: int\n",
    "        Optional argument indicating the size of each permutation. \n",
    "        Default: number n of items specified in *a.\n",
    "\n",
    "    Returns\n",
    "    -------\n",
    "    list:\n",
    "        List of all k-permutations represented as ordered tuples of the n objects.\n",
    "    \"\"\"\n",
    "    n = len(a)\n",
    "    output = []\n",
    "    if k is None:\n",
    "        k = n\n",
    "    if 0 < k <= n:\n",
    "        for i in range(n):\n",
    "            output.extend(\n",
    "                [(a[i],) + p for p in permutation(*a[:i], *a[i + 1 :], k=k - 1)]\n",
    "            )\n",
    "    elif k == 0:\n",
    "        return [()]\n",
    "    return output\n",
    "permutation_v1 = '\\n'.join(In[-1].split('\\n')[:-1]) # to query AI later"
   ]
  },
  {
   "cell_type": "code",
   "execution_count": null,
   "id": "74bd0d0b",
   "metadata": {},
   "outputs": [],
   "source": [
    "print(permutation(1, 2, 3))\n",
    "print(permutation(1, 2, 3, k=2))"
   ]
  },
  {
   "cell_type": "markdown",
   "id": "a0c37a3e",
   "metadata": {
    "slideshow": {
     "slide_type": "fragment"
    }
   },
   "source": [
    "In particular, the recurrence is implemented by the for loop:\n",
    "```python\n",
    "        ...\n",
    "        for i in range(n):\n",
    "            output.extend([(a[i], ) + p\n",
    "                           for p in permutation(*a[:i], *a[i + 1:], k=k - 1)])\n",
    "        ...\n",
    "```"
   ]
  },
  {
   "cell_type": "markdown",
   "id": "cb203f2b",
   "metadata": {
    "slideshow": {
     "slide_type": "fragment"
    }
   },
   "source": [
    "In the above code, `(a[i],) + p` creates a $k$-permutation of the items in `a` by concatenating for each index `i`\n",
    "- a singleton tuple `(a[i],)` and \n",
    "- a $(k-1)$-permutation `p` of all elements but `a[i]`.\n",
    "\n",
    "(See the example in the recurrence relation described earlier.)"
   ]
  },
  {
   "cell_type": "markdown",
   "id": "3416954c",
   "metadata": {
    "slideshow": {
     "slide_type": "fragment"
    }
   },
   "source": [
    "::::{note}\n",
    "\n",
    "- The comma in `(a[i],)` is not a typo. Without commas, `(...)` does not create a tuple. \n",
    "- `a[:i]` returns a tuple of `a[0]` up to and excluding `a[i]`. `*a[:i]` unpacks the tuple such that its items are separate arguments to `permutation`. \n",
    "- Similarly, `*a[i + 1:]` provides items as separate arguments starting from `a[i + 1]` until the last item in `a`.\n",
    "- `[... for ...]` generates a list of $k$-permutations, and `output.extend([...])` added the list to the end of the `output` list.\n",
    "\n",
    "::::"
   ]
  },
  {
   "cell_type": "markdown",
   "id": "0b6dfef1",
   "metadata": {
    "slideshow": {
     "slide_type": "subslide"
    }
   },
   "source": [
    "::::{exercise}\n",
    ":label: ex:base\n",
    "\n",
    "One of the base cases of the recursion happens when $k=0$, in which case there is only one $k$-permutation, namely the empty tuple $()$, and so the function returns `[()]`. There is another base case of the recursion. Explain the condition of that base case and its return value.\n",
    "\n",
    ":::{hint}\n",
    ":class: dropdown\n",
    "\n",
    "A base case is a function call with specific arguments that returns a value without requiring any further recursive calls to the function itself.\n",
    "\n",
    ":::\n",
    "\n",
    "::::"
   ]
  },
  {
   "cell_type": "markdown",
   "id": "a3ddb407",
   "metadata": {
    "deletable": false,
    "nbgrader": {
     "cell_type": "markdown",
     "checksum": "6065a26e19375f235f176ebfe6fcddee",
     "grade": true,
     "grade_id": "base-case",
     "locked": false,
     "points": 1,
     "schema_version": 3,
     "solution": true,
     "task": false
    },
    "slideshow": {
     "slide_type": "-"
    }
   },
   "source": [
    "YOUR ANSWER HERE"
   ]
  },
  {
   "cell_type": "markdown",
   "id": "70f6c962",
   "metadata": {
    "slideshow": {
     "slide_type": "slide"
    }
   },
   "source": [
    "## Number of permutations"
   ]
  },
  {
   "cell_type": "markdown",
   "id": "27ff3a25",
   "metadata": {},
   "source": [
    "Computing permutations using recursion is slow. Why?"
   ]
  },
  {
   "cell_type": "markdown",
   "id": "6f9bdef8",
   "metadata": {},
   "source": [
    "Let us first improve the recursion using a helper function as follows:"
   ]
  },
  {
   "cell_type": "code",
   "execution_count": null,
   "id": "92f2a123",
   "metadata": {},
   "outputs": [],
   "source": [
    "def permutation(*a, k=None):\n",
    "    \"\"\"Construct all (k-)permutations of the position arguments.\n",
    "\n",
    "    Parameters\n",
    "    ----------\n",
    "    *a: object, object, ...\n",
    "        n items specified as positional arguments\n",
    "    k: int\n",
    "        Optional argument indicating the size of each permutation. \n",
    "        Default: number n of items specified in *a.\n",
    "\n",
    "    Returns\n",
    "    -------\n",
    "    list:\n",
    "        List of all k-permutations represented as ordered tuples of the n objects.\n",
    "    \"\"\"\n",
    "    def permutation_helper(a, k, output, current=[]):\n",
    "        if k==0:\n",
    "            output.append(tuple(current))\n",
    "        else:\n",
    "            for i in range(len(a)):\n",
    "                current.append(a[i])\n",
    "                permutation_helper([*a[:i], *a[i + 1 :]], k-1, output, current)\n",
    "                current.pop()\n",
    "\n",
    "    n = len(a)\n",
    "    if k is None:\n",
    "        k = n\n",
    "    if 0 <= k <= n:\n",
    "        permutation_helper(a, k, output:=[])\n",
    "    return output\n",
    "permutation_v2 = '\\n'.join(In[-1].split('\\n')[:-1]) # to query AI later"
   ]
  },
  {
   "cell_type": "code",
   "execution_count": null,
   "id": "66885d00",
   "metadata": {},
   "outputs": [],
   "source": [
    "print(permutation(1, 2, 3))\n",
    "print(permutation(1, 2, 3, k=2))"
   ]
  },
  {
   "cell_type": "code",
   "execution_count": null,
   "id": "d581d230",
   "metadata": {},
   "outputs": [],
   "source": [
    "%%ai\n",
    "Explain briefly why the second implementation is better than the first?\n",
    "--\n",
    "{permutation_v1}\n",
    "--\n",
    "{permutation_v2}"
   ]
  },
  {
   "cell_type": "code",
   "execution_count": null,
   "id": "2100efc9",
   "metadata": {},
   "outputs": [],
   "source": [
    "if input(\"Execute? [Y/n]\").lower!='n': # don't remove this check/fence, or auto-grading will fail\n",
    "    n = 10\n",
    "    output = permutation(*range(1, n + 1))\n",
    "    print(f\"# {n}-permutations:\", len(output))"
   ]
  },
  {
   "cell_type": "markdown",
   "id": "ebc1ca48",
   "metadata": {},
   "source": [
    "::::{caution} 😈: Do you want to see a crash? \n",
    ":class: dropdown\n",
    "\n",
    "Re-run the above cell with `n = 11` instead to use up your memory.\n",
    "\n",
    "::::"
   ]
  },
  {
   "cell_type": "markdown",
   "id": "c7f4cf4f",
   "metadata": {
    "slideshow": {
     "slide_type": "fragment"
    }
   },
   "source": [
    "There are too many permutations, even for a reasonably small $n$."
   ]
  },
  {
   "cell_type": "markdown",
   "id": "4c0e7023",
   "metadata": {
    "slideshow": {
     "slide_type": "subslide"
    }
   },
   "source": [
    "Quite surprisingly, the number of permutations can be calculated significantly faster without enumerating all the permutations."
   ]
  },
  {
   "cell_type": "markdown",
   "id": "05c8209c",
   "metadata": {},
   "source": [
    "::::{prf:proposition}\n",
    "\n",
    "The number $P_n$ of ($n-$)permutations of $n$ items satisfies the following recurrence:\n",
    "\n",
    "$$\n",
    "P_n = \\begin{cases}\n",
    "n P_{n-1} & n>0\\\\\n",
    "1 & n=0\\\\\n",
    "0 & \\text{otherwise.}\n",
    "\\end{cases}\n",
    "$$ (Pn)\n",
    "\n",
    "::::"
   ]
  },
  {
   "cell_type": "markdown",
   "id": "7b9fbfdb",
   "metadata": {},
   "source": [
    "The quantity is fundamental in the field of [combinatorics](https://en.wikipedia.org/wiki/Combinatorics) with enormous applications."
   ]
  },
  {
   "cell_type": "markdown",
   "id": "b957b14e",
   "metadata": {
    "slideshow": {
     "slide_type": "fragment"
    }
   },
   "source": [
    "::::{exercise}\n",
    ":label: ex:num-permutation\n",
    "\n",
    "Implement the above recurrence equation.\n",
    "\n",
    ":::{hint}\n",
    ":class: dropdown\n",
    "\n",
    "Ensure all base cases are covered, and the code can run efficiently for large $n$.\n",
    "\n",
    ":::\n",
    "\n",
    "::::"
   ]
  },
  {
   "cell_type": "code",
   "execution_count": null,
   "id": "5879b9ea",
   "metadata": {
    "deletable": false,
    "nbgrader": {
     "cell_type": "code",
     "checksum": "aedca4bab233c02091e774d7067bb2fe",
     "grade": false,
     "grade_id": "num_permutations",
     "locked": false,
     "schema_version": 3,
     "solution": true,
     "task": false
    },
    "slideshow": {
     "slide_type": "-"
    },
    "tags": [
     "remove-output"
    ]
   },
   "outputs": [],
   "source": [
    "def num_permutation(n):\n",
    "    \"\"\"Compute the number of permutations.\n",
    "\n",
    "    Parameters\n",
    "    ----------\n",
    "    n: int\n",
    "        Number of items.\n",
    "\n",
    "    Return\n",
    "    ------\n",
    "    int:\n",
    "        Number of permutations of n items.\n",
    "    \"\"\"\n",
    "    # YOUR CODE HERE\n",
    "    raise NotImplementedError"
   ]
  },
  {
   "cell_type": "code",
   "execution_count": null,
   "id": "9c755a32",
   "metadata": {
    "code_folding": [
     0
    ],
    "deletable": false,
    "editable": false,
    "nbgrader": {
     "cell_type": "code",
     "checksum": "c90e8ca4a1e355604aa2ba8450dbb9f8",
     "grade": true,
     "grade_id": "test-num_permutations",
     "locked": true,
     "points": 1,
     "schema_version": 3,
     "solution": false,
     "task": false
    },
    "slideshow": {
     "slide_type": "-"
    },
    "tags": [
     "remove-output",
     "hide-input"
    ]
   },
   "outputs": [],
   "source": [
    "# tests\n",
    "assert num_permutation(10) == 3628800\n",
    "assert num_permutation(0) == 1\n",
    "assert num_permutation(-1) == 0"
   ]
  },
  {
   "cell_type": "code",
   "execution_count": null,
   "id": "579eda64",
   "metadata": {
    "code_folding": [
     0
    ],
    "deletable": false,
    "editable": false,
    "nbgrader": {
     "cell_type": "code",
     "checksum": "538708ebb746bbee1cbfc6f8fda5cb0a",
     "grade": true,
     "grade_id": "htest-num_permutations",
     "locked": true,
     "points": 1,
     "schema_version": 3,
     "solution": false,
     "task": false
    },
    "tags": [
     "remove-cell"
    ]
   },
   "outputs": [],
   "source": [
    "# hidden tests"
   ]
  },
  {
   "cell_type": "markdown",
   "id": "3a76b219",
   "metadata": {},
   "source": [
    "::::{prf:proposition}\n",
    "\n",
    "The number $P_{n,k}$ of $k$-permutations of $n$ items is given by the formula\n",
    "\n",
    "$$\n",
    "P_{n,k} = \\begin{cases}\n",
    "\\frac{P_n}{P_{n-k}} & 0\\leq k \\leq n\\\\\n",
    "0 & \\text{otherwise.}\n",
    "\\end{cases}\n",
    "$$ (Pnk)\n",
    "\n",
    "::::"
   ]
  },
  {
   "cell_type": "markdown",
   "id": "189816ef",
   "metadata": {
    "slideshow": {
     "slide_type": "subslide"
    }
   },
   "source": [
    "::::{exercise}\n",
    ":label: ex:optional-argument\n",
    "\n",
    "Extend the function `num_permutation` to allow for an optional argument `k`.\n",
    "\n",
    "::::"
   ]
  },
  {
   "cell_type": "code",
   "execution_count": null,
   "id": "161162d9",
   "metadata": {
    "deletable": false,
    "nbgrader": {
     "cell_type": "code",
     "checksum": "20eea9b9f06cbbe96f2aba80623ee326",
     "grade": false,
     "grade_id": "num_permutation_k",
     "locked": false,
     "schema_version": 3,
     "solution": true,
     "task": false
    },
    "tags": [
     "remove-output"
    ]
   },
   "outputs": [],
   "source": [
    "def num_permutation(n, k=None):\n",
    "    \"\"\"Compute the number of k-permutations of n items.\n",
    "\n",
    "    Parameters\n",
    "    ----------\n",
    "    n: int\n",
    "        Number of items to permute.\n",
    "    k: int\n",
    "        Optional argument indicating the size of each permutation.\n",
    "        Default: n\n",
    "\n",
    "    Returns\n",
    "    -------\n",
    "    int:\n",
    "        Number of k-permutations of n items.\n",
    "    \"\"\"\n",
    "    # YOUR CODE HERE\n",
    "    raise NotImplementedError"
   ]
  },
  {
   "cell_type": "code",
   "execution_count": null,
   "id": "479986f1",
   "metadata": {
    "code_folding": [
     0
    ],
    "deletable": false,
    "editable": false,
    "nbgrader": {
     "cell_type": "code",
     "checksum": "0be258ccdc62a9203d4ef40ca83b3576",
     "grade": true,
     "grade_id": "test-num_permutation_k",
     "locked": true,
     "points": 1,
     "schema_version": 3,
     "solution": false,
     "task": false
    },
    "tags": [
     "remove-output",
     "hide-input"
    ]
   },
   "outputs": [],
   "source": [
    "# tests\n",
    "assert isinstance(num_permutation(0), int)\n",
    "assert num_permutation(3) == 6\n",
    "assert num_permutation(3, 0) == 1\n",
    "assert num_permutation(3, 2) == 6\n",
    "assert num_permutation(10, 5) == 30240"
   ]
  },
  {
   "cell_type": "code",
   "execution_count": null,
   "id": "4f8e39f2",
   "metadata": {
    "code_folding": [
     0
    ],
    "deletable": false,
    "editable": false,
    "nbgrader": {
     "cell_type": "code",
     "checksum": "2b965ed10f9c5a88be084179b949465d",
     "grade": true,
     "grade_id": "htest-num_permutation_k",
     "locked": true,
     "points": 1,
     "schema_version": 3,
     "solution": false,
     "task": false
    },
    "tags": [
     "remove-cell"
    ]
   },
   "outputs": [],
   "source": [
    "# hidden tests"
   ]
  },
  {
   "cell_type": "markdown",
   "id": "f8a665b6",
   "metadata": {
    "slideshow": {
     "slide_type": "slide"
    }
   },
   "source": [
    "## Permutation using iteration"
   ]
  },
  {
   "cell_type": "markdown",
   "id": "61f83921",
   "metadata": {
    "slideshow": {
     "slide_type": "subslide"
    }
   },
   "source": [
    "The following function `permutation_sequence(*a)` returns a generator that generates the list of $k$-permutations one-by-one for $k$ from $0$ to `len(a)`."
   ]
  },
  {
   "cell_type": "code",
   "execution_count": null,
   "id": "6007c7ff",
   "metadata": {
    "slideshow": {
     "slide_type": "-"
    }
   },
   "outputs": [],
   "source": [
    "def permutation_sequence(*a):\n",
    "    \"\"\"Returns a generator for the k-permutations of the positional arguments\n",
    "    for k from 0 to len(a).\"\"\"\n",
    "    n = len(a)\n",
    "    output, idx_left = [()], [tuple(range(n))]\n",
    "    for k in range(n + 1):\n",
    "        yield output\n",
    "        next_output, next_idx_left = [], []\n",
    "        for m in range(len(idx_left)):\n",
    "            for j in range(len(idx_left[m])):\n",
    "                i = idx_left[m][j]\n",
    "                next_output.append(output[m] + (a[i],))\n",
    "                next_idx_left.append(idx_left[m][:j] + idx_left[m][j + 1 :])\n",
    "        output, idx_left = next_output, next_idx_left\n",
    "\n",
    "\n",
    "for permutation_list in permutation_sequence(1, 2, 3):\n",
    "    print(permutation_list)"
   ]
  },
  {
   "cell_type": "markdown",
   "id": "5072d2e3",
   "metadata": {
    "slideshow": {
     "slide_type": "fragment"
    }
   },
   "source": [
    "Unlike the recursive function `permutation`, the above generates a $k$-permutation $(a_{i_0},\\dots,a_{i_{k-1}})$ of $n$ items iteratively by \n",
    "- choosing $i_j$ for $j$ from $0$ to $k-1$ such that\n",
    "- $i_j$ is not already chosen, i.e., $i_j\\not\\in \\{i_0,\\dots,i_{j-1}\\}$."
   ]
  },
  {
   "cell_type": "markdown",
   "id": "32821d6d",
   "metadata": {
    "slideshow": {
     "slide_type": "fragment"
    }
   },
   "source": [
    "E.g., the permutations of $1,2,3$ is generated iteratively as follows:\n",
    "- 1\n",
    " - 1,2\n",
    "   - **(1,2,3)**\n",
    " - 1,3\n",
    "   - **(1,3,2)**\n",
    "- 2\n",
    " - 2,1\n",
    "   - **(2,1,3)**\n",
    " - 2,3\n",
    "   - **(2,3,1)**\n",
    "- 3\n",
    " - 3,1\n",
    "   - **(3,1,2)**\n",
    " - 3,2\n",
    "   - **(3,2,1)**"
   ]
  },
  {
   "cell_type": "markdown",
   "id": "28ad8a22",
   "metadata": {
    "slideshow": {
     "slide_type": "fragment"
    }
   },
   "source": [
    "::::{prf:proposition}\n",
    "\n",
    "`permutation_sequence` maintains the following *invariance* at the beginning of each iteration:  \n",
    "- `output` is the list of $k$-permutations, and\n",
    "- `idx_left[m]` is the list of indices of arguments not yet in `output[m]`. \n",
    "\n",
    "A $(k+1)$-permutation (in `next_output`) can then be generated by appending an argument (with an index from `idx_left`) to a $k$-permutation (in `output`).\n",
    "\n",
    "::::"
   ]
  },
  {
   "cell_type": "markdown",
   "id": "aa6b7e26",
   "metadata": {
    "slideshow": {
     "slide_type": "subslide"
    }
   },
   "source": [
    "Is iteration significantly faster?"
   ]
  },
  {
   "cell_type": "markdown",
   "id": "c23a0f36",
   "metadata": {},
   "source": [
    "Try running the following code in a new console:\n",
    "\n",
    "```python\n",
    "n = 10\n",
    "for k, permutation_list in enumerate(permutation_sequence(*range(1, n + 1))):\n",
    "    print(\"# {}-permutations of {} items: {}\".format(k, n, len(permutation_list)))\n",
    "```"
   ]
  },
  {
   "cell_type": "markdown",
   "id": "287feeb0",
   "metadata": {
    "slideshow": {
     "slide_type": "fragment"
    }
   },
   "source": [
    "Unfortunately, there is not much improvement. Nevertheless, we can efficiently compute the number of $k$-permutations based on the previously computed number of $k-1$-permutations:\n",
    "\n",
    "For $k$ from $0$ to $n$,\n",
    "\n",
    "$$\n",
    "P_{n,k} = \\underbrace{\\overbrace{n\\times  (n-1)\\times \\cdots }^{P_{n,k-1}\\text{  if }k>0}\\times(n-k+1)}_{\\text{$k$ terms in the product.}}.$$ (Pnk:expanded)"
   ]
  },
  {
   "cell_type": "markdown",
   "id": "346ee613",
   "metadata": {
    "slideshow": {
     "slide_type": "subslide"
    }
   },
   "source": [
    "::::{exercise}\n",
    ":label: ex:yield\n",
    "\n",
    "Use the `yield` statement to write the function `num_permutation_sequence(n)` that returns a generator of $P_{n,k}$ with `k` from `0` to `n`.\n",
    "\n",
    "::::"
   ]
  },
  {
   "cell_type": "code",
   "execution_count": null,
   "id": "1bc04636",
   "metadata": {
    "deletable": false,
    "nbgrader": {
     "cell_type": "code",
     "checksum": "149ae469452997b076465f43b4c28448",
     "grade": false,
     "grade_id": "num_permutation_sequence",
     "locked": false,
     "schema_version": 3,
     "solution": true,
     "task": false
    },
    "slideshow": {
     "slide_type": "-"
    },
    "tags": [
     "remove-output"
    ]
   },
   "outputs": [],
   "source": [
    "def num_permutation_sequence(n):\n",
    "    output = 1\n",
    "    for k in range(0, n + 1):\n",
    "        # YOUR CODE HERE\n",
    "        raise NotImplementedError"
   ]
  },
  {
   "cell_type": "code",
   "execution_count": null,
   "id": "71ad6832",
   "metadata": {
    "code_folding": [
     4
    ],
    "deletable": false,
    "editable": false,
    "nbgrader": {
     "cell_type": "code",
     "checksum": "0badadbb8e5755e1869896df82ab3eb7",
     "grade": true,
     "grade_id": "test-num_permutation_sequence",
     "locked": true,
     "points": 1,
     "schema_version": 3,
     "solution": false,
     "task": false
    },
    "slideshow": {
     "slide_type": "-"
    },
    "tags": [
     "remove-output",
     "hide-input"
    ]
   },
   "outputs": [],
   "source": [
    "# tests\n",
    "assert [m for m in num_permutation_sequence(3)] == [1, 3, 6, 6]\n",
    "assert [m for m in num_permutation_sequence(10)] == [\n",
    "    1,\n",
    "    10,\n",
    "    90,\n",
    "    720,\n",
    "    5040,\n",
    "    30240,\n",
    "    151200,\n",
    "    604800,\n",
    "    1814400,\n",
    "    3628800,\n",
    "    3628800]"
   ]
  },
  {
   "cell_type": "code",
   "execution_count": null,
   "id": "94037de2",
   "metadata": {
    "deletable": false,
    "editable": false,
    "nbgrader": {
     "cell_type": "code",
     "checksum": "c4a61482dcb54b55ef58f6aebbd93ddf",
     "grade": true,
     "grade_id": "htest-num_permutation_sequence",
     "locked": true,
     "points": 1,
     "schema_version": 3,
     "solution": false,
     "task": false
    },
    "tags": [
     "remove-cell"
    ]
   },
   "outputs": [],
   "source": [
    "# hidden tests"
   ]
  },
  {
   "cell_type": "markdown",
   "id": "8162ace7",
   "metadata": {
    "slideshow": {
     "slide_type": "subslide"
    }
   },
   "source": [
    "::::{exercise}\n",
    ":label: ex:send\n",
    "\n",
    "Extend the function `num_permutation_sequence(n)` so that calling `send(0)` method causes the generator to increment $n$ instead of $k$ for the next number to generate. i.e., for $0\\leq k \\leq n$,\n",
    "\n",
    "$$\\dots P_{n,k-1}\\to P_{n,k} \\xrightarrow{\\text{send(0)}} P_{n+1,k} \\to P_{n+1,k+1}\\dots$$\n",
    "where $\\to$ without labels is the normal transition without calling the `send` method.\n",
    "\n",
    ":::{hint}\n",
    ":class: dropdown\n",
    "\n",
    "By {eq}`Pnk:expanded`,\n",
    "\n",
    "$$P_{n+1,k}=P_{n,k} \\times \\frac{n+1}{n-k+1}.$$\n",
    "\n",
    ":::\n",
    "\n",
    "::::"
   ]
  },
  {
   "cell_type": "code",
   "execution_count": null,
   "id": "5eef85dc",
   "metadata": {
    "deletable": false,
    "nbgrader": {
     "cell_type": "code",
     "checksum": "3810568d5d3da1211baa75f56708c2fe",
     "grade": false,
     "grade_id": "num_permutation_sequence_send",
     "locked": false,
     "schema_version": 3,
     "solution": true,
     "task": false
    },
    "slideshow": {
     "slide_type": "-"
    },
    "tags": [
     "remove-output"
    ]
   },
   "outputs": [],
   "source": [
    "def num_permutation_sequence(n):\n",
    "    # YOUR CODE HERE\n",
    "    raise NotImplementedError"
   ]
  },
  {
   "cell_type": "code",
   "execution_count": null,
   "id": "3c4435b5",
   "metadata": {
    "code_folding": [],
    "deletable": false,
    "editable": false,
    "nbgrader": {
     "cell_type": "code",
     "checksum": "d00e2083024e9f76ca08f093d0bba12a",
     "grade": true,
     "grade_id": "test-num_permutation_sequence_send",
     "locked": true,
     "points": 1,
     "schema_version": 3,
     "solution": false,
     "task": false
    },
    "slideshow": {
     "slide_type": "-"
    },
    "tags": [
     "remove-output",
     "hide-input"
    ]
   },
   "outputs": [],
   "source": [
    "# tests\n",
    "g = num_permutation_sequence(3)\n",
    "assert (next(g), next(g), g.send(0), next(g), next(g), next(g), g.send(0)) == (\n",
    "    1,\n",
    "    3,\n",
    "    4,\n",
    "    12,\n",
    "    24,\n",
    "    24,\n",
    "    120)"
   ]
  },
  {
   "cell_type": "code",
   "execution_count": null,
   "id": "875e3b04",
   "metadata": {
    "deletable": false,
    "editable": false,
    "nbgrader": {
     "cell_type": "code",
     "checksum": "81c9c370c3e5f9429cb4993c07f3489c",
     "grade": true,
     "grade_id": "htest-num_permutation_sequence_send",
     "locked": true,
     "points": 1,
     "schema_version": 3,
     "solution": false,
     "task": false
    },
    "tags": [
     "remove-cell"
    ]
   },
   "outputs": [],
   "source": [
    "# hidden tests"
   ]
  },
  {
   "cell_type": "markdown",
   "id": "bcc2e275",
   "metadata": {
    "slideshow": {
     "slide_type": "slide"
    }
   },
   "source": [
    "## Deduplication using Decorator"
   ]
  },
  {
   "cell_type": "markdown",
   "id": "c0ffa98e",
   "metadata": {
    "slideshow": {
     "slide_type": "subslide"
    }
   },
   "source": [
    "An issue with the function `permutation` is that it regards arguments at different positions as distinct, even if they may have the same value. E.g.,  \n",
    "`permutation(1,1,2)` returns `[(1, 1, 2), (1, 2, 1), (1, 1, 2), (1, 2, 1), (2, 1, 1), (2, 1, 1)]`  \n",
    "where each distinct permutation appears twice."
   ]
  },
  {
   "cell_type": "markdown",
   "id": "9dd50258",
   "metadata": {
    "slideshow": {
     "slide_type": "fragment"
    }
   },
   "source": [
    "To remove duplicates from a list, we can  \n",
    "- convert the list to a `set` (which automatically removes duplicates),\n",
    "- and then convert the set back to a list."
   ]
  },
  {
   "cell_type": "code",
   "execution_count": null,
   "id": "d67714b5",
   "metadata": {
    "slideshow": {
     "slide_type": "fragment"
    }
   },
   "outputs": [],
   "source": [
    "print(\"Deduplicated:\", list(set(permutation(1, 1, 2))))"
   ]
  },
  {
   "cell_type": "markdown",
   "id": "d66f5605",
   "metadata": {
    "slideshow": {
     "slide_type": "subslide"
    }
   },
   "source": [
    "Using a decorator, we can fix `permutation` without rewriting the function."
   ]
  },
  {
   "cell_type": "code",
   "execution_count": null,
   "id": "b6449c30",
   "metadata": {
    "slideshow": {
     "slide_type": "fragment"
    }
   },
   "outputs": [],
   "source": [
    "import functools\n",
    "\n",
    "\n",
    "def deduplicate_output(f):\n",
    "    \"\"\"Takes in a function f that returns a list possibly with duplicates,\n",
    "    returns a decorator that removes duplicates from the output list.\"\"\"\n",
    "\n",
    "    @functools.wraps(f)\n",
    "    def wrapper(*args, **kwargs):\n",
    "        return list(set(f(*args, **kwargs)))\n",
    "\n",
    "    return wrapper\n",
    "\n",
    "\n",
    "permutation = deduplicate_output(permutation)\n",
    "print(\"Deduplicated: \", permutation(1, 1, 2))\n",
    "permutation = permutation.__wrapped__\n",
    "print(\"Original: \", permutation(1, 1, 2))"
   ]
  },
  {
   "cell_type": "markdown",
   "id": "273d7f41",
   "metadata": {
    "slideshow": {
     "slide_type": "subslide"
    }
   },
   "source": [
    "::::{exercise}\n",
    ":label: ex:deduplicate-input\n",
    "\n",
    "Create a decorator to eliminate duplicate input positional arguments instead of the output, i.e.,  \n",
    "`permutation(1,1,2)` will return the same result as `permutation(1,2)`.\n",
    "\n",
    "::::"
   ]
  },
  {
   "cell_type": "code",
   "execution_count": null,
   "id": "420a7543",
   "metadata": {
    "deletable": false,
    "nbgrader": {
     "cell_type": "code",
     "checksum": "a0de7a9ba714ba1b6a629e861dbfb1cb",
     "grade": false,
     "grade_id": "deduplicate_input",
     "locked": false,
     "schema_version": 3,
     "solution": true,
     "task": false
    },
    "slideshow": {
     "slide_type": "-"
    },
    "tags": [
     "remove-output"
    ]
   },
   "outputs": [],
   "source": [
    "def deduplicate_input(f):\n",
    "    \"\"\"Takes in a function f that takes a variable number of arguments\n",
    "    possibly with duplicates, returns a decorator that removes duplicates\n",
    "    in the positional argument.\"\"\"\n",
    "\n",
    "    @functools.wraps(f)\n",
    "    def wrapper(*args, **kwargs):\n",
    "        # YOUR CODE HERE\n",
    "        raise NotImplementedError\n",
    "\n",
    "    return wrapper"
   ]
  },
  {
   "cell_type": "code",
   "execution_count": null,
   "id": "7ef3af0d",
   "metadata": {
    "code_folding": [],
    "deletable": false,
    "editable": false,
    "nbgrader": {
     "cell_type": "code",
     "checksum": "884d845656234100fa3e3d36425b3240",
     "grade": true,
     "grade_id": "test-deduplicate_input",
     "locked": true,
     "points": 1,
     "schema_version": 3,
     "solution": false,
     "task": false
    },
    "slideshow": {
     "slide_type": "-"
    },
    "solution": "hidden",
    "tags": [
     "remove-output",
     "hide-input"
    ]
   },
   "outputs": [],
   "source": [
    "# tests\n",
    "permutation = deduplicate_input(permutation)\n",
    "try:\n",
    "    assert set(permutation(1, 1, 2)) == set([(1, 2), (2, 1)])\n",
    "finally:\n",
    "    permutation = permutation.__wrapped__"
   ]
  },
  {
   "cell_type": "code",
   "execution_count": null,
   "id": "8dd6924f",
   "metadata": {
    "deletable": false,
    "editable": false,
    "nbgrader": {
     "cell_type": "code",
     "checksum": "5c84f05f5de285298f9406347fb887cf",
     "grade": true,
     "grade_id": "htest-deduplicate_input",
     "locked": true,
     "points": 1,
     "schema_version": 3,
     "solution": false,
     "task": false
    },
    "tags": [
     "remove-cell"
    ]
   },
   "outputs": [],
   "source": [
    "# hidden tests"
   ]
  }
 ],
 "metadata": {
  "jupytext": {
   "default_lexer": "ipython3"
  },
  "kernelspec": {
   "display_name": "Python 3 (ipykernel)",
   "language": "python",
   "name": "python3"
  }
 },
 "nbformat": 4,
 "nbformat_minor": 5
}
