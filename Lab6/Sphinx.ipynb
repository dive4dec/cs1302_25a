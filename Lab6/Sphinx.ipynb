{
 "cells": [
  {
   "cell_type": "markdown",
   "id": "0be4fc17",
   "metadata": {
    "jp-MarkdownHeadingCollapsed": true
   },
   "source": [
    "---\n",
    "title: Sphinx Autodoc\n",
    "---"
   ]
  },
  {
   "cell_type": "code",
   "execution_count": null,
   "id": "c56b3969",
   "metadata": {
    "editable": true,
    "slideshow": {
     "slide_type": "slide"
    },
    "tags": [
     "skip-execution"
    ]
   },
   "outputs": [],
   "source": [
    "%load_ext divewidgets\n",
    "if not input('Load JupyterAI? [Y/n]').lower()=='n':\n",
    "    %reload_ext jupyter_ai"
   ]
  },
  {
   "cell_type": "markdown",
   "id": "6371649b",
   "metadata": {},
   "source": [
    "::::{attention}\n",
    "This notebook is optional and NOT required for any course assessment activities. Lab tutor may go through them if time is available.\n",
    "::::"
   ]
  },
  {
   "cell_type": "markdown",
   "id": "1b38b1f9",
   "metadata": {},
   "source": [
    "[Sphinx](https://www.sphinx-doc.org/en/master/index.html) is a tool to generate high-quality documentations such as the documentations for:\n",
    " - [Python](https://docs.python.org/3/) [(repository)](https://github.com/python/cpython/tree/main/Doc)\n",
    " - [Numpy](https://numpy.org/doc/stable/) [(repository)](https://github.com/numpy/numpy/blob/main/doc)\n",
    " - [Pandas](https://pandas.pydata.org/docs/) [(repository)](https://github.com/pandas-dev/pandas/blob/main/doc)"
   ]
  },
  {
   "cell_type": "markdown",
   "id": "9bbbc0d3",
   "metadata": {},
   "source": [
    "Sphinx provides an extension called [autodoc](https://www.sphinx-doc.org/en/master/usage/extensions/autodoc.html) that can automatically generate documentations from the docstrings of a module. We will use it to document our `Lecture6` module used in Lecture 6."
   ]
  },
  {
   "cell_type": "markdown",
   "id": "5afe38ad",
   "metadata": {},
   "source": [
    "## Quick Start"
   ]
  },
  {
   "cell_type": "markdown",
   "id": "b88dd457",
   "metadata": {},
   "source": [
    "We will run the sphinx in the terminal. To start a termial session in JupyterLab:\n",
    "\n",
    "- Open the Launcher (`File->New Launcher`).\n",
    "- Start a new termial session by clicking the `Terminal` icon under `Other`."
   ]
  },
  {
   "cell_type": "markdown",
   "id": "df1b9086",
   "metadata": {},
   "source": [
    "You should see the terminal tab with a prompt for your input:\n",
    "\n",
    "```sh\n",
    "(base) {username}@{hostname}:{cd}$ ▯\n",
    "```"
   ]
  },
  {
   "cell_type": "markdown",
   "id": "7541add2",
   "metadata": {},
   "source": [
    "::::{note}\n",
    "\n",
    "- `(base)` indicates the [conda environment](https://conda.io/projects/conda/en/latest/user-guide/getting-started.html#managing-environments) you are using.\n",
    "- `{username}` shows your username.\n",
    "- `{hostname}` shows the name of the server running your jupyter environment.\n",
    "- `{cd}` shows your current directory. By default, it shows `~`, which is an alias of your home directory `/home/{username}`.\n",
    "- ▯ is the cursor, where you can run a [`bash` command](https://en.wikipedia.org/wiki/Bash_(Unix_shell)).\n",
    "\n",
    "::::"
   ]
  },
  {
   "cell_type": "markdown",
   "id": "12584d71",
   "metadata": {},
   "source": [
    "Run the following quick-start command in a terminal to create the configuration files in a folder called `docs` under your home directory:\n",
    "\n",
    "```sh\n",
    "sphinx-quickstart ~/docs\n",
    "```"
   ]
  },
  {
   "cell_type": "markdown",
   "id": "a276493f",
   "metadata": {},
   "source": [
    "::::{tip}\n",
    "\n",
    "- `~/docs` expands to `/home/{username}/docs`. \n",
    "- You can learn more about a command by running it with the option `--help` such as  \n",
    "    ```sh\n",
    "    sphinx-quickstart --help\n",
    "    ```\n",
    "\n",
    "::::"
   ]
  },
  {
   "cell_type": "markdown",
   "id": "788f6fda",
   "metadata": {},
   "source": [
    "You will be asked a few questions:  \n",
    "- Answer `y` to the first question to use separate source and build directories.\n",
    "- Answer whatever you desire for the remaining questions."
   ]
  },
  {
   "cell_type": "markdown",
   "id": "22fbb802",
   "metadata": {},
   "source": [
    "```sh\n",
    "You have two options for placing the build directory for Sphinx output.\n",
    "Either, you use a directory \"_build\" within the root path, or you separate\n",
    "\"source\" and \"build\" directories within the root path.\n",
    "> Separate source and build directories (y/n) [n]: y\n",
    "\n",
    "The project name will occur in several places in the built documentation.\n",
    "> Project name: Lecture6\n",
    "> Author name(s): CHAN Chung\n",
    "> Project release []: beta\n",
    "```"
   ]
  },
  {
   "cell_type": "markdown",
   "id": "71619f0e",
   "metadata": {},
   "source": [
    "````{note}\n",
    "\n",
    "[Project release](https://www.sphinx-doc.org/en/master/usage/configuration.html#confval-release) specifies the full project version. See [software versioning](https://en.wikipedia.org/wiki/Software_versioning) for the convention.\n",
    "\n",
    "````"
   ]
  },
  {
   "cell_type": "markdown",
   "id": "6720c187",
   "metadata": {},
   "source": [
    "If successful, the command will print the message:\n",
    "\n",
    "```\n",
    "Finished: An initial directory structure has been created.\n",
    "```"
   ]
  },
  {
   "cell_type": "markdown",
   "id": "7498f243",
   "metadata": {},
   "source": [
    "You can then run the build script to generate the documentation:\n",
    "\n",
    "```sh\n",
    "sphinx-build -b html ~/docs/source ~/www/Lecture6\n",
    "```"
   ]
  },
  {
   "cell_type": "markdown",
   "id": "bddc8273",
   "metadata": {},
   "source": [
    "````{note}\n",
    "\n",
    "The command uses the html builder to generate static webpages to `~/docs/Lecture6` based on the configuration from `~/docs/source`. There are [other builders](https://www.sphinx-doc.org/en/master/usage/builders/index.html#module-sphinx.builders) that build the documentation in different formats.\n",
    "\n",
    "````"
   ]
  },
  {
   "cell_type": "markdown",
   "id": "61a32a5c",
   "metadata": {},
   "source": [
    "You can view the documentation by  \n",
    "- clicking `File->New Launcher`, and\n",
    "- clicking the icon `www` and then folder `Lecture6`."
   ]
  },
  {
   "cell_type": "markdown",
   "id": "0ca6648b",
   "metadata": {},
   "source": [
    "## Autodoc"
   ]
  },
  {
   "cell_type": "markdown",
   "id": "5b8dd3b7",
   "metadata": {},
   "source": [
    "The documentation is currently empty because no module has been specified for documentation. Sphinx supports extensions that can automatically generate documentation files for a specified module."
   ]
  },
  {
   "cell_type": "markdown",
   "id": "ec3bc4c8",
   "metadata": {},
   "source": [
    "### Path setup"
   ]
  },
  {
   "cell_type": "markdown",
   "id": "b1d141a2",
   "metadata": {},
   "source": [
    "From the `File Browser` tab, navigate to the `docs/source` folder under your home directory and open `conf.py` by double clicking it and modify it as follows. A sample can be found in [](./conf.py)."
   ]
  },
  {
   "cell_type": "markdown",
   "id": "af77a199",
   "metadata": {},
   "source": [
    "Add the module path to the system path at the beginning of the configure file:  \n",
    "\n",
    "```python\n",
    "import os\n",
    "import sys\n",
    "\n",
    "path = os.path.expanduser('~/${COURSE_ID}')\n",
    "path = os.path.expandvars(path)\n",
    "sys.path.insert(0, path)\n",
    "```"
   ]
  },
  {
   "cell_type": "markdown",
   "id": "3d63d8d3",
   "metadata": {},
   "source": [
    "The module path should contain the top-level module to be documented:"
   ]
  },
  {
   "cell_type": "code",
   "execution_count": null,
   "id": "f2a1d216",
   "metadata": {},
   "outputs": [],
   "source": [
    "import os\n",
    "import sys\n",
    "\n",
    "path = os.path.expanduser('~/${COURSE_ID}')\n",
    "path = os.path.expandvars(path)\n",
    "path"
   ]
  },
  {
   "cell_type": "markdown",
   "id": "d8d5e98e",
   "metadata": {},
   "source": [
    "The module path is searched first as it is added to the beginning of the system path with `sys.path.insert(0, path)`."
   ]
  },
  {
   "cell_type": "markdown",
   "id": "f06c7f53",
   "metadata": {},
   "source": [
    "### Configuration"
   ]
  },
  {
   "cell_type": "markdown",
   "id": "4e946541",
   "metadata": {},
   "source": [
    "Add the necessary extensions as follows to `extensions`:\n",
    "```python\n",
    "extensions = ['sphinx.ext.autodoc', 'sphinx.ext.napoleon']\n",
    "```"
   ]
  },
  {
   "cell_type": "markdown",
   "id": "cf576ddb",
   "metadata": {},
   "source": [
    "- [`sphinx.ext.napoleon`](https://www.sphinx-doc.org/en/master/usage/extensions/napoleon.html) converts the Numpy-style and Google-style docstrings to rst-formatted docstrings.\n",
    "- [`sphinx.ext.autodoc`](https://www.sphinx-doc.org/en/master/usage/extensions/autodoc.html) generates documentation from docstrings in [reStructuredText format (rst)](https://www.sphinx-doc.org/en/master/usage/restructuredtext/basics.html) format."
   ]
  },
  {
   "cell_type": "markdown",
   "id": "38d86467",
   "metadata": {},
   "source": [
    "Change [`exclude_patterns`](https://www.sphinx-doc.org/en/master/usage/configuration.html#confval-exclude_patterns) to exclude temporary files in the hidden folder `.ipynb_checkpoints`:  \n",
    "\n",
    "```sh\n",
    "exclude_patterns = ['**/.ipynb_checkpoints']\n",
    "```"
   ]
  },
  {
   "cell_type": "markdown",
   "id": "b6d425fe",
   "metadata": {},
   "source": [
    "````{caution}\n",
    "\n",
    "`.ipynb_checkpoints` keep a backup of your files so you may recover them. However, unless we exclude them explicitly, `sphinx` will build documentation on those backup files, leading to duplicate object description warnings since the backup files defines the same objects defined by the original files. You may need to manually delete the backup files if they were not previously excluded:\n",
    "\n",
    "```sh\n",
    "find ~/docs/source -type d -name \".ipynb_checkpoints\" -exec rm -r {} +\n",
    "```\n",
    "\n",
    "````"
   ]
  },
  {
   "cell_type": "markdown",
   "id": "b624303f",
   "metadata": {},
   "source": [
    "### Building the documentation"
   ]
  },
  {
   "cell_type": "markdown",
   "id": "05c242ee",
   "metadata": {},
   "source": [
    "Run API documentation command in a terminal to create the rst files for `Lecture6`:  \n",
    "```sh\n",
    "sphinx-apidoc -f -o ~/docs/source ~/${COURSE_ID}/Lecture6\n",
    "```"
   ]
  },
  {
   "cell_type": "markdown",
   "id": "bc4a863d",
   "metadata": {},
   "source": [
    "The above creates `modules.rst` and `Lecture6.rst` under `~/docs/source`. In particular, `modules.rst` points to `Lecture6.rst` as follows:\n",
    "\n",
    "```markdown\n",
    "Lecture6\n",
    "========\n",
    "\n",
    ".. toctree::\n",
    "   :maxdepth: 4\n",
    "\n",
    "   Lecture6\n",
    "```"
   ]
  },
  {
   "cell_type": "markdown",
   "id": "107a30b0",
   "metadata": {},
   "source": [
    "::::{note}\n",
    "There is no need to specify the extension `.rst` like `Lecture6.rst` because `.rst` it is the default extension.\n",
    "::::"
   ]
  },
  {
   "cell_type": "markdown",
   "id": "8144ea54",
   "metadata": {},
   "source": [
    "Sphinx does not automatically include `modules.rst` in the documentation, i.e., building the documentation now will not show any modules. The user must design the structure of the documentation and include `modules.rst` manually."
   ]
  },
  {
   "cell_type": "markdown",
   "id": "63b79832",
   "metadata": {},
   "source": [
    "The simplest way to add `modules.rst` to the table of content (`toctree`) in `index.rst`, which is the main page of the document:\n",
    "\n",
    "::::{code} markdown\n",
    ":linenos:\n",
    ":emphasize-lines: 13\n",
    "\n",
    ".. Lecture6 documentation master file, created by\n",
    "   sphinx-quickstart on Sun Oct 31 11:51:38 2021.\n",
    "   You can adapt this file completely to your liking, but it should at least\n",
    "   contain the root `toctree` directive.\n",
    "\n",
    "Welcome to Lecture6's documentation!\n",
    "======================================\n",
    "\n",
    ".. toctree::\n",
    "   :maxdepth: 2\n",
    "   :caption: Contents:\n",
    "\n",
    "   modules\n",
    "\n",
    "Indices and tables\n",
    "==================\n",
    "\n",
    "* :ref:`genindex`\n",
    "* :ref:`modindex`\n",
    "* :ref:`search`\n",
    "::::"
   ]
  },
  {
   "cell_type": "markdown",
   "id": "3c96a71b",
   "metadata": {},
   "source": [
    "::::{caution}\n",
    "\n",
    "Since `modules` is the content of the directive `toctree`, it must have the same indentation (3 spaces, NOT the editor default of 4 spaces) as the arguments `:maxdepth:` and `:caption:` above and must be separated by a blank line.\n",
    "\n",
    "::::"
   ]
  },
  {
   "cell_type": "markdown",
   "id": "0d7285cc",
   "metadata": {},
   "source": [
    "Rebuild the documentation with  \n",
    "```sh\n",
    "sphinx-build -b html ~/docs/source ~/www/Lecture6\n",
    "```"
   ]
  },
  {
   "cell_type": "markdown",
   "id": "6a8c24f1",
   "metadata": {},
   "source": [
    "Preview the documentation again by refreshing or relaunching the `www` page."
   ]
  },
  {
   "cell_type": "markdown",
   "id": "eb6bb880",
   "metadata": {},
   "source": [
    "::::{exercise}\n",
    ":label: ex:module\n",
    "\n",
    "Create a submodule `combinatorics.py` and a demo script `demo.py` for the functions in [](Combinatorics.ipynb) and create a Sphinx documentation for the package `Lab6`.\n",
    "\n",
    "::::"
   ]
  }
 ],
 "metadata": {
  "jupytext": {
   "default_lexer": "ipython3"
  },
  "kernelspec": {
   "display_name": "Python 3 (ipykernel)",
   "language": "python",
   "name": "python3"
  }
 },
 "nbformat": 4,
 "nbformat_minor": 5
}
