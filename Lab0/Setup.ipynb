{
 "cells": [
  {
   "cell_type": "markdown",
   "id": "055af65d",
   "metadata": {
    "editable": true,
    "slideshow": {
     "slide_type": "slide"
    }
   },
   "source": [
    "---\n",
    "title: Setup\n",
    "skip_execution: true\n",
    "---"
   ]
  },
  {
   "cell_type": "markdown",
   "id": "d647d80a",
   "metadata": {},
   "source": [
    "::::{attention}\n",
    "\n",
    "This notebook is optional and NOT required for any course assessment activities. Lab tutor may go through them if time is available.\n",
    "\n",
    "::::"
   ]
  },
  {
   "cell_type": "code",
   "execution_count": null,
   "id": "8a21a52e",
   "metadata": {},
   "outputs": [],
   "source": [
    "if not input('Load JupyterAI? [Y/n]').lower()=='n':\n",
    "    %reload_ext jupyter_ai"
   ]
  },
  {
   "cell_type": "markdown",
   "id": "82219487",
   "metadata": {},
   "source": [
    "The course's programming environment is conveniently accessible via a [JupyterHub][jh] server, allowing remote access without the need to install any special software, thanks to [Project Jupyter](https://en.wikipedia.org/wiki/Project_Jupyter). Each student will have their own [Jupyter server](https://jupyter-server.readthedocs.io/en/latest/) with individual computing resources including CPU, memory, and even GPU for later materials on language models. This means you can easily write and run programs on your mobile devices using just a web browser.\n",
    "\n",
    "[jh]: https://jupyterhub.readthedocs.io/en/stable/"
   ]
  },
  {
   "cell_type": "markdown",
   "id": "31d5831e",
   "metadata": {},
   "source": [
    "In practice, programmers have to use and setup different programming environments based on their tasks, and they have to find ways to work collaboratively with others under the same environment. This notebook will introduce a collaborative server with GPU, and how you may setup the basic environment locally on your computer."
   ]
  },
  {
   "cell_type": "markdown",
   "id": "e7271f3a",
   "metadata": {},
   "source": [
    "## Remote Access"
   ]
  },
  {
   "cell_type": "markdown",
   "id": "b868dd4a",
   "metadata": {},
   "source": [
    "### Group Server"
   ]
  },
  {
   "cell_type": "markdown",
   "id": "a33b408d",
   "metadata": {},
   "source": [
    "#### Collaboration"
   ]
  },
  {
   "cell_type": "markdown",
   "id": "c0f40cd3",
   "metadata": {},
   "source": [
    "Registered students can collaboratively work on the same Jupyter server using the group (Jupyter) server `all-cs1302` that have higher resource limits than the individual user servers:\n",
    "\n",
    "- Storage: 100GB\n",
    "- Memory: 100GB\n",
    "- CPU: 32 cores for default servers without GPU.\n",
    "- GPU: 48GB for the GPU server option."
   ]
  },
  {
   "cell_type": "markdown",
   "id": "fb46b042",
   "metadata": {},
   "source": [
    "To open Lab0 in the collaborative server, you can use a gitpull link such as:\n",
    "\n",
    "> https://canvas.cityu.edu.hk/courses/64853/external_tools/retrieve?display=borderless&url=https%3A//dive.cs.cityu.edu.hk/cs1302_25a/hub/lti/launch%3Fcustom_next%3Dhttps%253A//dive.cs.cityu.edu.hk/cs1302_25a/user/all-cs1302/git-pull%253Frepo%253Dhttps%25253A//github.com/dive4dec/cs1302_25a%2526urlpath%253Dlab/tree/cs1302_25a/Lab0/\n",
    "\n",
    "i.e., with `.../hub/user-redirect/...` replaced by `.../user/all-cs1302/...`."
   ]
  },
  {
   "cell_type": "markdown",
   "id": "be1c1550",
   "metadata": {},
   "source": [
    "If the Jupyter server is not already running, you have an option to run it with GPU as shown in [](#fig:gpu_option):"
   ]
  },
  {
   "cell_type": "markdown",
   "id": "87e3d989",
   "metadata": {},
   "source": [
    ":::::{figure} images/options.dio.svg\n",
    ":label: fig:gpu_option\n",
    ":alt: Server options\n",
    ":align: left\n",
    "\n",
    "Server options for group server.\n",
    ":::::"
   ]
  },
  {
   "cell_type": "markdown",
   "id": "5a8b81f1",
   "metadata": {
    "editable": true,
    "slideshow": {
     "slide_type": ""
    }
   },
   "source": [
    "::::{note} What are the other server options?\n",
    "\n",
    "- Each server runs the [Ubuntu](https://en.wikipedia.org/wiki/Ubuntu) operating system in a [container](https://en.wikipedia.org/wiki/Containerization_(computing)). See the [Dockerfile](https://github.com/dive4dec/jupyter/blob/main/cs1302nb/Dockerfile) for details.\n",
    "- You can switch between the `Default` and other server options at any time by restarting the server and selecting the desired option.\n",
    "\n",
    "::::"
   ]
  },
  {
   "cell_type": "markdown",
   "id": "3f12febf",
   "metadata": {},
   "source": [
    "To access and manage the server from the JupyterHub interface:\n",
    "\n",
    "1. **Access the Hub Control Panel:**\n",
    "\n",
    "   - Within the JupyterLab interface, click `File->Hub Control Panel`.\n",
    "\n",
    "3. **Select the Admin Panel:**\n",
    "\n",
    "   - In the top navigation bar of the Hub Control Panel, select the `Admin` Panel as shown in [](#fig:admin).\n",
    "\n",
    "5. **Locate the User:**\n",
    "\n",
    "   - Within the Admin Panel, look for the user named `all-cs1302`.\n",
    "\n",
    "7. **Manage the Server:**\n",
    "    - **If the server has not started:**\n",
    "        - Click the action button labeled <kbd>Spawn Page</kbd> to select the server options with higher resource limits.\n",
    "        - If you click the action button labeled <kbd>Start Server</kbd>, the server will start with lower resource limits that apply to individual user servers.\n",
    "    - **If the group server is already running:**\n",
    "        - Click the action button labeled <kbd>Access Server</kbd> to access the currently running server.\n",
    "        - If necessary, click the action button labeled <kbd>Stop Server</kbd> to terminate the existing server."
   ]
  },
  {
   "cell_type": "markdown",
   "id": "d36a7a84",
   "metadata": {},
   "source": [
    ":::::{figure} images/admin.dio.svg\n",
    ":label: fig:admin\n",
    ":alt: Admin panel\n",
    ":align: left\n",
    "\n",
    "Admin panel for managing group server.\n",
    ":::::"
   ]
  },
  {
   "cell_type": "markdown",
   "id": "0ca25239",
   "metadata": {},
   "source": [
    "Group servers run JupyterLab in collaborative mode, which provides real-time collaboration features as shown in [](#fig:collab). This allows multiple users to chat with each other and live edit the same notebook simultaneously. For more details, see the packages:\n",
    "\n",
    "- [`jupyterlab-collaboration`](https://jupyterlab-realtime-collaboration.readthedocs.io/en/latest/)\n",
    "- [`jupyterlab-chat`](https://github.com/jupyterlab/jupyter-chat?tab=readme-ov-file)"
   ]
  },
  {
   "cell_type": "markdown",
   "id": "4b4504cb",
   "metadata": {},
   "source": [
    ":::::{figure} images/collab.dio.svg\n",
    ":label: fig:collab\n",
    ":alt: Collaborative mode\n",
    ":align: left\n",
    "\n",
    "Collaborative mode in JupyterLab.\n",
    ":::::"
   ]
  },
  {
   "cell_type": "markdown",
   "id": "bf07e32e",
   "metadata": {},
   "source": [
    "- To view another user's name while they’re editing the same notebook, hover over their cursor.\n",
    "- To chat with others, you can either write directly in the notebook or invite them to a chat via the chat panel.[^chatbutton]\n",
    "\n",
    "[^chatbutton]: The AI chat panel button looks identical to that for collaboration, as both use the `jupyterlab-chat` interface."
   ]
  },
  {
   "cell_type": "markdown",
   "id": "712b5cac",
   "metadata": {},
   "source": [
    "::::{caution}\n",
    "\n",
    "It is important to note that anyone in class can control the group server and read/write to it. Avoid storing sensitive information on the group server, and clean up files you are not using anymore. Multiple users editing the same file can potentially cause data loss or conflicts as well, so to mitigate this risk, you should use version control systems like Git to manage changes and collaborate more effectively through the server.\n",
    "\n",
    "- The [`jupyterlab-git` extension](https://github.com/jupyterlab/jupyterlab-git) is installed to provide a graphical interface for Git within JupyterLab.\n",
    "- VSCode interface also [supports Git out-of-the-box](https://code.visualstudio.com/docs/sourcecontrol/overview) and has Git-related extensions  such as [Git Graph](https://marketplace.visualstudio.com/items?itemName=mhutchie.git-graph) installed.\n",
    "\n",
    "\n",
    ":::{seealso} LinkedIn Learning\n",
    "\n",
    "- [Git Essential Training](https://www.linkedin.com/learning-login/share?account=76816450&forceAccount=false&redirect=https%3A%2F%2Fwww.linkedin.com%2Flearning%2Fgit-essential-training-25677984%3Ftrk%3Dshare_ent_url%26shareId%3DUFyvFtuiS4Go0n32Tuyu%252FA%253D%253D)\n",
    "\n",
    ":::\n",
    "\n",
    "::::"
   ]
  },
  {
   "cell_type": "markdown",
   "id": "fbeff570",
   "metadata": {},
   "source": [
    "#### Learning with GPU"
   ]
  },
  {
   "cell_type": "markdown",
   "id": "218f6252",
   "metadata": {
    "editable": true,
    "slideshow": {
     "slide_type": ""
    }
   },
   "source": [
    "With the GPU resources, we can run a generative model locally using [Ollama](https://ollama.com/). To do so, start the ollama service as follows.\n",
    "\n",
    "1. In JupyterLab, navigate to the `File` menu.\n",
    "1. Select `New` from the drop-down menu and choose `Terminal`.\n",
    "1. The terminal window will appear. You can use this terminal to run a shell command. Enter the following command into the terminal prompt and hit enter.\n",
    "   ```bash\n",
    "   ollama serve\n",
    "   ```\n",
    "1. To terminate Ollama, simply type <kbd>Ctrl + C</kbd>, the same way you would terminate any shell command by Keyboard Interrupt."
   ]
  },
  {
   "cell_type": "markdown",
   "id": "59d18f13",
   "metadata": {},
   "source": [
    "After running `ollama serve`, you can execute the following cells to chat with different models."
   ]
  },
  {
   "cell_type": "code",
   "execution_count": null,
   "id": "09aa5940",
   "metadata": {},
   "outputs": [],
   "source": [
    "%%ai ollama:qwen3\n",
    "Why LLM runs much faster on GPU than on CPU?"
   ]
  },
  {
   "cell_type": "markdown",
   "id": "ef901c22",
   "metadata": {},
   "source": [
    "The first run will take a while as the model gets loaded into the memory."
   ]
  },
  {
   "cell_type": "code",
   "execution_count": null,
   "id": "2ad4d61f",
   "metadata": {},
   "outputs": [],
   "source": [
    "%%ai ollama:gpt-oss\n",
    "What is the difference between GPU and NPU?"
   ]
  },
  {
   "cell_type": "markdown",
   "id": "187ee9bd",
   "metadata": {},
   "source": [
    "Switching models also require additional time to reload the new model into the memory."
   ]
  },
  {
   "cell_type": "markdown",
   "id": "df1bbb58",
   "metadata": {},
   "source": [
    "To use Ollama with Jupyternaut:\n",
    "\n",
    "1. Click the chat icon <i class=\"fas fa-comments\"></i> on the left menu bar. A chat panel will open.\n",
    "2. Click the gear icon <i class=\"fas fa-cog\"></i> on the chat panel to set up the provider.\n",
    "3. Select the Completion model as `DIVE Ollama :: ...` with `...` replaced by your desired model such as `phi3`. You may also use `Ollama :: *` to enter the model ID.\n",
    "5. Click the `Save Changes` button.\n",
    "6. Click the back arrow at the top to go back to the chat panel.\n",
    "7. Enter some messages to see a response from the Azure OpenAI chat model."
   ]
  },
  {
   "cell_type": "markdown",
   "id": "59616722",
   "metadata": {},
   "source": [
    "Different models have different sizes and may be good at different things. The following executes the a shell command to list other models that can be served by ollama."
   ]
  },
  {
   "cell_type": "code",
   "execution_count": null,
   "id": "3633fd1a",
   "metadata": {},
   "outputs": [],
   "source": [
    "if not input('Execute? [Y/n]').lower()=='n':\n",
    "    !ollama list"
   ]
  },
  {
   "cell_type": "markdown",
   "id": "ede79d73",
   "metadata": {},
   "source": [
    "The models reside in the directory specified by the environment variable `OLLAMA_MODELS`:[^custom]\n",
    "\n",
    "[^custom]: To download or run a new ollama model, you need to set the directory to `~/.ollama` or any directory you have write access to. To use the model in JupyterNaut, select the Completion model as `Ollama :: *` and specify the model id. Avoid downloading very big models with over 30b parameters, as those cannot run on the current GPU without quantization."
   ]
  },
  {
   "cell_type": "code",
   "execution_count": null,
   "id": "e2890150",
   "metadata": {},
   "outputs": [],
   "source": [
    "%env OLLAMA_MODELS"
   ]
  },
  {
   "cell_type": "markdown",
   "id": "488000fc",
   "metadata": {
    "editable": true,
    "slideshow": {
     "slide_type": ""
    }
   },
   "source": [
    "::::{seealso} LinkedIn Learning\n",
    "\n",
    "- [Installing the Llama 3 API with Ollama][1]\n",
    "\n",
    "::::\n",
    "\n",
    "[1]: https://www.linkedin.com/learning-login/share?account=76816450&forceAccount=false&redirect=https%3A%2F%2Fwww.linkedin.com%2Flearning%2Fdeveloping-with-llama-3-meta-s-innovative-and-open-large-language-model%2Finstalling-the-llama-3-api-with-ollama%3Ftrk%3Dshare_video_url%26shareId%3D%252BqFRPLijRLaE%252FglfqzX5Sg%253D%253D"
   ]
  },
  {
   "cell_type": "markdown",
   "id": "e9dbafa4",
   "metadata": {},
   "source": [
    "In addition to running ollama, you can learn to use [PyTorch](https://pytorch.org/) and other [machine learning packages](https://github.com/dive4dec/jupyter/blob/9db2952ca1eb734c12197e72765b3aa27daf4f58/cs1302nb/Dockerfile#L467) pre-installed in the server."
   ]
  },
  {
   "cell_type": "code",
   "execution_count": null,
   "id": "282232d5",
   "metadata": {},
   "outputs": [],
   "source": [
    "import torch\n",
    "\n",
    "torch.cuda.is_available()"
   ]
  },
  {
   "cell_type": "markdown",
   "id": "f4545202",
   "metadata": {},
   "source": [
    "### Custom Packages"
   ]
  },
  {
   "cell_type": "markdown",
   "id": "8fffaf58",
   "metadata": {},
   "source": [
    "#### Installing Packages"
   ]
  },
  {
   "cell_type": "markdown",
   "id": "6fab650e",
   "metadata": {},
   "source": [
    "To list existing packages installed in the Jupyter server:"
   ]
  },
  {
   "cell_type": "code",
   "execution_count": null,
   "id": "76d1ad29",
   "metadata": {},
   "outputs": [],
   "source": [
    "if not input('Execute? [Y/n]').lower()=='n':\n",
    "    !conda list"
   ]
  },
  {
   "cell_type": "code",
   "execution_count": null,
   "id": "669b296a",
   "metadata": {},
   "outputs": [],
   "source": [
    "if not input('Execute? [Y/n]').lower()=='n':\n",
    "    !pip list"
   ]
  },
  {
   "cell_type": "markdown",
   "id": "574cd793",
   "metadata": {},
   "source": [
    "You can install additional packages using the commands \n",
    "\n",
    "- [`conda install`](https://docs.conda.io/projects/conda/en/stable/commands/install.html) for packages on [Anaconda](https://anaconda.org/), or\n",
    "- [`pip install`](https://packaging.python.org/en/latest/tutorials/installing-packages/) for packages on [PyPI](https://pypi.org/search/)."
   ]
  },
  {
   "cell_type": "markdown",
   "id": "de244fab",
   "metadata": {},
   "source": [
    "An example using `pip` to install a package `cowsay`:"
   ]
  },
  {
   "cell_type": "code",
   "execution_count": null,
   "id": "be1f3da1",
   "metadata": {},
   "outputs": [],
   "source": [
    "if not input('Execute? [Y/n]').lower()=='n': \n",
    "    !pip install cowsay"
   ]
  },
  {
   "cell_type": "code",
   "execution_count": null,
   "id": "3d9e4deb",
   "metadata": {},
   "outputs": [],
   "source": [
    "import cowsay\n",
    "\n",
    "cowsay.cow(\"I am a pip installed package ((((((...ip)ip)ip)ip)ip)ip)!\")"
   ]
  },
  {
   "cell_type": "code",
   "execution_count": null,
   "id": "af015a6e",
   "metadata": {},
   "outputs": [],
   "source": [
    "%%ai\n",
    "What does pip stand for?"
   ]
  },
  {
   "cell_type": "markdown",
   "id": "f7a9996d",
   "metadata": {},
   "source": [
    "As another example, you can use conda to install the new super-fast [package manager `uv`](https://github.com/astral-sh/uv) written in Rust:"
   ]
  },
  {
   "cell_type": "code",
   "execution_count": null,
   "id": "a93721ee",
   "metadata": {},
   "outputs": [],
   "source": [
    "if not input('Execute? [Y/n]').lower()=='n':\n",
    "    !conda install uv --yes"
   ]
  },
  {
   "cell_type": "markdown",
   "id": "f6a81770",
   "metadata": {},
   "source": [
    "Let's take a glimpse of the future of Python by installing the latest version with `uv`:"
   ]
  },
  {
   "cell_type": "code",
   "execution_count": null,
   "id": "a5366e07",
   "metadata": {},
   "outputs": [],
   "source": [
    "if not input('Execute? [Y/n]').lower()=='n':\n",
    "    !uv python install 3.14"
   ]
  },
  {
   "cell_type": "markdown",
   "id": "bc04f5c9",
   "metadata": {},
   "source": [
    "Now, run the following Hello-World program which uses the newly introduced `t`-string:"
   ]
  },
  {
   "cell_type": "code",
   "execution_count": null,
   "id": "92528834",
   "metadata": {},
   "outputs": [],
   "source": [
    "!uvx python@3.14 -c 'name=\"World\"; msg=t\"Hello, {name}!\"; print(msg)'"
   ]
  },
  {
   "cell_type": "code",
   "execution_count": null,
   "id": "78827a4c",
   "metadata": {},
   "outputs": [],
   "source": [
    "%%ai\n",
    "What are the pros and cons of conda install, pip install, and uv install?"
   ]
  },
  {
   "cell_type": "markdown",
   "id": "f1a36a02",
   "metadata": {},
   "source": [
    "#### Conda Environment"
   ]
  },
  {
   "cell_type": "markdown",
   "id": "f2ee9bbe",
   "metadata": {},
   "source": [
    "::::{caution}\n",
    "\n",
    "Due to how your server is spawned using docker containers, the above installations do not persist when restarting the Jupyter server because the packages are saved to an emphemeral instead of a persistent storage.\n",
    "\n",
    "::::"
   ]
  },
  {
   "cell_type": "markdown",
   "id": "3d78c7df",
   "metadata": {},
   "source": [
    "Although this could be viewed as a feature rather than a bug—because you can test by installing a package and reset your environment simply by restarting the server—what if you want the installation to stick?"
   ]
  },
  {
   "cell_type": "markdown",
   "id": "d038be4f",
   "metadata": {},
   "source": [
    "You can create a conda environment[^conda] using a [YAML file](https://en.wikipedia.org/wiki/YAML) as follows:\n",
    "\n",
    "[^conda]: See the [documentation](https://docs.conda.io/projects/conda/en/latest/user-guide/tasks/manage-environments.html) for more details on managing conda environment."
   ]
  },
  {
   "cell_type": "code",
   "execution_count": null,
   "id": "ab0a089b",
   "metadata": {},
   "outputs": [],
   "source": [
    "%%writefile myenv.yaml\n",
    "name: myenv\n",
    "channels:\n",
    "  - conda-forge\n",
    "  - defaults\n",
    "dependencies:\n",
    "  - python=3.12\n",
    "  - ipykernel\n",
    "  - pip:\n",
    "    - cowsay"
   ]
  },
  {
   "cell_type": "code",
   "execution_count": null,
   "id": "f6b1c788",
   "metadata": {},
   "outputs": [],
   "source": [
    "%%ai\n",
    "What does YAML stand for?"
   ]
  },
  {
   "cell_type": "markdown",
   "id": "1744236a",
   "metadata": {},
   "source": [
    "To create the environment, run\n",
    "\n",
    "```bash\n",
    "conda env create --file myenv.yaml\n",
    "```\n",
    "To update an existing environment, run\n",
    "\n",
    "```bash\n",
    "conda env update --file myenv.yaml --prune\n",
    "```"
   ]
  },
  {
   "cell_type": "markdown",
   "id": "1d022033",
   "metadata": {},
   "source": [
    "The environment will persist because we have reconfigured `conda` to save to environments to the home directory by default:"
   ]
  },
  {
   "cell_type": "code",
   "execution_count": null,
   "id": "b194b044",
   "metadata": {},
   "outputs": [],
   "source": [
    "!cat /opt/conda/.condarc"
   ]
  },
  {
   "cell_type": "code",
   "execution_count": null,
   "id": "76c0a161",
   "metadata": {},
   "outputs": [],
   "source": [
    "%%ai\n",
    "What does rc stand for in .condarc?"
   ]
  },
  {
   "cell_type": "markdown",
   "id": "459dbcef",
   "metadata": {},
   "source": [
    "You can create a Jupyter kernel using the environment as shown in [](#fig:myenv) by running the command:[^kernel]\n",
    "\n",
    "```bash\n",
    "conda activate myenv\n",
    "python -m ipykernel install \\\n",
    "    --user \\\n",
    "    --name \"myenv\" --display-name \"myenv\"\n",
    "```\n",
    "\n",
    "::::{caution}\n",
    "\n",
    "Reload the browser window for the new kernel to take effect.\n",
    "\n",
    "::::\n",
    "\n",
    "[^kernel]: See the [documentation](https://ipython.readthedocs.io/en/stable/install/kernel_install.html#kernels-for-different-environments) for more details on creating kernels for conda environments."
   ]
  },
  {
   "cell_type": "markdown",
   "id": "50c945dd",
   "metadata": {},
   "source": [
    ":::::{figure} images/myenv.dio.svg\n",
    ":label: fig:myenv\n",
    ":alt: Custom Jupyter kernel\n",
    ":align: left\n",
    "\n",
    "Custom Jupyter kernel from a conda environment.\n",
    ":::::"
   ]
  },
  {
   "cell_type": "markdown",
   "id": "b3ffe2e3",
   "metadata": {},
   "source": [
    "`conda activate` is the command to activate an environment to use its installed packages."
   ]
  },
  {
   "cell_type": "markdown",
   "id": "b2d326b9",
   "metadata": {},
   "source": [
    "To deactivate the conda environment in a terminal, run\n",
    "\n",
    "```bash\n",
    "conda deactivate\n",
    "```"
   ]
  },
  {
   "cell_type": "markdown",
   "id": "2a960bd2",
   "metadata": {},
   "source": [
    "To delete the kernel, run the command\n",
    "\n",
    "```bash\n",
    "rm -rf ~/.local/share/jupyter/kernels/myenv\n",
    "```"
   ]
  },
  {
   "cell_type": "markdown",
   "id": "d5f06c96",
   "metadata": {},
   "source": [
    "To delete the conda environment, run\n",
    "\n",
    "```bash\n",
    "conda deactivate\n",
    "conda env remove -n myenv\n",
    "```"
   ]
  },
  {
   "cell_type": "markdown",
   "id": "c9f08017",
   "metadata": {},
   "source": [
    "::::{caution}\n",
    "\n",
    "We are actually using [micromamba](https://mamba.readthedocs.io/en/latest/user_guide/micromamba.html#micromamba) instead of conda, so some features such as `--clone base` would not work.\n",
    "\n",
    "::::"
   ]
  },
  {
   "cell_type": "code",
   "execution_count": null,
   "id": "b103df04",
   "metadata": {},
   "outputs": [],
   "source": [
    "%%ai\n",
    "How is micromamba compared to mamba and conda?"
   ]
  },
  {
   "cell_type": "markdown",
   "id": "f3fb79f1",
   "metadata": {},
   "source": [
    "### Desktop Applications"
   ]
  },
  {
   "cell_type": "markdown",
   "id": "f05be254",
   "metadata": {},
   "source": [
    "In addition to using a web browser, you can connect to the JupyterHub server using desktop applications such as **JupyterLab Desktop** or **VSCode Editor**. Follow the links below to install the applications and the required extensions on your computer:\n",
    "\n",
    "- [JupyterLab Desktop](https://github.com/jupyterlab/jupyterlab-desktop)\n",
    "- [VSCode Editor](https://code.visualstudio.com/) with the following extensions:\n",
    "  - [JupyterHub Extension](https://marketplace.visualstudio.com/items?itemName=ms-toolsai.jupyter-hub)\n",
    "  - [JupyterHub File Explorer](https://marketplace.visualstudio.com/items?itemName=SebastianDazaAranzaes.jupyterhub-file-explorer)\n",
    "  - [Jupyter Extension](https://marketplace.visualstudio.com/items?itemName=ms-toolsai.jupyter)\n",
    "  - [Python Extension](https://marketplace.visualstudio.com/items?itemName=ms-python.python)\n",
    "\n",
    "::::{caution}\n",
    "\n",
    "- **JupyterLab Desktop** is not actively maintained. Use it with caution, especially in environments where security is a concern.\n",
    "- Some VS Code extensions such as the **JupyterHub Extension** are currently in preview mode. You might encounter bugs or instability.\n",
    "\n",
    "::::"
   ]
  },
  {
   "cell_type": "markdown",
   "id": "b70a0e56",
   "metadata": {},
   "source": [
    "#### Connecting via JupyterLab Desktop"
   ]
  },
  {
   "cell_type": "markdown",
   "id": "29b624e8",
   "metadata": {},
   "source": [
    "1. Launch the JupyterLab Desktop app.\n",
    "2. Click **Connect...**\n",
    "3. Enter the server URL:\n",
    "   ```\n",
    "   https://dive.cs.cityu.edu.hk/cs1302_25a/\n",
    "   ```\n",
    "5. Login with your EID and password.\n",
    "\n",
    "::::{tip} Troubleshooting\n",
    ":class: dropdown\n",
    "\n",
    "If you encounter connection errors or the interface becomes unresponsive, try **reconnecting** or restarting the app.\n",
    "\n",
    "::::"
   ]
  },
  {
   "cell_type": "markdown",
   "id": "bb843632",
   "metadata": {},
   "source": [
    "#### Connecting via Visual Studio Code"
   ]
  },
  {
   "cell_type": "markdown",
   "id": "cdf1a1b6",
   "metadata": {},
   "source": [
    "Before connection, make sure your Jupyter server is running since idle Jupyter servers are culled automatically to release the computing resources."
   ]
  },
  {
   "cell_type": "markdown",
   "id": "16796c7a",
   "metadata": {},
   "source": [
    "1. Open JupyterHub, go to the [Token page ( \n",
    "   `File → Hub Control Panel → Token`)](https://dive.cs.cityu.edu.hk/cs1302_25a/hub/token)  \n",
    "   and generate a token with your desired settings.\n",
    "   ::::{caution}\n",
    "   Do NOT close or move away from the page as you need to copy and paste the token later two times later.\n",
    "   ::::"
   ]
  },
  {
   "cell_type": "markdown",
   "id": "59759d15",
   "metadata": {},
   "source": [
    "2. In your local VS Code app:\n",
    "   - Open the command palette (`View → Command Palette...`) and run:  \n",
    "     `JupyterHub: Connect to JupyterHub`\n",
    "   - Create a new connection with the following details:\n",
    "     - **Name:** Any name of your choice such as `DIVE`\n",
    "     - **URL:**\n",
    "       ```\n",
    "       https://dive.cs.cityu.edu.hk/cs1302_25a/\n",
    "       ```\n",
    "     - **Token:** Use the one you generated."
   ]
  },
  {
   "cell_type": "markdown",
   "id": "8f94a825",
   "metadata": {},
   "source": [
    "3. Once connected, you’ll see the **JupyterHub Explorer** panel in the bottom-left corner.\n",
    "\n",
    "   - Open any notebook file.\n",
    "   - In the top-right corner, click **Select Kernel**.\n",
    "   - Choose an existing **Existing JupyterHub Server...** and enter the following details:\n",
    "       - **Server URL:**\n",
    "         ```\n",
    "         https://dive.cs.cityu.edu.hk/cs1302_25a/\n",
    "         ```\n",
    "       - **Username:** your EID\n",
    "       - **Token:** the one you generated\n",
    "       - **Server Name:** any name you prefer\n",
    "       - **Kernel:** select **Python 3 (ipykernel)**"
   ]
  },
  {
   "cell_type": "markdown",
   "id": "90886e05",
   "metadata": {},
   "source": [
    "You're now equipped to work with JupyterHub from your desktop. Just keep an eye out for quirks and bugs, and you'll be fine!\n",
    "\n",
    "::::{tip} Troubleshooting\n",
    ":class: dropdown\n",
    "\n",
    "If VS Code behaves unexpectedly or fails to connect, try **reloading the window**:  \n",
    "Go to the command palette and run:  \n",
    "`Developer: Reload Window`\n",
    "\n",
    "::::"
   ]
  },
  {
   "cell_type": "markdown",
   "id": "7c288d09",
   "metadata": {},
   "source": [
    "## Running locally"
   ]
  },
  {
   "cell_type": "markdown",
   "id": "25f981e6",
   "metadata": {},
   "source": [
    "### Local Installation"
   ]
  },
  {
   "cell_type": "markdown",
   "id": "32c318f3",
   "metadata": {},
   "source": [
    "You can install the minimal jupyter environment to run the course notebooks locally on your computer."
   ]
  },
  {
   "cell_type": "markdown",
   "id": "8a654fcb",
   "metadata": {},
   "source": [
    "First, ensure you have the following prerequisites installed:\n",
    "1. [Conda](https://conda.io/projects/conda/en/latest/user-guide/install/index.html): You have some options on which distribution to install on what platform. Miniforge is recommended as we mainly use packages from `conda-forge`.\n",
    "2. Git and Make: These can be installed in a terminal by the following command after activating the base Conda environment:\n",
    "    ```bash\n",
    "    conda install git make\n",
    "    ```"
   ]
  },
  {
   "cell_type": "markdown",
   "id": "f8d944b7",
   "metadata": {},
   "source": [
    "To install the jupyter environment for the course:\n",
    "\n",
    "1. Git clone the [`cs1302nb` repository](https://github.com/dive4dec/cs1302nb.git):\n",
    "```bash\n",
    "git clone https://github.com/dive4dec/cs1302nb.git\n",
    "cd cs1302nb\n",
    "```\n",
    "\n",
    "2. Run the [make command](https://github.com/dive4dec/cs1302nb/blob/fa5438bcf86b13bdf2abd646f780bb79fac13486/Makefile#L9) to create/update the conda environment `cs1302nb`:\n",
    "```bash\n",
    "make install\n",
    "```"
   ]
  },
  {
   "cell_type": "markdown",
   "id": "90d17a91",
   "metadata": {},
   "source": [
    "To use the environment, activate it with:\n",
    "```bash\n",
    "conda activate cs1302nb\n",
    "```"
   ]
  },
  {
   "cell_type": "markdown",
   "id": "b5dfe263",
   "metadata": {},
   "source": [
    "Once activated, you can start JupyterLab under a working directory of your choice:\n",
    "```bash\n",
    "jupyter lab\n",
    "```"
   ]
  },
  {
   "cell_type": "markdown",
   "id": "7e7e7277",
   "metadata": {},
   "source": [
    "If the installation was successful, the following message will appear but with a different token:\n",
    "\n",
    "```\n",
    "...\n",
    "    To access the server, open this file in a browser:\n",
    "        file:///home/jovyan/.local/share/jupyter/runtime/jpserver-7-open.html\n",
    "    Or copy and paste one of these URLs:\n",
    "        http://2d94aee27406:8888/lab?token=afe3d84a4cadff3fe397640f651de4805471e7b19d1d6f1e\n",
    "        http://127.0.0.1:8888/lab?token=afe3d84a4cadff3fe397640f651de4805471e7b19d1d6f1e\n",
    "```"
   ]
  },
  {
   "cell_type": "markdown",
   "id": "4b899444",
   "metadata": {},
   "source": [
    "Copy and paste the *last URL* into your web browser to access the JupyterLab."
   ]
  },
  {
   "cell_type": "markdown",
   "id": "6d4cf301",
   "metadata": {},
   "source": [
    "To access the course notebooks, you may use a gitpull link such as\n",
    "\n",
    "> <http://127.0.0.1:8888/git-pull?repo=https%3A//github.com/dive4dec/cs1302_25a&urlpath=lab/tree/cs1302_25a/Lab0/Setup.ipynb/>\n",
    "\n",
    "to open the current notebook."
   ]
  },
  {
   "cell_type": "markdown",
   "id": "825571df",
   "metadata": {},
   "source": [
    "Alternatively, open a new terminal within the JupyterLab interface and run the following command:\n",
    "\n",
    "```sh\n",
    "gitpuller https://github.com/dive4dec/cs1302_25a main cs1302_25a\n",
    "```\n",
    "\n",
    "This command will:\n",
    "\n",
    "- Pull the `main` branch of the GitHub repository `dive4dec/cs1302_25a`.\n",
    "- Clone it into the subfolder `cs1302_25a` under your working directory."
   ]
  },
  {
   "cell_type": "markdown",
   "id": "e0468877",
   "metadata": {},
   "source": [
    "### Docker container"
   ]
  },
  {
   "cell_type": "markdown",
   "id": "2ca3c46d",
   "metadata": {},
   "source": [
    "A [docker container](https://en.wikipedia.org/wiki/Docker_(software)) is like a lightweight, standalone, and executable package that includes everything needed to run a piece of software, including the Jupyter server used for our course. If you know about [virtual machines](https://en.wikipedia.org/wiki/Virtual_machine), you may think of a docker container as a separate virtual machine running on your host machine, but with much less overhead."
   ]
  },
  {
   "cell_type": "markdown",
   "id": "a979993f",
   "metadata": {},
   "source": [
    "::::{caution}\n",
    "\n",
    "For computers using [arm64](https://en.wikipedia.org/wiki/AArch64), [](#local-installation) is a better option than docker since docker has limited support for the architecture. Nevertheless, you are encouraged to play with docker and try to get things to work!\n",
    "\n",
    "::::"
   ]
  },
  {
   "cell_type": "markdown",
   "id": "58bdce86",
   "metadata": {},
   "source": [
    "Indeed, you can also build and run the Jupyter server locally in your computer by installing Docker as follows."
   ]
  },
  {
   "cell_type": "markdown",
   "id": "3753c9bf",
   "metadata": {},
   "source": [
    "1. To install docker:\n",
    "   - For macOS, install [Orbstack](https://orbstack.dev/), which is faster than the alternative below.\n",
    "   - For Windows/Linux:\n",
    "       - install Docker Desktop from the [official Docker website](https://www.docker.com/products/docker-desktop).\n",
    "       - For Windows, see the [additional setup](https://docs.docker.com/desktop/wsl/) to use docker for WSL2 on Windows. \n",
    "   - Once installation is complete, open Orbstack or Docker Desktop and ensure it is running."
   ]
  },
  {
   "cell_type": "markdown",
   "id": "ea42695b",
   "metadata": {},
   "source": [
    "2. For Windows WSL2 and Linux on [amd64](https://en.wikipedia.org/wiki/X86-64), open a terminal and run the following command to pull the Docker image:\n",
    "\n",
    "    ```bash\n",
    "    docker pull chungc/cs1302nb\n",
    "    ```"
   ]
  },
  {
   "cell_type": "markdown",
   "id": "9d76a1f6",
   "metadata": {},
   "source": [
    "::::{seealso} What is a docker image?\n",
    "\n",
    "A docker image is a the blueprint for creating Docker containers. When you run a Docker container, it is instantiated from an image. For example, `chungc/cs1302nb` is a docker image created from a text file [`Dockerfile.min`](https://github.com/dive4dec/jupyter/blob/main/cs1302nb/Dockerfile.min), which specifies how and what packages should be installed. The image was built using some [Make commands](https://github.com/dive4dec/jupyter/blob/main/README.md) in the repository. The resulting image was published to the public registry [DockerHub](https://hub.docker.com/r/chungc/cs1302nb/tags). You can also `git clone` the repository locally in your computer and modify the dockerfiles to build your desired image locally. The [Dockerfile](https://github.com/dive4dec/jupyter/blob/main/cs1302nb/Dockerfile) for the image running on the JupyterHub server is, which requires `>40GB` of storage to build.\n",
    "\n",
    "::::"
   ]
  },
  {
   "cell_type": "markdown",
   "id": "d104fc4f",
   "metadata": {},
   "source": [
    "3. To run the Docker Container:\n",
    "    - Navigate to your working directory (e.g., `cs1302_home`) where you want to map to the home directory of the docker container:\n",
    "      ```sh\n",
    "      cd /part/to/cs1302_home\n",
    "      ```\n",
    "    - Run the Docker container with the following command:\n",
    "\n",
    "      ```sh\n",
    "      docker run -it --rm \\\n",
    "        -p 8888:8888 \\\n",
    "        -v $(pwd):/home/jovyan/ \\\n",
    "        chungc/cs1302nb \\\n",
    "        start-notebook.sh \\\n",
    "        --IdentityProvider.token=''\n",
    "      ```\n",
    "     - If successful, you can follow similar steps in [](#local-installation) to fetch the course notebooks using gitpuller."
   ]
  },
  {
   "cell_type": "markdown",
   "id": "49d8e7b9",
   "metadata": {},
   "source": [
    "::::{seealso} What do the options mean?\n",
    ":class: dropdown\n",
    "\n",
    "The `docker run` command\n",
    "- run the container interactively (`-it`);\n",
    "- remove the container after it stops (`--rm`);\n",
    "- map port `8888` on your host to port `8888` on the container (`-p 8888:8888`);\n",
    "- mount the current working directory to the home directory `/home/jovyan/work` inside the container (`-v $(pwd):/home/jovyan/work`); and\n",
    "- set the token to an empty string (`''`) so that you don't need to provide a token when logging in (`--IdentityProvider.token=''`).\n",
    "\n",
    "See the [documentation](https://docs.docker.com/reference/cli/docker/container/run/) for other options.\n",
    "\n",
    "::::"
   ]
  },
  {
   "cell_type": "markdown",
   "id": "518c4a4d",
   "metadata": {},
   "source": [
    "::::{tip} Troubleshooting\n",
    ":class: dropdown\n",
    "\n",
    "If the host port `8888` is occupied, you can change it to another port such as `1302` by running the container with `-p1302:8888`. The port used to launch JupyterLab should be the host port, not the container port printed, i.e., the url to access the JupyterLab should be `http://127.0.0.1:1302`.\n",
    "\n",
    "::::"
   ]
  }
 ],
 "metadata": {
  "jupytext": {
   "default_lexer": "ipython3"
  },
  "kernelspec": {
   "display_name": "Python 3 (ipykernel)",
   "language": "python",
   "name": "python3"
  }
 },
 "nbformat": 4,
 "nbformat_minor": 5
}
